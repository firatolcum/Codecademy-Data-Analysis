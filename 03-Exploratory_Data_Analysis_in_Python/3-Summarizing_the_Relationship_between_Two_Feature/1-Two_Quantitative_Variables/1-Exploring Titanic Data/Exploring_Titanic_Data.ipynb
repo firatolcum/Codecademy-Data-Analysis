{
 "cells": [
  {
   "cell_type": "markdown",
   "id": "c9839af1",
   "metadata": {},
   "source": [
    "## <center> Exploring Titanic Data"
   ]
  },
  {
   "cell_type": "markdown",
   "id": "a686149d",
   "metadata": {},
   "source": [
    "## About Data\n",
    "This data contains information about passengers on the Titanic, including the amount they paid for their fare and whether or not they survived (note: this is a subset of the full data available). "
   ]
  },
  {
   "cell_type": "markdown",
   "id": "be0a8946",
   "metadata": {},
   "source": [
    "## Our Goal\n",
    "To practice the skills learned in this lesson, let’s investigate whether there is an association between the fare that a passenger paid (`Fare`) and whether or not they survived (`Survived`, which is equal to `0` if the passenger died and `1` if they survived."
   ]
  },
  {
   "cell_type": "code",
   "execution_count": 1,
   "id": "5a70035a",
   "metadata": {},
   "outputs": [],
   "source": [
    "import pandas as pd\n",
    "import numpy as np\n",
    "import matplotlib.pyplot as plt\n",
    "import seaborn as sns\n",
    "from scipy.stats import iqr"
   ]
  },
  {
   "cell_type": "markdown",
   "id": "4c4c6488",
   "metadata": {},
   "source": [
    "##### Exercise 1\n",
    "Load the data and inspect the first five rows of students using the ``.head()`` method."
   ]
  },
  {
   "cell_type": "code",
   "execution_count": 3,
   "id": "49eb3038",
   "metadata": {},
   "outputs": [
    {
     "data": {
      "text/html": [
       "<div>\n",
       "<style scoped>\n",
       "    .dataframe tbody tr th:only-of-type {\n",
       "        vertical-align: middle;\n",
       "    }\n",
       "\n",
       "    .dataframe tbody tr th {\n",
       "        vertical-align: top;\n",
       "    }\n",
       "\n",
       "    .dataframe thead th {\n",
       "        text-align: right;\n",
       "    }\n",
       "</style>\n",
       "<table border=\"1\" class=\"dataframe\">\n",
       "  <thead>\n",
       "    <tr style=\"text-align: right;\">\n",
       "      <th></th>\n",
       "      <th>PassengerId</th>\n",
       "      <th>Survived</th>\n",
       "      <th>Pclass</th>\n",
       "      <th>Name</th>\n",
       "      <th>Sex</th>\n",
       "      <th>Age</th>\n",
       "      <th>SibSp</th>\n",
       "      <th>Parch</th>\n",
       "      <th>Ticket</th>\n",
       "      <th>Fare</th>\n",
       "      <th>Cabin</th>\n",
       "      <th>Embarked</th>\n",
       "    </tr>\n",
       "  </thead>\n",
       "  <tbody>\n",
       "    <tr>\n",
       "      <th>0</th>\n",
       "      <td>1</td>\n",
       "      <td>0</td>\n",
       "      <td>3</td>\n",
       "      <td>Braund, Mr. Owen Harris</td>\n",
       "      <td>male</td>\n",
       "      <td>22.0</td>\n",
       "      <td>1</td>\n",
       "      <td>0</td>\n",
       "      <td>A/5 21171</td>\n",
       "      <td>7.2500</td>\n",
       "      <td>NaN</td>\n",
       "      <td>S</td>\n",
       "    </tr>\n",
       "    <tr>\n",
       "      <th>1</th>\n",
       "      <td>2</td>\n",
       "      <td>1</td>\n",
       "      <td>1</td>\n",
       "      <td>Cumings, Mrs. John Bradley (Florence Briggs Th...</td>\n",
       "      <td>female</td>\n",
       "      <td>38.0</td>\n",
       "      <td>1</td>\n",
       "      <td>0</td>\n",
       "      <td>PC 17599</td>\n",
       "      <td>71.2833</td>\n",
       "      <td>C85</td>\n",
       "      <td>C</td>\n",
       "    </tr>\n",
       "    <tr>\n",
       "      <th>2</th>\n",
       "      <td>3</td>\n",
       "      <td>1</td>\n",
       "      <td>3</td>\n",
       "      <td>Heikkinen, Miss. Laina</td>\n",
       "      <td>female</td>\n",
       "      <td>26.0</td>\n",
       "      <td>0</td>\n",
       "      <td>0</td>\n",
       "      <td>STON/O2. 3101282</td>\n",
       "      <td>7.9250</td>\n",
       "      <td>NaN</td>\n",
       "      <td>S</td>\n",
       "    </tr>\n",
       "    <tr>\n",
       "      <th>3</th>\n",
       "      <td>4</td>\n",
       "      <td>1</td>\n",
       "      <td>1</td>\n",
       "      <td>Futrelle, Mrs. Jacques Heath (Lily May Peel)</td>\n",
       "      <td>female</td>\n",
       "      <td>35.0</td>\n",
       "      <td>1</td>\n",
       "      <td>0</td>\n",
       "      <td>113803</td>\n",
       "      <td>53.1000</td>\n",
       "      <td>C123</td>\n",
       "      <td>S</td>\n",
       "    </tr>\n",
       "    <tr>\n",
       "      <th>4</th>\n",
       "      <td>5</td>\n",
       "      <td>0</td>\n",
       "      <td>3</td>\n",
       "      <td>Allen, Mr. William Henry</td>\n",
       "      <td>male</td>\n",
       "      <td>35.0</td>\n",
       "      <td>0</td>\n",
       "      <td>0</td>\n",
       "      <td>373450</td>\n",
       "      <td>8.0500</td>\n",
       "      <td>NaN</td>\n",
       "      <td>S</td>\n",
       "    </tr>\n",
       "  </tbody>\n",
       "</table>\n",
       "</div>"
      ],
      "text/plain": [
       "   PassengerId  Survived  Pclass  \\\n",
       "0            1         0       3   \n",
       "1            2         1       1   \n",
       "2            3         1       3   \n",
       "3            4         1       1   \n",
       "4            5         0       3   \n",
       "\n",
       "                                                Name     Sex   Age  SibSp  \\\n",
       "0                            Braund, Mr. Owen Harris    male  22.0      1   \n",
       "1  Cumings, Mrs. John Bradley (Florence Briggs Th...  female  38.0      1   \n",
       "2                             Heikkinen, Miss. Laina  female  26.0      0   \n",
       "3       Futrelle, Mrs. Jacques Heath (Lily May Peel)  female  35.0      1   \n",
       "4                           Allen, Mr. William Henry    male  35.0      0   \n",
       "\n",
       "   Parch            Ticket     Fare Cabin Embarked  \n",
       "0      0         A/5 21171   7.2500   NaN        S  \n",
       "1      0          PC 17599  71.2833   C85        C  \n",
       "2      0  STON/O2. 3101282   7.9250   NaN        S  \n",
       "3      0            113803  53.1000  C123        S  \n",
       "4      0            373450   8.0500   NaN        S  "
      ]
     },
     "execution_count": 3,
     "metadata": {},
     "output_type": "execute_result"
    }
   ],
   "source": [
    "titanic = pd.read_csv(\"titanic.csv\")\n",
    "titanic.head()"
   ]
  },
  {
   "cell_type": "markdown",
   "id": "df6b5200",
   "metadata": {},
   "source": [
    "##### Exercise 2\n",
    "Calculate the difference in mean fare paid by those who survived and those who died. Which group paid a higher average fare?"
   ]
  },
  {
   "cell_type": "code",
   "execution_count": 16,
   "id": "3c0a23ff",
   "metadata": {},
   "outputs": [
    {
     "name": "stdout",
     "output_type": "stream",
     "text": [
      "Survived Passengers paid a higher average fare.\n"
     ]
    }
   ],
   "source": [
    "died_passengers = titanic[titanic[\"Survived\"] == 0]\n",
    "survived_passengers = titanic[titanic[\"Survived\"] == 1]\n",
    "\n",
    "diff_mean_fare = died_passengers[\"Fare\"].mean() - survived_passengers[\"Fare\"].mean()\n",
    "\n",
    "if diff_mean_fare > 0:\n",
    "    print(\"Died Passengers paid a higher average fare.\")\n",
    "else:\n",
    "    print(\"Survived Passengers paid a higher average fare.\")"
   ]
  },
  {
   "cell_type": "markdown",
   "id": "1c28e323",
   "metadata": {},
   "source": [
    "##### Exercise 3\n",
    "Calculate the difference in median fare for those who survived and those who died."
   ]
  },
  {
   "cell_type": "code",
   "execution_count": 17,
   "id": "8b99bdea",
   "metadata": {},
   "outputs": [
    {
     "data": {
      "text/plain": [
       "-15.5375"
      ]
     },
     "execution_count": 17,
     "metadata": {},
     "output_type": "execute_result"
    }
   ],
   "source": [
    "diff_median_fare = died_passengers[\"Fare\"].median() - survived_passengers[\"Fare\"].median()\n",
    "diff_median_fare"
   ]
  },
  {
   "cell_type": "markdown",
   "id": "29b516fa",
   "metadata": {},
   "source": [
    "##### Exercise 4\n",
    "Create side-by-side box plots of fares by survival. Now that you can see the spread of the data, do the mean/median differences seem relatively small or large?"
   ]
  },
  {
   "cell_type": "code",
   "execution_count": 26,
   "id": "f5205483",
   "metadata": {},
   "outputs": [
    {
     "data": {
      "image/png": "[encoded data removed]",
      "text/plain": [
       "<Figure size 576x432 with 1 Axes>"
      ]
     },
     "metadata": {
      "needs_background": "light"
     },
     "output_type": "display_data"
    }
   ],
   "source": [
    "plt.figure(figsize=(8,6))\n",
    "sns.boxplot(data=titanic, x=\"Survived\", y=\"Fare\")\n",
    "plt.show()\n",
    "\n",
    "# Mean differences seem relatively large"
   ]
  },
  {
   "cell_type": "markdown",
   "id": "aae994ab",
   "metadata": {},
   "source": [
    "##### Exercise 5\n",
    "Create overlapping histograms of fares by survival. Does this provide any additional information?"
   ]
  },
  {
   "cell_type": "code",
   "execution_count": 34,
   "id": "fa473a12",
   "metadata": {},
   "outputs": [
    {
     "data": {
      "image/png": "[encoded data removed]",
      "text/plain": [
       "<Figure size 576x432 with 1 Axes>"
      ]
     },
     "metadata": {
      "needs_background": "light"
     },
     "output_type": "display_data"
    }
   ],
   "source": [
    "plt.figure(figsize=(8, 6))\n",
    "plt.hist(died_passengers[\"Fare\"], color=\"red\", density=True, alpha=0.5, label=\"Died\")\n",
    "plt.hist(survived_passengers[\"Fare\"], color=\"green\", density=True, alpha=0.5, label=\"Survived\")\n",
    "plt.xlabel(\"Fare\")\n",
    "plt.legend()\n",
    "plt.show()"
   ]
  },
  {
   "cell_type": "markdown",
   "id": "2acb53b4",
   "metadata": {},
   "source": [
    "##### Exercise 6\n",
    "Show plots side-by-side"
   ]
  },
  {
   "cell_type": "code",
   "execution_count": 49,
   "id": "89162a0b",
   "metadata": {
    "scrolled": false
   },
   "outputs": [
    {
     "data": {
      "image/png": "[encoded data removed]",
      "text/plain": [
       "<Figure size 1296x432 with 2 Axes>"
      ]
     },
     "metadata": {
      "needs_background": "light"
     },
     "output_type": "display_data"
    }
   ],
   "source": [
    "fig = plt.figure(figsize=(18, 6))\n",
    "ax = fig.add_subplot(1,2,1)\n",
    "ax = sns.boxplot(data = titanic, x = 'Survived', y = 'Fare')\n",
    "\n",
    "ax = fig.add_subplot(1,2,2)\n",
    "ax = plt.hist(died_passengers[\"Fare\"], color=\"red\", label=\"Died\", density=True, alpha=0.5)\n",
    "ax = plt.hist(survived_passengers[\"Fare\"], color=\"green\", label=\"Survived\", density=True, alpha=0.5)\n",
    "ax = plt.legend()\n",
    "plt.show()"
   ]
  }
 ],
 "metadata": {
  "kernelspec": {
   "display_name": "Python 3 (ipykernel)",
   "language": "python",
   "name": "python3"
  },
  "language_info": {
   "codemirror_mode": {
    "name": "ipython",
    "version": 3
   },
   "file_extension": ".py",
   "mimetype": "text/x-python",
   "name": "python",
   "nbconvert_exporter": "python",
   "pygments_lexer": "ipython3",
   "version": "3.9.12"
  }
 },
 "nbformat": 4,
 "nbformat_minor": 5
}

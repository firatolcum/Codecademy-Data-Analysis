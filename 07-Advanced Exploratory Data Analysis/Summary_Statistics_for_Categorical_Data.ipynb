{
 "cells": [
  {
   "cell_type": "markdown",
   "id": "f6a689c3",
   "metadata": {},
   "source": [
    "## SUMMARY STATISTICS FOR CATEGORICAL VARIABLES"
   ]
  },
  {
   "cell_type": "code",
   "execution_count": 1,
   "id": "616ed942",
   "metadata": {},
   "outputs": [],
   "source": [
    "import numpy as np\n",
    "import pandas as pd"
   ]
  },
  {
   "cell_type": "markdown",
   "id": "4a94eda1",
   "metadata": {},
   "source": [
    "### About DataSet\n",
    "The dataset we’ll explore in this lesson is a sample of the NYC 2015 Tree Census. This dataset contains information from a survey of trees in the city collected by parks department employees and community volunteers\n",
    "\n",
    "**tree_id:** Unique identifier for each tree in the survey<br>\n",
    "**trunk_diam :**\tDiameter of the tree measured 54” above the ground<br>\n",
    "**status :**\tIndicates whether the tree is alive, standing dead, or a stump.<br>\n",
    "**health :**\tIndicates the user’s perception of tree health.<br>\n",
    "**spc_common :**\tCommon name for species, e.g. “red maple”<br>\n",
    "**neighborhood :**\tName of the neighborhood the tree is located in\n"
   ]
  },
  {
   "cell_type": "code",
   "execution_count": 2,
   "id": "ec3fe7ef",
   "metadata": {},
   "outputs": [
    {
     "data": {
      "text/html": [
       "<div>\n",
       "<style scoped>\n",
       "    .dataframe tbody tr th:only-of-type {\n",
       "        vertical-align: middle;\n",
       "    }\n",
       "\n",
       "    .dataframe tbody tr th {\n",
       "        vertical-align: top;\n",
       "    }\n",
       "\n",
       "    .dataframe thead th {\n",
       "        text-align: right;\n",
       "    }\n",
       "</style>\n",
       "<table border=\"1\" class=\"dataframe\">\n",
       "  <thead>\n",
       "    <tr style=\"text-align: right;\">\n",
       "      <th></th>\n",
       "      <th>tree_id</th>\n",
       "      <th>trunk_diam</th>\n",
       "      <th>status</th>\n",
       "      <th>health</th>\n",
       "      <th>spc_common</th>\n",
       "      <th>neighborhood</th>\n",
       "    </tr>\n",
       "  </thead>\n",
       "  <tbody>\n",
       "    <tr>\n",
       "      <th>0</th>\n",
       "      <td>199250</td>\n",
       "      <td>8</td>\n",
       "      <td>Alive</td>\n",
       "      <td>Good</td>\n",
       "      <td>crab apple</td>\n",
       "      <td>Lincoln Square</td>\n",
       "    </tr>\n",
       "    <tr>\n",
       "      <th>1</th>\n",
       "      <td>136891</td>\n",
       "      <td>17</td>\n",
       "      <td>Alive</td>\n",
       "      <td>Good</td>\n",
       "      <td>honeylocust</td>\n",
       "      <td>East Harlem North</td>\n",
       "    </tr>\n",
       "    <tr>\n",
       "      <th>2</th>\n",
       "      <td>200218</td>\n",
       "      <td>3</td>\n",
       "      <td>Alive</td>\n",
       "      <td>Good</td>\n",
       "      <td>ginkgo</td>\n",
       "      <td>Chinatown</td>\n",
       "    </tr>\n",
       "    <tr>\n",
       "      <th>3</th>\n",
       "      <td>53901</td>\n",
       "      <td>23</td>\n",
       "      <td>Alive</td>\n",
       "      <td>Good</td>\n",
       "      <td>green ash</td>\n",
       "      <td>Bayside-Bayside Hills</td>\n",
       "    </tr>\n",
       "    <tr>\n",
       "      <th>4</th>\n",
       "      <td>589218</td>\n",
       "      <td>21</td>\n",
       "      <td>Alive</td>\n",
       "      <td>Good</td>\n",
       "      <td>pin oak</td>\n",
       "      <td>Glen Oaks-Floral Park-New Hyde Park</td>\n",
       "    </tr>\n",
       "  </tbody>\n",
       "</table>\n",
       "</div>"
      ],
      "text/plain": [
       "   tree_id  trunk_diam status health   spc_common  \\\n",
       "0   199250           8  Alive   Good   crab apple   \n",
       "1   136891          17  Alive   Good  honeylocust   \n",
       "2   200218           3  Alive   Good       ginkgo   \n",
       "3    53901          23  Alive   Good    green ash   \n",
       "4   589218          21  Alive   Good      pin oak   \n",
       "\n",
       "                          neighborhood  \n",
       "0                       Lincoln Square  \n",
       "1                    East Harlem North  \n",
       "2                            Chinatown  \n",
       "3                Bayside-Bayside Hills  \n",
       "4  Glen Oaks-Floral Park-New Hyde Park  "
      ]
     },
     "execution_count": 2,
     "metadata": {},
     "output_type": "execute_result"
    }
   ],
   "source": [
    "nyc_trees = pd.read_csv(\"nyc_tree_census.csv\")\n",
    "nyc_trees.head()"
   ]
  },
  {
   "cell_type": "markdown",
   "id": "4ca43190",
   "metadata": {},
   "source": [
    "### Exercise 1\n",
    "Which of the columns are categorical variables? Write the names into a list named categorical_vars. Each name should be a separate string. Although id fields (for example, tree_id) can technically be considered categorical data, you do not need to include them in your list."
   ]
  },
  {
   "cell_type": "code",
   "execution_count": 13,
   "id": "e2c66fcf",
   "metadata": {},
   "outputs": [
    {
     "data": {
      "text/plain": [
       "['status', 'health', 'spc_common', 'neighborhood']"
      ]
     },
     "execution_count": 13,
     "metadata": {},
     "output_type": "execute_result"
    }
   ],
   "source": [
    "categorical_vars = nyc_trees.select_dtypes(\"object\").columns.to_list()\n",
    "categorical_vars"
   ]
  },
  {
   "cell_type": "markdown",
   "id": "49098ac7",
   "metadata": {},
   "source": [
    "### Nominal Categories\n",
    "Depending on the data, some of the summary statistics we use for quantitative data can still be meaningful for categorical data. Let’s first consider a nominal categorical variable. A nominal categorical variable is a categorical variable with no intrinsic ordering to the categories."
   ]
  },
  {
   "cell_type": "markdown",
   "id": "19ba6a7a",
   "metadata": {},
   "source": [
    "### Exercise 2\n",
    "Using the nyc_trees data, find the count of trees in each neighborhood. Save the result as tree_counts and print the result."
   ]
  },
  {
   "cell_type": "code",
   "execution_count": 16,
   "id": "d7f1fdbd",
   "metadata": {},
   "outputs": [
    {
     "data": {
      "text/plain": [
       "Annadale-Huguenot-Prince's Bay-Eltingville    950\n",
       "Great Kills                                   761\n",
       "East New York                                 702\n",
       "Bayside-Bayside Hills                         665\n",
       "Rossville-Woodrow                             633\n",
       "                                             ... \n",
       "48                                              1\n",
       "69                                              1\n",
       "39                                              1\n",
       "65                                              1\n",
       "BX33                                            1\n",
       "Name: neighborhood, Length: 442, dtype: int64"
      ]
     },
     "execution_count": 16,
     "metadata": {},
     "output_type": "execute_result"
    }
   ],
   "source": [
    "tree_counts = nyc_trees[\"neighborhood\"].value_counts()\n",
    "tree_counts"
   ]
  },
  {
   "cell_type": "markdown",
   "id": "4f2b31cc",
   "metadata": {},
   "source": [
    "### Exercise 3 \n",
    "Using the nyc_trees data, find the neighborhood with the highest tree count. Save the name of the neighborhood as a variable called greenest_neighborhood and print the result."
   ]
  },
  {
   "cell_type": "code",
   "execution_count": 26,
   "id": "061aad2a",
   "metadata": {},
   "outputs": [
    {
     "data": {
      "text/plain": [
       "\"Annadale-Huguenot-Prince's Bay-Eltingville\""
      ]
     },
     "execution_count": 26,
     "metadata": {},
     "output_type": "execute_result"
    }
   ],
   "source": [
    "greenest_neighborhood = nyc_trees[\"neighborhood\"].value_counts().index[0]\n",
    "greenest_neighborhood"
   ]
  },
  {
   "cell_type": "markdown",
   "id": "d1b01063",
   "metadata": {},
   "source": [
    "### Ordinal Categorical Variables\n",
    "Ordinal categorical variables have ordered categories. For ordinal categorical variables, we can find the modal category just like in the previous exercise — but we can also calculate other summary statistics that are not possible for nominal categorical variables. For central tendency, this means we can also calculate a median."
   ]
  },
  {
   "cell_type": "markdown",
   "id": "6b7e0e2f",
   "metadata": {},
   "source": [
    "### Exercise 4\n",
    "Using the NYC trees dataset, find the unique values in the column health. Save the unique categories to a variable named tree_health_statuses and print the result"
   ]
  },
  {
   "cell_type": "code",
   "execution_count": 32,
   "id": "58c54ca6",
   "metadata": {},
   "outputs": [
    {
     "data": {
      "text/plain": [
       "array(['Good', 'Poor', 'Fair', nan], dtype=object)"
      ]
     },
     "execution_count": 32,
     "metadata": {},
     "output_type": "execute_result"
    }
   ],
   "source": [
    "tree_health_statuses = nyc_trees[\"health\"].unique()\n",
    "tree_health_statuses"
   ]
  },
  {
   "cell_type": "markdown",
   "id": "d72b7318",
   "metadata": {},
   "source": [
    "### Exercise 5\n",
    "Create a list named health_categories which lists the categories from worst to best. You should exclude NaN values from your list.\n",
    "\n",
    "Using the health_categories list you created in the previous exercise, convert health in the original dataset to a categorical variable type ('category')."
   ]
  },
  {
   "cell_type": "code",
   "execution_count": 38,
   "id": "abaae4a3",
   "metadata": {},
   "outputs": [],
   "source": [
    "health_categories = [\"Poor\", \"Fair\", \"Good\"]"
   ]
  },
  {
   "cell_type": "code",
   "execution_count": 41,
   "id": "c2255600",
   "metadata": {},
   "outputs": [
    {
     "data": {
      "text/plain": [
       "dtype('O')"
      ]
     },
     "execution_count": 41,
     "metadata": {},
     "output_type": "execute_result"
    }
   ],
   "source": [
    "nyc_trees[\"health\"].dtypes"
   ]
  },
  {
   "cell_type": "code",
   "execution_count": 44,
   "id": "bf99c1d2",
   "metadata": {},
   "outputs": [],
   "source": [
    "nyc_trees[\"health\"] = pd.Categorical(nyc_trees[\"health\"], categories = health_categories, ordered = True)"
   ]
  },
  {
   "cell_type": "code",
   "execution_count": 46,
   "id": "c3d4051e",
   "metadata": {},
   "outputs": [
    {
     "data": {
      "text/plain": [
       "CategoricalDtype(categories=['Poor', 'Fair', 'Good'], ordered=True)"
      ]
     },
     "execution_count": 46,
     "metadata": {},
     "output_type": "execute_result"
    }
   ],
   "source": [
    "nyc_trees[\"health\"].dtypes"
   ]
  },
  {
   "cell_type": "markdown",
   "id": "649db241",
   "metadata": {},
   "source": [
    "### Exercise 6\n",
    "Using cat.codes, calculate the value that corresponds to the median value of health. Save it as a variable named median_health_status and print the result."
   ]
  },
  {
   "cell_type": "code",
   "execution_count": 54,
   "id": "6c1a4c0d",
   "metadata": {},
   "outputs": [
    {
     "data": {
      "text/plain": [
       "2.0"
      ]
     },
     "execution_count": 54,
     "metadata": {},
     "output_type": "execute_result"
    }
   ],
   "source": [
    "median_index = np.median(nyc_trees[\"health\"].cat.codes)\n",
    "median_index"
   ]
  },
  {
   "cell_type": "code",
   "execution_count": 59,
   "id": "6bde0641",
   "metadata": {},
   "outputs": [
    {
     "data": {
      "text/plain": [
       "'Good'"
      ]
     },
     "execution_count": 59,
     "metadata": {},
     "output_type": "execute_result"
    }
   ],
   "source": [
    "median_health_status = health_categories[int(median_index)]\n",
    "median_health_status"
   ]
  },
  {
   "cell_type": "markdown",
   "id": "c85c2063",
   "metadata": {},
   "source": [
    "### Important Note\n",
    "When we use .cat.codes to translate these categories into integers, those integers have equal spacing. While translating categories to numbers is often necessary to store and use the order of the categories (for calculating a statistic like the median, which only relies on ordering, not spacing), we should not use those numbers to calculate statistics — such as the mean — for which the distance between values matters.\n",
    "\n",
    "In practice, researchers sometimes (albeit, incorrectly) report means for ordinal categories. For example, a researcher might want to analyze survey responses to the question \"Rate your happiness on a scale from 1 to 5 where 1 means 'very unhappy' and 5 means 'very happy'\".\n",
    "\n",
    "If that researcher calculates 'mean happiness score', they are assuming that the difference in happiness between a rating of 1 and 2 is the same as the difference in happiness for a rating of 3 and 4. In practice, this assumption is likely not true and should be acknowledged if reporting a mean of an ordinal categorical variable."
   ]
  },
  {
   "cell_type": "code",
   "execution_count": 61,
   "id": "c5dc7e90",
   "metadata": {},
   "outputs": [
    {
     "data": {
      "text/html": [
       "<div>\n",
       "<style scoped>\n",
       "    .dataframe tbody tr th:only-of-type {\n",
       "        vertical-align: middle;\n",
       "    }\n",
       "\n",
       "    .dataframe tbody tr th {\n",
       "        vertical-align: top;\n",
       "    }\n",
       "\n",
       "    .dataframe thead th {\n",
       "        text-align: right;\n",
       "    }\n",
       "</style>\n",
       "<table border=\"1\" class=\"dataframe\">\n",
       "  <thead>\n",
       "    <tr style=\"text-align: right;\">\n",
       "      <th></th>\n",
       "      <th>tree_id</th>\n",
       "      <th>trunk_diam</th>\n",
       "      <th>status</th>\n",
       "      <th>health</th>\n",
       "      <th>spc_common</th>\n",
       "      <th>neighborhood</th>\n",
       "      <th>tree_diam_category</th>\n",
       "    </tr>\n",
       "  </thead>\n",
       "  <tbody>\n",
       "    <tr>\n",
       "      <th>0</th>\n",
       "      <td>199250</td>\n",
       "      <td>8</td>\n",
       "      <td>Alive</td>\n",
       "      <td>Good</td>\n",
       "      <td>crab apple</td>\n",
       "      <td>Lincoln Square</td>\n",
       "      <td>Medium-Large (10-18in)</td>\n",
       "    </tr>\n",
       "    <tr>\n",
       "      <th>1</th>\n",
       "      <td>136891</td>\n",
       "      <td>17</td>\n",
       "      <td>Alive</td>\n",
       "      <td>Good</td>\n",
       "      <td>honeylocust</td>\n",
       "      <td>East Harlem North</td>\n",
       "      <td>Large (18-24in)</td>\n",
       "    </tr>\n",
       "    <tr>\n",
       "      <th>2</th>\n",
       "      <td>200218</td>\n",
       "      <td>3</td>\n",
       "      <td>Alive</td>\n",
       "      <td>Good</td>\n",
       "      <td>ginkgo</td>\n",
       "      <td>Chinatown</td>\n",
       "      <td>Medium (3-10in)</td>\n",
       "    </tr>\n",
       "    <tr>\n",
       "      <th>3</th>\n",
       "      <td>53901</td>\n",
       "      <td>23</td>\n",
       "      <td>Alive</td>\n",
       "      <td>Good</td>\n",
       "      <td>green ash</td>\n",
       "      <td>Bayside-Bayside Hills</td>\n",
       "      <td>Very large (&gt;24in)</td>\n",
       "    </tr>\n",
       "    <tr>\n",
       "      <th>4</th>\n",
       "      <td>589218</td>\n",
       "      <td>21</td>\n",
       "      <td>Alive</td>\n",
       "      <td>Good</td>\n",
       "      <td>pin oak</td>\n",
       "      <td>Glen Oaks-Floral Park-New Hyde Park</td>\n",
       "      <td>Very large (&gt;24in)</td>\n",
       "    </tr>\n",
       "  </tbody>\n",
       "</table>\n",
       "</div>"
      ],
      "text/plain": [
       "   tree_id  trunk_diam status health   spc_common  \\\n",
       "0   199250           8  Alive   Good   crab apple   \n",
       "1   136891          17  Alive   Good  honeylocust   \n",
       "2   200218           3  Alive   Good       ginkgo   \n",
       "3    53901          23  Alive   Good    green ash   \n",
       "4   589218          21  Alive   Good      pin oak   \n",
       "\n",
       "                          neighborhood      tree_diam_category  \n",
       "0                       Lincoln Square  Medium-Large (10-18in)  \n",
       "1                    East Harlem North         Large (18-24in)  \n",
       "2                            Chinatown         Medium (3-10in)  \n",
       "3                Bayside-Bayside Hills      Very large (>24in)  \n",
       "4  Glen Oaks-Floral Park-New Hyde Park      Very large (>24in)  "
      ]
     },
     "execution_count": 61,
     "metadata": {},
     "output_type": "execute_result"
    }
   ],
   "source": [
    "nyc_trees = pd.read_csv(\"nyc_tree_census2.csv\")\n",
    "nyc_trees.head()"
   ]
  },
  {
   "cell_type": "markdown",
   "id": "dd449029",
   "metadata": {},
   "source": [
    "### Exercise 7\n",
    "This dataset contains two variables related to trunk size. The first variable, trunk_diam contains the diameter of the trunk (in inches) for each tree. The variable tree_diam_category, on the other hand, categorizes each tree based on the size of the trunk. The categories are: 'Small (0-3in)', 'Medium (3-10in)', 'Medium-Large (10-18in)', 'Large (18-24in)','Very large (>24in)'. You’ll notice that these categories are not evenly spaced with respect to diameter.\n",
    "\n",
    "Calculate the mean of trunk_diam (the quantitative variable), save it as mean_diam, and print the result."
   ]
  },
  {
   "cell_type": "code",
   "execution_count": 63,
   "id": "7afd0bba",
   "metadata": {},
   "outputs": [
    {
     "data": {
      "text/plain": [
       "11.27048"
      ]
     },
     "execution_count": 63,
     "metadata": {},
     "output_type": "execute_result"
    }
   ],
   "source": [
    "mean_diam = np.mean(nyc_trees[\"trunk_diam\"])\n",
    "mean_diam"
   ]
  },
  {
   "cell_type": "markdown",
   "id": "f691cf66",
   "metadata": {},
   "source": [
    "### Exercise 8\n",
    "We’ve already provided code in script.py to save tree_diam_category as an ordered categorical variable so that you can use cat.codes. Calculate the mean of tree_diam_category, save it in a variable named mean_diam_cat and print it out.\n",
    "\n",
    "Which category does this correspond to (remember that cat.codes translates the categories to numbers between 0 and 4)? Note how this is different from the mean you calculated in the last checkpoint. While the mean diameter is about 11.27 inches (which would be categorized as “Medium-Large”), the mean category index is about 1.97, which is between 'Medium (3-10in)' and 'Medium-Large (10-18in)'."
   ]
  },
  {
   "cell_type": "code",
   "execution_count": 68,
   "id": "2f76d91d",
   "metadata": {},
   "outputs": [
    {
     "data": {
      "text/plain": [
       "array(['Medium-Large (10-18in)', 'Large (18-24in)', 'Medium (3-10in)',\n",
       "       'Very large (>24in)', nan, 'Small (0-3in)'], dtype=object)"
      ]
     },
     "execution_count": 68,
     "metadata": {},
     "output_type": "execute_result"
    }
   ],
   "source": [
    "nyc_trees[\"tree_diam_category\"].unique()"
   ]
  },
  {
   "cell_type": "code",
   "execution_count": 80,
   "id": "d0501eb7",
   "metadata": {},
   "outputs": [
    {
     "data": {
      "text/plain": [
       "['Small (0-3in)',\n",
       " 'Medium (3-10in)',\n",
       " 'Medium-Large (10-18in)',\n",
       " 'Large (18-24in)',\n",
       " 'Very large (>24in)']"
      ]
     },
     "execution_count": 80,
     "metadata": {},
     "output_type": "execute_result"
    }
   ],
   "source": [
    "size_labels_ordered = ['Small (0-3in)', 'Medium (3-10in)', 'Medium-Large (10-18in)', 'Large (18-24in)', 'Very large (>24in)']\n",
    "size_labels_ordered"
   ]
  },
  {
   "cell_type": "code",
   "execution_count": 81,
   "id": "6a3338c9",
   "metadata": {},
   "outputs": [
    {
     "data": {
      "text/plain": [
       "0        Medium-Large (10-18in)\n",
       "1               Large (18-24in)\n",
       "2               Medium (3-10in)\n",
       "3            Very large (>24in)\n",
       "4            Very large (>24in)\n",
       "                  ...          \n",
       "49995    Medium-Large (10-18in)\n",
       "49996           Large (18-24in)\n",
       "49997                       NaN\n",
       "49998    Medium-Large (10-18in)\n",
       "49999             Small (0-3in)\n",
       "Name: tree_diam_category, Length: 50000, dtype: category\n",
       "Categories (5, object): ['Small (0-3in)' < 'Medium (3-10in)' < 'Medium-Large (10-18in)' < 'Large (18-24in)' < 'Very large (>24in)']"
      ]
     },
     "execution_count": 81,
     "metadata": {},
     "output_type": "execute_result"
    }
   ],
   "source": [
    "nyc_trees[\"tree_diam_category\"] = pd.Categorical(nyc_trees[\"tree_diam_category\"], categories = size_labels_ordered, ordered = True)\n",
    "nyc_trees[\"tree_diam_category\"]"
   ]
  },
  {
   "cell_type": "code",
   "execution_count": 82,
   "id": "0b804de7",
   "metadata": {},
   "outputs": [
    {
     "data": {
      "text/plain": [
       "1.97282"
      ]
     },
     "execution_count": 82,
     "metadata": {},
     "output_type": "execute_result"
    }
   ],
   "source": [
    "mean_diam_cat = np.mean(nyc_trees[\"tree_diam_category\"].cat.codes)\n",
    "mean_diam_cat"
   ]
  },
  {
   "cell_type": "markdown",
   "id": "828f63d8",
   "metadata": {},
   "source": [
    "### Ordinal Categories: Spread\n",
    "In the last exercise, we learned that the mean is not interpretable for ordinal categorical variables because the mean relies on the assumption of equal spacing between categories.\n",
    "\n",
    "Many other statistics we might normally use for numerical data rely on the mean. Because of this, these statistics aren’t appropriate for ordinal data. Remember that the standard deviation and variance both depend on the mean, without a mean, we can’t have a reliable standard deviation or variance either!\n",
    "\n",
    "Instead, we can rely on other summary statistics, like the proportion of the data within a range, or percentiles/quantiles."
   ]
  },
  {
   "cell_type": "markdown",
   "id": "85ff25b7",
   "metadata": {},
   "source": [
    "### Exercise 9\n",
    "Calculate the 25th percentile for tree_diam_category. Use the ordered list, size_labels_ordered, to find the corresponding label. Save your result (the label, not the index) to a variable named p25_tree_diam_category and print it to the console."
   ]
  },
  {
   "cell_type": "code",
   "execution_count": 88,
   "id": "2cfd4ef6",
   "metadata": {
    "scrolled": true
   },
   "outputs": [
    {
     "data": {
      "text/plain": [
       "1.0"
      ]
     },
     "execution_count": 88,
     "metadata": {},
     "output_type": "execute_result"
    }
   ],
   "source": [
    "np.percentile(nyc_trees[\"tree_diam_category\"].cat.codes, 25)"
   ]
  },
  {
   "cell_type": "code",
   "execution_count": 90,
   "id": "47f99f20",
   "metadata": {},
   "outputs": [
    {
     "data": {
      "text/plain": [
       "'Medium (3-10in)'"
      ]
     },
     "execution_count": 90,
     "metadata": {},
     "output_type": "execute_result"
    }
   ],
   "source": [
    "p25_tree_diam_category = size_labels_ordered[int(np.percentile(nyc_trees[\"tree_diam_category\"].cat.codes, 25))]\n",
    "p25_tree_diam_category"
   ]
  },
  {
   "cell_type": "markdown",
   "id": "8aee66c0",
   "metadata": {},
   "source": [
    "### Exercise 10\n",
    "Calculate the 75th percentile of tree_diam_category. Use the ordered list, size_labels_ordered, to find the corresponding label. Save your result (the label, not the index) to a variable named p75_tree_diam_category and print it to the console.\n",
    "\n",
    "Together with the 25th percentile, we can use this value to determine the Interquartile Range (IQR) for tree_diam_category."
   ]
  },
  {
   "cell_type": "code",
   "execution_count": 93,
   "id": "cd262d36",
   "metadata": {},
   "outputs": [
    {
     "data": {
      "text/plain": [
       "3.0"
      ]
     },
     "execution_count": 93,
     "metadata": {},
     "output_type": "execute_result"
    }
   ],
   "source": [
    "np.percentile(nyc_trees[\"tree_diam_category\"].cat.codes, 75)"
   ]
  },
  {
   "cell_type": "code",
   "execution_count": 94,
   "id": "d99b4299",
   "metadata": {},
   "outputs": [
    {
     "data": {
      "text/plain": [
       "'Large (18-24in)'"
      ]
     },
     "execution_count": 94,
     "metadata": {},
     "output_type": "execute_result"
    }
   ],
   "source": [
    "p75_tree_diam_category = size_labels_ordered[int(np.percentile(nyc_trees[\"tree_diam_category\"].cat.codes, 75))]\n",
    "p75_tree_diam_category"
   ]
  },
  {
   "cell_type": "markdown",
   "id": "56c6b179",
   "metadata": {},
   "source": [
    "### Table of Proportions\n",
    "You’ve already seen that we can use the .value_counts() function to get a table of frequencies for a categorical variable. A table of frequencies is often the first approach a data scientist might use to summarize a categorical variable; however, it is sometimes useful to instead look at the proportion of values in each category."
   ]
  },
  {
   "cell_type": "code",
   "execution_count": 97,
   "id": "0179e4f4",
   "metadata": {},
   "outputs": [
    {
     "data": {
      "text/html": [
       "<div>\n",
       "<style scoped>\n",
       "    .dataframe tbody tr th:only-of-type {\n",
       "        vertical-align: middle;\n",
       "    }\n",
       "\n",
       "    .dataframe tbody tr th {\n",
       "        vertical-align: top;\n",
       "    }\n",
       "\n",
       "    .dataframe thead th {\n",
       "        text-align: right;\n",
       "    }\n",
       "</style>\n",
       "<table border=\"1\" class=\"dataframe\">\n",
       "  <thead>\n",
       "    <tr style=\"text-align: right;\">\n",
       "      <th></th>\n",
       "      <th>tree_id</th>\n",
       "      <th>trunk_diam</th>\n",
       "      <th>status</th>\n",
       "      <th>health</th>\n",
       "      <th>spc_common</th>\n",
       "      <th>neighborhood</th>\n",
       "    </tr>\n",
       "  </thead>\n",
       "  <tbody>\n",
       "    <tr>\n",
       "      <th>0</th>\n",
       "      <td>199250</td>\n",
       "      <td>8</td>\n",
       "      <td>Alive</td>\n",
       "      <td>Good</td>\n",
       "      <td>crab apple</td>\n",
       "      <td>Lincoln Square</td>\n",
       "    </tr>\n",
       "    <tr>\n",
       "      <th>1</th>\n",
       "      <td>136891</td>\n",
       "      <td>17</td>\n",
       "      <td>Alive</td>\n",
       "      <td>Good</td>\n",
       "      <td>honeylocust</td>\n",
       "      <td>East Harlem North</td>\n",
       "    </tr>\n",
       "    <tr>\n",
       "      <th>2</th>\n",
       "      <td>200218</td>\n",
       "      <td>3</td>\n",
       "      <td>Alive</td>\n",
       "      <td>Good</td>\n",
       "      <td>ginkgo</td>\n",
       "      <td>Chinatown</td>\n",
       "    </tr>\n",
       "    <tr>\n",
       "      <th>3</th>\n",
       "      <td>53901</td>\n",
       "      <td>23</td>\n",
       "      <td>Alive</td>\n",
       "      <td>Good</td>\n",
       "      <td>green ash</td>\n",
       "      <td>Bayside-Bayside Hills</td>\n",
       "    </tr>\n",
       "    <tr>\n",
       "      <th>4</th>\n",
       "      <td>589218</td>\n",
       "      <td>21</td>\n",
       "      <td>Alive</td>\n",
       "      <td>Good</td>\n",
       "      <td>pin oak</td>\n",
       "      <td>Glen Oaks-Floral Park-New Hyde Park</td>\n",
       "    </tr>\n",
       "  </tbody>\n",
       "</table>\n",
       "</div>"
      ],
      "text/plain": [
       "   tree_id  trunk_diam status health   spc_common  \\\n",
       "0   199250           8  Alive   Good   crab apple   \n",
       "1   136891          17  Alive   Good  honeylocust   \n",
       "2   200218           3  Alive   Good       ginkgo   \n",
       "3    53901          23  Alive   Good    green ash   \n",
       "4   589218          21  Alive   Good      pin oak   \n",
       "\n",
       "                          neighborhood  \n",
       "0                       Lincoln Square  \n",
       "1                    East Harlem North  \n",
       "2                            Chinatown  \n",
       "3                Bayside-Bayside Hills  \n",
       "4  Glen Oaks-Floral Park-New Hyde Park  "
      ]
     },
     "execution_count": 97,
     "metadata": {},
     "output_type": "execute_result"
    }
   ],
   "source": [
    "nyc_trees = pd.read_csv(\"./nyc_tree_census.csv\")\n",
    "nyc_trees.head()"
   ]
  },
  {
   "cell_type": "markdown",
   "id": "d5b43e94",
   "metadata": {},
   "source": [
    "### Exercise 11\n",
    "\n",
    "Calculate a table of proportions for the status column. Save this table of proportions as tree_status_proportions and print the result."
   ]
  },
  {
   "cell_type": "code",
   "execution_count": 101,
   "id": "ee87192a",
   "metadata": {},
   "outputs": [
    {
     "data": {
      "text/plain": [
       "Alive    0.9539\n",
       "Stump    0.0267\n",
       "Dead     0.0194\n",
       "Name: status, dtype: float64"
      ]
     },
     "execution_count": 101,
     "metadata": {},
     "output_type": "execute_result"
    }
   ],
   "source": [
    "tree_status_proportions = nyc_trees[\"status\"].value_counts(normalize = True)\n",
    "tree_status_proportions"
   ]
  },
  {
   "cell_type": "markdown",
   "id": "bb7d89c3",
   "metadata": {},
   "source": [
    "### Table of Proportions: Missing Data\n",
    "A table of frequencies is often the first approach a data scientist might use to summarize a categorical variable; however, it is sometimes useful to instead look at the proportion of values in each category.NaN."
   ]
  },
  {
   "cell_type": "markdown",
   "id": "22bcc236",
   "metadata": {},
   "source": [
    "### Exercise 12\n",
    "Using .value_counts(), calculate the proportions for each category in the health variable. The denominator for your proportions should be the number of non-missing values in the health column. Save the result to a dataframe named health_proportions and print the result."
   ]
  },
  {
   "cell_type": "code",
   "execution_count": 103,
   "id": "2fa5340a",
   "metadata": {},
   "outputs": [
    {
     "data": {
      "text/plain": [
       "Good    0.810986\n",
       "Fair    0.146871\n",
       "Poor    0.042143\n",
       "Name: health, dtype: float64"
      ]
     },
     "execution_count": 103,
     "metadata": {},
     "output_type": "execute_result"
    }
   ],
   "source": [
    "health_proportions = nyc_trees[\"health\"].value_counts(normalize=True)\n",
    "health_proportions"
   ]
  },
  {
   "cell_type": "markdown",
   "id": "be96311d",
   "metadata": {},
   "source": [
    "### Exercise 13\n",
    "Now, still using .value_counts(), add a parameter to include missing values in the denominator when calculating proportions for the health variable. Save the result to a dataframe named health_proportions_2. Why are the two sets of results different? Can you think of scenarios where one might be more appropriate to report than the other?"
   ]
  },
  {
   "cell_type": "code",
   "execution_count": 105,
   "id": "19f4a380",
   "metadata": {},
   "outputs": [
    {
     "data": {
      "text/plain": [
       "Good    0.7736\n",
       "Fair    0.1401\n",
       "NaN     0.0461\n",
       "Poor    0.0402\n",
       "Name: health, dtype: float64"
      ]
     },
     "execution_count": 105,
     "metadata": {},
     "output_type": "execute_result"
    }
   ],
   "source": [
    "health_proportions_2 = nyc_trees[\"health\"].value_counts(normalize=True, dropna=False)\n",
    "health_proportions_2"
   ]
  },
  {
   "cell_type": "markdown",
   "id": "d1657773",
   "metadata": {},
   "source": [
    "### Binary Categorical Variables\n",
    "Binary categorical variables have only two categories. In Python, these variables are often coded as 0/1 or True/False. This makes it easy to calculate the frequency/proportion of these variables in a dataset"
   ]
  },
  {
   "cell_type": "markdown",
   "id": "deb6deaa",
   "metadata": {},
   "source": [
    "### Exercise 14\n",
    "Find the frequency and proportion of trees that were recorded as Alive. You can do this by transforming the status variable to an indicator for if a tree is alive (indicated by status == 'Alive') or not. Save the results to variables named living_frequency and living_proportion and print them to the console."
   ]
  },
  {
   "cell_type": "code",
   "execution_count": 119,
   "id": "469b184e",
   "metadata": {},
   "outputs": [
    {
     "data": {
      "text/plain": [
       "0         True\n",
       "1         True\n",
       "2         True\n",
       "3         True\n",
       "4         True\n",
       "         ...  \n",
       "49995     True\n",
       "49996     True\n",
       "49997     True\n",
       "49998     True\n",
       "49999    False\n",
       "Name: status, Length: 50000, dtype: bool"
      ]
     },
     "execution_count": 119,
     "metadata": {},
     "output_type": "execute_result"
    }
   ],
   "source": [
    "nyc_trees[\"status\"] == \"Alive\""
   ]
  },
  {
   "cell_type": "code",
   "execution_count": 116,
   "id": "0b6262ff",
   "metadata": {},
   "outputs": [
    {
     "data": {
      "text/plain": [
       "47695"
      ]
     },
     "execution_count": 116,
     "metadata": {},
     "output_type": "execute_result"
    }
   ],
   "source": [
    "living_frequency = np.sum(nyc_trees[\"status\"] == \"Alive\")\n"
   ]
  },
  {
   "cell_type": "code",
   "execution_count": 118,
   "id": "531547a0",
   "metadata": {},
   "outputs": [
    {
     "data": {
      "text/plain": [
       "0.9539"
      ]
     },
     "execution_count": 118,
     "metadata": {},
     "output_type": "execute_result"
    }
   ],
   "source": [
    "living_proportion = (nyc_trees[\"status\"] == \"Alive\").mean()\n",
    "living_proportion"
   ]
  },
  {
   "cell_type": "markdown",
   "id": "d72155e7",
   "metadata": {},
   "source": [
    "### Exercise 15\n",
    "Find the frequency and proportion of trees with trunk_diam > 30. Save the results to variables named giant_frequency and giant_proportion and print them to the console."
   ]
  },
  {
   "cell_type": "code",
   "execution_count": 124,
   "id": "dda5109e",
   "metadata": {},
   "outputs": [
    {
     "data": {
      "text/plain": [
       "0        False\n",
       "1        False\n",
       "2        False\n",
       "3        False\n",
       "4        False\n",
       "         ...  \n",
       "49995    False\n",
       "49996    False\n",
       "49997    False\n",
       "49998    False\n",
       "49999    False\n",
       "Name: trunk_diam, Length: 50000, dtype: bool"
      ]
     },
     "execution_count": 124,
     "metadata": {},
     "output_type": "execute_result"
    }
   ],
   "source": [
    "nyc_trees[\"trunk_diam\"] > 30"
   ]
  },
  {
   "cell_type": "code",
   "execution_count": 126,
   "id": "bdd4a45a",
   "metadata": {},
   "outputs": [
    {
     "data": {
      "text/plain": [
       "1788"
      ]
     },
     "execution_count": 126,
     "metadata": {},
     "output_type": "execute_result"
    }
   ],
   "source": [
    "giant_frequency = np.sum(nyc_trees[\"trunk_diam\"] > 30)\n",
    "giant_frequency"
   ]
  },
  {
   "cell_type": "code",
   "execution_count": 128,
   "id": "8c1e6944",
   "metadata": {},
   "outputs": [
    {
     "data": {
      "text/plain": [
       "0.03576"
      ]
     },
     "execution_count": 128,
     "metadata": {},
     "output_type": "execute_result"
    }
   ],
   "source": [
    "giant_proportion = (nyc_trees[\"trunk_diam\"] > 30).mean()\n",
    "giant_proportion"
   ]
  },
  {
   "cell_type": "markdown",
   "id": "c996bf7c",
   "metadata": {},
   "source": [
    "### Review\n",
    "\n",
    "In this lesson you’ve learned the steps you can take to summarize and interpret summaries of nominal categorical and ordinal categorical variables.\n",
    "\n",
    "- For nominal categorical variables, there is no ordering to the categories. Because of this, we’re limited to using the mode to describe central tendency and there is no way to summarize the spread.\n",
    "\n",
    "- For ordinal categorical variables, there is an implied ordering to the categories. In Python, we can use pd.Categorical() to transform a variable to a categorical type. The Categorical type allows us to access a numeric value for each category by using .cat.codes. From there, we may perform operations on this variable as if it were a regular, numeric variable.\n",
    "\n",
    "- However, when calculating statistics for an ordinal categorical variable we should be mindful that some numeric statistics rely on the assumption of equal spacing between categories.\n",
    "\n",
    "- For ordinal categorical variables, median and mode can be used to summarize the central tendency, and the IQR (or any difference between percentiles) can be used to summarize the spread.\n",
    "\n",
    "- Certain summary statistics (e.g. frequencies and proportions), can be used for all categorical variables. You can create true/false columns and np.sum() and np.mean() to quickly summarize what proportion of your data meets certain criteria."
   ]
  },
  {
   "cell_type": "code",
   "execution_count": null,
   "id": "ecbdc58a",
   "metadata": {},
   "outputs": [],
   "source": []
  }
 ],
 "metadata": {
  "kernelspec": {
   "display_name": "Python 3 (ipykernel)",
   "language": "python",
   "name": "python3"
  },
  "language_info": {
   "codemirror_mode": {
    "name": "ipython",
    "version": 3
   },
   "file_extension": ".py",
   "mimetype": "text/x-python",
   "name": "python",
   "nbconvert_exporter": "python",
   "pygments_lexer": "ipython3",
   "version": "3.9.12"
  }
 },
 "nbformat": 4,
 "nbformat_minor": 5
}

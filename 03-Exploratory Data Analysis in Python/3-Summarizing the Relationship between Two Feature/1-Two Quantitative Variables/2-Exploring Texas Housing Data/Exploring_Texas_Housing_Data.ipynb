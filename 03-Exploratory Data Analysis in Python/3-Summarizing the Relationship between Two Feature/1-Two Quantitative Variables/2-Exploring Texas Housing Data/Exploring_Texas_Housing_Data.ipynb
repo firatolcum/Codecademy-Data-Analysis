{
 "cells": [
  {
   "cell_type": "markdown",
   "id": "12ce2953",
   "metadata": {},
   "source": [
    "## <center> Exploring Texas Housing Data"
   ]
  },
  {
   "cell_type": "markdown",
   "id": "20b9b017",
   "metadata": {},
   "source": [
    "## About Data\n",
    "Throughout the next few exercises, we’ll examine some data about Texas housing rentals on Craigslist — an online classifieds site. The data dictionary is as follows:\n",
    "\n",
    "- **price:** monthly rental price in U.S.D.\n",
    "- **type:** type of housing (eg., 'apartment', 'house', 'condo', etc.)\n",
    "- **sqfeet:** housing area, in square feet\n",
    "- **beds:** number of beds\n",
    "- **baths:** number of baths\n",
    "- **lat:** latitude\n",
    "- **long:** longitude"
   ]
  },
  {
   "cell_type": "code",
   "execution_count": 17,
   "id": "ce7a8fdc",
   "metadata": {},
   "outputs": [],
   "source": [
    "import pandas as pd\n",
    "import numpy as np\n",
    "import matplotlib.pyplot as plt\n",
    "import seaborn as sns\n",
    "from scipy import stats"
   ]
  },
  {
   "cell_type": "markdown",
   "id": "4b7291aa",
   "metadata": {},
   "source": [
    "## Introduction"
   ]
  },
  {
   "cell_type": "markdown",
   "id": "70849c8d",
   "metadata": {},
   "source": [
    "#####  Exercise 1\n",
    "Load the data and use the ``.head()`` method to print the first 10 rows and inspect some more of the data.<br>\n",
    "What are some other quantitative variables that might be related to each other?"
   ]
  },
  {
   "cell_type": "code",
   "execution_count": 4,
   "id": "c8d637c8",
   "metadata": {},
   "outputs": [
    {
     "data": {
      "text/html": [
       "<div>\n",
       "<style scoped>\n",
       "    .dataframe tbody tr th:only-of-type {\n",
       "        vertical-align: middle;\n",
       "    }\n",
       "\n",
       "    .dataframe tbody tr th {\n",
       "        vertical-align: top;\n",
       "    }\n",
       "\n",
       "    .dataframe thead th {\n",
       "        text-align: right;\n",
       "    }\n",
       "</style>\n",
       "<table border=\"1\" class=\"dataframe\">\n",
       "  <thead>\n",
       "    <tr style=\"text-align: right;\">\n",
       "      <th></th>\n",
       "      <th>price</th>\n",
       "      <th>type</th>\n",
       "      <th>sqfeet</th>\n",
       "      <th>beds</th>\n",
       "      <th>baths</th>\n",
       "      <th>lat</th>\n",
       "      <th>long</th>\n",
       "    </tr>\n",
       "  </thead>\n",
       "  <tbody>\n",
       "    <tr>\n",
       "      <th>0</th>\n",
       "      <td>615</td>\n",
       "      <td>apartment</td>\n",
       "      <td>364</td>\n",
       "      <td>0</td>\n",
       "      <td>1.0</td>\n",
       "      <td>35.1653</td>\n",
       "      <td>-101.8840</td>\n",
       "    </tr>\n",
       "    <tr>\n",
       "      <th>1</th>\n",
       "      <td>1346</td>\n",
       "      <td>apartment</td>\n",
       "      <td>816</td>\n",
       "      <td>1</td>\n",
       "      <td>1.0</td>\n",
       "      <td>32.9865</td>\n",
       "      <td>-96.6860</td>\n",
       "    </tr>\n",
       "    <tr>\n",
       "      <th>2</th>\n",
       "      <td>900</td>\n",
       "      <td>apartment</td>\n",
       "      <td>500</td>\n",
       "      <td>1</td>\n",
       "      <td>1.0</td>\n",
       "      <td>30.2355</td>\n",
       "      <td>-97.7292</td>\n",
       "    </tr>\n",
       "    <tr>\n",
       "      <th>3</th>\n",
       "      <td>650</td>\n",
       "      <td>apartment</td>\n",
       "      <td>700</td>\n",
       "      <td>1</td>\n",
       "      <td>1.0</td>\n",
       "      <td>26.1923</td>\n",
       "      <td>-98.2657</td>\n",
       "    </tr>\n",
       "    <tr>\n",
       "      <th>4</th>\n",
       "      <td>1330</td>\n",
       "      <td>apartment</td>\n",
       "      <td>1040</td>\n",
       "      <td>2</td>\n",
       "      <td>2.0</td>\n",
       "      <td>30.6380</td>\n",
       "      <td>-96.2940</td>\n",
       "    </tr>\n",
       "    <tr>\n",
       "      <th>5</th>\n",
       "      <td>915</td>\n",
       "      <td>apartment</td>\n",
       "      <td>620</td>\n",
       "      <td>1</td>\n",
       "      <td>1.0</td>\n",
       "      <td>29.8754</td>\n",
       "      <td>-97.9404</td>\n",
       "    </tr>\n",
       "    <tr>\n",
       "      <th>6</th>\n",
       "      <td>1600</td>\n",
       "      <td>house</td>\n",
       "      <td>1578</td>\n",
       "      <td>3</td>\n",
       "      <td>2.0</td>\n",
       "      <td>32.6412</td>\n",
       "      <td>-97.1058</td>\n",
       "    </tr>\n",
       "    <tr>\n",
       "      <th>7</th>\n",
       "      <td>349</td>\n",
       "      <td>apartment</td>\n",
       "      <td>275</td>\n",
       "      <td>0</td>\n",
       "      <td>1.0</td>\n",
       "      <td>33.5865</td>\n",
       "      <td>-101.8610</td>\n",
       "    </tr>\n",
       "    <tr>\n",
       "      <th>8</th>\n",
       "      <td>695</td>\n",
       "      <td>house</td>\n",
       "      <td>650</td>\n",
       "      <td>1</td>\n",
       "      <td>1.0</td>\n",
       "      <td>31.5525</td>\n",
       "      <td>-97.1604</td>\n",
       "    </tr>\n",
       "    <tr>\n",
       "      <th>9</th>\n",
       "      <td>889</td>\n",
       "      <td>apartment</td>\n",
       "      <td>650</td>\n",
       "      <td>1</td>\n",
       "      <td>1.5</td>\n",
       "      <td>29.8754</td>\n",
       "      <td>-97.9404</td>\n",
       "    </tr>\n",
       "  </tbody>\n",
       "</table>\n",
       "</div>"
      ],
      "text/plain": [
       "   price       type  sqfeet  beds  baths      lat      long\n",
       "0    615  apartment     364     0    1.0  35.1653 -101.8840\n",
       "1   1346  apartment     816     1    1.0  32.9865  -96.6860\n",
       "2    900  apartment     500     1    1.0  30.2355  -97.7292\n",
       "3    650  apartment     700     1    1.0  26.1923  -98.2657\n",
       "4   1330  apartment    1040     2    2.0  30.6380  -96.2940\n",
       "5    915  apartment     620     1    1.0  29.8754  -97.9404\n",
       "6   1600      house    1578     3    2.0  32.6412  -97.1058\n",
       "7    349  apartment     275     0    1.0  33.5865 -101.8610\n",
       "8    695      house     650     1    1.0  31.5525  -97.1604\n",
       "9    889  apartment     650     1    1.5  29.8754  -97.9404"
      ]
     },
     "execution_count": 4,
     "metadata": {},
     "output_type": "execute_result"
    }
   ],
   "source": [
    "housing = pd.read_csv(\"housing_sample.csv\")\n",
    "housing.head(10)\n",
    "# I think price and sqfeet related to each other..."
   ]
  },
  {
   "cell_type": "markdown",
   "id": "1b3d29fd",
   "metadata": {},
   "source": [
    "## Scatter Plots\n",
    "One of the best ways to quickly visualize the relationship between quantitative variables is to plot them against each other in a scatter plot.<br> \n",
    "This makes it easy to look for patterns or trends in the data."
   ]
  },
  {
   "cell_type": "markdown",
   "id": "795b63ac",
   "metadata": {},
   "source": [
    "##### Exercise 2\n",
    "Create a scatter plot to see if there is an association between the area (`sqfeet`) of a rental and the number of bedrooms (`beds`). <br>\n",
    "Do you think these variables are associated? If so, is the relationship what you expected?"
   ]
  },
  {
   "cell_type": "code",
   "execution_count": 9,
   "id": "616cee92",
   "metadata": {},
   "outputs": [
    {
     "data": {
      "image/png": "[encoded data removed]",
      "text/plain": [
       "<Figure size 432x288 with 1 Axes>"
      ]
     },
     "metadata": {
      "needs_background": "light"
     },
     "output_type": "display_data"
    }
   ],
   "source": [
    "sns.scatterplot(data=housing, x=\"beds\", y=\"sqfeet\");\n",
    "# Yes these variables are associated and the relationship is what I expected."
   ]
  },
  {
   "cell_type": "markdown",
   "id": "f2f1a39b",
   "metadata": {},
   "source": [
    "## Exploring Covariance\n",
    "Beyond visualizing relationships, we can also use summary statistics to quantify the strength of certain associations.<br>\n",
    "Covariance is a summary statistic that describes the strength of a linear relationship.<br> \n",
    "A linear relationship is one where a straight line would best describe the pattern of points in a scatter plot.\n",
    "\n",
    "Covariance can range from negative infinity to positive infinity. <br>\n",
    "A positive covariance indicates that a larger value of one variable is associated with a larger value of the other.<br> \n",
    "A negative covariance indicates a larger value of one variable is associated with a smaller value of the other.<br> \n",
    "A covariance of 0 indicates no linear relationship. "
   ]
  },
  {
   "cell_type": "markdown",
   "id": "ac1b2b48",
   "metadata": {},
   "source": [
    "##### Exercise 3\n",
    "Use the ``cov()`` function from NumPy to calculate the covariance matrix for the `sqfeet` variable and the `beds` variable.<br>\n",
    "Save the covariance matrix as `cov_mat_sqfeet_beds`. <br>\n",
    "Print out the value stored in the variable `cov_mat_sqfeet_beds`."
   ]
  },
  {
   "cell_type": "code",
   "execution_count": 11,
   "id": "bf4a09fc",
   "metadata": {},
   "outputs": [
    {
     "data": {
      "text/plain": [
       "array([[1.10668978e+05, 2.28223306e+02],\n",
       "       [2.28223306e+02, 7.24471949e-01]])"
      ]
     },
     "execution_count": 11,
     "metadata": {},
     "output_type": "execute_result"
    }
   ],
   "source": [
    "cov_mat_sqfeet_beds = np.cov(housing[\"sqfeet\"], housing[\"beds\"])\n",
    "cov_mat_sqfeet_beds"
   ]
  },
  {
   "cell_type": "markdown",
   "id": "7ec746b7",
   "metadata": {},
   "source": [
    "##### Exercise 4\n",
    "Look at the covariance matrix you just printed and find the covariance of sqfeet and beds. Save that number as a variable named `cov_sqfeet_beds`."
   ]
  },
  {
   "cell_type": "code",
   "execution_count": 16,
   "id": "1e712d9a",
   "metadata": {},
   "outputs": [
    {
     "data": {
      "text/plain": [
       "228.22330619405946"
      ]
     },
     "execution_count": 16,
     "metadata": {},
     "output_type": "execute_result"
    }
   ],
   "source": [
    "cov_sqfeet_beds = cov_mat_sqfeet_beds[0,1]\n",
    "cov_sqfeet_beds\n",
    "# There is a positive covariance"
   ]
  },
  {
   "cell_type": "markdown",
   "id": "5664d030",
   "metadata": {},
   "source": [
    "## Exploring Correlation Part-1\n",
    "Like covariance, Pearson Correlation (often referred to simply as “correlation”) is a scaled form of covariance.<br>\n",
    "It also measures the strength of a linear relationship, but ranges from -1 to +1, making it more interpretable.<br>\n",
    "\n",
    "Highly associated variables with a positive linear relationship will have a correlation close to 1.<br>\n",
    "Highly associated variables with a negative linear relationship will have a correlation close to -1. <br>\n",
    "Variables that do not have a linear association (or a linear association with a slope of zero) will have correlations close to 0.\n",
    "\n",
    "Generally, a correlation larger than about ``.3`` indicates a ``linear`` association.<br>\n",
    "A correlation greater than about ``.6`` suggestions a ``strong linear`` association`"
   ]
  },
  {
   "cell_type": "markdown",
   "id": "31419eba",
   "metadata": {},
   "source": [
    "##### Exercise 5\n",
    "Use the `pearsonr` function from ``scipy.stats`` to calculate the correlation between ``sqfeet`` and ``beds``.<br>\n",
    "Store the result in a variable ``named corr_sqfeet_beds`` and print out the result.<br>\n",
    "How strong is the linear association between these variables?"
   ]
  },
  {
   "cell_type": "code",
   "execution_count": 20,
   "id": "c13456a6",
   "metadata": {},
   "outputs": [
    {
     "data": {
      "text/plain": [
       "0.8060022524416223"
      ]
     },
     "execution_count": 20,
     "metadata": {},
     "output_type": "execute_result"
    }
   ],
   "source": [
    "corr_sqfeet_beds  = stats.pearsonr(housing[\"sqfeet\"], housing[\"beds\"])[0]\n",
    "corr_sqfeet_beds\n",
    "# There is strong linear association between sqfeet and beds."
   ]
  },
  {
   "cell_type": "markdown",
   "id": "c726fb40",
   "metadata": {},
   "source": [
    "##### Exercise 6\n",
    "Generate a scatter plot of `sqfeet` and `beds` again. Does the correlation value make sense?"
   ]
  },
  {
   "cell_type": "code",
   "execution_count": 22,
   "id": "a689dcae",
   "metadata": {},
   "outputs": [
    {
     "data": {
      "image/png": "[encoded data removed]",
      "text/plain": [
       "<Figure size 432x288 with 1 Axes>"
      ]
     },
     "metadata": {
      "needs_background": "light"
     },
     "output_type": "display_data"
    }
   ],
   "source": [
    "sns.scatterplot(data=housing, x=\"beds\", y=\"sqfeet\");"
   ]
  },
  {
   "cell_type": "markdown",
   "id": "18f6386b",
   "metadata": {},
   "source": [
    "## Exploring Correlation Part-2\n",
    "It’s important to note that there are some limitations to using correlation or covariance as a way of assessing whether there is an association between two variables. <br>\n",
    "Because correlation and covariance both measure the strength of linear relationships with non-zero slopes, but not other kinds of relationships, correlation can be misleading."
   ]
  },
  {
   "cell_type": "markdown",
   "id": "e5e4ed32",
   "metadata": {},
   "source": [
    "##### Exercise 7\n",
    "Load the dataset `sleep_performance.csv` and save as `sleep`. The hypothetical data contains two columns:\n",
    "- **hours_sleep:** the number of hours that a person slept\n",
    "- **performance:** that person’s performance score on a physical task the next day"
   ]
  },
  {
   "cell_type": "code",
   "execution_count": 24,
   "id": "cb7ac6f3",
   "metadata": {},
   "outputs": [
    {
     "data": {
      "text/html": [
       "<div>\n",
       "<style scoped>\n",
       "    .dataframe tbody tr th:only-of-type {\n",
       "        vertical-align: middle;\n",
       "    }\n",
       "\n",
       "    .dataframe tbody tr th {\n",
       "        vertical-align: top;\n",
       "    }\n",
       "\n",
       "    .dataframe thead th {\n",
       "        text-align: right;\n",
       "    }\n",
       "</style>\n",
       "<table border=\"1\" class=\"dataframe\">\n",
       "  <thead>\n",
       "    <tr style=\"text-align: right;\">\n",
       "      <th></th>\n",
       "      <th>hours_sleep</th>\n",
       "      <th>performance</th>\n",
       "    </tr>\n",
       "  </thead>\n",
       "  <tbody>\n",
       "    <tr>\n",
       "      <th>0</th>\n",
       "      <td>7.3</td>\n",
       "      <td>9.3</td>\n",
       "    </tr>\n",
       "    <tr>\n",
       "      <th>1</th>\n",
       "      <td>8.3</td>\n",
       "      <td>9.9</td>\n",
       "    </tr>\n",
       "  </tbody>\n",
       "</table>\n",
       "</div>"
      ],
      "text/plain": [
       "   hours_sleep  performance\n",
       "0          7.3          9.3\n",
       "1          8.3          9.9"
      ]
     },
     "execution_count": 24,
     "metadata": {},
     "output_type": "execute_result"
    }
   ],
   "source": [
    "sleep = pd.read_csv(\"sleep_performance.csv\")\n",
    "sleep.head(2)"
   ]
  },
  {
   "cell_type": "markdown",
   "id": "fb6f0f5e",
   "metadata": {},
   "source": [
    "##### Exercise 8\n",
    "Create a scatter plot of `hours_sleep` (on the x-axis) and `performance` (on the y-axis). What is the relationship between these variables?"
   ]
  },
  {
   "cell_type": "code",
   "execution_count": 29,
   "id": "e8b4c5f6",
   "metadata": {},
   "outputs": [
    {
     "data": {
      "image/png": "[encoded data removed]",
      "text/plain": [
       "<Figure size 432x288 with 1 Axes>"
      ]
     },
     "metadata": {
      "needs_background": "light"
     },
     "output_type": "display_data"
    },
    {
     "name": "stdout",
     "output_type": "stream",
     "text": [
      "More sleep appears to be associated with higher performance,\n",
      "up to about eight hours, after which more sleep is associated with poorer performance.\n"
     ]
    }
   ],
   "source": [
    "sns.scatterplot(data=sleep, x=\"hours_sleep\", y=\"performance\")\n",
    "plt.show()\n",
    "print(\"\"\"More sleep appears to be associated with higher performance,\n",
    "up to about eight hours, after which more sleep is associated with poorer performance.\"\"\")"
   ]
  },
  {
   "cell_type": "markdown",
   "id": "25110a6c",
   "metadata": {},
   "source": [
    "##### Exercise 9\n",
    "Calculate the correlation for `hours_sleep` and `performance` and save the result as `corr_sleep_performance`.<br> \n",
    "Then, print out `corr_sleep_performance`. Does the correlation accurately reflect the strength of the relationship between these variables?"
   ]
  },
  {
   "cell_type": "code",
   "execution_count": 34,
   "id": "00d56959",
   "metadata": {},
   "outputs": [],
   "source": [
    "corr_sleep_performance = stats.pearsonr(sleep[\"hours_sleep\"], sleep[\"performance\"])"
   ]
  },
  {
   "cell_type": "code",
   "execution_count": 35,
   "id": "49d92971",
   "metadata": {},
   "outputs": [
    {
     "name": "stdout",
     "output_type": "stream",
     "text": [
      "Correlation coefficient: 0.2814978189049413, p-value: 0.0476593612399499\n"
     ]
    }
   ],
   "source": [
    "print(f\"Correlation coefficient: {corr_sleep_performance[0]}, p-value: {corr_sleep_performance[1]}\")"
   ]
  },
  {
   "cell_type": "code",
   "execution_count": 33,
   "id": "70ee09a0",
   "metadata": {},
   "outputs": [
    {
     "name": "stdout",
     "output_type": "stream",
     "text": [
      "The correlation is only 0.28 (a relatively small correlation), \n",
      "even though the variables seem to be clearly associated (there is a very clear pattern in the scatter plot).\n"
     ]
    }
   ],
   "source": [
    "print(\"\"\"The correlation is only 0.28 (a relatively small correlation), \n",
    "even though the variables seem to be clearly associated (there is a very clear pattern in the scatter plot).\"\"\")"
   ]
  }
 ],
 "metadata": {
  "kernelspec": {
   "display_name": "Python 3 (ipykernel)",
   "language": "python",
   "name": "python3"
  },
  "language_info": {
   "codemirror_mode": {
    "name": "ipython",
    "version": 3
   },
   "file_extension": ".py",
   "mimetype": "text/x-python",
   "name": "python",
   "nbconvert_exporter": "python",
   "pygments_lexer": "ipython3",
   "version": "3.9.12"
  }
 },
 "nbformat": 4,
 "nbformat_minor": 5
}

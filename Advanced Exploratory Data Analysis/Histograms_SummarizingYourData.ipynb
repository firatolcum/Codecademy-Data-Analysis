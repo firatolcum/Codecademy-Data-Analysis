{
 "cells": [
  {
   "cell_type": "markdown",
   "id": "71971678",
   "metadata": {},
   "source": [
    "### Average Grocery Store Time\n",
    "Throughout this lesson, you will analyze grocery store data to understand how a histogram may be a better tool for communicating trends in your data. You will use this data to determine the best times for a manager to staff their store."
   ]
  },
  {
   "cell_type": "code",
   "execution_count": 36,
   "id": "43e146a0",
   "metadata": {},
   "outputs": [],
   "source": [
    "import pandas as pd\n",
    "import numpy as np\n",
    "import matplotlib.pyplot as plt"
   ]
  },
  {
   "cell_type": "code",
   "execution_count": 7,
   "id": "97345322",
   "metadata": {},
   "outputs": [
    {
     "data": {
      "text/html": [
       "<div>\n",
       "<style scoped>\n",
       "    .dataframe tbody tr th:only-of-type {\n",
       "        vertical-align: middle;\n",
       "    }\n",
       "\n",
       "    .dataframe tbody tr th {\n",
       "        vertical-align: top;\n",
       "    }\n",
       "\n",
       "    .dataframe thead th {\n",
       "        text-align: right;\n",
       "    }\n",
       "</style>\n",
       "<table border=\"1\" class=\"dataframe\">\n",
       "  <thead>\n",
       "    <tr style=\"text-align: right;\">\n",
       "      <th></th>\n",
       "      <th>Unnamed: 0</th>\n",
       "      <th>Transaction Time</th>\n",
       "      <th>Cost</th>\n",
       "    </tr>\n",
       "  </thead>\n",
       "  <tbody>\n",
       "    <tr>\n",
       "      <th>0</th>\n",
       "      <td>0</td>\n",
       "      <td>7.939419</td>\n",
       "      <td>98.422021</td>\n",
       "    </tr>\n",
       "    <tr>\n",
       "      <th>1</th>\n",
       "      <td>1</td>\n",
       "      <td>4.314811</td>\n",
       "      <td>87.329861</td>\n",
       "    </tr>\n",
       "    <tr>\n",
       "      <th>2</th>\n",
       "      <td>2</td>\n",
       "      <td>6.394080</td>\n",
       "      <td>112.334882</td>\n",
       "    </tr>\n",
       "    <tr>\n",
       "      <th>3</th>\n",
       "      <td>3</td>\n",
       "      <td>7.031504</td>\n",
       "      <td>87.570689</td>\n",
       "    </tr>\n",
       "    <tr>\n",
       "      <th>4</th>\n",
       "      <td>4</td>\n",
       "      <td>5.840730</td>\n",
       "      <td>97.321191</td>\n",
       "    </tr>\n",
       "  </tbody>\n",
       "</table>\n",
       "</div>"
      ],
      "text/plain": [
       "   Unnamed: 0  Transaction Time        Cost\n",
       "0           0          7.939419   98.422021\n",
       "1           1          4.314811   87.329861\n",
       "2           2          6.394080  112.334882\n",
       "3           3          7.031504   87.570689\n",
       "4           4          5.840730   97.321191"
      ]
     },
     "execution_count": 7,
     "metadata": {},
     "output_type": "execute_result"
    }
   ],
   "source": [
    "transactions = pd.read_csv(\"transactions.csv\")\n",
    "transactions.head()"
   ]
  },
  {
   "cell_type": "code",
   "execution_count": 9,
   "id": "5da7ccb2",
   "metadata": {},
   "outputs": [],
   "source": [
    "transactions.drop(columns=[\"Unnamed: 0\"], inplace=True)"
   ]
  },
  {
   "cell_type": "code",
   "execution_count": 21,
   "id": "29fe2b0b",
   "metadata": {},
   "outputs": [
    {
     "data": {
      "text/html": [
       "<div>\n",
       "<style scoped>\n",
       "    .dataframe tbody tr th:only-of-type {\n",
       "        vertical-align: middle;\n",
       "    }\n",
       "\n",
       "    .dataframe tbody tr th {\n",
       "        vertical-align: top;\n",
       "    }\n",
       "\n",
       "    .dataframe thead th {\n",
       "        text-align: right;\n",
       "    }\n",
       "</style>\n",
       "<table border=\"1\" class=\"dataframe\">\n",
       "  <thead>\n",
       "    <tr style=\"text-align: right;\">\n",
       "      <th></th>\n",
       "      <th>Transaction Time</th>\n",
       "      <th>Cost</th>\n",
       "    </tr>\n",
       "  </thead>\n",
       "  <tbody>\n",
       "    <tr>\n",
       "      <th>0</th>\n",
       "      <td>7.939419</td>\n",
       "      <td>98.422021</td>\n",
       "    </tr>\n",
       "    <tr>\n",
       "      <th>1</th>\n",
       "      <td>4.314811</td>\n",
       "      <td>87.329861</td>\n",
       "    </tr>\n",
       "    <tr>\n",
       "      <th>2</th>\n",
       "      <td>6.394080</td>\n",
       "      <td>112.334882</td>\n",
       "    </tr>\n",
       "    <tr>\n",
       "      <th>3</th>\n",
       "      <td>7.031504</td>\n",
       "      <td>87.570689</td>\n",
       "    </tr>\n",
       "    <tr>\n",
       "      <th>4</th>\n",
       "      <td>5.840730</td>\n",
       "      <td>97.321191</td>\n",
       "    </tr>\n",
       "  </tbody>\n",
       "</table>\n",
       "</div>"
      ],
      "text/plain": [
       "   Transaction Time        Cost\n",
       "0          7.939419   98.422021\n",
       "1          4.314811   87.329861\n",
       "2          6.394080  112.334882\n",
       "3          7.031504   87.570689\n",
       "4          5.840730   97.321191"
      ]
     },
     "execution_count": 21,
     "metadata": {},
     "output_type": "execute_result"
    }
   ],
   "source": [
    "transactions.head()"
   ]
  },
  {
   "cell_type": "code",
   "execution_count": 12,
   "id": "70ccf4d7",
   "metadata": {},
   "outputs": [],
   "source": [
    "times = transactions[\"Transaction Time\"].values"
   ]
  },
  {
   "cell_type": "code",
   "execution_count": 17,
   "id": "2275c563",
   "metadata": {},
   "outputs": [
    {
     "data": {
      "text/plain": [
       "14.943439668312365"
      ]
     },
     "execution_count": 17,
     "metadata": {},
     "output_type": "execute_result"
    }
   ],
   "source": [
    "np.average(times)"
   ]
  },
  {
   "cell_type": "code",
   "execution_count": 13,
   "id": "5d5ddd98",
   "metadata": {},
   "outputs": [],
   "source": [
    "cost = transactions[\"Cost\"].values"
   ]
  },
  {
   "cell_type": "code",
   "execution_count": 18,
   "id": "01602ea1",
   "metadata": {},
   "outputs": [
    {
     "data": {
      "text/plain": [
       "69.56680501542706"
      ]
     },
     "execution_count": 18,
     "metadata": {},
     "output_type": "execute_result"
    }
   ],
   "source": [
    "np.average(cost)"
   ]
  },
  {
   "cell_type": "code",
   "execution_count": 25,
   "id": "4d8df225",
   "metadata": {},
   "outputs": [
    {
     "name": "stdout",
     "output_type": "stream",
     "text": [
      "Earliest Time: 0.0266151836095787\n",
      "Latest Time: 23.675374635328755\n",
      "Time Range: 23.648759451719176\n"
     ]
    }
   ],
   "source": [
    "min_time = np.min(times)\n",
    "max_time = np.max(times)\n",
    "range_time = max_time - min_time\n",
    "\n",
    "print(\"Earliest Time: \" + str(min_time))\n",
    "print(\"Latest Time: \" + str(max_time))\n",
    "print(\"Time Range: \" + str(range_time))"
   ]
  },
  {
   "cell_type": "markdown",
   "id": "19815c55",
   "metadata": {},
   "source": [
    "1.\n",
    "Use the np.histogram() function to determine the busiest six hours of the day. Save the result to times_hist\n",
    "\n",
    "Use the following range and number of bins.\n",
    "\n",
    "Range: 0 to 24\n",
    "Bins: 4\n",
    "Can you determine which six-hour period is the busiest?"
   ]
  },
  {
   "cell_type": "code",
   "execution_count": 35,
   "id": "521a8e47",
   "metadata": {},
   "outputs": [
    {
     "data": {
      "text/plain": [
       "(array([101, 231, 213, 455], dtype=int64), array([ 0.,  6., 12., 18., 24.]))"
      ]
     },
     "execution_count": 35,
     "metadata": {},
     "output_type": "execute_result"
    }
   ],
   "source": [
    "times_hist = np.histogram(a = times, bins=4, range = (0,24))\n",
    "times_hist"
   ]
  },
  {
   "cell_type": "code",
   "execution_count": 44,
   "id": "2602946f",
   "metadata": {},
   "outputs": [
    {
     "data": {
      "image/png": "[encoded data removed]",
      "text/plain": [
       "<Figure size 432x288 with 1 Axes>"
      ]
     },
     "metadata": {
      "needs_background": "light"
     },
     "output_type": "display_data"
    }
   ],
   "source": [
    "plt.hist(times, range=(0,24), bins = 24)\n",
    "plt.title(\"Weekday Frequency of Customers\")\n",
    "plt.xlabel(\"Hours (1 hour increments)\")\n",
    "plt.ylabel(\"Count\")\n",
    "plt.show()"
   ]
  },
  {
   "cell_type": "code",
   "execution_count": 43,
   "id": "d074862d",
   "metadata": {},
   "outputs": [],
   "source": [
    "#It looks like the busiest times of day are in the morning, from 5am to 10am, and in the evening from 5pm to 10pm.\n",
    "#This histogram has two distinct peaks, neither of which are close to our average of 3pm. \n",
    "#As you can see, averages don’t tell the full story. By visualizing the shape of our data, we can make better decisions."
   ]
  },
  {
   "cell_type": "code",
   "execution_count": 48,
   "id": "b6fb90da",
   "metadata": {},
   "outputs": [
    {
     "data": {
      "image/png": "[encoded data removed]",
      "text/plain": [
       "<Figure size 432x288 with 1 Axes>"
      ]
     },
     "metadata": {
      "needs_background": "light"
     },
     "output_type": "display_data"
    }
   ],
   "source": [
    "plt.hist(cost, bins = 24)\n",
    "plt.show()"
   ]
  },
  {
   "cell_type": "code",
   "execution_count": null,
   "id": "2a2b92e1",
   "metadata": {},
   "outputs": [],
   "source": []
  }
 ],
 "metadata": {
  "kernelspec": {
   "display_name": "Python 3 (ipykernel)",
   "language": "python",
   "name": "python3"
  },
  "language_info": {
   "codemirror_mode": {
    "name": "ipython",
    "version": 3
   },
   "file_extension": ".py",
   "mimetype": "text/x-python",
   "name": "python",
   "nbconvert_exporter": "python",
   "pygments_lexer": "ipython3",
   "version": "3.9.12"
  }
 },
 "nbformat": 4,
 "nbformat_minor": 5
}

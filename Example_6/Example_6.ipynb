{
 "cells": [
  {
   "cell_type": "code",
   "execution_count": 6,
   "metadata": {},
   "outputs": [],
   "source": [
    "\"\"\"\n",
    "You have decided to volunteer for your local community by offering to clean their recently collected census data. The description of this dataset is as follows:\n",
    "column:\t        description:\n",
    "first_name\t    The respondent’s first name.\n",
    "last_name\t    The respondent’s last name.\n",
    "birth_year\t    The respondent’s year of birth.\n",
    "voted\t        If the respondent participated in the current voting cycle.\n",
    "num_children\tThe number of children the respondent has.\n",
    "income_year\t    The average yearly income the respondent earns.\n",
    "higher_tax\t    The respondent’s answer to the question: “Rate your agreement with the statement: the wealthy should pay higher taxes.”\n",
    "marital_status\tThe respondent’s current marital status.\n",
    "\"\"\"\n",
    "import pandas as pd\n",
    "import numpy as np"
   ]
  },
  {
   "cell_type": "code",
   "execution_count": 2,
   "metadata": {},
   "outputs": [],
   "source": [
    "census = pd.read_csv(\"census_data.csv\", index_col=0)"
   ]
  },
  {
   "cell_type": "code",
   "execution_count": 13,
   "metadata": {},
   "outputs": [
    {
     "data": {
      "text/html": [
       "<div>\n",
       "<style scoped>\n",
       "    .dataframe tbody tr th:only-of-type {\n",
       "        vertical-align: middle;\n",
       "    }\n",
       "\n",
       "    .dataframe tbody tr th {\n",
       "        vertical-align: top;\n",
       "    }\n",
       "\n",
       "    .dataframe thead th {\n",
       "        text-align: right;\n",
       "    }\n",
       "</style>\n",
       "<table border=\"1\" class=\"dataframe\">\n",
       "  <thead>\n",
       "    <tr style=\"text-align: right;\">\n",
       "      <th></th>\n",
       "      <th>first_name</th>\n",
       "      <th>last_name</th>\n",
       "      <th>birth_year</th>\n",
       "      <th>voted</th>\n",
       "      <th>num_children</th>\n",
       "      <th>income_year</th>\n",
       "      <th>higher_tax</th>\n",
       "      <th>marital_status</th>\n",
       "    </tr>\n",
       "  </thead>\n",
       "  <tbody>\n",
       "    <tr>\n",
       "      <th>0</th>\n",
       "      <td>Denise</td>\n",
       "      <td>Ratke</td>\n",
       "      <td>2005</td>\n",
       "      <td>False</td>\n",
       "      <td>0</td>\n",
       "      <td>92129.41</td>\n",
       "      <td>disagree</td>\n",
       "      <td>single</td>\n",
       "    </tr>\n",
       "    <tr>\n",
       "      <th>1</th>\n",
       "      <td>Hali</td>\n",
       "      <td>Cummerata</td>\n",
       "      <td>1987</td>\n",
       "      <td>False</td>\n",
       "      <td>0</td>\n",
       "      <td>75649.17</td>\n",
       "      <td>neutral</td>\n",
       "      <td>divorced</td>\n",
       "    </tr>\n",
       "    <tr>\n",
       "      <th>2</th>\n",
       "      <td>Salomon</td>\n",
       "      <td>Orn</td>\n",
       "      <td>1992</td>\n",
       "      <td>True</td>\n",
       "      <td>2</td>\n",
       "      <td>166313.45</td>\n",
       "      <td>agree</td>\n",
       "      <td>single</td>\n",
       "    </tr>\n",
       "    <tr>\n",
       "      <th>3</th>\n",
       "      <td>Sarina</td>\n",
       "      <td>Schiller</td>\n",
       "      <td>1965</td>\n",
       "      <td>False</td>\n",
       "      <td>2</td>\n",
       "      <td>71704.81</td>\n",
       "      <td>strongly agree</td>\n",
       "      <td>married</td>\n",
       "    </tr>\n",
       "    <tr>\n",
       "      <th>4</th>\n",
       "      <td>Gust</td>\n",
       "      <td>Abernathy</td>\n",
       "      <td>1945</td>\n",
       "      <td>False</td>\n",
       "      <td>2</td>\n",
       "      <td>143316.08</td>\n",
       "      <td>agree</td>\n",
       "      <td>married</td>\n",
       "    </tr>\n",
       "  </tbody>\n",
       "</table>\n",
       "</div>"
      ],
      "text/plain": [
       "  first_name  last_name birth_year  voted  num_children  income_year  \\\n",
       "0     Denise      Ratke       2005  False             0     92129.41   \n",
       "1       Hali  Cummerata       1987  False             0     75649.17   \n",
       "2    Salomon        Orn       1992   True             2    166313.45   \n",
       "3     Sarina   Schiller       1965  False             2     71704.81   \n",
       "4       Gust  Abernathy       1945  False             2    143316.08   \n",
       "\n",
       "       higher_tax marital_status  \n",
       "0        disagree         single  \n",
       "1         neutral       divorced  \n",
       "2           agree         single  \n",
       "3  strongly agree        married  \n",
       "4           agree        married  "
      ]
     },
     "execution_count": 13,
     "metadata": {},
     "output_type": "execute_result"
    }
   ],
   "source": [
    "\"\"\"\n",
    "1. The census dataframe is composed of simulated census data to represent demographics of a small community in the U.S. Call the .head() method on the census dataframe and print the output to view the first five rows.\n",
    "\"\"\"\n",
    "census.head()"
   ]
  },
  {
   "cell_type": "code",
   "execution_count": 8,
   "metadata": {},
   "outputs": [
    {
     "data": {
      "text/plain": [
       "first_name         object\n",
       "last_name          object\n",
       "birth_year         object\n",
       "voted                bool\n",
       "num_children        int64\n",
       "income_year       float64\n",
       "higher_tax         object\n",
       "marital_status     object\n",
       "dtype: object"
      ]
     },
     "execution_count": 8,
     "metadata": {},
     "output_type": "execute_result"
    }
   ],
   "source": [
    "\"\"\"\n",
    "2. Compare the values returned from the .head() method with the data types of each variable by calling .dtypes on the census dataframe and print the result.\n",
    "\"\"\"\n",
    "census.dtypes"
   ]
  },
  {
   "cell_type": "code",
   "execution_count": 18,
   "metadata": {},
   "outputs": [
    {
     "data": {
      "text/plain": [
       "array(['2005', '1987', '1992', '1965', '1945', '1951', '1963', '1949',\n",
       "       '1950', '1971', '2007', '1944', '1995', '1973', '1946', '1954',\n",
       "       '1994', '1989', '1947', '1993', '1976', '1984', 'missing', '1966',\n",
       "       '1941', '2000', '1953', '1956', '1960', '2001', '1980', '1955',\n",
       "       '1985', '1996', '1968', '1979', '2006', '1962', '1981', '1959',\n",
       "       '1977', '1978', '1983', '1957', '1961', '1982', '2002', '1998',\n",
       "       '1999', '1952', '1940', '1986', '1958'], dtype=object)"
      ]
     },
     "execution_count": 18,
     "metadata": {},
     "output_type": "execute_result"
    }
   ],
   "source": [
    "\"\"\"\n",
    "\n",
    "3. The manager of the census would like to know the average birth year of the respondents. We were able to see from .dtypes that birth_year has been assigned the str datatype whereas it should be expressed in int.\n",
    "\n",
    "Print the unique values of the variable using the .unique() method.\n",
    "\"\"\"\n",
    "census.birth_year.unique()"
   ]
  },
  {
   "cell_type": "code",
   "execution_count": 23,
   "metadata": {},
   "outputs": [
    {
     "data": {
      "text/plain": [
       "array(['2005', '1987', '1992', '1965', '1945', '1951', '1963', '1949',\n",
       "       '1950', '1971', '2007', '1944', '1995', '1973', '1946', '1954',\n",
       "       '1994', '1989', '1947', '1993', '1976', '1984', 1967, '1966',\n",
       "       '1941', '2000', '1953', '1956', '1960', '2001', '1980', '1955',\n",
       "       '1985', '1996', '1968', '1979', '2006', '1962', '1981', '1959',\n",
       "       '1977', '1978', '1983', '1957', '1961', '1982', '2002', '1998',\n",
       "       '1999', '1952', '1940', '1986', '1958'], dtype=object)"
      ]
     },
     "execution_count": 23,
     "metadata": {},
     "output_type": "execute_result"
    }
   ],
   "source": [
    "\"\"\"\n",
    "4. There appears to be a missing value in the birth_year column. With some research you find that the respondent’s birth year is 1967.\n",
    "\n",
    "Use the .replace() method to replace the missing value with 1967, so that the data type can be changed to int. Then recheck the values in birth_year by calling the .unique() method and printing the results.\n",
    "\"\"\"\n",
    "census.birth_year.replace(\"missing\", 1967, inplace=True)\n",
    "census.birth_year.unique()"
   ]
  },
  {
   "cell_type": "code",
   "execution_count": 25,
   "metadata": {},
   "outputs": [
    {
     "data": {
      "text/plain": [
       "first_name         object\n",
       "last_name          object\n",
       "birth_year          int32\n",
       "voted                bool\n",
       "num_children        int64\n",
       "income_year       float64\n",
       "higher_tax         object\n",
       "marital_status     object\n",
       "dtype: object"
      ]
     },
     "execution_count": 25,
     "metadata": {},
     "output_type": "execute_result"
    }
   ],
   "source": [
    "\"\"\"\n",
    "5. Now that we have adjusted the values in the birth_year variable, change the datatype from str to int and print the datatypes of the census dataframe with .dtypes.\n",
    "\"\"\"\n",
    "census[\"birth_year\"] = census.birth_year.astype(\"int\")\n",
    "census.dtypes"
   ]
  },
  {
   "cell_type": "code",
   "execution_count": 26,
   "metadata": {},
   "outputs": [
    {
     "data": {
      "text/plain": [
       "1973.4"
      ]
     },
     "execution_count": 26,
     "metadata": {},
     "output_type": "execute_result"
    }
   ],
   "source": [
    "\"\"\"\n",
    "6. Having assigned birth_year to the appropriate data type, print the average birth year of the respondents to the census using the pandas .mean() method.\n",
    "\"\"\"\n",
    "census.birth_year.mean()\n"
   ]
  },
  {
   "cell_type": "code",
   "execution_count": null,
   "metadata": {},
   "outputs": [],
   "source": []
  },
  {
   "cell_type": "code",
   "execution_count": null,
   "metadata": {},
   "outputs": [],
   "source": []
  },
  {
   "cell_type": "code",
   "execution_count": null,
   "metadata": {},
   "outputs": [],
   "source": []
  }
 ],
 "metadata": {
  "interpreter": {
   "hash": "33bea494317c8c22a4760028ceed23349c4667bf8f6d1305a13b8d31b6e7f27d"
  },
  "kernelspec": {
   "display_name": "Python 3.9.7 ('base')",
   "language": "python",
   "name": "python3"
  },
  "language_info": {
   "codemirror_mode": {
    "name": "ipython",
    "version": 3
   },
   "file_extension": ".py",
   "mimetype": "text/x-python",
   "name": "python",
   "nbconvert_exporter": "python",
   "pygments_lexer": "ipython3",
   "version": "3.9.7"
  },
  "orig_nbformat": 4
 },
 "nbformat": 4,
 "nbformat_minor": 2
}

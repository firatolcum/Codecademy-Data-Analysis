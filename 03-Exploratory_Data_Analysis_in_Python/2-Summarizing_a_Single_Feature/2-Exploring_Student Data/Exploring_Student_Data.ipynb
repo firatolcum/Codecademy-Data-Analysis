{
 "cells": [
  {
   "cell_type": "markdown",
   "id": "bbdd4c9d",
   "metadata": {},
   "source": [
    "## <center>Exploring Student Data\n",
    "Imagine that you work for a school district and have collected some data on local students and their parents. You’ve been tasked with answering some important questions:\n",
    "\n",
    "- How are students performing in their math classes?\n",
    "- What do students’ parents do for work?\n",
    "- How often are students absent from school?\n",
    "\n",
    "In this project, you’ll explore and summarize some student data in order to answer these questions."
   ]
  },
  {
   "cell_type": "markdown",
   "id": "fcfaccce",
   "metadata": {},
   "source": [
    "## About Data\n",
    "\n",
    "The provided data (students.csv) includes the following variables/features:\n",
    "\n",
    "- **address:** the location of the student’s home ('U' for urban and 'R' for rural)\n",
    "- **absences:** the number of times the student was absent during the school year\n",
    "- **Mjob:** the student’s mother’s job industry\n",
    "- **Fjob:** the student’s father’s job industry\n",
    "- **math_grade:** the student’s final grade in math, ranging from 0 to 20"
   ]
  },
  {
   "cell_type": "code",
   "execution_count": 2,
   "id": "e698cf00",
   "metadata": {},
   "outputs": [],
   "source": [
    "import pandas as pd\n",
    "import numpy as np\n",
    "import matplotlib.pyplot as plt\n",
    "import seaborn as sns\n",
    "from scipy.stats import iqr"
   ]
  },
  {
   "cell_type": "markdown",
   "id": "2b5f211c",
   "metadata": {},
   "source": [
    "##### Exercise 1\n",
    "Load the data and inspect the first few rows of data."
   ]
  },
  {
   "cell_type": "code",
   "execution_count": 3,
   "id": "b8746b8e",
   "metadata": {},
   "outputs": [
    {
     "data": {
      "text/html": [
       "<div>\n",
       "<style scoped>\n",
       "    .dataframe tbody tr th:only-of-type {\n",
       "        vertical-align: middle;\n",
       "    }\n",
       "\n",
       "    .dataframe tbody tr th {\n",
       "        vertical-align: top;\n",
       "    }\n",
       "\n",
       "    .dataframe thead th {\n",
       "        text-align: right;\n",
       "    }\n",
       "</style>\n",
       "<table border=\"1\" class=\"dataframe\">\n",
       "  <thead>\n",
       "    <tr style=\"text-align: right;\">\n",
       "      <th></th>\n",
       "      <th>address</th>\n",
       "      <th>absences</th>\n",
       "      <th>Mjob</th>\n",
       "      <th>Fjob</th>\n",
       "      <th>math_grade</th>\n",
       "    </tr>\n",
       "  </thead>\n",
       "  <tbody>\n",
       "    <tr>\n",
       "      <th>0</th>\n",
       "      <td>U</td>\n",
       "      <td>6</td>\n",
       "      <td>at_home</td>\n",
       "      <td>teacher</td>\n",
       "      <td>6</td>\n",
       "    </tr>\n",
       "    <tr>\n",
       "      <th>1</th>\n",
       "      <td>U</td>\n",
       "      <td>4</td>\n",
       "      <td>at_home</td>\n",
       "      <td>other</td>\n",
       "      <td>6</td>\n",
       "    </tr>\n",
       "    <tr>\n",
       "      <th>2</th>\n",
       "      <td>U</td>\n",
       "      <td>10</td>\n",
       "      <td>at_home</td>\n",
       "      <td>other</td>\n",
       "      <td>10</td>\n",
       "    </tr>\n",
       "    <tr>\n",
       "      <th>3</th>\n",
       "      <td>U</td>\n",
       "      <td>2</td>\n",
       "      <td>health</td>\n",
       "      <td>services</td>\n",
       "      <td>15</td>\n",
       "    </tr>\n",
       "    <tr>\n",
       "      <th>4</th>\n",
       "      <td>U</td>\n",
       "      <td>4</td>\n",
       "      <td>other</td>\n",
       "      <td>other</td>\n",
       "      <td>10</td>\n",
       "    </tr>\n",
       "  </tbody>\n",
       "</table>\n",
       "</div>"
      ],
      "text/plain": [
       "  address  absences     Mjob      Fjob  math_grade\n",
       "0       U         6  at_home   teacher           6\n",
       "1       U         4  at_home     other           6\n",
       "2       U        10  at_home     other          10\n",
       "3       U         2   health  services          15\n",
       "4       U         4    other     other          10"
      ]
     },
     "execution_count": 3,
     "metadata": {},
     "output_type": "execute_result"
    }
   ],
   "source": [
    "students = pd.read_csv(\"students.csv\")\n",
    "students.head()"
   ]
  },
  {
   "cell_type": "markdown",
   "id": "a1358562",
   "metadata": {},
   "source": [
    "##### Exercise 2\n",
    "Use the pandas ``.describe()`` method to print out summary statistics for all five features in the dataset. <br>\n",
    "Inspect the output. Do more students live in urban or rural locations?"
   ]
  },
  {
   "cell_type": "code",
   "execution_count": 5,
   "id": "67cb9627",
   "metadata": {},
   "outputs": [
    {
     "data": {
      "text/html": [
       "<div>\n",
       "<style scoped>\n",
       "    .dataframe tbody tr th:only-of-type {\n",
       "        vertical-align: middle;\n",
       "    }\n",
       "\n",
       "    .dataframe tbody tr th {\n",
       "        vertical-align: top;\n",
       "    }\n",
       "\n",
       "    .dataframe thead th {\n",
       "        text-align: right;\n",
       "    }\n",
       "</style>\n",
       "<table border=\"1\" class=\"dataframe\">\n",
       "  <thead>\n",
       "    <tr style=\"text-align: right;\">\n",
       "      <th></th>\n",
       "      <th>count</th>\n",
       "      <th>unique</th>\n",
       "      <th>top</th>\n",
       "      <th>freq</th>\n",
       "      <th>mean</th>\n",
       "      <th>std</th>\n",
       "      <th>min</th>\n",
       "      <th>25%</th>\n",
       "      <th>50%</th>\n",
       "      <th>75%</th>\n",
       "      <th>max</th>\n",
       "    </tr>\n",
       "  </thead>\n",
       "  <tbody>\n",
       "    <tr>\n",
       "      <th>address</th>\n",
       "      <td>395</td>\n",
       "      <td>2</td>\n",
       "      <td>U</td>\n",
       "      <td>307</td>\n",
       "      <td>NaN</td>\n",
       "      <td>NaN</td>\n",
       "      <td>NaN</td>\n",
       "      <td>NaN</td>\n",
       "      <td>NaN</td>\n",
       "      <td>NaN</td>\n",
       "      <td>NaN</td>\n",
       "    </tr>\n",
       "    <tr>\n",
       "      <th>absences</th>\n",
       "      <td>395.0</td>\n",
       "      <td>NaN</td>\n",
       "      <td>NaN</td>\n",
       "      <td>NaN</td>\n",
       "      <td>5.708861</td>\n",
       "      <td>8.003096</td>\n",
       "      <td>0.0</td>\n",
       "      <td>0.0</td>\n",
       "      <td>4.0</td>\n",
       "      <td>8.0</td>\n",
       "      <td>75.0</td>\n",
       "    </tr>\n",
       "    <tr>\n",
       "      <th>Mjob</th>\n",
       "      <td>395</td>\n",
       "      <td>5</td>\n",
       "      <td>other</td>\n",
       "      <td>141</td>\n",
       "      <td>NaN</td>\n",
       "      <td>NaN</td>\n",
       "      <td>NaN</td>\n",
       "      <td>NaN</td>\n",
       "      <td>NaN</td>\n",
       "      <td>NaN</td>\n",
       "      <td>NaN</td>\n",
       "    </tr>\n",
       "    <tr>\n",
       "      <th>Fjob</th>\n",
       "      <td>395</td>\n",
       "      <td>5</td>\n",
       "      <td>other</td>\n",
       "      <td>217</td>\n",
       "      <td>NaN</td>\n",
       "      <td>NaN</td>\n",
       "      <td>NaN</td>\n",
       "      <td>NaN</td>\n",
       "      <td>NaN</td>\n",
       "      <td>NaN</td>\n",
       "      <td>NaN</td>\n",
       "    </tr>\n",
       "    <tr>\n",
       "      <th>math_grade</th>\n",
       "      <td>395.0</td>\n",
       "      <td>NaN</td>\n",
       "      <td>NaN</td>\n",
       "      <td>NaN</td>\n",
       "      <td>10.41519</td>\n",
       "      <td>4.581443</td>\n",
       "      <td>0.0</td>\n",
       "      <td>8.0</td>\n",
       "      <td>11.0</td>\n",
       "      <td>14.0</td>\n",
       "      <td>20.0</td>\n",
       "    </tr>\n",
       "  </tbody>\n",
       "</table>\n",
       "</div>"
      ],
      "text/plain": [
       "            count unique    top freq      mean       std  min  25%   50%  \\\n",
       "address       395      2      U  307       NaN       NaN  NaN  NaN   NaN   \n",
       "absences    395.0    NaN    NaN  NaN  5.708861  8.003096  0.0  0.0   4.0   \n",
       "Mjob          395      5  other  141       NaN       NaN  NaN  NaN   NaN   \n",
       "Fjob          395      5  other  217       NaN       NaN  NaN  NaN   NaN   \n",
       "math_grade  395.0    NaN    NaN  NaN  10.41519  4.581443  0.0  8.0  11.0   \n",
       "\n",
       "             75%   max  \n",
       "address      NaN   NaN  \n",
       "absences     8.0  75.0  \n",
       "Mjob         NaN   NaN  \n",
       "Fjob         NaN   NaN  \n",
       "math_grade  14.0  20.0  "
      ]
     },
     "execution_count": 5,
     "metadata": {},
     "output_type": "execute_result"
    }
   ],
   "source": [
    "students.describe(include=\"all\").T"
   ]
  },
  {
   "cell_type": "markdown",
   "id": "9fcd2b5c",
   "metadata": {},
   "source": [
    "##### Exercise 3\n",
    "Let's start by trying to summarize the `math_grade` column. Calculate and print the mean value of ``math_grade``."
   ]
  },
  {
   "cell_type": "code",
   "execution_count": 12,
   "id": "f6e0d456",
   "metadata": {},
   "outputs": [
    {
     "name": "stdout",
     "output_type": "stream",
     "text": [
      "The average math grade is 10.42.\n"
     ]
    }
   ],
   "source": [
    "avg_math_grade = round(students[\"math_grade\"].mean(), 2)\n",
    "print(f\"The average math grade is {avg_math_grade}.\")"
   ]
  },
  {
   "cell_type": "markdown",
   "id": "dfbb1b43",
   "metadata": {},
   "source": [
    "##### Exercise 4\n",
    "Calculate and print the median value of `math_grade`. Compare this value to the mean. Is it smaller? larger?"
   ]
  },
  {
   "cell_type": "code",
   "execution_count": 14,
   "id": "6cd8a6dd",
   "metadata": {},
   "outputs": [
    {
     "name": "stdout",
     "output_type": "stream",
     "text": [
      "The median math grade is 11.0.\n"
     ]
    }
   ],
   "source": [
    "median_math_grade = students[\"math_grade\"].median()\n",
    "print(f\"The median math grade is {median_math_grade}.\")"
   ]
  },
  {
   "cell_type": "code",
   "execution_count": 15,
   "id": "003e7554",
   "metadata": {},
   "outputs": [
    {
     "name": "stdout",
     "output_type": "stream",
     "text": [
      "Median math grade is larger than average math grade.\n"
     ]
    }
   ],
   "source": [
    "if avg_math_grade > median_math_grade:\n",
    "    print(\"Average math grade is larger than median math grade.\")\n",
    "else:\n",
    "    print(\"Median math grade is larger than average math grade.\")"
   ]
  },
  {
   "cell_type": "markdown",
   "id": "c2259322",
   "metadata": {},
   "source": [
    "##### Exercise 5\n",
    "Calculate and print the mode of the `math_grade` column. What is the most common grade earned by students in this dataset? \n",
    "<br>How different is this number from the mean and median?"
   ]
  },
  {
   "cell_type": "code",
   "execution_count": 29,
   "id": "943ef666",
   "metadata": {},
   "outputs": [
    {
     "name": "stdout",
     "output_type": "stream",
     "text": [
      "The most common grade earned by students is 10.\n",
      "The mode is smaller than median and average.\n"
     ]
    }
   ],
   "source": [
    "mode_math_grade = students[\"math_grade\"].mode().values[0]\n",
    "\n",
    "print(f\"The most common grade earned by students is {mode_math_grade}.\")\n",
    "\n",
    "if mode_math_grade > median_math_grade and mode_math_grade > avg_math_grade:\n",
    "    print(\"The mode is larger than median and average.\")\n",
    "elif mode_math_grade > median_math_grade and mode_math_grade < median_math_grade:\n",
    "    print(\"The mode is larger than median but smaller than median.\")\n",
    "elif mode_math_grade < median_math_grade and mode_math_grade < avg_math_grade:\n",
    "    print(\"The mode is smaller than median and average.\")\n",
    "elif mode_math_grade < median_math_grade and mode_math_grade > avg_math_grade:\n",
    "    print(\"The mode is smaller than median but larger than average.\")"
   ]
  },
  {
   "cell_type": "markdown",
   "id": "8785c17f",
   "metadata": {},
   "source": [
    "##### Exercise 6\n",
    "Summarize the spread of student grades. Calculate and print the range of the `math_grade` column."
   ]
  },
  {
   "cell_type": "code",
   "execution_count": 32,
   "id": "cb0efaed",
   "metadata": {},
   "outputs": [
    {
     "name": "stdout",
     "output_type": "stream",
     "text": [
      "The range of the math grade is 20.\n"
     ]
    }
   ],
   "source": [
    "range_math_grade = students[\"math_grade\"].max() - students[\"math_grade\"].min()\n",
    "print(f\"The range of the math grade is {range_math_grade}.\")"
   ]
  },
  {
   "cell_type": "markdown",
   "id": "bc2ad808",
   "metadata": {},
   "source": [
    "##### Exercise 7\n",
    "Calculate and print the standard deviation of the `math_grade` column.<br>\n",
    "What does this number tell you about how much math grades vary?"
   ]
  },
  {
   "cell_type": "code",
   "execution_count": 33,
   "id": "5033339f",
   "metadata": {},
   "outputs": [
    {
     "data": {
      "text/plain": [
       "4.5814426109978434"
      ]
     },
     "execution_count": 33,
     "metadata": {},
     "output_type": "execute_result"
    }
   ],
   "source": [
    "std_math_grade = students[\"math_grade\"].std()\n",
    "std_math_grade"
   ]
  },
  {
   "cell_type": "code",
   "execution_count": 39,
   "id": "2bf36cee",
   "metadata": {},
   "outputs": [
    {
     "name": "stdout",
     "output_type": "stream",
     "text": [
      "About two thirds of students are earning a grade between 5.84 and 15.0.\n"
     ]
    }
   ],
   "source": [
    "print(f\"About two thirds of students are earning a grade between \\\n",
    "{round(avg_math_grade - std_math_grade, 2)} and {round(avg_math_grade + std_math_grade, 2)}.\")"
   ]
  },
  {
   "cell_type": "markdown",
   "id": "1f975f8a",
   "metadata": {},
   "source": [
    "##### Exercise 8\n",
    "Calculate the mean absolute deviation of the `math_grade` column. This is the mean difference between each students’s score and the average score."
   ]
  },
  {
   "cell_type": "code",
   "execution_count": 43,
   "id": "34191a05",
   "metadata": {},
   "outputs": [
    {
     "name": "stdout",
     "output_type": "stream",
     "text": [
      "The mean difference between each student's score and average score is 3.43.\n"
     ]
    }
   ],
   "source": [
    "mad_math_grade = round(students[\"math_grade\"].mad(), 2)\n",
    "print(f\"The mean difference between each student's score and average score is {mad_math_grade}.\")"
   ]
  },
  {
   "cell_type": "markdown",
   "id": "7edd8814",
   "metadata": {},
   "source": [
    "##### Exercise 9\n",
    "Use the seaborn ``histplot()`` function to create a histogram of `math_grade`."
   ]
  },
  {
   "cell_type": "code",
   "execution_count": 45,
   "id": "6cc585fe",
   "metadata": {},
   "outputs": [
    {
     "data": {
      "image/png": "[encoded data removed]",
      "text/plain": [
       "<Figure size 432x288 with 1 Axes>"
      ]
     },
     "metadata": {
      "needs_background": "light"
     },
     "output_type": "display_data"
    },
    {
     "data": {
      "text/plain": [
       "<Figure size 432x288 with 0 Axes>"
      ]
     },
     "metadata": {},
     "output_type": "display_data"
    }
   ],
   "source": [
    "sns.histplot(data=students, x=\"math_grade\")\n",
    "plt.show()\n",
    "plt.clf()"
   ]
  },
  {
   "cell_type": "markdown",
   "id": "1b415abf",
   "metadata": {},
   "source": [
    "##### Exercise 10\n",
    "Another way to visualize the distribution of a quantitative variable is using a box plot.<br>\n",
    "Use the seaborn ``boxplot()`` function to create a boxplot of ``math_grade``."
   ]
  },
  {
   "cell_type": "code",
   "execution_count": 47,
   "id": "4fe8b2f3",
   "metadata": {},
   "outputs": [
    {
     "data": {
      "image/png": "[encoded data removed]",
      "text/plain": [
       "<Figure size 432x288 with 1 Axes>"
      ]
     },
     "metadata": {
      "needs_background": "light"
     },
     "output_type": "display_data"
    },
    {
     "data": {
      "text/plain": [
       "<Figure size 432x288 with 0 Axes>"
      ]
     },
     "metadata": {},
     "output_type": "display_data"
    }
   ],
   "source": [
    "sns.boxplot(data=students, x=\"math_grade\")\n",
    "plt.show()\n",
    "plt.clf()"
   ]
  },
  {
   "cell_type": "markdown",
   "id": "12e7431a",
   "metadata": {},
   "source": [
    "##### Exercise 11\n",
    "\n",
    "The `Mjob` column in the dataset contains information about what the students mothers do as a profession.<br>\n",
    "Summarize the `Mjob` column by printing the number of students who have mothers with each job type.<br>\n",
    "Which value of Mjob is most common?"
   ]
  },
  {
   "cell_type": "code",
   "execution_count": 60,
   "id": "bee34088",
   "metadata": {
    "scrolled": false
   },
   "outputs": [
    {
     "data": {
      "text/plain": [
       "other       141\n",
       "services    103\n",
       "at_home      59\n",
       "teacher      58\n",
       "health       34\n",
       "Name: Mjob, dtype: int64"
      ]
     },
     "execution_count": 60,
     "metadata": {},
     "output_type": "execute_result"
    }
   ],
   "source": [
    "students[\"Mjob\"].value_counts()"
   ]
  },
  {
   "cell_type": "code",
   "execution_count": 82,
   "id": "e86c88f4",
   "metadata": {},
   "outputs": [
    {
     "name": "stdout",
     "output_type": "stream",
     "text": [
      "The most common job is other and 141 of mothers do this job.\n"
     ]
    }
   ],
   "source": [
    "print(\"The most common job is other and 141 of mothers do this job.\")"
   ]
  },
  {
   "cell_type": "markdown",
   "id": "21501f45",
   "metadata": {},
   "source": [
    "##### Exercise 12\n",
    "Calculate and print the proportion of students who have mothers with each job type.<br>\n",
    "What proportion of students have mothers who work in `health`?"
   ]
  },
  {
   "cell_type": "code",
   "execution_count": 131,
   "id": "53798227",
   "metadata": {},
   "outputs": [
    {
     "data": {
      "text/plain": [
       "other       0.356962\n",
       "services    0.260759\n",
       "at_home     0.149367\n",
       "teacher     0.146835\n",
       "health      0.086076\n",
       "Name: Mjob, dtype: float64"
      ]
     },
     "execution_count": 131,
     "metadata": {},
     "output_type": "execute_result"
    }
   ],
   "source": [
    "students[\"Mjob\"].value_counts(normalize=True)"
   ]
  },
  {
   "cell_type": "code",
   "execution_count": 116,
   "id": "e6a6a42e",
   "metadata": {
    "scrolled": true
   },
   "outputs": [],
   "source": [
    "health = pd.DataFrame(students[\"Mjob\"].value_counts(normalize=True))\\\n",
    ".reset_index().rename(columns ={\"index\": \"Mjob\", \"Mjob\": \"Percentage\"})[4:]"
   ]
  },
  {
   "cell_type": "code",
   "execution_count": 129,
   "id": "3553dc01",
   "metadata": {},
   "outputs": [],
   "source": [
    "perc = str(round((health[\"Percentage\"]* 100).values[0], 2))"
   ]
  },
  {
   "cell_type": "code",
   "execution_count": 132,
   "id": "76ff9567",
   "metadata": {},
   "outputs": [
    {
     "name": "stdout",
     "output_type": "stream",
     "text": [
      "8.61% of students have mothers who work in health.\n"
     ]
    }
   ],
   "source": [
    "print(f\"{perc}% of students have mothers who work in health.\")"
   ]
  },
  {
   "cell_type": "markdown",
   "id": "73567ec6",
   "metadata": {},
   "source": [
    "##### Exercise 13\n",
    "Now that we’ve used summary statistics to understand the relative frequencies of different mothers’ jobs, let’s visualize the same information with a bar chart. <br>\n",
    "Use the seaborn ``countplot()`` function to create a bar chart of the ``Mjob`` variable."
   ]
  },
  {
   "cell_type": "code",
   "execution_count": 140,
   "id": "1602d5bb",
   "metadata": {},
   "outputs": [
    {
     "data": {
      "image/png": "[encoded data removed]",
      "text/plain": [
       "<Figure size 432x288 with 1 Axes>"
      ]
     },
     "metadata": {
      "needs_background": "light"
     },
     "output_type": "display_data"
    },
    {
     "data": {
      "text/plain": [
       "<Figure size 432x288 with 0 Axes>"
      ]
     },
     "metadata": {},
     "output_type": "display_data"
    }
   ],
   "source": [
    "ax = sns.countplot(data=students, x=\"Mjob\")\n",
    "\n",
    "for container in ax.containers:\n",
    "    ax.bar_label(container, fontsize=10)\n",
    "\n",
    "plt.show()\n",
    "plt.clf()"
   ]
  },
  {
   "cell_type": "markdown",
   "id": "a6313f8d",
   "metadata": {},
   "source": [
    "##### Exercise 14\n",
    "We can also visualize the same information using a pie chart. Create a pie chart of the `Mjob` column."
   ]
  },
  {
   "cell_type": "code",
   "execution_count": 145,
   "id": "333cf60b",
   "metadata": {},
   "outputs": [
    {
     "data": {
      "text/plain": [
       "Index(['other', 'services', 'at_home', 'teacher', 'health'], dtype='object')"
      ]
     },
     "execution_count": 145,
     "metadata": {},
     "output_type": "execute_result"
    }
   ],
   "source": [
    "students[\"Mjob\"].value_counts().index"
   ]
  },
  {
   "cell_type": "code",
   "execution_count": 141,
   "id": "d8e5231e",
   "metadata": {
    "scrolled": true
   },
   "outputs": [
    {
     "data": {
      "text/plain": [
       "other       141\n",
       "services    103\n",
       "at_home      59\n",
       "teacher      58\n",
       "health       34\n",
       "Name: Mjob, dtype: int64"
      ]
     },
     "execution_count": 141,
     "metadata": {},
     "output_type": "execute_result"
    }
   ],
   "source": [
    "students[\"Mjob\"].value_counts()"
   ]
  },
  {
   "cell_type": "code",
   "execution_count": 152,
   "id": "67509b8c",
   "metadata": {},
   "outputs": [
    {
     "data": {
      "image/png": "[encoded data removed]",
      "text/plain": [
       "<Figure size 432x432 with 1 Axes>"
      ]
     },
     "metadata": {},
     "output_type": "display_data"
    },
    {
     "data": {
      "text/plain": [
       "<Figure size 432x288 with 0 Axes>"
      ]
     },
     "metadata": {},
     "output_type": "display_data"
    }
   ],
   "source": [
    "plt.figure(figsize=(6, 6))\n",
    "plt.pie(x=students[\"Mjob\"].value_counts(), labels=students[\"Mjob\"].value_counts().index, autopct=\"%.2f%%\")\n",
    "plt.title(\"The Percent Representation of Mother's Jobs\")\n",
    "\n",
    "plt.show()\n",
    "plt.clf()"
   ]
  }
 ],
 "metadata": {
  "kernelspec": {
   "display_name": "Python 3 (ipykernel)",
   "language": "python",
   "name": "python3"
  },
  "language_info": {
   "codemirror_mode": {
    "name": "ipython",
    "version": 3
   },
   "file_extension": ".py",
   "mimetype": "text/x-python",
   "name": "python",
   "nbconvert_exporter": "python",
   "pygments_lexer": "ipython3",
   "version": "3.9.12"
  }
 },
 "nbformat": 4,
 "nbformat_minor": 5
}

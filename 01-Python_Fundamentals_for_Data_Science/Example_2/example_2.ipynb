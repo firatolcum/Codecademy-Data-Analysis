{
 "cells": [
  {
   "cell_type": "code",
   "execution_count": 2,
   "metadata": {},
   "outputs": [],
   "source": [
    "import pandas as pd\n",
    "import matplotlib.pyplot as plt\n",
    "import seaborn as sns\n"
   ]
  },
  {
   "cell_type": "code",
   "execution_count": 3,
   "metadata": {},
   "outputs": [],
   "source": [
    "# Import the CSV files and create the DataFrames:\n",
    "user_data = pd.read_csv(\"user_data.csv\")\n",
    "pop_data = pd.read_csv(\"pop_data.csv\")"
   ]
  },
  {
   "cell_type": "code",
   "execution_count": 7,
   "metadata": {},
   "outputs": [
    {
     "name": "stdout",
     "output_type": "stream",
     "text": [
      "           city        education  age\n",
      "0  Brooklyn, NY          college   31\n",
      "1  Brooklyn, NY  graduate degree   31\n",
      "2  Brooklyn, NY  graduate degree   32\n",
      "3  Brooklyn, NY          college   37\n",
      "4  Brooklyn, NY          college   21\n",
      "                 city  population_proper\n",
      "0   Prairie Ridge, WA                NaN\n",
      "1          Edison, WA                NaN\n",
      "2        Packwood, WA                NaN\n",
      "3  Wautauga Beach, WA                NaN\n",
      "4          Harper, WA                NaN\n"
     ]
    }
   ],
   "source": [
    "# See part of DataFrames:\n",
    "print(user_data.head())\n",
    "print(pop_data.head())"
   ]
  },
  {
   "cell_type": "code",
   "execution_count": 8,
   "metadata": {},
   "outputs": [
    {
     "name": "stdout",
     "output_type": "stream",
     "text": [
      "           city        education  age  population_proper\n",
      "0  Brooklyn, NY          college   31          2629150.0\n",
      "1  Brooklyn, NY  graduate degree   31          2629150.0\n",
      "2  Brooklyn, NY  graduate degree   32          2629150.0\n",
      "3  Brooklyn, NY          college   37          2629150.0\n",
      "4  Brooklyn, NY          college   21          2629150.0\n"
     ]
    }
   ],
   "source": [
    "# Merge user_date and pop_data\n",
    "new_df = pd.merge(user_data, pop_data)\n",
    "# See part of new_df:\n",
    "print(new_df.head())"
   ]
  },
  {
   "cell_type": "code",
   "execution_count": 20,
   "metadata": {},
   "outputs": [],
   "source": [
    "\"\"\"\n",
    "we can use the new DataFrame (saved in the variable new_df) to determine whether someone lives in an “urban” or “rural” location and then add that classification to a new column, named location.\n",
    "\n",
    "We can determine the location category by comparing the size of the population to a definition of size for an urban population. If an urban population is classified as having a population of 100,000 or more people, then any city with a population above that will be labeled “urban” and anyone below that will be labeled “rural”.\n",
    "\"\"\"\n",
    "new_df.loc[new_df.population_proper < 100000, \"location\"] = \"rural\"\n",
    "new_df.loc[new_df.population_proper >= 100000, \"location\"] = \"urban\""
   ]
  },
  {
   "cell_type": "code",
   "execution_count": 21,
   "metadata": {},
   "outputs": [
    {
     "name": "stdout",
     "output_type": "stream",
     "text": [
      "           city        education  age  population_proper location\n",
      "0  Brooklyn, NY          college   31          2629150.0    urban\n",
      "1  Brooklyn, NY  graduate degree   31          2629150.0    urban\n",
      "2  Brooklyn, NY  graduate degree   32          2629150.0    urban\n",
      "3  Brooklyn, NY          college   37          2629150.0    urban\n",
      "4  Brooklyn, NY          college   21          2629150.0    urban\n"
     ]
    }
   ],
   "source": [
    "#inspect the new_df\n",
    "print(new_df.head())"
   ]
  },
  {
   "cell_type": "code",
   "execution_count": 36,
   "metadata": {},
   "outputs": [
    {
     "name": "stdout",
     "output_type": "stream",
     "text": [
      "This histogram shows the relative amounts of Date-an-Analysts users with each age. The ages range from 21 years old to 45 years olds centered at around 32 years old. The distribution is also approximately normal.\n"
     ]
    },
    {
     "data": {
      "image/png": "[encoded data removed]",
      "text/plain": [
       "<Figure size 360x360 with 1 Axes>"
      ]
     },
     "metadata": {
      "needs_background": "light"
     },
     "output_type": "display_data"
    }
   ],
   "source": [
    "# use a histogram to visualize the distribution of all of the ages in our dataset\n",
    "age = new_df[\"age\"]\n",
    "sns.displot(age, color=\"green\")\n",
    "plt.title(\"Ages of Date-an-Analyst Users\")\n",
    "print(\"This histogram shows the relative amounts of Date-an-Analysts users with each age. The ages range from 21 years old to 45 years olds centered at around 32 years old. The distribution is also approximately normal.\")\n",
    "plt.show()"
   ]
  },
  {
   "cell_type": "code",
   "execution_count": 25,
   "metadata": {},
   "outputs": [
    {
     "name": "stdout",
     "output_type": "stream",
     "text": [
      "location\n",
      "rural    31.142857\n",
      "urban    29.609195\n",
      "Name: age, dtype: float64\n"
     ]
    }
   ],
   "source": [
    "# let’s see if there is a relationship between a user’s age and their location.\n",
    "location_mean_age = new_df.groupby(\"location\").age.mean()\n",
    "print(location_mean_age)"
   ]
  },
  {
   "cell_type": "code",
   "execution_count": 37,
   "metadata": {},
   "outputs": [
    {
     "name": "stdout",
     "output_type": "stream",
     "text": [
      "Users in rural locations tend to be older. The average rural age is about 31.1, while the average urban age is about 29.6.\n"
     ]
    },
    {
     "data": {
      "image/png": "[encoded data removed]",
      "text/plain": [
       "<Figure size 432x288 with 1 Axes>"
      ]
     },
     "metadata": {
      "needs_background": "light"
     },
     "output_type": "display_data"
    }
   ],
   "source": [
    "# visualize the means using a barplot:\n",
    "plt.close()\n",
    "sns.barplot(data=new_df, x=\"location\", y=\"age\", palette=\"viridis\")\n",
    "plt.title(\"Average Ages of Date-an-Analyst Users by Location\")\n",
    "print(\"Users in rural locations tend to be older. The average rural age is about 31.1, while the average urban age is about 29.6.\")\n",
    "plt.show()"
   ]
  },
  {
   "cell_type": "code",
   "execution_count": 38,
   "metadata": {},
   "outputs": [
    {
     "name": "stdout",
     "output_type": "stream",
     "text": [
      "A violin plot shows distributions of age like a histogram, but creates separate distributions for each category. It appears that age is evenly distributed in urban areas between 20 and 40, whereas age is concentrated around 30 in rural areas.\n"
     ]
    },
    {
     "data": {
      "image/png": "[encoded data removed]",
      "text/plain": [
       "<Figure size 432x288 with 1 Axes>"
      ]
     },
     "metadata": {
      "needs_background": "light"
     },
     "output_type": "display_data"
    }
   ],
   "source": [
    "\"\"\"\n",
    "Other visualizations provide other information about the relationship between age and location. For example, a violin plot shows distributions of age like a histogram, but creates separate distributions for each category.\n",
    "\"\"\"\n",
    "plt.close()\n",
    "sns.violinplot(x=\"location\", y=\"age\", data=new_df, palette=\"viridis\")\n",
    "plt.title(\"Distribution of Date-an-Analyst User Ages by Location\")\n",
    "print(\"A violin plot shows distributions of age like a histogram, but creates separate distributions for each category. It appears that age is evenly distributed in urban areas between 20 and 40, whereas age is concentrated around 30 in rural areas.\")\n",
    "plt.show()"
   ]
  }
 ],
 "metadata": {
  "interpreter": {
   "hash": "232e827413a02f55ab2a4e0202aa953f4c3a3c8f9ad034ca3a58e95699cce70a"
  },
  "kernelspec": {
   "display_name": "Python 3.10.1 64-bit",
   "language": "python",
   "name": "python3"
  },
  "language_info": {
   "codemirror_mode": {
    "name": "ipython",
    "version": 3
   },
   "file_extension": ".py",
   "mimetype": "text/x-python",
   "name": "python",
   "nbconvert_exporter": "python",
   "pygments_lexer": "ipython3",
   "version": "3.10.1"
  },
  "orig_nbformat": 4
 },
 "nbformat": 4,
 "nbformat_minor": 2
}

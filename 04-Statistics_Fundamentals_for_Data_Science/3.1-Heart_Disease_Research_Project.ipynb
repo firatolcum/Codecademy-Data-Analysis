{
 "cells": [
  {
   "cell_type": "markdown",
   "id": "42e36d7c",
   "metadata": {},
   "source": [
    "# Heart Disease Research Project\n",
    "In this project, you’ll investigate some data from a sample patients who were evaluated for heart disease at the Cleveland Clinic Foundation. The data was downloaded from the UCI Machine Learning Repository and then cleaned for analysis."
   ]
  },
  {
   "cell_type": "code",
   "execution_count": 15,
   "id": "67e817ec",
   "metadata": {},
   "outputs": [],
   "source": [
    "import pandas as pd\n",
    "import numpy as np\n",
    "import matplotlib.pyplot as plt"
   ]
  },
  {
   "cell_type": "code",
   "execution_count": 5,
   "id": "9278481e",
   "metadata": {},
   "outputs": [
    {
     "data": {
      "text/html": [
       "<div>\n",
       "<style scoped>\n",
       "    .dataframe tbody tr th:only-of-type {\n",
       "        vertical-align: middle;\n",
       "    }\n",
       "\n",
       "    .dataframe tbody tr th {\n",
       "        vertical-align: top;\n",
       "    }\n",
       "\n",
       "    .dataframe thead th {\n",
       "        text-align: right;\n",
       "    }\n",
       "</style>\n",
       "<table border=\"1\" class=\"dataframe\">\n",
       "  <thead>\n",
       "    <tr style=\"text-align: right;\">\n",
       "      <th></th>\n",
       "      <th>age</th>\n",
       "      <th>sex</th>\n",
       "      <th>trestbps</th>\n",
       "      <th>chol</th>\n",
       "      <th>cp</th>\n",
       "      <th>exang</th>\n",
       "      <th>fbs</th>\n",
       "      <th>thalach</th>\n",
       "      <th>heart_disease</th>\n",
       "    </tr>\n",
       "  </thead>\n",
       "  <tbody>\n",
       "    <tr>\n",
       "      <th>0</th>\n",
       "      <td>63.0</td>\n",
       "      <td>male</td>\n",
       "      <td>145.0</td>\n",
       "      <td>233.0</td>\n",
       "      <td>typical angina</td>\n",
       "      <td>0.0</td>\n",
       "      <td>1.0</td>\n",
       "      <td>150.0</td>\n",
       "      <td>absence</td>\n",
       "    </tr>\n",
       "    <tr>\n",
       "      <th>1</th>\n",
       "      <td>67.0</td>\n",
       "      <td>male</td>\n",
       "      <td>160.0</td>\n",
       "      <td>286.0</td>\n",
       "      <td>asymptomatic</td>\n",
       "      <td>1.0</td>\n",
       "      <td>0.0</td>\n",
       "      <td>108.0</td>\n",
       "      <td>presence</td>\n",
       "    </tr>\n",
       "    <tr>\n",
       "      <th>2</th>\n",
       "      <td>67.0</td>\n",
       "      <td>male</td>\n",
       "      <td>120.0</td>\n",
       "      <td>229.0</td>\n",
       "      <td>asymptomatic</td>\n",
       "      <td>1.0</td>\n",
       "      <td>0.0</td>\n",
       "      <td>129.0</td>\n",
       "      <td>presence</td>\n",
       "    </tr>\n",
       "    <tr>\n",
       "      <th>3</th>\n",
       "      <td>37.0</td>\n",
       "      <td>male</td>\n",
       "      <td>130.0</td>\n",
       "      <td>250.0</td>\n",
       "      <td>non-anginal pain</td>\n",
       "      <td>0.0</td>\n",
       "      <td>0.0</td>\n",
       "      <td>187.0</td>\n",
       "      <td>absence</td>\n",
       "    </tr>\n",
       "    <tr>\n",
       "      <th>4</th>\n",
       "      <td>41.0</td>\n",
       "      <td>female</td>\n",
       "      <td>130.0</td>\n",
       "      <td>204.0</td>\n",
       "      <td>atypical angina</td>\n",
       "      <td>0.0</td>\n",
       "      <td>0.0</td>\n",
       "      <td>172.0</td>\n",
       "      <td>absence</td>\n",
       "    </tr>\n",
       "  </tbody>\n",
       "</table>\n",
       "</div>"
      ],
      "text/plain": [
       "    age     sex  trestbps   chol                cp  exang  fbs  thalach  \\\n",
       "0  63.0    male     145.0  233.0    typical angina    0.0  1.0    150.0   \n",
       "1  67.0    male     160.0  286.0      asymptomatic    1.0  0.0    108.0   \n",
       "2  67.0    male     120.0  229.0      asymptomatic    1.0  0.0    129.0   \n",
       "3  37.0    male     130.0  250.0  non-anginal pain    0.0  0.0    187.0   \n",
       "4  41.0  female     130.0  204.0   atypical angina    0.0  0.0    172.0   \n",
       "\n",
       "  heart_disease  \n",
       "0       absence  \n",
       "1      presence  \n",
       "2      presence  \n",
       "3       absence  \n",
       "4       absence  "
      ]
     },
     "execution_count": 5,
     "metadata": {},
     "output_type": "execute_result"
    }
   ],
   "source": [
    "heart = pd.read_csv(\"heart_disease.csv\")\n",
    "heart.head()"
   ]
  },
  {
   "cell_type": "code",
   "execution_count": 7,
   "id": "32b27f28",
   "metadata": {},
   "outputs": [],
   "source": [
    "yes_hd = heart[heart[\"heart_disease\"] == \"absence\"]\n",
    "no_hd = heart[heart[\"heart_disease\"] == \"presence\"]"
   ]
  },
  {
   "cell_type": "markdown",
   "id": "171c817b",
   "metadata": {},
   "source": [
    "## Cholesterol Analysis\n",
    "The full dataset has been loaded for you as `heart`, then split into two subsets:\n",
    "\n",
    "- `yes_hd`, which contains data for patients with heart disease\n",
    "- `no_hd`, which contains data for patients without heart disease\n",
    "\n",
    "For this project, we’ll investigate the following variables:\n",
    "\n",
    "- `chol`: serum cholestorol in mg/dl\n",
    "- `fbs`: An indicator for whether fasting blood sugar is greater than 120 mg/dl (1 = true; 0 = false)\n",
    "\n",
    "### Exercise 1\n",
    "To start, we’ll investigate cholesterol levels for patients with heart disease. Use the dataset `yes_hd` to save cholesterol levels for patients with heart disease as a variable named `chol_hd`."
   ]
  },
  {
   "cell_type": "code",
   "execution_count": 10,
   "id": "fd3323f3",
   "metadata": {},
   "outputs": [],
   "source": [
    "chol_hd = yes_hd[\"chol\"]"
   ]
  },
  {
   "cell_type": "markdown",
   "id": "7980a394",
   "metadata": {},
   "source": [
    "### Exercise 2\n",
    "In general, total cholesterol over 240 mg/dl is considered “high” (and therefore unhealthy). Calculate the mean cholesterol level for patients who were diagnosed with heart disease and print it out. Is it higher than 240 mg/dl?\n"
   ]
  },
  {
   "cell_type": "code",
   "execution_count": 11,
   "id": "238813c1",
   "metadata": {},
   "outputs": [
    {
     "data": {
      "text/plain": [
       "242.640243902439"
      ]
     },
     "execution_count": 11,
     "metadata": {},
     "output_type": "execute_result"
    }
   ],
   "source": [
    "np.mean(chol_hd)"
   ]
  },
  {
   "cell_type": "markdown",
   "id": "733f0ed3",
   "metadata": {},
   "source": [
    "### Exercise 3\n",
    "Do people with heart disease have high cholesterol levels (greater than or equal to 240 mg/dl) on average? Import the function from ``scipy.stats`` that you can use to test the following null and alternative hypotheses:\n",
    "\n",
    "- **Null:** People with heart disease have an average cholesterol level equal to 240 mg/dl\n",
    "- **Alternative:** People with heart disease have an average cholesterol level that is greater than 240 mg/dl\n",
    "\n",
    "**Note:** Unfortunately, the ``scipy.stats`` function we’ve been using does not (at the time of writing) have an alternative parameter to change the alternative hypothesis for this test. Therefore, you’ll have to run a two-sided test. However, since you calculated earlier that the average cholesterol level for heart disease patients is greater than 240 mg/dl, you can calculate the p-value for the one-sided test indicated above simply by dividing the two-sided p-value in half."
   ]
  },
  {
   "cell_type": "code",
   "execution_count": 19,
   "id": "5edecb0b",
   "metadata": {},
   "outputs": [],
   "source": [
    "from scipy.stats import ttest_1samp"
   ]
  },
  {
   "cell_type": "code",
   "execution_count": 18,
   "id": "8504189e",
   "metadata": {},
   "outputs": [],
   "source": [
    "# ASsumptions of a One Sample T-Test:\n",
    "    # 1. The sample was randomly selected from population\n",
    "    # 2. The individual observations were independent.\n",
    "    # 3. The data is normally distributed without outliers OR the sample size is large(>40)"
   ]
  },
  {
   "cell_type": "code",
   "execution_count": 13,
   "id": "c3b86cb7",
   "metadata": {},
   "outputs": [
    {
     "data": {
      "text/plain": [
       "164"
      ]
     },
     "execution_count": 13,
     "metadata": {},
     "output_type": "execute_result"
    }
   ],
   "source": [
    "len(chol_hd)"
   ]
  },
  {
   "cell_type": "code",
   "execution_count": 20,
   "id": "e8f5e09b",
   "metadata": {},
   "outputs": [
    {
     "data": {
      "text/plain": [
       "0.5279424046444101"
      ]
     },
     "execution_count": 20,
     "metadata": {},
     "output_type": "execute_result"
    }
   ],
   "source": [
    "tstat, pval = ttest_1samp(chol_hd, 240)\n",
    "pval"
   ]
  },
  {
   "cell_type": "code",
   "execution_count": 21,
   "id": "c8293d4e",
   "metadata": {},
   "outputs": [
    {
     "data": {
      "text/plain": [
       "0.26397120232220506"
      ]
     },
     "execution_count": 21,
     "metadata": {},
     "output_type": "execute_result"
    }
   ],
   "source": [
    "one_sided_pval = pval / 2\n",
    "one_sided_pval"
   ]
  },
  {
   "cell_type": "markdown",
   "id": "539c5792",
   "metadata": {},
   "source": [
    "### Exercise 4\n",
    "Run the hypothesis test indicated in Exercise 3 and print out the p-value. Can you conclude that heart disease patients have an average cholesterol level significantly greater than 240 mg/dl? Use a significance threshold of 0.05."
   ]
  },
  {
   "cell_type": "code",
   "execution_count": 23,
   "id": "da2718e8",
   "metadata": {},
   "outputs": [
    {
     "name": "stdout",
     "output_type": "stream",
     "text": [
      "Reject the null hypothesis\n"
     ]
    }
   ],
   "source": [
    "threshold = 0.05\n",
    "if one_sided_pval > threshold:\n",
    "    print(\"Reject the null hypothesis\")\n",
    "else:\n",
    "    print(\"Accept the null hypothesis\")\n",
    "    \n",
    "# People with heart disease have an average cholesterol level that is greater than 240 mg/dl."
   ]
  },
  {
   "cell_type": "markdown",
   "id": "85932000",
   "metadata": {},
   "source": [
    "### Exercise 5\n",
    "\n",
    "Repeat steps 1-4 in order to run the same hypothesis test, but for patients in the sample who were not diagnosed with heart disease. Do patients without heart disease have average cholesterol levels significantly above 240 mg/dl?"
   ]
  },
  {
   "cell_type": "code",
   "execution_count": null,
   "id": "138eeb1a",
   "metadata": {},
   "outputs": [],
   "source": [
    "# Null : The average cholesterol level in people without heart disease is 240 mg/dl.\n",
    "# Alternative : The average cholesterol level in people without heart disease is greater than 240 mg/dl."
   ]
  },
  {
   "cell_type": "code",
   "execution_count": 26,
   "id": "2f98cd75",
   "metadata": {},
   "outputs": [],
   "source": [
    "chol_hd = no_hd[\"chol\"]"
   ]
  },
  {
   "cell_type": "code",
   "execution_count": 27,
   "id": "28d767a1",
   "metadata": {},
   "outputs": [
    {
     "data": {
      "text/plain": [
       "251.4748201438849"
      ]
     },
     "execution_count": 27,
     "metadata": {},
     "output_type": "execute_result"
    }
   ],
   "source": [
    "np.mean(chol_hd)"
   ]
  },
  {
   "cell_type": "code",
   "execution_count": 28,
   "id": "db5879ae",
   "metadata": {},
   "outputs": [
    {
     "data": {
      "text/plain": [
       "0.007082206781031141"
      ]
     },
     "execution_count": 28,
     "metadata": {},
     "output_type": "execute_result"
    }
   ],
   "source": [
    "tstat, pval = ttest_1samp(chol_hd, 240)\n",
    "pval"
   ]
  },
  {
   "cell_type": "code",
   "execution_count": 29,
   "id": "abf7dcf7",
   "metadata": {},
   "outputs": [
    {
     "data": {
      "text/plain": [
       "0.0035411033905155707"
      ]
     },
     "execution_count": 29,
     "metadata": {},
     "output_type": "execute_result"
    }
   ],
   "source": [
    "one_sided_pval = pval / 2\n",
    "one_sided_pval"
   ]
  },
  {
   "cell_type": "code",
   "execution_count": 30,
   "id": "7b043b29",
   "metadata": {},
   "outputs": [
    {
     "name": "stdout",
     "output_type": "stream",
     "text": [
      "Accept the null hypothesis\n"
     ]
    }
   ],
   "source": [
    "threshold = 0.05\n",
    "if one_sided_pval > threshold:\n",
    "    print(\"Reject the null hypothesis\")\n",
    "else:\n",
    "    print(\"Accept the null hypothesis\")"
   ]
  },
  {
   "cell_type": "code",
   "execution_count": 31,
   "id": "95ee55b9",
   "metadata": {},
   "outputs": [],
   "source": [
    "# The average cholesterol level in people without heart disease is 240 mg/dl."
   ]
  },
  {
   "cell_type": "markdown",
   "id": "c3277646",
   "metadata": {},
   "source": [
    "## Fasting Blood Sugar Analysis\n",
    "### Exercise 1\n",
    "Let’s now return to the full dataset (saved as `heart`). How many patients are there in this dataset? Save the number of patients as `num_patients` and print it out."
   ]
  },
  {
   "cell_type": "code",
   "execution_count": 34,
   "id": "ec2aa764",
   "metadata": {},
   "outputs": [
    {
     "data": {
      "text/plain": [
       "303"
      ]
     },
     "execution_count": 34,
     "metadata": {},
     "output_type": "execute_result"
    }
   ],
   "source": [
    "num_patients = len(heart)\n",
    "num_patients"
   ]
  },
  {
   "cell_type": "markdown",
   "id": "17354ceb",
   "metadata": {},
   "source": [
    "### Exercise 2\n",
    "\n",
    "Remember that the `fbs` column of this dataset indicates whether or not a patient’s fasting blood sugar was greater than 120 mg/dl (`1` means that their fasting blood sugar was greater than 120 mg/dl; `0` means it was less than or equal to 120 mg/dl).\n",
    "\n",
    "Calculate the number of patients with fasting blood sugar greater than 120. Save this number as `num_highfbs_patients` and print it out."
   ]
  },
  {
   "cell_type": "code",
   "execution_count": 46,
   "id": "9f984bf4",
   "metadata": {},
   "outputs": [
    {
     "data": {
      "text/plain": [
       "45"
      ]
     },
     "execution_count": 46,
     "metadata": {},
     "output_type": "execute_result"
    }
   ],
   "source": [
    "num_highfbs_patients = len(heart[heart[\"fbs\"] == 1])\n",
    "num_highfbs_patients"
   ]
  },
  {
   "cell_type": "markdown",
   "id": "0d9caa84",
   "metadata": {},
   "source": [
    "### Exercise 3\n",
    "\n",
    "Sometimes, part of an analysis will involve comparing a sample to known population values to see if the sample appears to be representative of the general population.\n",
    "\n",
    "By some estimates, about 8% of the U.S. population had diabetes (diagnosed or undiagnosed) in 1988 when this data was collected. While there are multiple tests that contribute to a diabetes diagnosis, fasting blood sugar levels greater than 120 mg/dl can be indicative of diabetes (or at least, pre-diabetes). If this sample were representative of the population, approximately how many people would you expect to have diabetes? Calculate and print out this number.\n",
    "\n",
    "Is this value similar to the number of patients with a resting blood sugar above 120 mg/dl — or different?"
   ]
  },
  {
   "cell_type": "code",
   "execution_count": 47,
   "id": "81bcc350",
   "metadata": {},
   "outputs": [
    {
     "data": {
      "text/plain": [
       "24.240000000000002"
      ]
     },
     "execution_count": 47,
     "metadata": {},
     "output_type": "execute_result"
    }
   ],
   "source": [
    "num_patients * 0.08"
   ]
  },
  {
   "cell_type": "markdown",
   "id": "5756c723",
   "metadata": {},
   "source": [
    "### Exercise 4\n",
    "\n",
    "Does this sample come from a population in which the rate of fbs > 120 mg/dl is equal to 8%? Import the function from `scipy.stats` that you can use to test the following null and alternative hypotheses:\n",
    "\n",
    "- **Null:** This sample was drawn from a population where 8% of people have fasting blood sugar > 120 mg/dl\n",
    "- **Alternative:** This sample was drawn from a population where more than 8% of people have fasting blood sugar > 120 mg/dl"
   ]
  },
  {
   "cell_type": "code",
   "execution_count": null,
   "id": "fe4ede6f",
   "metadata": {},
   "outputs": [],
   "source": [
    "# Binomial tests are useful for comparing the frequency of some outcome in a sample to the expected probability of that outcome.\n",
    "# So we will use binomail test."
   ]
  },
  {
   "cell_type": "code",
   "execution_count": 48,
   "id": "84194719",
   "metadata": {},
   "outputs": [],
   "source": [
    "from scipy.stats import binom_test"
   ]
  },
  {
   "cell_type": "code",
   "execution_count": 52,
   "id": "aeff29e3",
   "metadata": {},
   "outputs": [
    {
     "data": {
      "text/plain": [
       "(45, 303)"
      ]
     },
     "execution_count": 52,
     "metadata": {},
     "output_type": "execute_result"
    }
   ],
   "source": [
    "num_highfbs_patients, num_patients"
   ]
  },
  {
   "cell_type": "code",
   "execution_count": 54,
   "id": "9100cbd1",
   "metadata": {},
   "outputs": [
    {
     "data": {
      "text/plain": [
       "4.689471951448875e-05"
      ]
     },
     "execution_count": 54,
     "metadata": {},
     "output_type": "execute_result"
    }
   ],
   "source": [
    "pval = binom_test(x = num_highfbs_patients, n = num_patients, p = 0.08, alternative = \"greater\")\n",
    "pval"
   ]
  },
  {
   "cell_type": "markdown",
   "id": "f1915b23",
   "metadata": {},
   "source": [
    "### Exercise 5\n",
    "\n",
    "Run the hypothesis test indicated in Exercise 4 and print out the p-value. Using a significance threshold of 0.05, can you conclude that this sample was drawn from a population where the rate of fasting blood sugar > 120 mg/dl is significantly greater than 8%?"
   ]
  },
  {
   "cell_type": "code",
   "execution_count": 55,
   "id": "0bcc39ed",
   "metadata": {},
   "outputs": [
    {
     "name": "stdout",
     "output_type": "stream",
     "text": [
      "Accept the null hypothesis\n"
     ]
    }
   ],
   "source": [
    "threshold = 0.05\n",
    "if pval > threshold:\n",
    "    print(\"Reject the null hypothesis\")\n",
    "else:\n",
    "    print(\"Accept the null hypothesis\")\n",
    "\n",
    "# This sample was drawn from a population where 8% of people have fasting blood sugar > 120 mg/dl"
   ]
  }
 ],
 "metadata": {
  "kernelspec": {
   "display_name": "Python 3 (ipykernel)",
   "language": "python",
   "name": "python3"
  },
  "language_info": {
   "codemirror_mode": {
    "name": "ipython",
    "version": 3
   },
   "file_extension": ".py",
   "mimetype": "text/x-python",
   "name": "python",
   "nbconvert_exporter": "python",
   "pygments_lexer": "ipython3",
   "version": "3.9.12"
  }
 },
 "nbformat": 4,
 "nbformat_minor": 5
}

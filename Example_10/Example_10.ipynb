{
 "cells": [
  {
   "cell_type": "markdown",
   "metadata": {},
   "source": [
    "### Standard Deviation in Numpy ###\n",
    "Variance is a tricky statistic to use because its units are different from both the mean and the data itself. For example, the mean of our NBA dataset is 77.98 inches. Because of this, we can say someone who is 80 inches tall is about two inches taller than the average NBA player.\n",
    "\n",
    "However, because the formula for variance includes squaring the difference between the data and the mean, the variance is measured in units squared. This means that the variance for our NBA dataset is 13.32 inches squared.\n",
    "\n",
    "This result is hard to interpret in context with the mean or the data because their units are different. This is where the statistic standard deviation is useful."
   ]
  },
  {
   "cell_type": "code",
   "execution_count": 2,
   "metadata": {},
   "outputs": [],
   "source": [
    "\"\"\"\n",
    "In this lesson, we’ll be working with two datasets. The first dataset contains the heights (in inches) of a random selection of players from the NBA. The second dataset contains the heights (in inches) of a random selection of users on the dating platform OkCupid — let’s hope these users were telling the truth about their height!\n",
    "\"\"\"\n",
    "import matplotlib.pyplot as plt\n",
    "import pandas as pd\n",
    "import numpy as np\n",
    "from data import nba_data, okcupid_data"
   ]
  },
  {
   "cell_type": "code",
   "execution_count": 7,
   "metadata": {},
   "outputs": [
    {
     "name": "stdout",
     "output_type": "stream",
     "text": [
      "3.6501704069810224\n"
     ]
    },
    {
     "data": {
      "text/plain": [
       "3.924360330041063"
      ]
     },
     "execution_count": 7,
     "metadata": {},
     "output_type": "execute_result"
    }
   ],
   "source": [
    "\"\"\"\n",
    "There is a NumPy function dedicated to finding the standard deviation of a dataset — we can cut out the step of first finding the variance. The NumPy function std() takes a dataset as a parameter and returns the standard deviation of that dataset:\n",
    "\"\"\"\n",
    "# Change these variables to be the standard deviation of each dataset. Use NumPy's function!\n",
    "nba_standard_deviation = np.std(nba_data)\n",
    "print(nba_standard_deviation)\n",
    "\n",
    "okcupid_standard_deviation = np.std(okcupid_data)\n",
    "okcupid_standard_deviation"
   ]
  },
  {
   "cell_type": "markdown",
   "metadata": {},
   "source": [
    "### Using Standard Deviation ###\n",
    "Now that we’re able to compute the standard deviation of a dataset, what can we do with it?\n",
    "\n",
    "Now that our units match, our measure of spread is easier to interpret. By finding the number of standard deviations a data point is away from the mean, we can begin to investigate how unusual that datapoint truly is. In fact, you can usually expect around 68% of your data to fall within one standard deviation of the mean, 95% of your data to fall within two standard deviations of the mean, and 99.7% of your data to fall within three standard deviations of the mean.\n",
    "\n",
    "If you have a data point that is over three standard deviations away from the mean, that's an incredibly unusual piece of data!"
   ]
  },
  {
   "cell_type": "code",
   "execution_count": 14,
   "metadata": {},
   "outputs": [
    {
     "name": "stdout",
     "output_type": "stream",
     "text": [
      "77.984\n",
      "68.414\n",
      "2.0160000000000053\n",
      "11.585999999999999\n"
     ]
    }
   ],
   "source": [
    "\"\"\"\n",
    "1. Let’s find out how many standard deviations away from the mean NBA great Lebron James is. To begin, let’s find the difference between Lebron’s height (80 inches) and the mean of each dataset.\n",
    "\n",
    "Set nba_difference equal to 80 minus nba_mean.\n",
    "\n",
    "Find the difference between Lebron’s height and the OkCupid mean and store it in okcupid_difference. The OkCupid dataset’s mean is stored in okcupid_mean.\n",
    "\"\"\"\n",
    "lebrons_height = 80\n",
    "\n",
    "nba_mean = np.mean(nba_data)\n",
    "print(nba_mean)\n",
    "\n",
    "okcupid_mean = np.mean(okcupid_data)\n",
    "print(okcupid_mean)\n",
    "\n",
    "nba_difference = lebrons_height - nba_mean\n",
    "print(nba_difference)\n",
    "\n",
    "okcupid_difference = lebrons_height - okcupid_mean\n",
    "print(okcupid_difference)"
   ]
  },
  {
   "cell_type": "code",
   "execution_count": 18,
   "metadata": {},
   "outputs": [
    {
     "name": "stdout",
     "output_type": "stream",
     "text": [
      "0.5523029818400713\n",
      "2.9523282842579257\n",
      "Your basketball player is 0.5523029818400713 standard deviations away from the mean of NBA player heights\n",
      "Your basketball player is 2.9523282842579257 standard deviations away from the mean of OkCupid profile heights\n"
     ]
    }
   ],
   "source": [
    "\"\"\"\n",
    "2. We now want to find out how many times the standard deviation goes into those differences.\n",
    "\n",
    "Set num_nba_deviations equal to nba_difference divided by nba_standard_deviation.\n",
    "\n",
    "Do a similar calculation for num_okcupid_deviations.\n",
    "\n",
    "What does that first number tell you about how unusual Lebron James is in the NBA? What does the second number tell you about how unusual Lebron James is in the dating pool?\n",
    "\"\"\"\n",
    "num_nba_deviations = nba_difference / nba_standard_deviation\n",
    "print(num_nba_deviations)\n",
    "\n",
    "num_okcupid_deviations = okcupid_difference / okcupid_standard_deviation\n",
    "print(num_okcupid_deviations)\n",
    "\n",
    "print(\"Your basketball player is \" + str(num_nba_deviations) + \" standard deviations away from the mean of NBA player heights\")\n",
    "print(\"Your basketball player is \" + str(num_okcupid_deviations) + \" standard deviations away from the mean of OkCupid profile heights\")"
   ]
  },
  {
   "cell_type": "code",
   "execution_count": 19,
   "metadata": {},
   "outputs": [
    {
     "name": "stdout",
     "output_type": "stream",
     "text": [
      "Your basketball player is -3.5570942044699723 standard deviations away from the mean of NBA player heights\n",
      "Your basketball player is -0.8699506958792131 standard deviations away from the mean of OkCupid profile heights\n"
     ]
    }
   ],
   "source": [
    "\"\"\"\n",
    "3. Let’s check another NBA player. Earl Boykins is one of the smaller NBA players in history at 5’5” (65 inches). Replace Lebron James’ 80 inches with Earl Boykins’ 65.\n",
    "\n",
    "What can you say about how unusual Earl Boykins is with respect to the two different datasets?\n",
    "\n",
    "We were surprised that Boykins wasn’t more standard deviations away from the mean of the OkCupid dataset. Think about why he isn’t more of an outlier in this dataset.\n",
    "\"\"\"\n",
    "Earls_height = 65\n",
    "\n",
    "nba_difference = Earls_height - nba_mean\n",
    "okcupid_difference = Earls_height - okcupid_mean\n",
    "\n",
    "num_nba_deviations = nba_difference / nba_standard_deviation\n",
    "num_okcupid_deviations = okcupid_difference / okcupid_standard_deviation\n",
    "\n",
    "print(\"Your basketball player is \" + str(num_nba_deviations) + \" standard deviations away from the mean of NBA player heights\")\n",
    "print(\"Your basketball player is \" + str(num_okcupid_deviations) + \" standard deviations away from the mean of OkCupid profile heights\")\n"
   ]
  },
  {
   "cell_type": "markdown",
   "metadata": {},
   "source": [
    "### Review ###\n",
    "In the last exercise you saw that Lebron James was 0.55 standard deviations above the mean of NBA player heights. He’s taller than average, but compared to the other NBA players, he’s not absurdly tall.\n",
    "\n",
    "However, compared to the OkCupid dating pool, he is extremely rare! He’s almost three full standard deviations above the mean. You’d expect only about 0.15% of people on OkCupid to be more than 3 standard deviations away from the mean.\n",
    "\n",
    "This is the power of standard deviation. By taking the square root of the variance, the standard deviation gives you a statistic about spread that can be easily interpreted and compared to the mean."
   ]
  },
  {
   "cell_type": "code",
   "execution_count": 20,
   "metadata": {},
   "outputs": [
    {
     "data": {
      "image/png": "[encoded data removed]",
      "text/plain": [
       "<Figure size 432x288 with 2 Axes>"
      ]
     },
     "metadata": {
      "needs_background": "light"
     },
     "output_type": "display_data"
    }
   ],
   "source": [
    "\"\"\"\n",
    "We’ve created a visualization that shows the mean, first, second, and third standard deviations of each dataset.\n",
    "\n",
    "Enter your height (in inches) into the variable named your_height to see how you compare to the heights of NBA players and OkCupid daters!\n",
    "\n",
    "You’re likely below the first standard deviation for the NBA. Are you below the second? How unusual is your height compared to the OkCupid members?\n",
    "\"\"\"\n",
    "\n",
    "nba_mean = np.mean(nba_data)\n",
    "okcupid_mean = np.mean(okcupid_data)\n",
    "\n",
    "#Change this variable to your height (in inches)!\n",
    "your_height = 71.65 # 182 cm\n",
    "\n",
    "plt.subplot(211)\n",
    "plt.title(\"NBA Player Heights\")\n",
    "plt.xlabel(\"Height (inches)\")\n",
    "\n",
    "plt.hist(nba_data)\n",
    "\n",
    "plt.axvline(nba_mean, color='#FD4E40', linestyle='solid', linewidth=2, label = \"Mean\", )\n",
    "\n",
    "plt.axvline(nba_mean + nba_standard_deviation, color='#FFB908', linestyle='solid', linewidth=2, label = \"Standard Deviations\")\n",
    "plt.axvline(nba_mean - nba_standard_deviation, color='#FFB908', linestyle='solid', linewidth=2)\n",
    "\n",
    "plt.axvline(nba_mean + nba_standard_deviation * 2, color='#FFB908', linestyle='solid', linewidth=2)\n",
    "plt.axvline(nba_mean - nba_standard_deviation * 2, color='#FFB908', linestyle='solid', linewidth=2)\n",
    "\n",
    "plt.axvline(nba_mean + nba_standard_deviation * 3, color='#FFB908', linestyle='solid', linewidth=2)\n",
    "plt.axvline(nba_mean - nba_standard_deviation * 3, color='#FFB908', linestyle='solid', linewidth=2)\n",
    "\n",
    "plt.axvline(your_height, color='#62EDBF', linestyle='solid', linewidth=2, label = \"You\")\n",
    "\n",
    "plt.xlim(55, 90)\n",
    "plt.legend()\n",
    "\n",
    "\n",
    "plt.subplot(212)\n",
    "plt.title(\"OkCupid Profile Heights\")\n",
    "plt.xlabel(\"Height (inches)\")\n",
    "\n",
    "plt.hist(okcupid_data)\n",
    "\n",
    "plt.axvline(okcupid_mean, color='#FD4E40', linestyle='solid', linewidth=2, label = \"Mean\")\n",
    "\n",
    "plt.axvline(okcupid_mean + okcupid_standard_deviation, color='#FFB908', linestyle='solid', linewidth=2, label = \"Standard Deviations\")\n",
    "plt.axvline(okcupid_mean - okcupid_standard_deviation, color='#FFB908', linestyle='solid', linewidth=2)\n",
    "\n",
    "plt.axvline(okcupid_mean + okcupid_standard_deviation * 2, color='#FFB908', linestyle='solid', linewidth=2)\n",
    "plt.axvline(okcupid_mean - okcupid_standard_deviation * 2, color='#FFB908', linestyle='solid', linewidth=2)\n",
    "\n",
    "plt.axvline(okcupid_mean + okcupid_standard_deviation * 3, color='#FFB908', linestyle='solid', linewidth=2)\n",
    "plt.axvline(okcupid_mean - okcupid_standard_deviation * 3, color='#FFB908', linestyle='solid', linewidth=2)\n",
    "\n",
    "plt.axvline(your_height, color='#62EDBF', linestyle='solid', linewidth=2, label = \"You\")\n",
    "\n",
    "plt.xlim(55, 90)\n",
    "plt.legend()\n",
    "\n",
    "plt.tight_layout()\n",
    "plt.show()\n"
   ]
  }
 ],
 "metadata": {
  "interpreter": {
   "hash": "33bea494317c8c22a4760028ceed23349c4667bf8f6d1305a13b8d31b6e7f27d"
  },
  "kernelspec": {
   "display_name": "Python 3.9.7 ('base')",
   "language": "python",
   "name": "python3"
  },
  "language_info": {
   "codemirror_mode": {
    "name": "ipython",
    "version": 3
   },
   "file_extension": ".py",
   "mimetype": "text/x-python",
   "name": "python",
   "nbconvert_exporter": "python",
   "pygments_lexer": "ipython3",
   "version": "3.9.7"
  },
  "orig_nbformat": 4
 },
 "nbformat": 4,
 "nbformat_minor": 2
}

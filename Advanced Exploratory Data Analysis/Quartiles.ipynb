{
 "cells": [
  {
   "cell_type": "markdown",
   "id": "d04312d8",
   "metadata": {},
   "source": [
    "## Quartiles\n",
    "A common way to communicate a high-level overview of a dataset is to find the values that split the data into four groups of equal size.\n",
    "\n",
    "By doing this, we can then say whether a new datapoint falls in the first, second, third, or fourth quarter of the data."
   ]
  },
  {
   "cell_type": "code",
   "execution_count": 22,
   "id": "4026ea58",
   "metadata": {},
   "outputs": [],
   "source": [
    "import numpy as np\n",
    "import matplotlib.pyplot as plt\n",
    "from song_data import songs"
   ]
  },
  {
   "cell_type": "code",
   "execution_count": 23,
   "id": "8b6f7e52",
   "metadata": {},
   "outputs": [],
   "source": [
    "dataset_one = [50, 10, 4, -3, 4, -20, 2]\n",
    "dataset_two = [24, 20, 1, 45, -15, 40]"
   ]
  },
  {
   "cell_type": "code",
   "execution_count": 24,
   "id": "f3f0e730",
   "metadata": {},
   "outputs": [],
   "source": [
    "dataset_one_q2 = np.quantile(dataset_one, 0.50)\n",
    "dataset_two_q2 = np.quantile(dataset_two, 0.50)"
   ]
  },
  {
   "cell_type": "markdown",
   "id": "fc13f620",
   "metadata": {},
   "source": [
    "### Exercise 1\n",
    "Find the second quartile of the dataset and store it in a variable named dataset_one_q2.\n",
    "\n",
    "Find the second quartile of the dataset_two and store it in a variable named dataset_two_q2."
   ]
  },
  {
   "cell_type": "code",
   "execution_count": 25,
   "id": "fff2d364",
   "metadata": {},
   "outputs": [
    {
     "name": "stdout",
     "output_type": "stream",
     "text": [
      "The second quartile of dataset one is 4.0\n",
      "The second quartile of dataset two is 22.0\n"
     ]
    }
   ],
   "source": [
    "try:\n",
    "    print(\"The second quartile of dataset one is \" + str(dataset_one_q2))\n",
    "except NameError:\n",
    "    print(\"You haven't defined dataset_one_q2\")\n",
    "try:\n",
    "    print(\"The second quartile of dataset two is \" + str(dataset_two_q2))\n",
    "except NameError:\n",
    "    print(\"You haven't defined dataset_two_q2\")"
   ]
  },
  {
   "cell_type": "markdown",
   "id": "c391304b",
   "metadata": {},
   "source": [
    "### Exercise 2\n",
    "Find the first quartile of dataset_one and store it in a variable named dataset_one_q1.\n",
    "\n",
    "Find the third quartile of dataset_one and store it in a variable named dataset_one_q3.\n",
    "\n",
    "Find Q1 and Q3 of dataset_two. Store the values in variables named dataset_two_q1 and dataset_two_q3."
   ]
  },
  {
   "cell_type": "code",
   "execution_count": 26,
   "id": "231c8637",
   "metadata": {},
   "outputs": [
    {
     "data": {
      "text/plain": [
       "[50, 10, 4, -3, 4, -20, 2]"
      ]
     },
     "execution_count": 26,
     "metadata": {},
     "output_type": "execute_result"
    }
   ],
   "source": [
    "dataset_one"
   ]
  },
  {
   "cell_type": "code",
   "execution_count": 27,
   "id": "d17d38e0",
   "metadata": {},
   "outputs": [
    {
     "data": {
      "text/plain": [
       "-0.5"
      ]
     },
     "execution_count": 27,
     "metadata": {},
     "output_type": "execute_result"
    }
   ],
   "source": [
    "dataset_one_q1 = np.quantile(dataset_one, 0.25)\n",
    "dataset_one_q1"
   ]
  },
  {
   "cell_type": "code",
   "execution_count": 28,
   "id": "b010afc5",
   "metadata": {},
   "outputs": [
    {
     "data": {
      "text/plain": [
       "5.75"
      ]
     },
     "execution_count": 28,
     "metadata": {},
     "output_type": "execute_result"
    }
   ],
   "source": [
    "dataset_two_q1 = np.quantile(dataset_two, 0.25)\n",
    "dataset_two_q1"
   ]
  },
  {
   "cell_type": "code",
   "execution_count": 29,
   "id": "1241ed63",
   "metadata": {},
   "outputs": [
    {
     "data": {
      "text/plain": [
       "7.0"
      ]
     },
     "execution_count": 29,
     "metadata": {},
     "output_type": "execute_result"
    }
   ],
   "source": [
    "dataset_one_q3 = np.quantile(dataset_one, 0.75)\n",
    "dataset_one_q3"
   ]
  },
  {
   "cell_type": "code",
   "execution_count": 30,
   "id": "11338c85",
   "metadata": {},
   "outputs": [
    {
     "data": {
      "text/plain": [
       "5.75"
      ]
     },
     "execution_count": 30,
     "metadata": {},
     "output_type": "execute_result"
    }
   ],
   "source": [
    "dataset_two_q1 = np.quantile(dataset_two, 0.25)\n",
    "dataset_two_q1"
   ]
  },
  {
   "cell_type": "code",
   "execution_count": 31,
   "id": "34aa70b2",
   "metadata": {},
   "outputs": [
    {
     "data": {
      "text/plain": [
       "22.0"
      ]
     },
     "execution_count": 31,
     "metadata": {},
     "output_type": "execute_result"
    }
   ],
   "source": [
    "dataset_two_q2 = np.quantile(dataset_two, 0.50)\n",
    "dataset_two_q2"
   ]
  },
  {
   "cell_type": "markdown",
   "id": "1d1c7dd7",
   "metadata": {},
   "source": [
    "### Exercise 3\n",
    "- We’ve brought back our music dataset. The lengths of 9,975 songs (in seconds) are stored in a variable named songs. Use Numpy’s quantile() function to find the first quartile. Store the result in a variable named songs_q1.\n",
    "- Find the second and third quartile of the dataset and store the values in two variables named songs_q2 and songs_q3.\n",
    "- Look up the length of your favorite song in seconds. Store that value in a variable named favorite_song. Does that song fall in the first, second, third, or fourth quarter of the data? Create a variable named quarter. Set quarter equal to 1 if your favorite song falls in the first quarter of the data. Set it equal to 2 if your song falls in the second fourth. Set it equal to 3 if your song falls in the third fourth. And set it to 4 if your song falls in the final fourth of the data."
   ]
  },
  {
   "cell_type": "code",
   "execution_count": 39,
   "id": "6138e116",
   "metadata": {},
   "outputs": [
    {
     "data": {
      "text/plain": [
       "[218.93178999999998,\n",
       " 148.03546,\n",
       " 177.47546,\n",
       " 233.40363,\n",
       " 209.60608,\n",
       " 267.7024,\n",
       " 114.78159,\n",
       " 189.57016000000002,\n",
       " 269.81832,\n",
       " 266.39628]"
      ]
     },
     "execution_count": 39,
     "metadata": {},
     "output_type": "execute_result"
    }
   ],
   "source": [
    "songs[:10]"
   ]
  },
  {
   "cell_type": "code",
   "execution_count": 33,
   "id": "97dbb684",
   "metadata": {},
   "outputs": [
    {
     "data": {
      "text/plain": [
       "(175.93424, 222.82404, 275.47383)"
      ]
     },
     "execution_count": 33,
     "metadata": {},
     "output_type": "execute_result"
    }
   ],
   "source": [
    "songs_q1 = np.quantile(songs, 0.25)\n",
    "songs_q2 = np.quantile(songs, 0.50)\n",
    "songs_q3 = np.quantile(songs, 0.75)\n",
    "songs_q1, songs_q2, songs_q3"
   ]
  },
  {
   "cell_type": "code",
   "execution_count": 34,
   "id": "0ac5eaad",
   "metadata": {},
   "outputs": [],
   "source": [
    "favorite_song = 220\n",
    "quarter = None\n",
    "if favorite_song < songs_q1:\n",
    "    quarter = 1\n",
    "elif favorite_song > songs_q1 and favorite_song < songs_q2:\n",
    "    quarter = 2\n",
    "elif favorite_song > songs_q3:\n",
    "    quarter = 3"
   ]
  },
  {
   "cell_type": "code",
   "execution_count": 35,
   "id": "2826d94f",
   "metadata": {},
   "outputs": [
    {
     "data": {
      "text/plain": [
       "2"
      ]
     },
     "execution_count": 35,
     "metadata": {},
     "output_type": "execute_result"
    }
   ],
   "source": [
    "quarter"
   ]
  },
  {
   "cell_type": "markdown",
   "id": "22e97d1d",
   "metadata": {},
   "source": [
    "### Quartiles Review\n",
    "Quartiles are some of the most commonly used descriptive statistics. For example, You might see schools or universities think about quartiles when considering which students to accept. Businesses might compare their revenue to other companies by looking at quartiles.\n",
    "\n",
    "In fact quartiles are so commonly used that the three quartiles, along with the minimum and the maximum values of a dataset, are called the five-number summary of the dataset. These five numbers help you quickly get a sense of the range, centrality, and spread of the dataset."
   ]
  },
  {
   "cell_type": "code",
   "execution_count": 36,
   "id": "a00e6a5c",
   "metadata": {},
   "outputs": [],
   "source": [
    "import matplotlib.pyplot as plt"
   ]
  },
  {
   "cell_type": "code",
   "execution_count": 37,
   "id": "e0f1b639",
   "metadata": {},
   "outputs": [
    {
     "data": {
      "image/png": "[encoded data removed]",
      "text/plain": [
       "<Figure size 432x288 with 1 Axes>"
      ]
     },
     "metadata": {
      "needs_background": "light"
     },
     "output_type": "display_data"
    }
   ],
   "source": [
    "plt.hist(songs, bins=200)\n",
    "\n",
    "plt.axvline(x = songs_q1, label=\"Q1\", c =\"purple\")\n",
    "plt.axvline(x = songs_q2, label = \"Q2\", c=\"yellow\")\n",
    "plt.axvline(x = songs_q3, label = \"Q3\", c=\"pink\")\n",
    "\n",
    "plt.xlabel(\"Song Length (Seconds)\")\n",
    "plt.ylabel(\"Count\")\n",
    "\n",
    "plt.legend()\n",
    "plt.show()"
   ]
  }
 ],
 "metadata": {
  "kernelspec": {
   "display_name": "Python 3 (ipykernel)",
   "language": "python",
   "name": "python3"
  },
  "language_info": {
   "codemirror_mode": {
    "name": "ipython",
    "version": 3
   },
   "file_extension": ".py",
   "mimetype": "text/x-python",
   "name": "python",
   "nbconvert_exporter": "python",
   "pygments_lexer": "ipython3",
   "version": "3.9.12"
  }
 },
 "nbformat": 4,
 "nbformat_minor": 5
}

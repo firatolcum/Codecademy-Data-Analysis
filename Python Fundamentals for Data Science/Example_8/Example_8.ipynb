{
 "cells": [
  {
   "cell_type": "code",
   "execution_count": 1,
   "metadata": {},
   "outputs": [],
   "source": [
    "\"\"\"\n",
    "Central Tendency for Housing Data\n",
    "In this project, you will find the mean, median, and mode cost of one-bedroom apartments in three of the five New York City boroughs: Brooklyn, Manhattan, and Queens.\n",
    "\n",
    "Using your findings, you will make conclusions about the cost of living in each of the boroughs. We will also discuss an important assumption that we make when we point out differences between the boroughs.\n",
    "\n",
    "We worked with Streeteasy.com to collect this data. While we will only focus on the cost of one-bedroom apartments, the dataset includes a lot more information if you’re interested in asking your own questions about the Brooklyn, Manhattan, and Queens housing market.\n",
    "\"\"\""
   ]
  },
  {
   "cell_type": "code",
   "execution_count": 2,
   "metadata": {},
   "outputs": [],
   "source": [
    "# Import packages\n",
    "import pandas as pd\n",
    "import numpy as np\n",
    "from scipy import stats"
   ]
  },
  {
   "cell_type": "code",
   "execution_count": 16,
   "metadata": {},
   "outputs": [],
   "source": [
    "# Read in housing data\n",
    "brooklyn_one_bed = pd.read_csv(\"brooklyn-one-bed.csv\")\n",
    "brooklyn_one_bed.head(3)\n",
    "brooklyn_price = brooklyn_one_bed[[\"rent\"]]\n",
    "\n",
    "manhattan_one_bed = pd.read_csv(\"manhattan-one-bed.csv\")\n",
    "manhattan_one_bed.head(3)\n",
    "manhattan_price = manhattan_one_bed[[\"rent\"]]\n",
    "\n",
    "queens_one_bed = pd.read_csv(\"queens-one-bed.csv\")\n",
    "queens_one_bed.head(3)\n",
    "queens_price = queens_one_bed[[\"rent\"]]"
   ]
  },
  {
   "cell_type": "markdown",
   "metadata": {},
   "source": [
    "### Find the Mean of Prices ###"
   ]
  },
  {
   "cell_type": "code",
   "execution_count": 73,
   "metadata": {},
   "outputs": [
    {
     "data": {
      "text/plain": [
       "3327.0"
      ]
     },
     "execution_count": 73,
     "metadata": {},
     "output_type": "execute_result"
    }
   ],
   "source": [
    "\n",
    "# Find the average value of one-bedroom apartments in Brooklyn and save the value to brooklyn_mean.\n",
    "brooklyn_mean = brooklyn_price.mean()[0].round()\n",
    "brooklyn_mean"
   ]
  },
  {
   "cell_type": "code",
   "execution_count": 59,
   "metadata": {},
   "outputs": [
    {
     "data": {
      "text/plain": [
       "3993.0"
      ]
     },
     "execution_count": 59,
     "metadata": {},
     "output_type": "execute_result"
    }
   ],
   "source": [
    "# Find the average value of one-bedroom apartments in Manhattan and save the value to manhattan_mean.\n",
    "manhattan_mean = manhattan_price.mean()[0].round()\n",
    "manhattan_mean"
   ]
  },
  {
   "cell_type": "code",
   "execution_count": 60,
   "metadata": {},
   "outputs": [
    {
     "data": {
      "text/plain": [
       "2346.0"
      ]
     },
     "execution_count": 60,
     "metadata": {},
     "output_type": "execute_result"
    }
   ],
   "source": [
    "# Find the average value of one-bedroom apartments in Queens and save the value to queens_mean.\n",
    "queens_mean =queens_price.mean()[0].round()\n",
    "queens_mean"
   ]
  },
  {
   "cell_type": "markdown",
   "metadata": {},
   "source": [
    "### Find the Median of Prices ###"
   ]
  },
  {
   "cell_type": "code",
   "execution_count": 61,
   "metadata": {},
   "outputs": [
    {
     "data": {
      "text/plain": [
       "3000.0"
      ]
     },
     "execution_count": 61,
     "metadata": {},
     "output_type": "execute_result"
    }
   ],
   "source": [
    "brooklyn_median = brooklyn_price.median()[0]\n",
    "brooklyn_median"
   ]
  },
  {
   "cell_type": "code",
   "execution_count": 62,
   "metadata": {},
   "outputs": [
    {
     "data": {
      "text/plain": [
       "3800.0"
      ]
     },
     "execution_count": 62,
     "metadata": {},
     "output_type": "execute_result"
    }
   ],
   "source": [
    "manhattan_median = manhattan_price.median()[0]\n",
    "manhattan_median"
   ]
  },
  {
   "cell_type": "code",
   "execution_count": 63,
   "metadata": {},
   "outputs": [
    {
     "data": {
      "text/plain": [
       "2200.0"
      ]
     },
     "execution_count": 63,
     "metadata": {},
     "output_type": "execute_result"
    }
   ],
   "source": [
    "queens_median = queens_price.median()[0]\n",
    "queens_median"
   ]
  },
  {
   "cell_type": "markdown",
   "metadata": {},
   "source": [
    "### Find the Mode of Prices ###"
   ]
  },
  {
   "cell_type": "code",
   "execution_count": 65,
   "metadata": {},
   "outputs": [
    {
     "data": {
      "text/plain": [
       "2500"
      ]
     },
     "execution_count": 65,
     "metadata": {},
     "output_type": "execute_result"
    }
   ],
   "source": [
    "brooklyn_mode = brooklyn_price.mode()[\"rent\"][0]\n",
    "brooklyn_mode"
   ]
  },
  {
   "cell_type": "code",
   "execution_count": 66,
   "metadata": {},
   "outputs": [
    {
     "data": {
      "text/plain": [
       "3500"
      ]
     },
     "execution_count": 66,
     "metadata": {},
     "output_type": "execute_result"
    }
   ],
   "source": [
    "manhattan_mode = manhattan_price.mode()[\"rent\"][0]\n",
    "manhattan_mode"
   ]
  },
  {
   "cell_type": "code",
   "execution_count": 67,
   "metadata": {},
   "outputs": [
    {
     "data": {
      "text/plain": [
       "1750"
      ]
     },
     "execution_count": 67,
     "metadata": {},
     "output_type": "execute_result"
    }
   ],
   "source": [
    "queens_mode = queens_price.mode()[\"rent\"][0]\n",
    "queens_mode"
   ]
  },
  {
   "cell_type": "code",
   "execution_count": 75,
   "metadata": {},
   "outputs": [
    {
     "name": "stdout",
     "output_type": "stream",
     "text": [
      "Manhattan:  mean: 3993.0, median: 3800.0, mode: 3500\n",
      "Brooklyn:  mean: 3327.0, median: 3000.0, mode: 2500\n",
      "Queens:  mean: 2346.0, median: 2200.0, mode: 1750\n"
     ]
    }
   ],
   "source": [
    "# What does our data tell us?\n",
    "print(\"Manhattan: \", \"mean: {}, median: {}, mode: {}\".format(manhattan_mean, manhattan_median, manhattan_mode))\n",
    "print(\"Brooklyn: \", \"mean: {}, median: {}, mode: {}\".format(brooklyn_mean, brooklyn_median, brooklyn_mode))\n",
    "print(\"Queens: \", \"mean: {}, median: {}, mode: {}\".format(queens_mean, queens_median, queens_mode))\n",
    "\n",
    "\"\"\"\n",
    "It looks like the average cost of one-bedroom apartments in Manhattan is the most, and in Queens is the least. This pattern holds for the median and mode values as well.\n",
    "\n",
    "While the mode is not the most important indicator of centrality, the fact that mean, median, and mode are within a few hundred dollars for each borough indicates the data is centered around:\n",
    "\n",
    "$3,300 for Brooklyn\n",
    "$3,900 for Manhattan\n",
    "$2,300 for Queens\n",
    "\"\"\""
   ]
  },
  {
   "cell_type": "code",
   "execution_count": null,
   "metadata": {},
   "outputs": [],
   "source": []
  },
  {
   "cell_type": "code",
   "execution_count": null,
   "metadata": {},
   "outputs": [],
   "source": []
  },
  {
   "cell_type": "code",
   "execution_count": null,
   "metadata": {},
   "outputs": [],
   "source": []
  },
  {
   "cell_type": "code",
   "execution_count": null,
   "metadata": {},
   "outputs": [],
   "source": []
  },
  {
   "cell_type": "code",
   "execution_count": null,
   "metadata": {},
   "outputs": [],
   "source": []
  }
 ],
 "metadata": {
  "interpreter": {
   "hash": "33bea494317c8c22a4760028ceed23349c4667bf8f6d1305a13b8d31b6e7f27d"
  },
  "kernelspec": {
   "display_name": "Python 3.9.7 ('base')",
   "language": "python",
   "name": "python3"
  },
  "language_info": {
   "codemirror_mode": {
    "name": "ipython",
    "version": 3
   },
   "file_extension": ".py",
   "mimetype": "text/x-python",
   "name": "python",
   "nbconvert_exporter": "python",
   "pygments_lexer": "ipython3",
   "version": "3.9.7"
  },
  "orig_nbformat": 4
 },
 "nbformat": 4,
 "nbformat_minor": 2
}

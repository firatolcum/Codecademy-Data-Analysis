{
 "cells": [
  {
   "cell_type": "markdown",
   "id": "c48e4177",
   "metadata": {},
   "source": [
    "## Describe a Histogram"
   ]
  },
  {
   "cell_type": "markdown",
   "id": "15ae1afe",
   "metadata": {},
   "source": [
    "- At this point, you should be familiar with what a histogram displays. In this lesson, we’re going to build on those skills by learning the best way to describe a statistical distribution.\n",
    "\n",
    "- While many people know the functions to plot a histogram, few spend the time to learn how to fully, and concisely communicate what it means.\n",
    "\n",
    "- In this lesson, you will learn how to interpret a distribution using the following five features of a dataset:\n",
    "    - Center\n",
    "    - Spread\n",
    "    - Skew\n",
    "    - Modality\n",
    "    - Outliers\n",
    "\n",
    "- Throughout this lesson, we will use data from the United States Health and Human Services Department to compare the cost of the same medical procedure at over 2,000 hospitals across the country."
   ]
  },
  {
   "cell_type": "markdown",
   "id": "d33cd1db",
   "metadata": {},
   "source": [
    "The histogram to the right displays the average cost of chest pain treatment for over 2,000 hospitals across the United States. As you work your way through this lesson, you will fill in the blanks for the following statement about this histogram:\n",
    "\n",
    "This histogram displays the distribution of chest pain cost for over 2,000 hospitals across the United States. The average and median costs are $?????????? and ??????????, respectively. Given that the data is ??????????modal, with one local maximum and a ??????????-skew, the fact that the average is ?????????? than the median, matches our expectation.\n",
    "\n",
    "The range of costs is very large, ??????????, with the smallest cost equal to ?????????? and the largest cost equal to $??????????. There is one hospital, ??????????, that charges far more than the rest at ??????????."
   ]
  },
  {
   "cell_type": "code",
   "execution_count": 1,
   "id": "9a950edc",
   "metadata": {},
   "outputs": [],
   "source": [
    "import pandas as pd\n",
    "import numpy as np\n",
    "import matplotlib.pyplot as plt\n",
    "import seaborn as sns"
   ]
  },
  {
   "cell_type": "code",
   "execution_count": 4,
   "id": "52957bc9",
   "metadata": {},
   "outputs": [
    {
     "data": {
      "text/html": [
       "<div>\n",
       "<style scoped>\n",
       "    .dataframe tbody tr th:only-of-type {\n",
       "        vertical-align: middle;\n",
       "    }\n",
       "\n",
       "    .dataframe tbody tr th {\n",
       "        vertical-align: top;\n",
       "    }\n",
       "\n",
       "    .dataframe thead th {\n",
       "        text-align: right;\n",
       "    }\n",
       "</style>\n",
       "<table border=\"1\" class=\"dataframe\">\n",
       "  <thead>\n",
       "    <tr style=\"text-align: right;\">\n",
       "      <th></th>\n",
       "      <th>DRG Definition</th>\n",
       "      <th>Provider Id</th>\n",
       "      <th>Provider Name</th>\n",
       "      <th>Provider Street Address</th>\n",
       "      <th>Provider City</th>\n",
       "      <th>Provider State</th>\n",
       "      <th>Provider Zip Code</th>\n",
       "      <th>Hospital Referral Region Description</th>\n",
       "      <th>Total Discharges</th>\n",
       "      <th>Average Covered Charges</th>\n",
       "      <th>Average Total Payments</th>\n",
       "      <th>Average Medicare Payments</th>\n",
       "    </tr>\n",
       "  </thead>\n",
       "  <tbody>\n",
       "    <tr>\n",
       "      <th>80531</th>\n",
       "      <td>313 - CHEST PAIN</td>\n",
       "      <td>220108</td>\n",
       "      <td>MILTON HOSPITAL INC</td>\n",
       "      <td>199 REEDSDALE ROAD</td>\n",
       "      <td>MILTON</td>\n",
       "      <td>MA</td>\n",
       "      <td>2186</td>\n",
       "      <td>MA - Boston</td>\n",
       "      <td>43</td>\n",
       "      <td>6760.53</td>\n",
       "      <td>3547.00</td>\n",
       "      <td>2633.04</td>\n",
       "    </tr>\n",
       "    <tr>\n",
       "      <th>82205</th>\n",
       "      <td>313 - CHEST PAIN</td>\n",
       "      <td>10001</td>\n",
       "      <td>SOUTHEAST ALABAMA MEDICAL CENTER</td>\n",
       "      <td>1108 ROSS CLARK CIRCLE</td>\n",
       "      <td>DOTHAN</td>\n",
       "      <td>AL</td>\n",
       "      <td>36301</td>\n",
       "      <td>AL - Dothan</td>\n",
       "      <td>36</td>\n",
       "      <td>19540.55</td>\n",
       "      <td>3428.58</td>\n",
       "      <td>2093.38</td>\n",
       "    </tr>\n",
       "    <tr>\n",
       "      <th>82206</th>\n",
       "      <td>313 - CHEST PAIN</td>\n",
       "      <td>10006</td>\n",
       "      <td>ELIZA COFFEE MEMORIAL HOSPITAL</td>\n",
       "      <td>205 MARENGO STREET</td>\n",
       "      <td>FLORENCE</td>\n",
       "      <td>AL</td>\n",
       "      <td>35631</td>\n",
       "      <td>AL - Birmingham</td>\n",
       "      <td>13</td>\n",
       "      <td>20241.84</td>\n",
       "      <td>3849.76</td>\n",
       "      <td>1704.53</td>\n",
       "    </tr>\n",
       "    <tr>\n",
       "      <th>82207</th>\n",
       "      <td>313 - CHEST PAIN</td>\n",
       "      <td>10007</td>\n",
       "      <td>MIZELL MEMORIAL HOSPITAL</td>\n",
       "      <td>702 N MAIN ST</td>\n",
       "      <td>OPP</td>\n",
       "      <td>AL</td>\n",
       "      <td>36467</td>\n",
       "      <td>AL - Dothan</td>\n",
       "      <td>34</td>\n",
       "      <td>6417.20</td>\n",
       "      <td>2808.08</td>\n",
       "      <td>1872.38</td>\n",
       "    </tr>\n",
       "    <tr>\n",
       "      <th>82208</th>\n",
       "      <td>313 - CHEST PAIN</td>\n",
       "      <td>10011</td>\n",
       "      <td>ST VINCENT'S EAST</td>\n",
       "      <td>50 MEDICAL PARK EAST DRIVE</td>\n",
       "      <td>BIRMINGHAM</td>\n",
       "      <td>AL</td>\n",
       "      <td>35235</td>\n",
       "      <td>AL - Birmingham</td>\n",
       "      <td>33</td>\n",
       "      <td>13311.78</td>\n",
       "      <td>2997.00</td>\n",
       "      <td>2113.84</td>\n",
       "    </tr>\n",
       "  </tbody>\n",
       "</table>\n",
       "</div>"
      ],
      "text/plain": [
       "         DRG Definition  Provider Id                     Provider Name  \\\n",
       "80531  313 - CHEST PAIN       220108               MILTON HOSPITAL INC   \n",
       "82205  313 - CHEST PAIN        10001  SOUTHEAST ALABAMA MEDICAL CENTER   \n",
       "82206  313 - CHEST PAIN        10006    ELIZA COFFEE MEMORIAL HOSPITAL   \n",
       "82207  313 - CHEST PAIN        10007          MIZELL MEMORIAL HOSPITAL   \n",
       "82208  313 - CHEST PAIN        10011                 ST VINCENT'S EAST   \n",
       "\n",
       "          Provider Street Address Provider City Provider State  \\\n",
       "80531          199 REEDSDALE ROAD        MILTON             MA   \n",
       "82205      1108 ROSS CLARK CIRCLE        DOTHAN             AL   \n",
       "82206          205 MARENGO STREET      FLORENCE             AL   \n",
       "82207               702 N MAIN ST           OPP             AL   \n",
       "82208  50 MEDICAL PARK EAST DRIVE    BIRMINGHAM             AL   \n",
       "\n",
       "       Provider Zip Code Hospital Referral Region Description  \\\n",
       "80531               2186                          MA - Boston   \n",
       "82205              36301                          AL - Dothan   \n",
       "82206              35631                      AL - Birmingham   \n",
       "82207              36467                          AL - Dothan   \n",
       "82208              35235                      AL - Birmingham   \n",
       "\n",
       "        Total Discharges    Average Covered Charges   \\\n",
       "80531                  43                    6760.53   \n",
       "82205                  36                   19540.55   \n",
       "82206                  13                   20241.84   \n",
       "82207                  34                    6417.20   \n",
       "82208                  33                   13311.78   \n",
       "\n",
       "        Average Total Payments   Average Medicare Payments  \n",
       "80531                   3547.00                    2633.04  \n",
       "82205                   3428.58                    2093.38  \n",
       "82206                   3849.76                    1704.53  \n",
       "82207                   2808.08                    1872.38  \n",
       "82208                   2997.00                    2113.84  "
      ]
     },
     "execution_count": 4,
     "metadata": {},
     "output_type": "execute_result"
    }
   ],
   "source": [
    "cp_data = pd.read_csv(\"cp.csv\", index_col=0)\n",
    "cp_data.head()"
   ]
  },
  {
   "cell_type": "code",
   "execution_count": 12,
   "id": "977e8ac3",
   "metadata": {},
   "outputs": [
    {
     "data": {
      "text/plain": [
       "Index(['DRG Definition', 'Provider Id', 'Provider Name',\n",
       "       'Provider Street Address', 'Provider City', 'Provider State',\n",
       "       'Provider Zip Code', 'Hospital Referral Region Description',\n",
       "       ' Total Discharges ', ' Average Covered Charges ',\n",
       "       ' Average Total Payments ', 'Average Medicare Payments'],\n",
       "      dtype='object')"
      ]
     },
     "execution_count": 12,
     "metadata": {},
     "output_type": "execute_result"
    }
   ],
   "source": [
    "cp_data.columns"
   ]
  },
  {
   "cell_type": "markdown",
   "id": "085d7f06",
   "metadata": {},
   "source": [
    "### Center\n",
    "One of the most common ways to summarize a dataset is to communicate its center. In this lesson, we will use `average` and `median` as our measures of centrality."
   ]
  },
  {
   "cell_type": "code",
   "execution_count": 49,
   "id": "5bef93f3",
   "metadata": {},
   "outputs": [
    {
     "data": {
      "image/png": "[encoded data removed]",
      "text/plain": [
       "<Figure size 432x288 with 1 Axes>"
      ]
     },
     "metadata": {
      "needs_background": "light"
     },
     "output_type": "display_data"
    }
   ],
   "source": [
    "plt.hist(cp_data[\" Average Covered Charges \"], bins=20, edgecolor=\"black\")\n",
    "\n",
    "plt.title(\"Distribution of Chest Pain Treatment Cost by Hospital\")\n",
    "plt.xlabel(\"Cost ($)\", fontsize = 16)\n",
    "plt.ylabel(\"Count\", fontsize = 16)\n",
    "\n",
    "plt.axvline(cp_data[\" Average Covered Charges \"].mean(), color='red', linestyle='dashed', linewidth=2, label= \"mean\")\n",
    "plt.axvline(cp_data[\" Average Covered Charges \"].median(), color = \"yellow\", linestyle = \"--\", linewidth=2, label = \"median\")\n",
    "\n",
    "plt.legend()\n",
    "plt.show()\n"
   ]
  },
  {
   "cell_type": "markdown",
   "id": "a9407869",
   "metadata": {},
   "source": [
    "### Spread\n",
    "Once you’ve found the center of your data, you can shift to identifying the extremes of your dataset: the minimum and maximum values. These values, taken with the mean and median, begin to indicate the shape of the underlying dataset.\n"
   ]
  },
  {
   "cell_type": "code",
   "execution_count": 52,
   "id": "62a7dc18",
   "metadata": {},
   "outputs": [
    {
     "name": "stdout",
     "output_type": "stream",
     "text": [
      "Mean of Average Coverd Charges: 16948\n"
     ]
    }
   ],
   "source": [
    "mean = round(cp_data[\" Average Covered Charges \"].mean())\n",
    "print(f\"Mean of Average Coverd Charges: {mean}\")"
   ]
  },
  {
   "cell_type": "code",
   "execution_count": 53,
   "id": "8dfad357",
   "metadata": {},
   "outputs": [
    {
     "name": "stdout",
     "output_type": "stream",
     "text": [
      "Median of Average Coverd Charges: 14660\n"
     ]
    }
   ],
   "source": [
    "median = round(cp_data[\" Average Covered Charges \"].median())\n",
    "print(f\"Median of Average Coverd Charges: {median}\")"
   ]
  },
  {
   "cell_type": "code",
   "execution_count": 57,
   "id": "d140abe7",
   "metadata": {},
   "outputs": [
    {
     "name": "stdout",
     "output_type": "stream",
     "text": [
      "Min of Average Coverd Charges: 2459\n"
     ]
    }
   ],
   "source": [
    "min_ = round(cp_data[\" Average Covered Charges \"].min())\n",
    "print(f\"Min of Average Coverd Charges: {min_}\")"
   ]
  },
  {
   "cell_type": "code",
   "execution_count": 56,
   "id": "b8adad8f",
   "metadata": {},
   "outputs": [
    {
     "name": "stdout",
     "output_type": "stream",
     "text": [
      "Max of Average Coverd Charges: 81083\n"
     ]
    }
   ],
   "source": [
    "max_ = round(cp_data[\" Average Covered Charges \"].max())\n",
    "print(f\"Max of Average Coverd Charges: {max_}\")"
   ]
  },
  {
   "cell_type": "markdown",
   "id": "e37e7744",
   "metadata": {},
   "source": [
    "### Skew\n",
    "Once you have the center and range of your data, you can begin to describe its shape. The skew of a dataset is a description of the data’s symmetry.\n",
    "\n",
    "- A dataset with one prominent peak, and similar tails to the left and right is called `symmetric`. The median and mean of a symmetric dataset are similar.\n",
    "\n",
    "- A histogram with a tail that extends to the right is called a `right-skewed` dataset. The median of this dataset is less than the mean.\n",
    "\n",
    "- A histogram with one prominent peak to the right, and a tail that extends to the left is called a `left-skewed` dataset. The median of this dataset is greater than the mean."
   ]
  },
  {
   "cell_type": "code",
   "execution_count": 58,
   "id": "0a9ad0c9",
   "metadata": {},
   "outputs": [
    {
     "data": {
      "image/png": "[encoded data removed]",
      "text/plain": [
       "<Figure size 432x288 with 1 Axes>"
      ]
     },
     "metadata": {
      "needs_background": "light"
     },
     "output_type": "display_data"
    }
   ],
   "source": [
    "plt.hist(cp_data[\" Average Covered Charges \"], bins=20, edgecolor=\"black\")\n",
    "\n",
    "plt.title(\"Distribution of Chest Pain Treatment Cost by Hospital\")\n",
    "plt.xlabel(\"Cost ($)\", fontsize = 16)\n",
    "plt.ylabel(\"Count\", fontsize = 16)\n",
    "\n",
    "plt.axvline(cp_data[\" Average Covered Charges \"].mean(), color='red', linestyle='dashed', linewidth=2, label= \"mean\")\n",
    "plt.axvline(cp_data[\" Average Covered Charges \"].median(), color = \"yellow\", linestyle = \"--\", linewidth=2, label = \"median\")\n",
    "\n",
    "plt.legend()\n",
    "plt.show()\n",
    "\n",
    "# Right-Skewed"
   ]
  },
  {
   "cell_type": "markdown",
   "id": "3ed12c0e",
   "metadata": {},
   "source": [
    "### Modality\n",
    "The modality describes the number of peaks in a dataset. \n",
    " - Thus far, we have only looked at datasets with one distinct peak, known as `unimodal`. This is the most common.\n",
    "\n",
    " - A `bimodal` dataset has two distinct peaks.\n",
    "\n",
    " - A `multimodal` dataset has more than two peaks. The histogram below displays three peaks.\n",
    "\n",
    " - You may also see datasets with no obvious clustering. Datasets such as these are called `uniform` distributions."
   ]
  },
  {
   "cell_type": "code",
   "execution_count": 59,
   "id": "cee0ac5a",
   "metadata": {},
   "outputs": [
    {
     "data": {
      "image/png": "[encoded data removed]",
      "text/plain": [
       "<Figure size 432x288 with 1 Axes>"
      ]
     },
     "metadata": {
      "needs_background": "light"
     },
     "output_type": "display_data"
    }
   ],
   "source": [
    "plt.hist(cp_data[\" Average Covered Charges \"], bins=20, edgecolor=\"black\")\n",
    "\n",
    "plt.title(\"Distribution of Chest Pain Treatment Cost by Hospital\")\n",
    "plt.xlabel(\"Cost ($)\", fontsize = 16)\n",
    "plt.ylabel(\"Count\", fontsize = 16)\n",
    "\n",
    "plt.axvline(cp_data[\" Average Covered Charges \"].mean(), color='red', linestyle='dashed', linewidth=2, label= \"mean\")\n",
    "plt.axvline(cp_data[\" Average Covered Charges \"].median(), color = \"yellow\", linestyle = \"--\", linewidth=2, label = \"median\")\n",
    "\n",
    "plt.legend()\n",
    "plt.show()\n",
    "\n",
    "# Unimodal"
   ]
  },
  {
   "cell_type": "markdown",
   "id": "dd6cb3f1",
   "metadata": {},
   "source": [
    "### Outliers\n",
    "\n",
    "An outlier is a data point that is far away from the rest of the dataset. Outliers do not have a formal definition, but are easy to determine by looking at histogram. The histogram below shows an example of an outlier. There is one datapoint that is much larger than the rest.\n",
    "\n",
    "If you see an outlier in your dataset, it’s worth reporting and investigating. This data can often indicate an error in your data or an interesting insight."
   ]
  },
  {
   "cell_type": "code",
   "execution_count": 60,
   "id": "9cb4800d",
   "metadata": {},
   "outputs": [
    {
     "data": {
      "image/png": "[encoded data removed]",
      "text/plain": [
       "<Figure size 432x288 with 1 Axes>"
      ]
     },
     "metadata": {
      "needs_background": "light"
     },
     "output_type": "display_data"
    }
   ],
   "source": [
    "plt.hist(cp_data[\" Average Covered Charges \"], bins=20, edgecolor=\"black\")\n",
    "\n",
    "plt.title(\"Distribution of Chest Pain Treatment Cost by Hospital\")\n",
    "plt.xlabel(\"Cost ($)\", fontsize = 16)\n",
    "plt.ylabel(\"Count\", fontsize = 16)\n",
    "\n",
    "plt.axvline(cp_data[\" Average Covered Charges \"].mean(), color='red', linestyle='dashed', linewidth=2, label= \"mean\")\n",
    "plt.axvline(cp_data[\" Average Covered Charges \"].median(), color = \"yellow\", linestyle = \"--\", linewidth=2, label = \"median\")\n",
    "\n",
    "plt.legend()\n",
    "plt.show()\n",
    "\n",
    "# 80.000 (outlier)"
   ]
  },
  {
   "cell_type": "markdown",
   "id": "a376885a",
   "metadata": {},
   "source": [
    "###  Conclusion\n",
    "This histogram displays the distribution of chest pain cost for over 2,000 hospitals across the United States. The average and median costs are $16,948 and 14,659.6, respectively. Given that the data is unimodal, with one local maximum and a right skew, the fact that the average is greater than the median, matches our expectation.\n",
    "\n",
    "The range of costs is very large, 78,623, with the smallest cost equal to $2,459 and the largest cost equal to 81,083. There is one hospital, Bayonne Hospital Center, that charges far more than the rest at 81,083."
   ]
  },
  {
   "cell_type": "code",
   "execution_count": null,
   "id": "6f59207b",
   "metadata": {},
   "outputs": [],
   "source": []
  }
 ],
 "metadata": {
  "kernelspec": {
   "display_name": "Python 3 (ipykernel)",
   "language": "python",
   "name": "python3"
  },
  "language_info": {
   "codemirror_mode": {
    "name": "ipython",
    "version": 3
   },
   "file_extension": ".py",
   "mimetype": "text/x-python",
   "name": "python",
   "nbconvert_exporter": "python",
   "pygments_lexer": "ipython3",
   "version": "3.9.12"
  }
 },
 "nbformat": 4,
 "nbformat_minor": 5
}

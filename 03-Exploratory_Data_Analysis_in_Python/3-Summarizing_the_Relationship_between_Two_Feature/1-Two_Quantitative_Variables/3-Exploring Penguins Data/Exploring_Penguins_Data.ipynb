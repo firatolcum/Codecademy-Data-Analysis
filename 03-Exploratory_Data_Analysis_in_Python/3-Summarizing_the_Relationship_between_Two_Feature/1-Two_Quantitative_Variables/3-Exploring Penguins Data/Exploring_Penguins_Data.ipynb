{
 "cells": [
  {
   "cell_type": "markdown",
   "id": "c9492a73",
   "metadata": {},
   "source": [
    "## <center> Exploring Penguins Data"
   ]
  },
  {
   "cell_type": "markdown",
   "id": "766b87b0",
   "metadata": {},
   "source": [
    "## About Data\n",
    "Note that the dataset used in this lesson was downloaded from kaggle.<br>\n",
    "The provided data (penguins.csv) includes the following variables/features:\n",
    "- **species:** a factor denoting penguin species (Adélie, Chinstrap and Gentoo)\n",
    "- **bill_length_mm:** a number denoting bill length (millimeters)\n",
    "- **bill_depth_mm:** a number denoting bill depth (millimeters)\n",
    "- **flipper_length_mm:** an integer denoting flipper length (millimeters)\n",
    "- **body_mass_g:** an integer denoting body mass (grams)\n",
    "- **sex:** a factor denoting penguin sex (female, male)\n"
   ]
  },
  {
   "cell_type": "code",
   "execution_count": 2,
   "id": "388c1c7b",
   "metadata": {},
   "outputs": [],
   "source": [
    "import pandas as pd\n",
    "import numpy as np\n",
    "import matplotlib.pyplot as plt\n",
    "import seaborn as sns\n",
    "from scipy import stats"
   ]
  },
  {
   "cell_type": "markdown",
   "id": "3355d776",
   "metadata": {},
   "source": [
    "##### Exercise 1\n",
    "Load the dataset and inspect the first few rows of data."
   ]
  },
  {
   "cell_type": "code",
   "execution_count": 5,
   "id": "7efd7bca",
   "metadata": {},
   "outputs": [
    {
     "data": {
      "text/html": [
       "<div>\n",
       "<style scoped>\n",
       "    .dataframe tbody tr th:only-of-type {\n",
       "        vertical-align: middle;\n",
       "    }\n",
       "\n",
       "    .dataframe tbody tr th {\n",
       "        vertical-align: top;\n",
       "    }\n",
       "\n",
       "    .dataframe thead th {\n",
       "        text-align: right;\n",
       "    }\n",
       "</style>\n",
       "<table border=\"1\" class=\"dataframe\">\n",
       "  <thead>\n",
       "    <tr style=\"text-align: right;\">\n",
       "      <th></th>\n",
       "      <th>species</th>\n",
       "      <th>bill_length_mm</th>\n",
       "      <th>bill_depth_mm</th>\n",
       "      <th>flipper_length_mm</th>\n",
       "      <th>body_mass_g</th>\n",
       "      <th>sex</th>\n",
       "    </tr>\n",
       "  </thead>\n",
       "  <tbody>\n",
       "    <tr>\n",
       "      <th>0</th>\n",
       "      <td>Adelie</td>\n",
       "      <td>39.1</td>\n",
       "      <td>18.7</td>\n",
       "      <td>181.0</td>\n",
       "      <td>3750.0</td>\n",
       "      <td>male</td>\n",
       "    </tr>\n",
       "    <tr>\n",
       "      <th>1</th>\n",
       "      <td>Adelie</td>\n",
       "      <td>39.5</td>\n",
       "      <td>17.4</td>\n",
       "      <td>186.0</td>\n",
       "      <td>3800.0</td>\n",
       "      <td>female</td>\n",
       "    </tr>\n",
       "    <tr>\n",
       "      <th>2</th>\n",
       "      <td>Adelie</td>\n",
       "      <td>40.3</td>\n",
       "      <td>18.0</td>\n",
       "      <td>195.0</td>\n",
       "      <td>3250.0</td>\n",
       "      <td>female</td>\n",
       "    </tr>\n",
       "  </tbody>\n",
       "</table>\n",
       "</div>"
      ],
      "text/plain": [
       "  species  bill_length_mm  bill_depth_mm  flipper_length_mm  body_mass_g  \\\n",
       "0  Adelie            39.1           18.7              181.0       3750.0   \n",
       "1  Adelie            39.5           17.4              186.0       3800.0   \n",
       "2  Adelie            40.3           18.0              195.0       3250.0   \n",
       "\n",
       "      sex  \n",
       "0    male  \n",
       "1  female  \n",
       "2  female  "
      ]
     },
     "execution_count": 5,
     "metadata": {},
     "output_type": "execute_result"
    }
   ],
   "source": [
    "penguins = pd.read_csv(\"penguins.csv\")\n",
    "penguins.head(3)"
   ]
  },
  {
   "cell_type": "markdown",
   "id": "382fff3d",
   "metadata": {},
   "source": [
    "##### Exercise 2\n",
    "Create a scatter plot of flipper length (`flipper_length_mm`) and body mass (`body_mass_g`).<br>\n",
    "Inspect your plot. What is the relationship between these variables?"
   ]
  },
  {
   "cell_type": "code",
   "execution_count": 11,
   "id": "e98b6d58",
   "metadata": {},
   "outputs": [
    {
     "data": {
      "image/png": "[encoded data removed]",
      "text/plain": [
       "<Figure size 576x360 with 1 Axes>"
      ]
     },
     "metadata": {
      "needs_background": "light"
     },
     "output_type": "display_data"
    }
   ],
   "source": [
    "plt.figure(figsize=(8,5))\n",
    "sns.scatterplot(data=penguins, x=\"body_mass_g\", y=\"flipper_length_mm\");\n",
    "# There is a positive strong linear association between body_mass_g and flipper_length_mm."
   ]
  },
  {
   "cell_type": "markdown",
   "id": "b3aea4bf",
   "metadata": {},
   "source": [
    "##### Exercise 3\n",
    "Calculate the `covariance` for these two variables."
   ]
  },
  {
   "cell_type": "code",
   "execution_count": 20,
   "id": "f59849cf",
   "metadata": {},
   "outputs": [
    {
     "name": "stdout",
     "output_type": "stream",
     "text": [
      "Covariance: 9852.191649480807\n"
     ]
    }
   ],
   "source": [
    "covariance = np.cov(penguins[\"body_mass_g\"], penguins[\"flipper_length_mm\"])[0,1]\n",
    "print(f\"Covariance: {covariance}\")"
   ]
  },
  {
   "cell_type": "markdown",
   "id": "2d96dea4",
   "metadata": {},
   "source": [
    "##### Exercise 4\n",
    "Calculate the `correlation` for these two variables. Does this number make sense given the plot you created?"
   ]
  },
  {
   "cell_type": "code",
   "execution_count": 17,
   "id": "17644126",
   "metadata": {},
   "outputs": [
    {
     "name": "stdout",
     "output_type": "stream",
     "text": [
      "Correlation coefficient: 0.8729788985653615, p-value: 3.132836250971527e-105\n"
     ]
    }
   ],
   "source": [
    "corrcoef, p = stats.pearsonr(penguins[\"body_mass_g\"], penguins[\"flipper_length_mm\"])\n",
    "print(f\"Correlation coefficient: {corrcoef}, p-value: {p}\")"
   ]
  }
 ],
 "metadata": {
  "kernelspec": {
   "display_name": "Python 3 (ipykernel)",
   "language": "python",
   "name": "python3"
  },
  "language_info": {
   "codemirror_mode": {
    "name": "ipython",
    "version": 3
   },
   "file_extension": ".py",
   "mimetype": "text/x-python",
   "name": "python",
   "nbconvert_exporter": "python",
   "pygments_lexer": "ipython3",
   "version": "3.9.12"
  }
 },
 "nbformat": 4,
 "nbformat_minor": 5
}

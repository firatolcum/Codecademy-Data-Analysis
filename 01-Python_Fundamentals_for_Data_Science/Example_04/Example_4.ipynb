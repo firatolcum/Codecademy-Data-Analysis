{
 "cells": [
  {
   "cell_type": "code",
   "execution_count": 1,
   "metadata": {},
   "outputs": [],
   "source": [
    "\"\"\"import pandas library\"\"\"\n",
    "import pandas as pd"
   ]
  },
  {
   "cell_type": "code",
   "execution_count": 17,
   "metadata": {},
   "outputs": [
    {
     "name": "stdout",
     "output_type": "stream",
     "text": [
      "                        name             mfr type  fiber  rating shelf  \\\n",
      "0                  100% Bran          Nestle    C   10.0   68.40   top   \n",
      "1          100% Natural Bran     Quaker Oats    C    2.0   33.98   top   \n",
      "2                   All-Bran        Kelloggs    C    9.0   59.43   top   \n",
      "3  All-Bran with Extra Fiber        Kelloggs    C   14.0   93.70   top   \n",
      "4             Almond Delight  Ralston Purina    C    1.0   34.38   top   \n",
      "\n",
      "   vitamins  coupons  price  \n",
      "0        25        4   4.06  \n",
      "1         0        1   4.62  \n",
      "2        25        3   4.39  \n",
      "3        25        2   6.18  \n",
      "4        25        2   6.05  \n"
     ]
    }
   ],
   "source": [
    "\"\"\"open and view the first five rows of the cereal dataframe.\"\"\"\n",
    "cereal = pd.read_csv(\"cereal.csv\", index_col=0)\n",
    "print(cereal.head())"
   ]
  },
  {
   "cell_type": "code",
   "execution_count": 18,
   "metadata": {},
   "outputs": [
    {
     "name": "stdout",
     "output_type": "stream",
     "text": [
      "                        name type  fiber  rating shelf  vitamins  coupons  \\\n",
      "0                  100% Bran    C   10.0   68.40   top        25        4   \n",
      "1          100% Natural Bran    C    2.0   33.98   top         0        1   \n",
      "2                   All-Bran    C    9.0   59.43   top        25        3   \n",
      "3  All-Bran with Extra Fiber    C   14.0   93.70   top        25        2   \n",
      "4             Almond Delight    C    1.0   34.38   top        25        2   \n",
      "\n",
      "   price  mfr_American Home  mfr_General Mills  mfr_Kelloggs  mfr_Nestle  \\\n",
      "0   4.06                  0                  0             0           1   \n",
      "1   4.62                  0                  0             0           0   \n",
      "2   4.39                  0                  0             1           0   \n",
      "3   6.18                  0                  0             1           0   \n",
      "4   6.05                  0                  0             0           0   \n",
      "\n",
      "   mfr_Post  mfr_Quaker Oats  mfr_Ralston Purina  \n",
      "0         0                0                   0  \n",
      "1         0                1                   0  \n",
      "2         0                0                   0  \n",
      "3         0                0                   0  \n",
      "4         0                0                   1  \n"
     ]
    }
   ],
   "source": [
    "\"\"\"One-Hot Encode the mfr variable with pd.get_dummies().\"\"\"\n",
    "\n",
    "cereal = pd.get_dummies(data=cereal, columns= [\"mfr\"])\n",
    "print(cereal.head())"
   ]
  }
 ],
 "metadata": {
  "interpreter": {
   "hash": "232e827413a02f55ab2a4e0202aa953f4c3a3c8f9ad034ca3a58e95699cce70a"
  },
  "kernelspec": {
   "display_name": "Python 3.10.1 64-bit",
   "language": "python",
   "name": "python3"
  },
  "language_info": {
   "codemirror_mode": {
    "name": "ipython",
    "version": 3
   },
   "file_extension": ".py",
   "mimetype": "text/x-python",
   "name": "python",
   "nbconvert_exporter": "python",
   "pygments_lexer": "ipython3",
   "version": "3.10.1"
  },
  "orig_nbformat": 4
 },
 "nbformat": 4,
 "nbformat_minor": 2
}

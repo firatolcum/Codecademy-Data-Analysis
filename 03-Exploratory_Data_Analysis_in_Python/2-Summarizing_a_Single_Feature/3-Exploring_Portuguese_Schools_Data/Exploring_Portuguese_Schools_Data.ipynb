{
 "cells": [
  {
   "cell_type": "markdown",
   "id": "048c0247",
   "metadata": {},
   "source": [
    "## <center> Exploring Portuguese Schools Data"
   ]
  },
  {
   "cell_type": "markdown",
   "id": "d40cff52",
   "metadata": {},
   "source": [
    "## About Data\n",
    "The provided data (portuguese_students.csv) includes the following variables/features:\n",
    "- **school:** the school each student attends, Gabriel Periera ('GP') or Mousinho da Silveria ('MS')\n",
    "- **address:** the location of the student’s home ('U' for urban and 'R' for rural)\n",
    "- **absences:** the number of times the student was absent during the school year\n",
    "- **Mjob:** the student’s mother’s job industry\n",
    "- **Fjob:** the student’s father’s job industry\n",
    "- **G3:** the student’s score on a math assessment, ranging from 0 to 20"
   ]
  },
  {
   "cell_type": "code",
   "execution_count": 1,
   "id": "1ece1228",
   "metadata": {},
   "outputs": [],
   "source": [
    "import pandas as pd\n",
    "import numpy as np\n",
    "import matplotlib.pyplot as plt\n",
    "import seaborn as sns\n",
    "from scipy import stats"
   ]
  },
  {
   "cell_type": "markdown",
   "id": "c18aaa1f",
   "metadata": {},
   "source": [
    "## Introduction"
   ]
  },
  {
   "cell_type": "markdown",
   "id": "415a59bf",
   "metadata": {},
   "source": [
    "##### Exercise 1\n",
    "Load the data and inspect the first five rows of students using the ``.head()`` method. <br>\n",
    "Take a look at the other columns. Which are categorical and which are quantitative?"
   ]
  },
  {
   "cell_type": "code",
   "execution_count": 2,
   "id": "e94a3cb0",
   "metadata": {},
   "outputs": [
    {
     "data": {
      "text/html": [
       "<div>\n",
       "<style scoped>\n",
       "    .dataframe tbody tr th:only-of-type {\n",
       "        vertical-align: middle;\n",
       "    }\n",
       "\n",
       "    .dataframe tbody tr th {\n",
       "        vertical-align: top;\n",
       "    }\n",
       "\n",
       "    .dataframe thead th {\n",
       "        text-align: right;\n",
       "    }\n",
       "</style>\n",
       "<table border=\"1\" class=\"dataframe\">\n",
       "  <thead>\n",
       "    <tr style=\"text-align: right;\">\n",
       "      <th></th>\n",
       "      <th>school</th>\n",
       "      <th>address</th>\n",
       "      <th>absences</th>\n",
       "      <th>Mjob</th>\n",
       "      <th>Fjob</th>\n",
       "      <th>G3</th>\n",
       "    </tr>\n",
       "  </thead>\n",
       "  <tbody>\n",
       "    <tr>\n",
       "      <th>0</th>\n",
       "      <td>GP</td>\n",
       "      <td>U</td>\n",
       "      <td>6</td>\n",
       "      <td>at_home</td>\n",
       "      <td>teacher</td>\n",
       "      <td>6</td>\n",
       "    </tr>\n",
       "    <tr>\n",
       "      <th>1</th>\n",
       "      <td>GP</td>\n",
       "      <td>U</td>\n",
       "      <td>4</td>\n",
       "      <td>at_home</td>\n",
       "      <td>other</td>\n",
       "      <td>6</td>\n",
       "    </tr>\n",
       "    <tr>\n",
       "      <th>2</th>\n",
       "      <td>GP</td>\n",
       "      <td>U</td>\n",
       "      <td>10</td>\n",
       "      <td>at_home</td>\n",
       "      <td>other</td>\n",
       "      <td>10</td>\n",
       "    </tr>\n",
       "    <tr>\n",
       "      <th>3</th>\n",
       "      <td>GP</td>\n",
       "      <td>U</td>\n",
       "      <td>2</td>\n",
       "      <td>health</td>\n",
       "      <td>services</td>\n",
       "      <td>15</td>\n",
       "    </tr>\n",
       "    <tr>\n",
       "      <th>4</th>\n",
       "      <td>GP</td>\n",
       "      <td>U</td>\n",
       "      <td>4</td>\n",
       "      <td>other</td>\n",
       "      <td>other</td>\n",
       "      <td>10</td>\n",
       "    </tr>\n",
       "  </tbody>\n",
       "</table>\n",
       "</div>"
      ],
      "text/plain": [
       "  school address  absences     Mjob      Fjob  G3\n",
       "0     GP       U         6  at_home   teacher   6\n",
       "1     GP       U         4  at_home     other   6\n",
       "2     GP       U        10  at_home     other  10\n",
       "3     GP       U         2   health  services  15\n",
       "4     GP       U         4    other     other  10"
      ]
     },
     "execution_count": 2,
     "metadata": {},
     "output_type": "execute_result"
    }
   ],
   "source": [
    "students = pd.read_csv(\"portuguese_students.csv\")\n",
    "students.head()"
   ]
  },
  {
   "cell_type": "markdown",
   "id": "e5d346c5",
   "metadata": {},
   "source": [
    "##### Exercise 2\n",
    "Suppose that we want to know whether there is an association between student math scores (G3) and the student’s address (urban or rural). <br>\n",
    "- Separate out G3 scores into two separate lists: \n",
    "    - one for students who live in an urban location ('U') and one for students who live in a rural location ('R'). \n",
    "    - Name these lists `scores_urban` and `scores_rural`."
   ]
  },
  {
   "cell_type": "code",
   "execution_count": 13,
   "id": "f3071626",
   "metadata": {},
   "outputs": [],
   "source": [
    "scores_urban = students[students[\"address\"] == \"U\"][\"G3\"]\n",
    "scores_rural = students[students[\"address\"] == \"R\"][\"G3\"]"
   ]
  },
  {
   "cell_type": "markdown",
   "id": "5b2844b7",
   "metadata": {},
   "source": [
    "## Mean and Median Differences"
   ]
  },
  {
   "cell_type": "markdown",
   "id": "5632e50a",
   "metadata": {},
   "source": [
    "##### Exercise 3\n",
    " Use `scores_urban` and `scores_rural` lists to calculate the mean score for both groups. <br>\n",
    " Store the results as `scores_urban_mean` and `scores_rural_mean`, respectively."
   ]
  },
  {
   "cell_type": "code",
   "execution_count": 16,
   "id": "4a601a52",
   "metadata": {},
   "outputs": [],
   "source": [
    "scores_urban_mean = scores_urban.mean()\n",
    "scores_rural_mean = scores_rural.mean()"
   ]
  },
  {
   "cell_type": "markdown",
   "id": "320e52ac",
   "metadata": {},
   "source": [
    "##### Exercise 4\n",
    "Calculate the mean difference between the two groups and save the result as `mean_diff`.<br>\n",
    "Based on this number, do you think the variables are associated? Why or why not?"
   ]
  },
  {
   "cell_type": "code",
   "execution_count": 36,
   "id": "2a391182",
   "metadata": {},
   "outputs": [
    {
     "name": "stdout",
     "output_type": "stream",
     "text": [
      "The difference between the means is very close to each other, there is only 1.16 point difference.\n",
      "We can say that living in a rural or urban area has no effect on the score.\n"
     ]
    }
   ],
   "source": [
    "mean_diff = abs(scores_rural_mean - scores_urban_mean)\n",
    "mean_diff\n",
    "print(\"\"\"The difference between the means is very close to each other, there is only 1.16 point difference.\n",
    "We can say that living in a rural or urban area has no effect on the score.\"\"\")"
   ]
  },
  {
   "cell_type": "markdown",
   "id": "90a95049",
   "metadata": {},
   "source": [
    "##### Exercise 5\n",
    "Use the lists to calculate the median score for both groups. <br>\n",
    "Store the results as `scores_urban_median`, `scores_rural_median`, respectively. Print out the result of each variable."
   ]
  },
  {
   "cell_type": "code",
   "execution_count": 21,
   "id": "f97ef108",
   "metadata": {},
   "outputs": [
    {
     "name": "stdout",
     "output_type": "stream",
     "text": [
      "The score median of the urban area is 11.0.\n",
      "The score median of the rural area is 10.0.\n"
     ]
    }
   ],
   "source": [
    "scores_urban_median = scores_urban.median()\n",
    "scores_rural_median = scores_rural.median()\n",
    "print(f\"The score median of the urban area is {scores_urban_median}.\")\n",
    "print(f\"The score median of the rural area is {scores_rural_median}.\")"
   ]
  },
  {
   "cell_type": "markdown",
   "id": "e9fae1fa",
   "metadata": {},
   "source": [
    "##### Exercise 6\n",
    "Calculate the median difference between the two groups, save the result as `median_diff`. <br>\n",
    "Based on this value, do you think the variables are associated? Why or why not?"
   ]
  },
  {
   "cell_type": "code",
   "execution_count": 35,
   "id": "aa5b5e70",
   "metadata": {},
   "outputs": [
    {
     "name": "stdout",
     "output_type": "stream",
     "text": [
      "The difference between the medians is very close to each other, there is only 1 point difference.\n",
      "We can say that living in a rural or urban area has no effect on the score.\n"
     ]
    }
   ],
   "source": [
    "median_diff = abs(scores_rural_median - scores_urban_median)\n",
    "median_diff\n",
    "print(\"\"\"The difference between the medians is very close to each other, there is only 1 point difference.\n",
    "We can say that living in a rural or urban area has no effect on the score.\"\"\")"
   ]
  },
  {
   "cell_type": "markdown",
   "id": "f970721b",
   "metadata": {},
   "source": [
    "## Side-by-Side Box Plots"
   ]
  },
  {
   "cell_type": "markdown",
   "id": "d44da24c",
   "metadata": {},
   "source": [
    "##### Exercise 7\n",
    "Generate side-by-side boxplots for student scores (G3) by address.<br>\n",
    "Is there any overlap between the boxes? Do you think the variables are associated?"
   ]
  },
  {
   "cell_type": "code",
   "execution_count": 40,
   "id": "e7ab7077",
   "metadata": {},
   "outputs": [
    {
     "data": {
      "image/png": "[encoded data removed]",
      "text/plain": [
       "<Figure size 432x288 with 1 Axes>"
      ]
     },
     "metadata": {
      "needs_background": "light"
     },
     "output_type": "display_data"
    },
    {
     "name": "stdout",
     "output_type": "stream",
     "text": [
      "There is not much difference between the math scores of the two groups.\n"
     ]
    },
    {
     "data": {
      "text/plain": [
       "<Figure size 432x288 with 0 Axes>"
      ]
     },
     "metadata": {},
     "output_type": "display_data"
    }
   ],
   "source": [
    "sns.boxplot(data=students, x=\"address\", y=\"G3\")\n",
    "plt.title(\"Math scores of Urban and Rural Area\")\n",
    "plt.show()\n",
    "plt.clf()\n",
    "\n",
    "print(\"There is not much difference between the math scores of the two groups.\")"
   ]
  },
  {
   "cell_type": "markdown",
   "id": "aa69553c",
   "metadata": {},
   "source": [
    "## Inspecting Overlapping Histograms"
   ]
  },
  {
   "cell_type": "markdown",
   "id": "f278589e",
   "metadata": {},
   "source": [
    "##### Exercise 8\n",
    " Use `scores_urban` and `scores_rural` to create an overlaid histogram of scores for students who live in urban and rural locations.\n",
    "\n",
    "Remember to use different colors for each histogram, set ``normed = True``, ``alpha = 0.5``, and use the labels 'Urban' and 'Rural', respectively.\n",
    "\n",
    "Based on the overlaid histogram, do you think there is an association between these two variables?"
   ]
  },
  {
   "cell_type": "code",
   "execution_count": 52,
   "id": "5be0527f",
   "metadata": {},
   "outputs": [
    {
     "data": {
      "image/png": "[encoded data removed]",
      "text/plain": [
       "<Figure size 432x288 with 1 Axes>"
      ]
     },
     "metadata": {
      "needs_background": "light"
     },
     "output_type": "display_data"
    }
   ],
   "source": [
    "plt.hist(scores_urban, color= \"red\", label=\"Urban\", density=True, alpha=0.5)\n",
    "plt.hist(scores_rural, color= \"green\", label=\"Rural\", density=True, alpha=0.5)\n",
    "\n",
    "plt.legend()\n",
    "plt.show()\n",
    "\n",
    "# We can clearly see that the entire distribution of scores of Urban Area appears slightly shifted to the right.\n",
    "# However, there is also still a lot of overlap between scores, suggesting that the association is relatively weak."
   ]
  },
  {
   "cell_type": "markdown",
   "id": "08140332",
   "metadata": {},
   "source": [
    "## Exploring Non-Binary Categorical Variables\n",
    "Non-binary categorical variables have more than two categories."
   ]
  },
  {
   "cell_type": "markdown",
   "id": "a5e06646",
   "metadata": {},
   "source": [
    "##### Exercise 9\n",
    "Create a side-by-side boxplot to assess whether there is an association between students’ math score (G3) and their fathers’ job (Fjob). <br>\n",
    "Do you think there is an association between these variables? For which pairs of groups do you see differences?"
   ]
  },
  {
   "cell_type": "code",
   "execution_count": 57,
   "id": "3f151559",
   "metadata": {},
   "outputs": [
    {
     "data": {
      "image/png": "[encoded data removed]",
      "text/plain": [
       "<Figure size 576x432 with 1 Axes>"
      ]
     },
     "metadata": {
      "needs_background": "light"
     },
     "output_type": "display_data"
    }
   ],
   "source": [
    "plt.figure(figsize=(8,6))\n",
    "sns.boxplot(data=students, x=\"Fjob\", y=\"G3\")\n",
    "plt.show()\n",
    "# We can clearly see that Students whose fathers are teachers by profession have higher math point averages than others."
   ]
  },
  {
   "cell_type": "code",
   "execution_count": null,
   "id": "06b4319e",
   "metadata": {},
   "outputs": [],
   "source": [
    "#After calculating a mean or median difference and visually comparing distributions, \n",
    "#  the next step might be to run a hypothesis test to look for evidence of population-level differences \n",
    "#  (will a similar difference in scores be observed for ALL students who ever attend these schools?)."
   ]
  }
 ],
 "metadata": {
  "kernelspec": {
   "display_name": "Python 3 (ipykernel)",
   "language": "python",
   "name": "python3"
  },
  "language_info": {
   "codemirror_mode": {
    "name": "ipython",
    "version": 3
   },
   "file_extension": ".py",
   "mimetype": "text/x-python",
   "name": "python",
   "nbconvert_exporter": "python",
   "pygments_lexer": "ipython3",
   "version": "3.9.12"
  }
 },
 "nbformat": 4,
 "nbformat_minor": 5
}

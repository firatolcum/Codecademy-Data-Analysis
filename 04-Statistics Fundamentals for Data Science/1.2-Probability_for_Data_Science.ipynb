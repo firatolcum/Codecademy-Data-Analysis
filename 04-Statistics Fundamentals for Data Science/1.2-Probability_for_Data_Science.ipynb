{
 "cells": [
  {
   "cell_type": "markdown",
   "id": "9b569890",
   "metadata": {},
   "source": [
    "# Probability For Data Science"
   ]
  },
  {
   "cell_type": "markdown",
   "id": "782b864c",
   "metadata": {},
   "source": [
    "## 1. Addition Rule\n",
    "P(A or B) = P(A) + P(B) - p(A and B)"
   ]
  },
  {
   "cell_type": "code",
   "execution_count": 3,
   "id": "b718f579",
   "metadata": {},
   "outputs": [],
   "source": [
    "def prob_a_or_b(a, b, all_possible_outcomes):\n",
    "    prob_a = len(a)/len(all_possible_outcomes)\n",
    "    prob_b = len(b)/len(all_possible_outcomes)\n",
    "    inter = a.intersection(b)\n",
    "    prob_inter = len(inter)/len(all_possible_outcomes)\n",
    "    return prob_a + prob_b - prob_inter"
   ]
  },
  {
   "cell_type": "markdown",
   "id": "089b4279",
   "metadata": {},
   "source": [
    "### Exercise 1\n",
    "Rolling a die once and getting an even number or an odd number."
   ]
  },
  {
   "cell_type": "code",
   "execution_count": 4,
   "id": "5e7eaf2f",
   "metadata": {},
   "outputs": [],
   "source": [
    "evens = {2, 4, 6}\n",
    "odds = {1, 3, 5}\n",
    "all_possible_rolls = {1, 2, 3, 4, 5, 6}"
   ]
  },
  {
   "cell_type": "code",
   "execution_count": 5,
   "id": "3187968c",
   "metadata": {},
   "outputs": [
    {
     "data": {
      "text/plain": [
       "1.0"
      ]
     },
     "execution_count": 5,
     "metadata": {},
     "output_type": "execute_result"
    }
   ],
   "source": [
    "prob_a_or_b(evens, odds, all_possible_rolls)"
   ]
  },
  {
   "cell_type": "code",
   "execution_count": 6,
   "id": "1424e1ba",
   "metadata": {},
   "outputs": [
    {
     "data": {
      "text/plain": [
       "set"
      ]
     },
     "execution_count": 6,
     "metadata": {},
     "output_type": "execute_result"
    }
   ],
   "source": [
    "type(evens) # You can use intersection() with \"set\""
   ]
  },
  {
   "cell_type": "markdown",
   "id": "e80203ec",
   "metadata": {},
   "source": [
    "### Exercise 2\n",
    "Rolling a die once and getting an odd number or a number greater than 2."
   ]
  },
  {
   "cell_type": "code",
   "execution_count": 7,
   "id": "da549fd4",
   "metadata": {},
   "outputs": [],
   "source": [
    "greater_than_two = {3, 4, 5, 6}\n",
    "odds = {1, 3, 5}\n",
    "all_possible_rolls = {1, 2, 3, 4, 5 ,6}"
   ]
  },
  {
   "cell_type": "code",
   "execution_count": 8,
   "id": "0a9a2c1e",
   "metadata": {},
   "outputs": [
    {
     "data": {
      "text/plain": [
       "0.8333333333333333"
      ]
     },
     "execution_count": 8,
     "metadata": {},
     "output_type": "execute_result"
    }
   ],
   "source": [
    "prob_a_or_b(greater_than_two, odds, all_possible_rolls)"
   ]
  },
  {
   "cell_type": "markdown",
   "id": "69669d85",
   "metadata": {},
   "source": [
    "### Exercise 3\n",
    "Selecting a diamond card or a face card from a standard deck of cards."
   ]
  },
  {
   "cell_type": "code",
   "execution_count": 9,
   "id": "c96ae0ff",
   "metadata": {},
   "outputs": [],
   "source": [
    "diamond_cards = {'ace_diamond', '2_diamond', '3_diamond', '4_diamond', '5_diamond', \n",
    "                 '6_diamond', '7_diamond', '8_diamond', '9_diamond', '10_diamond', \n",
    "                 'jack_diamond', 'queen_diamond', 'king_diamond'}\n",
    "\n",
    "face_cards = {'jack_diamond', 'jack_spade', 'jack_heart', 'jack_club', 'queen_diamond', \n",
    "              'queen_spade', 'queen_heart', 'queen_club', 'king_diamond', 'king_spade', 'king_heart', 'king_club'}\n",
    "\n",
    "all_possible_cards = {'ace_diamond', '2_diamond', '3_diamond', '4_diamond', '5_diamond', '6_diamond', \n",
    "                      '7_diamond', '8_diamond', '9_diamond', '10_diamond', 'jack_diamond', 'queen_diamond', \n",
    "                      'king_diamond', 'ace_heart', '2_heart', '3_heart', '4_heart', '5_heart', '6_heart', \n",
    "                      '7_heart', '8_heart', '9_heart', '10_heart', 'jack_heart', 'queen_heart', 'king_heart', \n",
    "                      'ace_spade', '2_spade', '3_spade', '4_spade', '5_spade', '6_spade', '7_spade', '8_spade', \n",
    "                      '9_spade', '10_spade', 'jack_spade', 'queen_spade', 'king_spade', 'ace_club', '2_club', \n",
    "                      '3_club', '4_club', '5_club', '6_club', '7_club', '8_club', '9_club', '10_club', 'jack_club', \n",
    "                      'queen_club', 'king_club'}"
   ]
  },
  {
   "cell_type": "code",
   "execution_count": 10,
   "id": "ae953930",
   "metadata": {},
   "outputs": [
    {
     "data": {
      "text/plain": [
       "0.4230769230769231"
      ]
     },
     "execution_count": 10,
     "metadata": {},
     "output_type": "execute_result"
    }
   ],
   "source": [
    "prob_a_or_b(diamond_cards,face_cards, all_possible_cards)"
   ]
  },
  {
   "cell_type": "markdown",
   "id": "1489a6ad",
   "metadata": {},
   "source": [
    "## 2. Random Variables\n",
    "A random variable is, in its simplest form, a function. In probability, we often use random variables to represent random events. For example, we could use a random variable to represent the outcome of a die roll: any number between one and six."
   ]
  },
  {
   "cell_type": "markdown",
   "id": "bf51b362",
   "metadata": {},
   "source": [
    "### Exercise 1\n",
    "The following code simulates the outcome of rolling a fair die twice using ``np.random.choice()``:"
   ]
  },
  {
   "cell_type": "code",
   "execution_count": 11,
   "id": "2b8667ed",
   "metadata": {},
   "outputs": [
    {
     "name": "stdout",
     "output_type": "stream",
     "text": [
      "[4 3]\n"
     ]
    }
   ],
   "source": [
    "import numpy as np\n",
    "die_6 = range(1, 7)\n",
    "rolls = np.random.choice(die_6, size = 2, replace = True)\n",
    "print(rolls)"
   ]
  },
  {
   "cell_type": "markdown",
   "id": "dbcbc57a",
   "metadata": {},
   "source": [
    "### Exercise 2\n",
    "Change the value of `num_rolls` so that `results_1` has the results of rolling a die ten times."
   ]
  },
  {
   "cell_type": "code",
   "execution_count": 12,
   "id": "282fafc3",
   "metadata": {},
   "outputs": [
    {
     "name": "stdout",
     "output_type": "stream",
     "text": [
      "[2 4 5 3 4 4 5 4 6 5]\n"
     ]
    }
   ],
   "source": [
    "results_1 = np.random.choice(die_6, size = 10, replace = True)\n",
    "print(results_1)"
   ]
  },
  {
   "cell_type": "markdown",
   "id": "66c8e20e",
   "metadata": {},
   "source": [
    "### Exercise 3\n",
    "- Using the `range()` function, create a 12-sided die called `die_12`. Use similar logic as die_6.\n",
    "- Simulate rolling `die_12` ten times, and save the rolls as `results_2`. Use the ``np.random.choice()`` function to simulate the rolls, and be sure to print out your results!"
   ]
  },
  {
   "cell_type": "code",
   "execution_count": 13,
   "id": "5169edcd",
   "metadata": {},
   "outputs": [],
   "source": [
    "die_12 = range(1, 13)"
   ]
  },
  {
   "cell_type": "code",
   "execution_count": 14,
   "id": "7df2a9dd",
   "metadata": {},
   "outputs": [
    {
     "data": {
      "text/plain": [
       "array([ 5,  7,  3,  7,  4,  5, 11,  6,  5,  6])"
      ]
     },
     "execution_count": 14,
     "metadata": {},
     "output_type": "execute_result"
    }
   ],
   "source": [
    "results_2 = np.random.choice(die_12, size = 10, replace = True)\n",
    "results_2"
   ]
  },
  {
   "cell_type": "markdown",
   "id": "d70740bf",
   "metadata": {},
   "source": [
    "## 3. Discrete and Continuous Random Variables\n",
    "1. Discrete Random Variables\n",
    "\n",
    "    - Random variables with a countable number of possible values are called discrete random variables. For example, rolling a regular 6-sided die would be considered a discrete random variable because the outcome options are limited to the numbers on the die.\n",
    "    \n",
    "    - Discrete random variables are also common when observing counting events, such as how many people entered a store on a randomly selected day. In this case, the values are countable in that they are limited to whole numbers (you can’t observe half of a person).\n",
    "    \n",
    "    \n",
    "2. Continous Random Variables\n",
    "\n",
    "    - When the possible values of a random variable are uncountable, it is called a continuous random variable. These are generally measurement variables and are uncountable because measurements can always be more precise – meters, centimeters, millimeters, etc.\n",
    "    \n",
    "    - For example, the temperature in Los Angeles on a randomly chosen day is a continuous random variable. We can always be more precise about the temperature by expanding to another decimal place (96 degrees, 96.44 degrees, 96.437 degrees, etc.)."
   ]
  },
  {
   "cell_type": "markdown",
   "id": "5cad7b8a",
   "metadata": {},
   "source": [
    "## 4. Calculating Probabilities using Python\n",
    "A probability mass function (PMF) is a type of probability distribution that defines the probability of observing a particular value of a discrete random variable.\n",
    "\n",
    "The `binom.pmf()` method from the `scipy.stats` library can be used to calculate the PMF of the binomial distribution at any value. This method takes 3 values:\n",
    "- `x`: the value of interest\n",
    "- `n`: the number of trials\n",
    "- `p`: the probability of success"
   ]
  },
  {
   "cell_type": "markdown",
   "id": "c9b5e63f",
   "metadata": {},
   "source": [
    "### Exercise 1\n",
    "For example, suppose we flip a fair coin 10 times and count the number of heads. We can use the `binom.pmf()` function to calculate the probability of observing 6 heads as follows:"
   ]
  },
  {
   "cell_type": "code",
   "execution_count": 15,
   "id": "10fa5dcc",
   "metadata": {},
   "outputs": [],
   "source": [
    "import scipy.stats as stats"
   ]
  },
  {
   "cell_type": "code",
   "execution_count": 16,
   "id": "3dc8e59f",
   "metadata": {},
   "outputs": [
    {
     "data": {
      "text/plain": [
       "0.2050781249999999"
      ]
     },
     "execution_count": 16,
     "metadata": {},
     "output_type": "execute_result"
    }
   ],
   "source": [
    "stats.binom.pmf(6, 10, 0.5)"
   ]
  },
  {
   "cell_type": "markdown",
   "id": "1baea751",
   "metadata": {},
   "source": [
    "### Exercise 2\n",
    "Calculate `prob_2` to be the probability of observing 7 heads out of 20 fair coin flips. However, this time, directly input values into the `stats.binomial.pmf()` method. Then print `prob_2`."
   ]
  },
  {
   "cell_type": "code",
   "execution_count": 17,
   "id": "4f4b1ae8",
   "metadata": {},
   "outputs": [
    {
     "data": {
      "text/plain": [
       "0.07392883300781249"
      ]
     },
     "execution_count": 17,
     "metadata": {},
     "output_type": "execute_result"
    }
   ],
   "source": [
    "prob_2 = stats.binom.pmf(7, 20, 0.5)\n",
    "prob_2"
   ]
  },
  {
   "cell_type": "markdown",
   "id": "b7569fc5",
   "metadata": {},
   "source": [
    "### Exercise 3\n",
    "We can calculate the probability of observing between 2 and 4 heads from 10 coin flips as follows:"
   ]
  },
  {
   "cell_type": "code",
   "execution_count": 18,
   "id": "ddfdb7eb",
   "metadata": {},
   "outputs": [
    {
     "data": {
      "text/plain": [
       "0.36621093749999994"
      ]
     },
     "execution_count": 18,
     "metadata": {},
     "output_type": "execute_result"
    }
   ],
   "source": [
    "sum(stats.binom.pmf([2, 3, 4], 10, 0.5))"
   ]
  },
  {
   "cell_type": "markdown",
   "id": "ff03f2f0",
   "metadata": {},
   "source": [
    "## 5. Cumulative Distribution Function\n",
    "The cumulative distribution function for a discrete random variable can be derived from the probability mass function. However, instead of the probability of observing a specific value, the cumulative distribution function gives the probability of observing a specific value OR LESS."
   ]
  },
  {
   "cell_type": "markdown",
   "id": "18503e43",
   "metadata": {},
   "source": [
    "### Exercise 1\n",
    "Calculating the probability of observing 6 or fewer heads from 10 fair coin flips (0 to 6 heads) mathematically looks like the following:"
   ]
  },
  {
   "cell_type": "code",
   "execution_count": 19,
   "id": "1940d8bd",
   "metadata": {},
   "outputs": [],
   "source": [
    "import scipy.stats as stats"
   ]
  },
  {
   "cell_type": "code",
   "execution_count": 20,
   "id": "694db921",
   "metadata": {},
   "outputs": [
    {
     "data": {
      "text/plain": [
       "0.828125"
      ]
     },
     "execution_count": 20,
     "metadata": {},
     "output_type": "execute_result"
    }
   ],
   "source": [
    "stats.binom.cdf(6, 10, 0.5)"
   ]
  },
  {
   "cell_type": "markdown",
   "id": "3b7b8785",
   "metadata": {},
   "source": [
    "### Exercise 2\n",
    "Calculating the probability of observing between 4 and 8 heads from 10 fair coin flips can be thought of as taking the difference of the value of the cumulative distribution function at 8 from the cumulative distribution function at 3:"
   ]
  },
  {
   "cell_type": "code",
   "execution_count": 21,
   "id": "82417dbf",
   "metadata": {},
   "outputs": [
    {
     "data": {
      "text/plain": [
       "0.8173828125"
      ]
     },
     "execution_count": 21,
     "metadata": {},
     "output_type": "execute_result"
    }
   ],
   "source": [
    "stats.binom.cdf(8, 10, 0.5) - stats.binom.cdf(3, 10, 0.5)"
   ]
  },
  {
   "cell_type": "markdown",
   "id": "385879cf",
   "metadata": {},
   "source": [
    "### Exercise 3 \n",
    "To calculate the probability of observing more than 6 heads from 10 fair coin flips we subtract the value of the cumulative distribution function at 6 from 1. Mathematically, this looks like the following:"
   ]
  },
  {
   "cell_type": "code",
   "execution_count": 22,
   "id": "1a67cf8c",
   "metadata": {},
   "outputs": [
    {
     "data": {
      "text/plain": [
       "0.171875"
      ]
     },
     "execution_count": 22,
     "metadata": {},
     "output_type": "execute_result"
    }
   ],
   "source": [
    "1 - stats.binom.cdf(6, 10, 0.5)"
   ]
  },
  {
   "cell_type": "markdown",
   "id": "f3f7c5af",
   "metadata": {},
   "source": [
    "## 6. Probability Density Functions\n",
    "Similar to how discrete random variables relate to probability mass functions, continuous random variables relate to probability density functions. They define the probability distributions of continuous random variables and span across all possible values that the given random variable can take on.\n",
    "\n",
    "When graphed, a probability density function is a curve across all possible values the random variable can take on, and the total area under this curve adds up to 1.\n",
    "\n",
    "We can calculate the area under the curve using the cumulative distribution function for the given probability distribution."
   ]
  },
  {
   "cell_type": "markdown",
   "id": "bc1c1f34",
   "metadata": {},
   "source": [
    "### Exercise 1\n",
    "We know that women’s heights have a mean of 167.64 cm with a standard deviation of 8 cm, which makes them fall under the Normal(167.64, 8) distribution.\n",
    "\n",
    "Let’s say we want to know the probability that a randomly chosen woman is less than 158 cm tall. We can use the cumulative distribution function to calculate the area under the probability density function curve from 0 to 158 to find that probability."
   ]
  },
  {
   "cell_type": "code",
   "execution_count": 23,
   "id": "0f5592c5",
   "metadata": {},
   "outputs": [],
   "source": [
    "import scipy.stats as stats"
   ]
  },
  {
   "cell_type": "code",
   "execution_count": 24,
   "id": "b521b40c",
   "metadata": {},
   "outputs": [
    {
     "data": {
      "text/plain": [
       "0.11410165094812996"
      ]
     },
     "execution_count": 24,
     "metadata": {},
     "output_type": "execute_result"
    }
   ],
   "source": [
    "stats.norm.cdf(158, 167.64, 8)"
   ]
  },
  {
   "cell_type": "markdown",
   "id": "e68ac382",
   "metadata": {},
   "source": [
    "### Exercise 2\n",
    "Following the same Normal(167.64, 8) distribution, assign the variable prob the probability that a randomly chosen woman is less than 175 cm tall. You should use the stats.norm.cdf() method.\n",
    "\n",
    "Be sure to print prob."
   ]
  },
  {
   "cell_type": "code",
   "execution_count": 25,
   "id": "1f9952eb",
   "metadata": {},
   "outputs": [
    {
     "data": {
      "text/plain": [
       "0.8212136203856288"
      ]
     },
     "execution_count": 25,
     "metadata": {},
     "output_type": "execute_result"
    }
   ],
   "source": [
    "prob = stats.norm.cdf(175, 167.64, 8)\n",
    "prob"
   ]
  },
  {
   "cell_type": "markdown",
   "id": "9de5a118",
   "metadata": {},
   "source": [
    "## 7. Probability Density Functions and Cumulative Distribution Function\n",
    "We can take the difference between two overlapping ranges to calculate the probability that a random selection will be within a range of values for continuous distributions. This is essentially the same process as calculating the probability of a range of values for discrete distributions."
   ]
  },
  {
   "cell_type": "markdown",
   "id": "26e6bc10",
   "metadata": {},
   "source": [
    "### Exercise 1\n",
    "Let’s say we wanted to calculate the probability of randomly observing a woman between 165 cm to 175 cm, assuming heights still follow the Normal(167.74, 8) distribution. "
   ]
  },
  {
   "cell_type": "code",
   "execution_count": 26,
   "id": "0d226fce",
   "metadata": {
    "scrolled": true
   },
   "outputs": [
    {
     "data": {
      "text/plain": [
       "0.45194145326220503"
      ]
     },
     "execution_count": 26,
     "metadata": {},
     "output_type": "execute_result"
    }
   ],
   "source": [
    "stats.norm.cdf(175, 167.74, 8) - stats.norm.cdf(165, 167.74, 8)"
   ]
  },
  {
   "cell_type": "markdown",
   "id": "a61336ed",
   "metadata": {},
   "source": [
    "### Exercise 2\n",
    "Let’s say we wanted to calculate the probability of observing a woman taller than 172 centimeters, assuming heights still follow the Normal(167.74, 8) distribution. "
   ]
  },
  {
   "cell_type": "code",
   "execution_count": 27,
   "id": "2b54f9f1",
   "metadata": {},
   "outputs": [
    {
     "data": {
      "text/plain": [
       "0.2971898709083267"
      ]
     },
     "execution_count": 27,
     "metadata": {},
     "output_type": "execute_result"
    }
   ],
   "source": [
    "1 - stats.norm.cdf(172, 167.74, 8)"
   ]
  },
  {
   "cell_type": "markdown",
   "id": "40b0a044",
   "metadata": {},
   "source": [
    "### Exercise 3\n",
    "The weather in the Galapagos islands follows a Normal distribution with a mean of 20 degrees Celcius and a standard deviation of 3 degrees.\n",
    "\n",
    "The weather on a randomly selected day will be between 18 to 25 degrees Celcius"
   ]
  },
  {
   "cell_type": "code",
   "execution_count": 28,
   "id": "64303c86",
   "metadata": {},
   "outputs": [
    {
     "data": {
      "text/plain": [
       "0.6997171101802624"
      ]
     },
     "execution_count": 28,
     "metadata": {},
     "output_type": "execute_result"
    }
   ],
   "source": [
    "stats.norm.cdf(25, 20, 3) - stats.norm.cdf(18, 20, 3)"
   ]
  },
  {
   "cell_type": "markdown",
   "id": "616d2547",
   "metadata": {},
   "source": [
    "### Exercise 4\n",
    "The weather in the Galapagos islands follows a Normal distribution with a mean of 20 degrees Celcius and a standard deviation of 3 degrees.\n",
    "\n",
    "the weather on a randomly selected day will be greater than 24 degrees Celsius."
   ]
  },
  {
   "cell_type": "code",
   "execution_count": 29,
   "id": "39fafcca",
   "metadata": {},
   "outputs": [
    {
     "data": {
      "text/plain": [
       "0.09121121972586788"
      ]
     },
     "execution_count": 29,
     "metadata": {},
     "output_type": "execute_result"
    }
   ],
   "source": [
    "1 - stats.norm.cdf(24, 20, 3)"
   ]
  },
  {
   "cell_type": "markdown",
   "id": "b3b71f75",
   "metadata": {},
   "source": [
    "## 8. Poisson Distribution\n",
    "- There are numerous probability distributions used to represent almost any random event. In the previous lesson, we learned about the binomial distribution to represent events like any number of coin flips as well as the normal distribution to represent events such as the height of a randomly selected woman.\n",
    "\n",
    "\n",
    "- The Poisson distribution is another common distribution, and it is used to describe the number of times a certain event occurs within a fixed time or space interval. For example, the Poisson distribution can be used to describe the number of cars that pass through a specific intersection between 4pm and 5pm on a given day. It can also be used to describe the number of calls received in an office between 1pm to 3pm on a certain day.\n",
    "\n",
    "\n",
    "- The Poisson distribution is defined by the rate parameter, symbolized by the Greek letter lambda, λ.\n",
    "\n",
    "\n",
    "- Lambda represents the expected value — or the average value — of the distribution. For example, if our expected number of customers between 1pm and 2pm is 7, then we would set the parameter for the Poisson distribution to be 7."
   ]
  },
  {
   "cell_type": "markdown",
   "id": "1c011305",
   "metadata": {},
   "source": [
    "### Exercise 1\n",
    "Suppose that we expect it to rain 10 times in the next 30 days. The number of times it rains in the next 30 days is “Poisson distributed” with lambda = 10. We can calculate the probability of exactly 6 times of rain as follows:"
   ]
  },
  {
   "cell_type": "code",
   "execution_count": 30,
   "id": "a9090588",
   "metadata": {},
   "outputs": [],
   "source": [
    "import scipy.stats as stats"
   ]
  },
  {
   "cell_type": "code",
   "execution_count": 31,
   "id": "d0d8dc10",
   "metadata": {},
   "outputs": [
    {
     "data": {
      "text/plain": [
       "0.06305545800345125"
      ]
     },
     "execution_count": 31,
     "metadata": {},
     "output_type": "execute_result"
    }
   ],
   "source": [
    "stats.poisson.pmf(6, 10)"
   ]
  },
  {
   "cell_type": "markdown",
   "id": "b502653f",
   "metadata": {},
   "source": [
    "### Example 2\n",
    "\n",
    "For example, if we expect it to rain 10 times in the next 30 days, the number of times it rains in the next 30 days is “Poisson distributed” with lambda = 10. We can calculate the probability of 12-14 times of rain as follows:"
   ]
  },
  {
   "cell_type": "code",
   "execution_count": 32,
   "id": "060d9ada",
   "metadata": {},
   "outputs": [
    {
     "data": {
      "text/plain": [
       "0.21976538076223123"
      ]
     },
     "execution_count": 32,
     "metadata": {},
     "output_type": "execute_result"
    }
   ],
   "source": [
    "stats.poisson.pmf(12, 10) + stats.poisson.pmf(13, 10) + stats.poisson.pmf(14, 10)"
   ]
  },
  {
   "cell_type": "markdown",
   "id": "ebcc07b3",
   "metadata": {},
   "source": [
    "### Example 3\n",
    "We are working in a call center, and we expect the average number of calls in our call center between 9am and 10am to be 15 calls. What is the probability that we would see exactly 15 calls in that time frame?"
   ]
  },
  {
   "cell_type": "code",
   "execution_count": 33,
   "id": "53b56bb4",
   "metadata": {},
   "outputs": [
    {
     "data": {
      "text/plain": [
       "0.1024358666645339"
      ]
     },
     "execution_count": 33,
     "metadata": {},
     "output_type": "execute_result"
    }
   ],
   "source": [
    "stats.poisson.pmf(15, 15)"
   ]
  },
  {
   "cell_type": "markdown",
   "id": "7d60dc1e",
   "metadata": {},
   "source": [
    "### Example 4\n",
    "We are working in a call center, and we expect the average number of calls in our call center between 9am and 10am to be 15 calls. What is the probability we would get between 7 and 9 calls in that time frame?"
   ]
  },
  {
   "cell_type": "code",
   "execution_count": 34,
   "id": "7db571f0",
   "metadata": {},
   "outputs": [
    {
     "data": {
      "text/plain": [
       "0.062221761061894816"
      ]
     },
     "execution_count": 34,
     "metadata": {},
     "output_type": "execute_result"
    }
   ],
   "source": [
    "stats.poisson.pmf(7, 15) + stats.poisson.pmf(8, 15) + stats.poisson.pmf(9, 15)"
   ]
  },
  {
   "cell_type": "markdown",
   "id": "48a47186",
   "metadata": {},
   "source": [
    "## 9. Calculating Probabilities of a Range using the Cumulative Density Function\n",
    "We can use the ``poisson.cdf()`` method in the ``scipy.stats`` library to evaluate the probability of observing a specific number or less given the expected value of a distribution."
   ]
  },
  {
   "cell_type": "markdown",
   "id": "53ee168c",
   "metadata": {},
   "source": [
    "### Example 1\n",
    "For example, if we wanted to calculate the probability of observing 6 or fewer rain events in the next 30 days when we expected 10, we could do the following:"
   ]
  },
  {
   "cell_type": "code",
   "execution_count": 36,
   "id": "cbfd414d",
   "metadata": {},
   "outputs": [
    {
     "data": {
      "text/plain": [
       "0.130141420882483"
      ]
     },
     "execution_count": 36,
     "metadata": {},
     "output_type": "execute_result"
    }
   ],
   "source": [
    "stats.poisson.cdf(6, 10)\n",
    "# This means that there is roughly a 13% chance that there will be 6 or fewer rainfalls in the month in question."
   ]
  },
  {
   "cell_type": "markdown",
   "id": "e4a991ce",
   "metadata": {},
   "source": [
    "### Example 2\n",
    "If we wanted to calculate the probability of observing 12 or more rain events in the next 30 days when we expected 10, we could do the following:"
   ]
  },
  {
   "cell_type": "code",
   "execution_count": 37,
   "id": "62ca5848",
   "metadata": {},
   "outputs": [
    {
     "data": {
      "text/plain": [
       "0.30322385369689386"
      ]
     },
     "execution_count": 37,
     "metadata": {},
     "output_type": "execute_result"
    }
   ],
   "source": [
    "1- stats.poisson.cdf(11, 10)"
   ]
  },
  {
   "cell_type": "markdown",
   "id": "dec1aed0",
   "metadata": {},
   "source": [
    "### Example 3\n",
    "For example, while still expecting 10 rainfalls in the next 30 days, we could use the following code to calculate the probability of observing between 12 and 18 rainfall events:"
   ]
  },
  {
   "cell_type": "code",
   "execution_count": 39,
   "id": "2fb6b920",
   "metadata": {},
   "outputs": [
    {
     "data": {
      "text/plain": [
       "0.29603734909303947"
      ]
     },
     "execution_count": 39,
     "metadata": {},
     "output_type": "execute_result"
    }
   ],
   "source": [
    "stats.poisson.cdf(18, 10) - stats.poisson.cdf(11, 10)"
   ]
  },
  {
   "cell_type": "markdown",
   "id": "0234249e",
   "metadata": {},
   "source": [
    "### Example 4\n",
    "Working at a call center where the average number of calls between 9am and 10am is 15 calls, what is the probability of observing more than 20 calls?"
   ]
  },
  {
   "cell_type": "code",
   "execution_count": 40,
   "id": "e74b4d9e",
   "metadata": {},
   "outputs": [
    {
     "data": {
      "text/plain": [
       "0.08297091003146029"
      ]
     },
     "execution_count": 40,
     "metadata": {},
     "output_type": "execute_result"
    }
   ],
   "source": [
    "1- stats.poisson.cdf(20, 15)"
   ]
  },
  {
   "cell_type": "markdown",
   "id": "8628ce64",
   "metadata": {},
   "source": [
    "### Example 5\n",
    "What is the probability of observing between 17 to 21 calls when the expected number of calls is 15?"
   ]
  },
  {
   "cell_type": "code",
   "execution_count": 41,
   "id": "19fa9930",
   "metadata": {},
   "outputs": [
    {
     "data": {
      "text/plain": [
       "0.2827703929341844"
      ]
     },
     "execution_count": 41,
     "metadata": {},
     "output_type": "execute_result"
    }
   ],
   "source": [
    "stats.poisson.cdf(21, 15) - stats.poisson.cdf(16, 15)"
   ]
  },
  {
   "cell_type": "markdown",
   "id": "bd9bca9a",
   "metadata": {},
   "source": [
    "## Spread of the Poisson Distribution\n",
    "- Probability distributions also have calculable variances. Variances are a way of measuring the spread or dispersion of values and probabilities in the distribution. For the Poisson distribution, the variance is simply the value of lambda (λ), meaning that the expected value and variance are equivalent in Poisson distributions.\n",
    "\n",
    "### Example 1\n",
    "- We can calculate the variance of a sample using the ``numpy.var()`` method."
   ]
  },
  {
   "cell_type": "code",
   "execution_count": 48,
   "id": "ab6b66fe",
   "metadata": {},
   "outputs": [],
   "source": [
    "import numpy as np"
   ]
  },
  {
   "cell_type": "code",
   "execution_count": 66,
   "id": "93af481a",
   "metadata": {},
   "outputs": [
    {
     "data": {
      "text/plain": [
       "3.997519"
      ]
     },
     "execution_count": 66,
     "metadata": {},
     "output_type": "execute_result"
    }
   ],
   "source": [
    "rand_vars = stats.poisson.rvs(4, size = 1000)\n",
    "np.var(rand_vars)"
   ]
  },
  {
   "cell_type": "markdown",
   "id": "1e04afad",
   "metadata": {},
   "source": [
    "### Example 2\n",
    "Another way to view the increase in possible values is to take the range of a sample (the minimum and maximum values in a set). The following code will take draw 1000 random variables from the Poisson distribution with `lambda = 4 `and then print the minimum and maximum values observed using the `.min()` and `.max()` Python functions:"
   ]
  },
  {
   "cell_type": "code",
   "execution_count": 69,
   "id": "f5176921",
   "metadata": {},
   "outputs": [
    {
     "data": {
      "text/plain": [
       "(0, 11)"
      ]
     },
     "execution_count": 69,
     "metadata": {},
     "output_type": "execute_result"
    }
   ],
   "source": [
    "rand_vars = stats.poisson.rvs(4, size = 1000)\n",
    "min(rand_vars), max(rand_vars)"
   ]
  },
  {
   "cell_type": "markdown",
   "id": "aded5373",
   "metadata": {},
   "source": [
    "If we increase the value of lambda to 10, let’s see how the minimum and maximum values change:"
   ]
  },
  {
   "cell_type": "code",
   "execution_count": 72,
   "id": "8a2eb108",
   "metadata": {},
   "outputs": [
    {
     "data": {
      "text/plain": [
       "(2, 23)"
      ]
     },
     "execution_count": 72,
     "metadata": {},
     "output_type": "execute_result"
    }
   ],
   "source": [
    "rand_vars = stats.poisson.rvs(10, size = 1000)\n",
    "min(rand_vars), max(rand_vars)\n",
    "\n",
    "# These values are spread wider, indicating a larger variance."
   ]
  },
  {
   "cell_type": "markdown",
   "id": "d54563fe",
   "metadata": {},
   "source": [
    "## Extras\n",
    "### Example 1\n",
    "You work at ambulance dispatch where the number of calls that come in daily follows the Poisson distribution with lambda equal to 9. There’s a rule that a team can go on no more than 12 calls a day. But how often could this happen?"
   ]
  },
  {
   "cell_type": "code",
   "execution_count": 73,
   "id": "4239e780",
   "metadata": {},
   "outputs": [
    {
     "data": {
      "text/plain": [
       "0.1242265708290351"
      ]
     },
     "execution_count": 73,
     "metadata": {},
     "output_type": "execute_result"
    }
   ],
   "source": [
    "calls = 1 - stats.poisson.cdf(12, 9)\n",
    "calls"
   ]
  },
  {
   "cell_type": "markdown",
   "id": "5cd3b813",
   "metadata": {},
   "source": [
    "### Example 2\n",
    "Let’s say that you have to call in a backup team if you have 10 or more calls in a given day. But you don’t want to have to call in a backup team unless they really will be needed. But what is the probability that they will be called and not needed?"
   ]
  },
  {
   "cell_type": "code",
   "execution_count": 74,
   "id": "6e9c82fa",
   "metadata": {},
   "outputs": [
    {
     "data": {
      "text/plain": [
       "0.2883651848390232"
      ]
     },
     "execution_count": 74,
     "metadata": {},
     "output_type": "execute_result"
    }
   ],
   "source": [
    "false_backup = stats.poisson.cdf(12, 9) - stats.poisson.cdf(9, 9)\n",
    "false_backup"
   ]
  },
  {
   "cell_type": "markdown",
   "id": "23d764db",
   "metadata": {},
   "source": [
    "### Example 3\n",
    "A certain tennis star has a first-serve rate of 62%. Let’s say they serve 80 times in a given match. What is the expected value of the number of serves they make?"
   ]
  },
  {
   "cell_type": "code",
   "execution_count": 75,
   "id": "ac1cc87b",
   "metadata": {},
   "outputs": [
    {
     "data": {
      "text/plain": [
       "49.6"
      ]
     },
     "execution_count": 75,
     "metadata": {},
     "output_type": "execute_result"
    }
   ],
   "source": [
    "expected_serves = 80*0.62\n",
    "expected_serves"
   ]
  },
  {
   "cell_type": "markdown",
   "id": "aa23fe29",
   "metadata": {},
   "source": [
    "### Example 4\n",
    "At the same first-serve rate, what is the variance of this player’s first-serves?"
   ]
  },
  {
   "cell_type": "code",
   "execution_count": 76,
   "id": "c194f712",
   "metadata": {},
   "outputs": [
    {
     "data": {
      "text/plain": [
       "18.848000000000003"
      ]
     },
     "execution_count": 76,
     "metadata": {},
     "output_type": "execute_result"
    }
   ],
   "source": [
    "variance_serves = 80*0.62*(1-0.62)\n",
    "variance_serves"
   ]
  },
  {
   "cell_type": "code",
   "execution_count": null,
   "id": "b6416506",
   "metadata": {},
   "outputs": [],
   "source": []
  }
 ],
 "metadata": {
  "kernelspec": {
   "display_name": "Python 3 (ipykernel)",
   "language": "python",
   "name": "python3"
  },
  "language_info": {
   "codemirror_mode": {
    "name": "ipython",
    "version": 3
   },
   "file_extension": ".py",
   "mimetype": "text/x-python",
   "name": "python",
   "nbconvert_exporter": "python",
   "pygments_lexer": "ipython3",
   "version": "3.9.12"
  }
 },
 "nbformat": 4,
 "nbformat_minor": 5
}

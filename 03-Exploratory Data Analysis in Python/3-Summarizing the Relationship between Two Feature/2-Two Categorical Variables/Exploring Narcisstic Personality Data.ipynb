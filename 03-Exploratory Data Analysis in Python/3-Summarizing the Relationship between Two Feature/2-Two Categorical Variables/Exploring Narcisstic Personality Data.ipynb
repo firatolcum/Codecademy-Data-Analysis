{
 "cells": [
  {
   "cell_type": "markdown",
   "id": "67f952f7",
   "metadata": {},
   "source": [
    "## <center> Exploring Narcisstic Personality Data"
   ]
  },
  {
   "cell_type": "markdown",
   "id": "7444017f",
   "metadata": {},
   "source": [
    "## About Data\n",
    "We’ll explore a sample of data(npi_sample) from the Narcissistic Personality Inventory, a personality test with 40 questions about personal preferences and self-view.<br>\n",
    "There are two possible responses to each question. The sample we’ll be working with contains responses to the following:\n",
    "- **influence:** `yes` = I have a natural talent for influencing people; `no` = I am not good at influencing people.\n",
    "- **blend_in:** `yes` = I prefer to blend in with the crowd; `no` = I like to be the center of attention.\n",
    "- **special:** `yes` = I think I am a special person; `no` = I am no better or worse than most people.\n",
    "- **leader:** `yes` = I see myself as a good leader; `no` = I am not sure if I would make a good leader.\n",
    "- **authority:** `yes` = I like to have authority over other people; `no` = I don’t mind following orders."
   ]
  },
  {
   "cell_type": "code",
   "execution_count": 1,
   "id": "abc6a5c5",
   "metadata": {},
   "outputs": [],
   "source": [
    "import pandas as pd\n",
    "import numpy as np\n",
    "import matplotlib.pyplot as plt\n",
    "import seaborn as sns\n",
    "from scipy import stats"
   ]
  },
  {
   "cell_type": "markdown",
   "id": "2b7e84b2",
   "metadata": {},
   "source": [
    "## Introduction"
   ]
  },
  {
   "cell_type": "markdown",
   "id": "7b121a30",
   "metadata": {},
   "source": [
    "##### Exercise 1\n",
    "Load the dataset and print the first five rows of this dataframe using the ``.head()``. <br>\n",
    "Which of these variables do you think might be associated?"
   ]
  },
  {
   "cell_type": "code",
   "execution_count": 2,
   "id": "0c6ea26e",
   "metadata": {},
   "outputs": [
    {
     "data": {
      "text/html": [
       "<div>\n",
       "<style scoped>\n",
       "    .dataframe tbody tr th:only-of-type {\n",
       "        vertical-align: middle;\n",
       "    }\n",
       "\n",
       "    .dataframe tbody tr th {\n",
       "        vertical-align: top;\n",
       "    }\n",
       "\n",
       "    .dataframe thead th {\n",
       "        text-align: right;\n",
       "    }\n",
       "</style>\n",
       "<table border=\"1\" class=\"dataframe\">\n",
       "  <thead>\n",
       "    <tr style=\"text-align: right;\">\n",
       "      <th></th>\n",
       "      <th>influence</th>\n",
       "      <th>blend_in</th>\n",
       "      <th>special</th>\n",
       "      <th>leader</th>\n",
       "      <th>authority</th>\n",
       "    </tr>\n",
       "  </thead>\n",
       "  <tbody>\n",
       "    <tr>\n",
       "      <th>0</th>\n",
       "      <td>no</td>\n",
       "      <td>yes</td>\n",
       "      <td>yes</td>\n",
       "      <td>yes</td>\n",
       "      <td>yes</td>\n",
       "    </tr>\n",
       "    <tr>\n",
       "      <th>1</th>\n",
       "      <td>no</td>\n",
       "      <td>yes</td>\n",
       "      <td>no</td>\n",
       "      <td>no</td>\n",
       "      <td>no</td>\n",
       "    </tr>\n",
       "    <tr>\n",
       "      <th>2</th>\n",
       "      <td>yes</td>\n",
       "      <td>no</td>\n",
       "      <td>yes</td>\n",
       "      <td>yes</td>\n",
       "      <td>yes</td>\n",
       "    </tr>\n",
       "    <tr>\n",
       "      <th>3</th>\n",
       "      <td>yes</td>\n",
       "      <td>no</td>\n",
       "      <td>no</td>\n",
       "      <td>yes</td>\n",
       "      <td>yes</td>\n",
       "    </tr>\n",
       "    <tr>\n",
       "      <th>4</th>\n",
       "      <td>yes</td>\n",
       "      <td>yes</td>\n",
       "      <td>no</td>\n",
       "      <td>yes</td>\n",
       "      <td>no</td>\n",
       "    </tr>\n",
       "  </tbody>\n",
       "</table>\n",
       "</div>"
      ],
      "text/plain": [
       "  influence blend_in special leader authority\n",
       "0        no      yes     yes    yes       yes\n",
       "1        no      yes      no     no        no\n",
       "2       yes       no     yes    yes       yes\n",
       "3       yes       no      no    yes       yes\n",
       "4       yes      yes      no    yes        no"
      ]
     },
     "execution_count": 2,
     "metadata": {},
     "output_type": "execute_result"
    }
   ],
   "source": [
    "npi = pd.read_csv(\"npi_sample.csv\")\n",
    "npi.head()"
   ]
  },
  {
   "cell_type": "markdown",
   "id": "7dd4e6e7",
   "metadata": {},
   "source": [
    "## Contingency Tables: Frequencies\n",
    "Contingency tables, also known as two-way tables or cross-tabulations, are useful for summarizing two variables at the same time.<br>\n",
    "For example, suppose we are interested in understanding whether there is an association between `influence` and `leader`. <br>\n",
    "We can use the `crosstab` function from pandas to create a contingency table."
   ]
  },
  {
   "cell_type": "markdown",
   "id": "691dee10",
   "metadata": {},
   "source": [
    "##### Exercise 2\n",
    "Do you think there will be an association between `special` and `authority`?<br>\n",
    "Create a contingency table for these two variables and store the table as `special_authority_freq`, then print out the result.\n",
    "\n",
    "Based on this table, do you think the variables are associated?"
   ]
  },
  {
   "cell_type": "code",
   "execution_count": 7,
   "id": "50b7ce23",
   "metadata": {
    "scrolled": true
   },
   "outputs": [
    {
     "data": {
      "text/html": [
       "<div>\n",
       "<style scoped>\n",
       "    .dataframe tbody tr th:only-of-type {\n",
       "        vertical-align: middle;\n",
       "    }\n",
       "\n",
       "    .dataframe tbody tr th {\n",
       "        vertical-align: top;\n",
       "    }\n",
       "\n",
       "    .dataframe thead th {\n",
       "        text-align: right;\n",
       "    }\n",
       "</style>\n",
       "<table border=\"1\" class=\"dataframe\">\n",
       "  <thead>\n",
       "    <tr style=\"text-align: right;\">\n",
       "      <th>authority</th>\n",
       "      <th>no</th>\n",
       "      <th>yes</th>\n",
       "    </tr>\n",
       "    <tr>\n",
       "      <th>special</th>\n",
       "      <th></th>\n",
       "      <th></th>\n",
       "    </tr>\n",
       "  </thead>\n",
       "  <tbody>\n",
       "    <tr>\n",
       "      <th>no</th>\n",
       "      <td>4069</td>\n",
       "      <td>1905</td>\n",
       "    </tr>\n",
       "    <tr>\n",
       "      <th>yes</th>\n",
       "      <td>2229</td>\n",
       "      <td>2894</td>\n",
       "    </tr>\n",
       "  </tbody>\n",
       "</table>\n",
       "</div>"
      ],
      "text/plain": [
       "authority    no   yes\n",
       "special              \n",
       "no         4069  1905\n",
       "yes        2229  2894"
      ]
     },
     "execution_count": 7,
     "metadata": {},
     "output_type": "execute_result"
    }
   ],
   "source": [
    "special_authority_freq = pd.crosstab(npi[\"special\"], npi[\"authority\"])\n",
    "special_authority_freq"
   ]
  },
  {
   "cell_type": "code",
   "execution_count": 5,
   "id": "0aeb3ecf",
   "metadata": {},
   "outputs": [],
   "source": [
    "# if we know how someone responded to the authority question, \n",
    "# we have some information about how they are likely to respond to the special question. \n",
    "# This suggests that the variables are associated."
   ]
  },
  {
   "cell_type": "markdown",
   "id": "dd8a304a",
   "metadata": {},
   "source": [
    "##### Exercise 3\n",
    "Do you think there will be an association between `influence` and `leader`?<br>\n",
    "Create a contingency table for these two variables and store the table as `influence_leader_freq`, then print out the result.\n",
    "\n",
    "Based on this table, do you think the variables are associated?"
   ]
  },
  {
   "cell_type": "code",
   "execution_count": 16,
   "id": "a4b71917",
   "metadata": {},
   "outputs": [
    {
     "data": {
      "text/html": [
       "<div>\n",
       "<style scoped>\n",
       "    .dataframe tbody tr th:only-of-type {\n",
       "        vertical-align: middle;\n",
       "    }\n",
       "\n",
       "    .dataframe tbody tr th {\n",
       "        vertical-align: top;\n",
       "    }\n",
       "\n",
       "    .dataframe thead th {\n",
       "        text-align: right;\n",
       "    }\n",
       "</style>\n",
       "<table border=\"1\" class=\"dataframe\">\n",
       "  <thead>\n",
       "    <tr style=\"text-align: right;\">\n",
       "      <th>leader</th>\n",
       "      <th>no</th>\n",
       "      <th>yes</th>\n",
       "    </tr>\n",
       "    <tr>\n",
       "      <th>influence</th>\n",
       "      <th></th>\n",
       "      <th></th>\n",
       "    </tr>\n",
       "  </thead>\n",
       "  <tbody>\n",
       "    <tr>\n",
       "      <th>no</th>\n",
       "      <td>3015</td>\n",
       "      <td>1293</td>\n",
       "    </tr>\n",
       "    <tr>\n",
       "      <th>yes</th>\n",
       "      <td>2360</td>\n",
       "      <td>4429</td>\n",
       "    </tr>\n",
       "  </tbody>\n",
       "</table>\n",
       "</div>"
      ],
      "text/plain": [
       "leader       no   yes\n",
       "influence            \n",
       "no         3015  1293\n",
       "yes        2360  4429"
      ]
     },
     "execution_count": 16,
     "metadata": {},
     "output_type": "execute_result"
    }
   ],
   "source": [
    "influence_leader_freq = pd.crosstab(npi[\"influence\"], npi[\"leader\"])\n",
    "influence_leader_freq"
   ]
  },
  {
   "cell_type": "code",
   "execution_count": 17,
   "id": "27210abc",
   "metadata": {},
   "outputs": [],
   "source": [
    "# if we know how someone responded to the leadership question, \n",
    "# we have some information about how they are likely to respond to the influence question. \n",
    "# This suggests that the variables are associated."
   ]
  },
  {
   "cell_type": "markdown",
   "id": "74e7ea22",
   "metadata": {},
   "source": [
    "## Contingency Tables: Proportions"
   ]
  },
  {
   "cell_type": "markdown",
   "id": "404b8637",
   "metadata": {},
   "source": [
    "##### Exercise 4\n",
    "Convert `special_authority_freq` to a table of proportions and save the result as `special_authority_prop`, then print it out."
   ]
  },
  {
   "cell_type": "code",
   "execution_count": 15,
   "id": "7871390d",
   "metadata": {},
   "outputs": [
    {
     "data": {
      "text/html": [
       "<div>\n",
       "<style scoped>\n",
       "    .dataframe tbody tr th:only-of-type {\n",
       "        vertical-align: middle;\n",
       "    }\n",
       "\n",
       "    .dataframe tbody tr th {\n",
       "        vertical-align: top;\n",
       "    }\n",
       "\n",
       "    .dataframe thead th {\n",
       "        text-align: right;\n",
       "    }\n",
       "</style>\n",
       "<table border=\"1\" class=\"dataframe\">\n",
       "  <thead>\n",
       "    <tr style=\"text-align: right;\">\n",
       "      <th>authority</th>\n",
       "      <th>no</th>\n",
       "      <th>yes</th>\n",
       "    </tr>\n",
       "    <tr>\n",
       "      <th>special</th>\n",
       "      <th></th>\n",
       "      <th></th>\n",
       "    </tr>\n",
       "  </thead>\n",
       "  <tbody>\n",
       "    <tr>\n",
       "      <th>no</th>\n",
       "      <td>0.366676</td>\n",
       "      <td>0.171668</td>\n",
       "    </tr>\n",
       "    <tr>\n",
       "      <th>yes</th>\n",
       "      <td>0.200865</td>\n",
       "      <td>0.260791</td>\n",
       "    </tr>\n",
       "  </tbody>\n",
       "</table>\n",
       "</div>"
      ],
      "text/plain": [
       "authority        no       yes\n",
       "special                      \n",
       "no         0.366676  0.171668\n",
       "yes        0.200865  0.260791"
      ]
     },
     "execution_count": 15,
     "metadata": {},
     "output_type": "execute_result"
    }
   ],
   "source": [
    "special_authority_prop = special_authority_freq / len(npi)\n",
    "special_authority_prop"
   ]
  },
  {
   "cell_type": "code",
   "execution_count": 6,
   "id": "842d9169",
   "metadata": {},
   "outputs": [],
   "source": [
    "# if we know how someone responded to the leadership question, \n",
    "# we have some information about how they are likely to respond to the influence question. \n",
    "# This suggests that the variables are associated."
   ]
  },
  {
   "cell_type": "markdown",
   "id": "7155dfc2",
   "metadata": {},
   "source": [
    "##### Exercise 5\n",
    "Convert `influence_leader_freq` to a table of proportions and save the result as `influence_leader_prop`, then print it out."
   ]
  },
  {
   "cell_type": "code",
   "execution_count": 14,
   "id": "75502095",
   "metadata": {},
   "outputs": [
    {
     "data": {
      "text/html": [
       "<div>\n",
       "<style scoped>\n",
       "    .dataframe tbody tr th:only-of-type {\n",
       "        vertical-align: middle;\n",
       "    }\n",
       "\n",
       "    .dataframe tbody tr th {\n",
       "        vertical-align: top;\n",
       "    }\n",
       "\n",
       "    .dataframe thead th {\n",
       "        text-align: right;\n",
       "    }\n",
       "</style>\n",
       "<table border=\"1\" class=\"dataframe\">\n",
       "  <thead>\n",
       "    <tr style=\"text-align: right;\">\n",
       "      <th>leader</th>\n",
       "      <th>no</th>\n",
       "      <th>yes</th>\n",
       "    </tr>\n",
       "    <tr>\n",
       "      <th>influence</th>\n",
       "      <th></th>\n",
       "      <th></th>\n",
       "    </tr>\n",
       "  </thead>\n",
       "  <tbody>\n",
       "    <tr>\n",
       "      <th>no</th>\n",
       "      <td>0.271695</td>\n",
       "      <td>0.116518</td>\n",
       "    </tr>\n",
       "    <tr>\n",
       "      <th>yes</th>\n",
       "      <td>0.212670</td>\n",
       "      <td>0.399117</td>\n",
       "    </tr>\n",
       "  </tbody>\n",
       "</table>\n",
       "</div>"
      ],
      "text/plain": [
       "leader           no       yes\n",
       "influence                    \n",
       "no         0.271695  0.116518\n",
       "yes        0.212670  0.399117"
      ]
     },
     "execution_count": 14,
     "metadata": {},
     "output_type": "execute_result"
    }
   ],
   "source": [
    "influence_leader_prop = influence_leader_freq / len(npi)\n",
    "influence_leader_prop"
   ]
  },
  {
   "cell_type": "markdown",
   "id": "238daec3",
   "metadata": {},
   "source": [
    "## Marginal Proportions\n",
    "The proportion of respondents in each category of a single question is called a marginal proportion."
   ]
  },
  {
   "cell_type": "markdown",
   "id": "7a27af3e",
   "metadata": {},
   "source": [
    "##### Exercise 6\n",
    "Calculate the marginal proportions for the `authority` variable and save the result as `authority_marginals`.<br>\n",
    "Print out `authority_marginals`. Do more people like to have authority over people or not?"
   ]
  },
  {
   "cell_type": "code",
   "execution_count": 27,
   "id": "ebc20df5",
   "metadata": {},
   "outputs": [
    {
     "data": {
      "text/plain": [
       "0.4324592232134812"
      ]
     },
     "execution_count": 27,
     "metadata": {},
     "output_type": "execute_result"
    }
   ],
   "source": [
    "authority_marginals = special_authority_prop.sum(axis=0)[1]\n",
    "authority_marginals"
   ]
  },
  {
   "cell_type": "code",
   "execution_count": 28,
   "id": "8c398a31",
   "metadata": {},
   "outputs": [],
   "source": [
    "# No only 43% of people like to have authority over people"
   ]
  },
  {
   "cell_type": "markdown",
   "id": "210dfe55",
   "metadata": {},
   "source": [
    "##### Exercise 7\n",
    "Calculate the marginal proportions for the `special` variable and save the result as `special_marginals`.<br>\n",
    "Print out `special_marginals`. Do more people see themselves as special or not special?"
   ]
  },
  {
   "cell_type": "code",
   "execution_count": 35,
   "id": "af3a642f",
   "metadata": {},
   "outputs": [
    {
     "data": {
      "text/plain": [
       "0.46165630350545195"
      ]
     },
     "execution_count": 35,
     "metadata": {},
     "output_type": "execute_result"
    }
   ],
   "source": [
    "special_marginals = special_authority_prop.sum(axis=1)[1]\n",
    "special_marginals"
   ]
  },
  {
   "cell_type": "code",
   "execution_count": null,
   "id": "d20c3d2a",
   "metadata": {},
   "outputs": [],
   "source": [
    "# No only 46% of people see themselves as special."
   ]
  },
  {
   "cell_type": "markdown",
   "id": "b86517ed",
   "metadata": {},
   "source": [
    "##### Exercise 8\n",
    "Calculate the marginal proportions for the `influence` variable and save the result as `influence_marginals`.<br>\n",
    "Print out `influence_marginals`. Do more people think they have a talent for influencing people or not."
   ]
  },
  {
   "cell_type": "code",
   "execution_count": 48,
   "id": "4a39a41a",
   "metadata": {},
   "outputs": [
    {
     "data": {
      "text/plain": [
       "0.611786969451203"
      ]
     },
     "execution_count": 48,
     "metadata": {},
     "output_type": "execute_result"
    }
   ],
   "source": [
    "influence_marginals = influence_leader_prop.sum(axis=1)[1]\n",
    "influence_marginals"
   ]
  },
  {
   "cell_type": "code",
   "execution_count": 49,
   "id": "b8128dcd",
   "metadata": {},
   "outputs": [],
   "source": [
    "# Yes 61% of people think they have a talent for influencing people."
   ]
  },
  {
   "cell_type": "markdown",
   "id": "fe1d99ec",
   "metadata": {},
   "source": [
    "##### Exercise 9\n",
    "Calculate the marginal proportions for the `leader` variable and save the result as `leader_marginals`.<br>\n",
    "Print out `leader_marginals`. Do more people see themselves as a leader or not leader?"
   ]
  },
  {
   "cell_type": "code",
   "execution_count": 52,
   "id": "545d622b",
   "metadata": {},
   "outputs": [
    {
     "data": {
      "text/plain": [
       "0.5156348562674596"
      ]
     },
     "execution_count": 52,
     "metadata": {},
     "output_type": "execute_result"
    }
   ],
   "source": [
    "influence_leader_prop.sum(axis=0)[1]"
   ]
  },
  {
   "cell_type": "code",
   "execution_count": 53,
   "id": "986626d4",
   "metadata": {},
   "outputs": [],
   "source": [
    "# Respondents are approximately split on whether they see themselves as a leader"
   ]
  },
  {
   "cell_type": "markdown",
   "id": "ccd31ff7",
   "metadata": {},
   "source": [
    "## Expected Contingency Tables\n",
    "The more that the expected and observed tables differ, the more sure we can be that the variables are associated."
   ]
  },
  {
   "cell_type": "markdown",
   "id": "a5566fa1",
   "metadata": {},
   "source": [
    "#####  Exercise 10\n",
    "Use the `chi2_contingency()` function to calculate the expected frequency table for the `special` and `authority` questions if there were no association. Save the result as expected."
   ]
  },
  {
   "cell_type": "code",
   "execution_count": 54,
   "id": "de342a28",
   "metadata": {},
   "outputs": [
    {
     "data": {
      "text/html": [
       "<div>\n",
       "<style scoped>\n",
       "    .dataframe tbody tr th:only-of-type {\n",
       "        vertical-align: middle;\n",
       "    }\n",
       "\n",
       "    .dataframe tbody tr th {\n",
       "        vertical-align: top;\n",
       "    }\n",
       "\n",
       "    .dataframe thead th {\n",
       "        text-align: right;\n",
       "    }\n",
       "</style>\n",
       "<table border=\"1\" class=\"dataframe\">\n",
       "  <thead>\n",
       "    <tr style=\"text-align: right;\">\n",
       "      <th>authority</th>\n",
       "      <th>no</th>\n",
       "      <th>yes</th>\n",
       "    </tr>\n",
       "    <tr>\n",
       "      <th>special</th>\n",
       "      <th></th>\n",
       "      <th></th>\n",
       "    </tr>\n",
       "  </thead>\n",
       "  <tbody>\n",
       "    <tr>\n",
       "      <th>no</th>\n",
       "      <td>4069</td>\n",
       "      <td>1905</td>\n",
       "    </tr>\n",
       "    <tr>\n",
       "      <th>yes</th>\n",
       "      <td>2229</td>\n",
       "      <td>2894</td>\n",
       "    </tr>\n",
       "  </tbody>\n",
       "</table>\n",
       "</div>"
      ],
      "text/plain": [
       "authority    no   yes\n",
       "special              \n",
       "no         4069  1905\n",
       "yes        2229  2894"
      ]
     },
     "execution_count": 54,
     "metadata": {},
     "output_type": "execute_result"
    }
   ],
   "source": [
    "special_authority_freq"
   ]
  },
  {
   "cell_type": "code",
   "execution_count": 55,
   "id": "33cd85d7",
   "metadata": {},
   "outputs": [],
   "source": [
    "chi2, pval, dof, expected = stats.chi2_contingency(special_authority_freq)"
   ]
  },
  {
   "cell_type": "code",
   "execution_count": 57,
   "id": "3610a745",
   "metadata": {},
   "outputs": [
    {
     "data": {
      "text/plain": [
       "array([[3390.48860052, 2583.51139948],\n",
       "       [2907.51139948, 2215.48860052]])"
      ]
     },
     "execution_count": 57,
     "metadata": {},
     "output_type": "execute_result"
    }
   ],
   "source": [
    "expected"
   ]
  },
  {
   "cell_type": "markdown",
   "id": "51fd5211",
   "metadata": {},
   "source": [
    "##### Exercise 11\n",
    "Use ``np.round()`` to print out the expected contingency table, with values rounded to the nearest whole number. <br>\n",
    "Compare this to the observed frequency table. How much do the numbers in these tables differ?"
   ]
  },
  {
   "cell_type": "code",
   "execution_count": 58,
   "id": "f7b77167",
   "metadata": {},
   "outputs": [
    {
     "data": {
      "text/plain": [
       "array([[3390., 2584.],\n",
       "       [2908., 2215.]])"
      ]
     },
     "execution_count": 58,
     "metadata": {},
     "output_type": "execute_result"
    }
   ],
   "source": [
    "np.round(expected)"
   ]
  },
  {
   "cell_type": "code",
   "execution_count": 59,
   "id": "d10b7ba1",
   "metadata": {},
   "outputs": [
    {
     "name": "stdout",
     "output_type": "stream",
     "text": [
      "expected contingency table (no association):\n"
     ]
    }
   ],
   "source": [
    "print(\"expected contingency table (no association):\")"
   ]
  },
  {
   "cell_type": "markdown",
   "id": "5a71b1b3",
   "metadata": {},
   "source": [
    "##### Exercise 12\n",
    "Use the `chi2_contingency()` function to calculate the expected frequency table for the `influence` and `leader` questions if there were no association. Save the result as expected."
   ]
  },
  {
   "cell_type": "code",
   "execution_count": 60,
   "id": "d375495f",
   "metadata": {},
   "outputs": [
    {
     "data": {
      "text/html": [
       "<div>\n",
       "<style scoped>\n",
       "    .dataframe tbody tr th:only-of-type {\n",
       "        vertical-align: middle;\n",
       "    }\n",
       "\n",
       "    .dataframe tbody tr th {\n",
       "        vertical-align: top;\n",
       "    }\n",
       "\n",
       "    .dataframe thead th {\n",
       "        text-align: right;\n",
       "    }\n",
       "</style>\n",
       "<table border=\"1\" class=\"dataframe\">\n",
       "  <thead>\n",
       "    <tr style=\"text-align: right;\">\n",
       "      <th>leader</th>\n",
       "      <th>no</th>\n",
       "      <th>yes</th>\n",
       "    </tr>\n",
       "    <tr>\n",
       "      <th>influence</th>\n",
       "      <th></th>\n",
       "      <th></th>\n",
       "    </tr>\n",
       "  </thead>\n",
       "  <tbody>\n",
       "    <tr>\n",
       "      <th>no</th>\n",
       "      <td>3015</td>\n",
       "      <td>1293</td>\n",
       "    </tr>\n",
       "    <tr>\n",
       "      <th>yes</th>\n",
       "      <td>2360</td>\n",
       "      <td>4429</td>\n",
       "    </tr>\n",
       "  </tbody>\n",
       "</table>\n",
       "</div>"
      ],
      "text/plain": [
       "leader       no   yes\n",
       "influence            \n",
       "no         3015  1293\n",
       "yes        2360  4429"
      ]
     },
     "execution_count": 60,
     "metadata": {},
     "output_type": "execute_result"
    }
   ],
   "source": [
    "influence_leader_freq"
   ]
  },
  {
   "cell_type": "code",
   "execution_count": 62,
   "id": "f671d23d",
   "metadata": {},
   "outputs": [
    {
     "data": {
      "text/plain": [
       "array([[2086.6450392, 2221.3549608],\n",
       "       [3288.3549608, 3500.6450392]])"
      ]
     },
     "execution_count": 62,
     "metadata": {},
     "output_type": "execute_result"
    }
   ],
   "source": [
    "chi2, pval, dof, expected = stats.chi2_contingency(influence_leader_freq)\n",
    "expected"
   ]
  },
  {
   "cell_type": "markdown",
   "id": "6f9e206f",
   "metadata": {},
   "source": [
    "##### Exercise 13\n",
    "Use ``np.round()`` to print out the expected contingency table, with values rounded to the nearest whole number. <br>\n",
    "Compare this to the observed frequency table. How much do the numbers in these tables differ?"
   ]
  },
  {
   "cell_type": "code",
   "execution_count": 63,
   "id": "8eec9011",
   "metadata": {},
   "outputs": [
    {
     "data": {
      "text/plain": [
       "array([[2087., 2221.],\n",
       "       [3288., 3501.]])"
      ]
     },
     "execution_count": 63,
     "metadata": {},
     "output_type": "execute_result"
    }
   ],
   "source": [
    "np.round(expected)"
   ]
  },
  {
   "cell_type": "code",
   "execution_count": 64,
   "id": "5b9aa3c8",
   "metadata": {},
   "outputs": [],
   "source": [
    "# we see some pretty big differences (eg., 3015 in the observed table compared to 2087 in the expected table)."
   ]
  },
  {
   "cell_type": "markdown",
   "id": "3e6a6c30",
   "metadata": {},
   "source": [
    "## The Chi-Square Statistic\n",
    "In the previous exercise, we calculated a contingency table of expected frequencies if there were no association between the `leader` and `influence` questions.<br>\n",
    "\n",
    "We then compared this to the observed contingency table. Because the tables looked somewhat different, we concluded that responses to these questions are probably associated.\n",
    "\n",
    "While we can inspect these tables visually, many data scientists use the Chi-Square statistic to summarize how different these two tables are.\n",
    "\n",
    "The Chi-Square statistic is the first output of the `SciPy` function `chi2_contingency()`\n",
    "\n",
    "The interpretation of the Chi-Square statistic is dependent on the size of the contingency table. For a 2x2 table, a Chi-Square statistic larger than around 4 would strongly suggest an association between the variables."
   ]
  },
  {
   "cell_type": "markdown",
   "id": "ec117f44",
   "metadata": {},
   "source": [
    "##### Exanple 12\n",
    "Use the `chi2_contingency()` function to calculate Chi-Square statistic for the `special` and `authority` variables.<br>\n",
    "Save the result as chi2 and print it out. Do these variables appear to be associated?"
   ]
  },
  {
   "cell_type": "code",
   "execution_count": 67,
   "id": "544ccd8d",
   "metadata": {},
   "outputs": [],
   "source": [
    "chi2, pval, dof, expected = stats.chi2_contingency(special_authority_freq)"
   ]
  },
  {
   "cell_type": "code",
   "execution_count": 68,
   "id": "d6589e44",
   "metadata": {},
   "outputs": [
    {
     "data": {
      "text/plain": [
       "679.1219526170606"
      ]
     },
     "execution_count": 68,
     "metadata": {},
     "output_type": "execute_result"
    }
   ],
   "source": [
    "chi2\n",
    "# Yes special and authority variables appear to be associated."
   ]
  },
  {
   "cell_type": "markdown",
   "id": "f2bcd83a",
   "metadata": {},
   "source": [
    "##### Exanple 13\n",
    "Use the `chi2_contingency()` function to calculate Chi-Square statistic for the `influence` and `leader` variables.<br>\n",
    "Save the result as chi2 and print it out. Do these variables appear to be associated?\n"
   ]
  },
  {
   "cell_type": "code",
   "execution_count": 72,
   "id": "0b4e7834",
   "metadata": {},
   "outputs": [],
   "source": [
    "chi2, pval, dof, expected = stats.chi2_contingency(influence_leader_freq)"
   ]
  },
  {
   "cell_type": "code",
   "execution_count": 73,
   "id": "5e8e1e70",
   "metadata": {},
   "outputs": [
    {
     "data": {
      "text/plain": [
       "1307.8836807573769"
      ]
     },
     "execution_count": 73,
     "metadata": {},
     "output_type": "execute_result"
    }
   ],
   "source": [
    "chi2\n",
    "# Yes influence and leader variables appear to be associated."
   ]
  },
  {
   "cell_type": "code",
   "execution_count": null,
   "id": "b3315780",
   "metadata": {},
   "outputs": [],
   "source": []
  },
  {
   "cell_type": "code",
   "execution_count": null,
   "id": "9747d4c8",
   "metadata": {},
   "outputs": [],
   "source": []
  },
  {
   "cell_type": "code",
   "execution_count": null,
   "id": "a1c976b6",
   "metadata": {},
   "outputs": [],
   "source": []
  }
 ],
 "metadata": {
  "kernelspec": {
   "display_name": "Python 3 (ipykernel)",
   "language": "python",
   "name": "python3"
  },
  "language_info": {
   "codemirror_mode": {
    "name": "ipython",
    "version": 3
   },
   "file_extension": ".py",
   "mimetype": "text/x-python",
   "name": "python",
   "nbconvert_exporter": "python",
   "pygments_lexer": "ipython3",
   "version": "3.9.12"
  }
 },
 "nbformat": 4,
 "nbformat_minor": 5
}

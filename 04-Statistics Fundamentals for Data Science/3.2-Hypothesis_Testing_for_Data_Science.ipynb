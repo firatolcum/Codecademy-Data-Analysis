{
 "cells": [
  {
   "cell_type": "markdown",
   "id": "10862b26",
   "metadata": {},
   "source": [
    "# Hypothesis Testing For Data Science"
   ]
  },
  {
   "cell_type": "markdown",
   "id": "60f2d793",
   "metadata": {},
   "source": [
    "## Inferential Statistics \n",
    "In this unit, we will cover a few hypothesis tests that can be used to make inferences about population(s). \n",
    "\n",
    "We’ll cover ways of implementing these hypothesis tests in Python and simulate some hypothesis tests without pre-built functions.\n",
    "\n",
    "Some methods that are used in inferential statistics include hypothesis testing and regression.\n",
    "\n",
    "## 1. One Sample T Test in SciPy\n",
    "### What is hypothesis testing?\n",
    "Hypothesis Testing is a framework for asking questions about a dataset and answering them with probabilistic statements. There are many different kinds of hypothesis tests that can be used to address different kinds of questions and data. In this article, we’ll walk through a simulation of a one sample t- test in order to build intuition about how many different kinds of hypothesis tests work!\n",
    "\n",
    "Before you use hypothesis tests in practice, it is important to remember the following:\n",
    "\n",
    "- A p-value is a probability, usually reported as a decimal between zero and one.\n",
    "\n",
    "\n",
    "- A small p-value means that an observed sample statistic (or something more extreme) would be unlikely to occur if the null hypothesis is true.\n",
    "\n",
    "\n",
    "- A significance threshold can be used to translate a p-value into a “significant” or “non-significant” result.\n",
    "\n",
    "\n",
    "- In practice, the alternative hypothesis and significance threshold should be chosen prior to data collection."
   ]
  },
  {
   "cell_type": "code",
   "execution_count": 1,
   "id": "b78729c9",
   "metadata": {},
   "outputs": [],
   "source": [
    "import pandas as pd\n",
    "import numpy as np\n",
    "import matplotlib.pyplot as plt\n",
    "import seaborn as sns"
   ]
  },
  {
   "cell_type": "markdown",
   "id": "e1accb1b",
   "metadata": {},
   "source": [
    "### Example\n",
    "As an example, let’s imagine the fictional business BuyPie, which sends ingredients for pies to your household so that you can make them from scratch. Suppose that a product manager wants online BuyPie orders to cost around 1000 Rupees on average. In the past day, 50 people made an online purchase and the average payment per order was less than 1000 Rupees. Are people really spending less than 1000 Rupees on average? Or is this the result of chance and a small sample size?"
   ]
  },
  {
   "cell_type": "code",
   "execution_count": 2,
   "id": "42520151",
   "metadata": {},
   "outputs": [
    {
     "data": {
      "text/plain": [
       "array([ 978., 1080.,  999.,  855., 1105.,  961.,  899., 1061.,  880.,\n",
       "       1455.,  505.,  936., 1024.,  982.,  840.,  930.,  829.,  504.,\n",
       "        955., 1380., 1361., 1130.,  946.,  973., 1076., 1131.,  810.,\n",
       "        734., 1275.,  867.,  962.,  865.,  709., 1216.,  735.,  768.,\n",
       "        757., 1060.,  715.,  839.,  999., 1259., 1194., 1082., 1129.,\n",
       "       1255.,  931., 1236.,  921.,  907.])"
      ]
     },
     "execution_count": 2,
     "metadata": {},
     "output_type": "execute_result"
    }
   ],
   "source": [
    "prices = np.genfromtxt(\"prices.csv\")\n",
    "prices"
   ]
  },
  {
   "cell_type": "code",
   "execution_count": 3,
   "id": "6b851023",
   "metadata": {},
   "outputs": [
    {
     "data": {
      "text/plain": [
       "980.0"
      ]
     },
     "execution_count": 3,
     "metadata": {},
     "output_type": "execute_result"
    }
   ],
   "source": [
    "prices_mean = prices.mean()\n",
    "prices_mean"
   ]
  },
  {
   "cell_type": "code",
   "execution_count": 4,
   "id": "3da9684f",
   "metadata": {},
   "outputs": [],
   "source": [
    "# Null : The average cost of BuyPie order is 1000 Rupees.\n",
    "# Alternative : The average cost of a BuyPie order is not 1000 Rupees."
   ]
  },
  {
   "cell_type": "code",
   "execution_count": 5,
   "id": "4a30eae4",
   "metadata": {},
   "outputs": [],
   "source": [
    "from scipy.stats import ttest_1samp"
   ]
  },
  {
   "cell_type": "code",
   "execution_count": 6,
   "id": "5639344b",
   "metadata": {},
   "outputs": [
    {
     "data": {
      "text/plain": [
       "0.4920744804182786"
      ]
     },
     "execution_count": 6,
     "metadata": {},
     "output_type": "execute_result"
    }
   ],
   "source": [
    "tstat, pval = ttest_1samp(prices, 1000)\n",
    "pval"
   ]
  },
  {
   "cell_type": "markdown",
   "id": "41cf5b06",
   "metadata": {},
   "source": [
    "**P-values are probabilities, so they should be between 0 and 1. This p-value is the probability of observing an average purchase price less than 980 OR more than 1020 among a sample of 50 purchases.**"
   ]
  },
  {
   "cell_type": "markdown",
   "id": "ee18589d",
   "metadata": {},
   "source": [
    "### Assumptions of a One Sample T-Test\n",
    "- The sample was randomly selected from popoulation\n",
    "    - For example, if you only collect data for site visitors who agree to share their personal information, this subset of visitors was not randomly selected and may differ from the larger population\n",
    "  \n",
    "  \n",
    "- The individual observations were independent\n",
    "    - For example, if one visitor to BuyPie loves the apple pie they bought so much that they convinced their friend to buy one too, those observations were not independent.\n",
    "    \n",
    "- The data is normally distributed without outliers OR the sample size is large (enough)\n",
    "    - There are no set rules on what a “large enough” sample size is, but a common threshold is around 40. For sample sizes smaller than 40, and really all samples in general, it’s a good idea to make sure to plot a histogram of your data and check for outliers, multi-modal distributions (with multiple humps), or skewed distributions. If you see any of those things for a small sample, a t-test is probably not appropriate.\n",
    "    \n",
    "In general, if you run an experiment that violates (or possibly violates) one of these assumptions, you can still run the test and report the results — but you should also report assumptions that were not met and acknowledge that the test results could be flawed."
   ]
  },
  {
   "cell_type": "code",
   "execution_count": 7,
   "id": "82dc9b82",
   "metadata": {},
   "outputs": [
    {
     "data": {
      "text/plain": [
       "50"
      ]
     },
     "execution_count": 7,
     "metadata": {},
     "output_type": "execute_result"
    }
   ],
   "source": [
    "len(prices)"
   ]
  },
  {
   "cell_type": "code",
   "execution_count": 8,
   "id": "4b2b6ca9",
   "metadata": {},
   "outputs": [
    {
     "data": {
      "image/png": "[encoded data removed]",
      "text/plain": [
       "<Figure size 640x480 with 1 Axes>"
      ]
     },
     "metadata": {},
     "output_type": "display_data"
    }
   ],
   "source": [
    "plt.hist(prices)\n",
    "plt.show()"
   ]
  },
  {
   "cell_type": "code",
   "execution_count": 9,
   "id": "71d82226",
   "metadata": {},
   "outputs": [],
   "source": [
    "#There does not seem to be any clear skewness, bi-modality, or outliers. The histogram is approximately normal."
   ]
  },
  {
   "cell_type": "markdown",
   "id": "5db5e926",
   "metadata": {},
   "source": [
    "### Review\n",
    "- One-sample t-tests are used for comparing a sample mean to an expected population mean.\n",
    "\n",
    "- A one-sample t-test can be implemented in Python using the SciPy ``ttest_1samp()`` function.\n",
    "\n",
    "- Assumptions of a one-sample t-test include:\n",
    "    - The sample was randomly drawn from the population of interest\n",
    "    - The observations in the sample are independent\n",
    "    - The sample size is large “enough” or the sample data is normally distributed"
   ]
  },
  {
   "cell_type": "markdown",
   "id": "29b1fb68",
   "metadata": {},
   "source": [
    "### Final Exercise\n",
    "To practice running a one-sample t-test and inspecting the resulting p-value, try the following:\n",
    "\n",
    "1. Calculate and print out a p-value for day 1 where the null hypothesis is that the average purchase price was 1000 Rupees and the alternative hypothesis is that the average purchase price was not 1000 Rupees. Print out the p-value.\n",
    "\n",
    "\n",
    "2. Run the same hypothesis tests for days 1-10 (the fastest way to do this is with a for-loop!) and print out the resulting p-values. What’s the smallest p-value you observe for those 10 days?\n",
    "\n",
    "\n",
    "3. Try changing the null hypothesis so that the expected population mean that you’re testing against is different from 1000. Try any numbers that you want. How do your p-values change?"
   ]
  },
  {
   "cell_type": "code",
   "execution_count": 10,
   "id": "52c04bdd",
   "metadata": {},
   "outputs": [
    {
     "data": {
      "text/plain": [
       "array([[1353.,  760.,  900., ...,  998., 1078., 1104.],\n",
       "       [ 831.,  993.,  922., ..., 1149., 1068., 1158.],\n",
       "       [1115.,  908., 1005., ...,  748., 1322., 1205.],\n",
       "       ...,\n",
       "       [1157.,  841., 1321., ..., 1053.,  948., 1164.],\n",
       "       [ 843., 1238., 1129., ...,  442.,  862., 1228.],\n",
       "       [ 765., 1406.,  820., ...,  925., 1509., 1054.]])"
      ]
     },
     "execution_count": 10,
     "metadata": {},
     "output_type": "execute_result"
    }
   ],
   "source": [
    "daily_prices = np.genfromtxt(\"daily_prices.csv\", delimiter=\",\")\n",
    "daily_prices"
   ]
  },
  {
   "cell_type": "code",
   "execution_count": 11,
   "id": "c1fe7bfb",
   "metadata": {},
   "outputs": [],
   "source": [
    "# Null : The average purchase price is 1000 Rupee.\n",
    "# Alternative : The average purchase price is not 1000 Rupee."
   ]
  },
  {
   "cell_type": "code",
   "execution_count": 12,
   "id": "4c510f72",
   "metadata": {},
   "outputs": [
    {
     "data": {
      "text/plain": [
       "1000"
      ]
     },
     "execution_count": 12,
     "metadata": {},
     "output_type": "execute_result"
    }
   ],
   "source": [
    "len(daily_prices)"
   ]
  },
  {
   "cell_type": "code",
   "execution_count": 13,
   "id": "086ac9b9",
   "metadata": {},
   "outputs": [
    {
     "data": {
      "image/png": "[encoded data removed]",
      "text/plain": [
       "<Figure size 640x480 with 1 Axes>"
      ]
     },
     "metadata": {},
     "output_type": "display_data"
    }
   ],
   "source": [
    "plt.hist(daily_prices)\n",
    "plt.show()"
   ]
  },
  {
   "cell_type": "markdown",
   "id": "428c9900",
   "metadata": {},
   "source": [
    "#### Day-1"
   ]
  },
  {
   "cell_type": "code",
   "execution_count": 14,
   "id": "ab81f665",
   "metadata": {},
   "outputs": [
    {
     "data": {
      "text/plain": [
       "0.6071186852381734"
      ]
     },
     "execution_count": 14,
     "metadata": {},
     "output_type": "execute_result"
    }
   ],
   "source": [
    "tstat, pval = ttest_1samp(daily_prices[0], 1000)\n",
    "pval"
   ]
  },
  {
   "cell_type": "markdown",
   "id": "63d4a3cc",
   "metadata": {},
   "source": [
    "#### 10 Days "
   ]
  },
  {
   "cell_type": "code",
   "execution_count": 15,
   "id": "e51b0d6f",
   "metadata": {},
   "outputs": [
    {
     "name": "stdout",
     "output_type": "stream",
     "text": [
      "day 1 p-value:\n",
      "0.6071186852381734\n",
      "day 2 p-value:\n",
      "0.4093623236367092\n",
      "day 3 p-value:\n",
      "0.6823152912621231\n",
      "day 4 p-value:\n",
      "0.9396281562313855\n",
      "day 5 p-value:\n",
      "0.8434532443692766\n",
      "day 6 p-value:\n",
      "0.018765443076610062\n",
      "day 7 p-value:\n",
      "0.6240646986588566\n",
      "day 8 p-value:\n",
      "0.8594296361029083\n",
      "day 9 p-value:\n",
      "0.774383958509746\n",
      "day 10 p-value:\n",
      "0.6813407662727201\n"
     ]
    }
   ],
   "source": [
    "for i in range(10):\n",
    "    tstat, pval = ttest_1samp(daily_prices[i], 1000)\n",
    "    print(\"day\", i + 1, \"p-value:\")\n",
    "    print(pval)"
   ]
  },
  {
   "cell_type": "markdown",
   "id": "32d7f675",
   "metadata": {},
   "source": [
    "### 10 Days with Different Hypothesis"
   ]
  },
  {
   "cell_type": "code",
   "execution_count": 16,
   "id": "01835b7d",
   "metadata": {},
   "outputs": [
    {
     "name": "stdout",
     "output_type": "stream",
     "text": [
      "day 1-10 with a different alternative hypothesis:\n",
      "day 1 p-value:\n",
      "0.006068400953830715\n",
      "day 2 p-value:\n",
      "0.00248388684038805\n",
      "day 3 p-value:\n",
      "0.00576062384123009\n",
      "day 4 p-value:\n",
      "0.02286083709081289\n",
      "day 5 p-value:\n",
      "0.02269727235522927\n",
      "day 6 p-value:\n",
      "3.729171844379401e-06\n",
      "day 7 p-value:\n",
      "0.007970863097214977\n",
      "day 8 p-value:\n",
      "0.05444296471985292\n",
      "day 9 p-value:\n",
      "0.022347610165122662\n",
      "day 10 p-value:\n",
      "0.07949349326248725\n"
     ]
    }
   ],
   "source": [
    "print(\"day 1-10 with a different alternative hypothesis:\")\n",
    "for i in range(10):\n",
    "    tstat, pval = ttest_1samp(daily_prices[i], 950)\n",
    "    print(\"day\",i+1, \"p-value:\")\n",
    "    print(pval)"
   ]
  },
  {
   "cell_type": "markdown",
   "id": "c89b3191",
   "metadata": {},
   "source": [
    "## 2. Simulating a Binomial Test\n",
    "- Binomial tests are useful for comparing the frequency of some outcome in a sample to the expected probability of that outcome. For example, if we expect 90% of ticketed passengers to show up for their flight but only 80 of 100 ticketed passengers actually show up, we could use a binomial test to understand whether 80 is significantly different from 90.\n",
    "\n",
    "\n",
    "- Binomial tests are similar to one-sample t-tests in that they test a sample statistic against some population-level expectation. The difference is that:\n",
    "\n",
    "    - Binomial tests are used for binary categorical data to compare a sample frequency to an expected population-level probability\n",
    "    - One-sample t-tests are used for quantitative data to compare a sample mean to an expected population mean.\n",
    "    \n",
    "   "
   ]
  },
  {
   "cell_type": "markdown",
   "id": "758347f5",
   "metadata": {},
   "source": [
    "### Case\n",
    "The next few exercises will walk through the process of using a binomial test to analyze data from a hypothetical online company, Live-it-LIVE.com — a website that sells all the necessary props and costumes to recreate iconic movie scenes at home!"
   ]
  },
  {
   "cell_type": "code",
   "execution_count": 18,
   "id": "efba0bb6",
   "metadata": {},
   "outputs": [
    {
     "data": {
      "text/html": [
       "<div>\n",
       "<style scoped>\n",
       "    .dataframe tbody tr th:only-of-type {\n",
       "        vertical-align: middle;\n",
       "    }\n",
       "\n",
       "    .dataframe tbody tr th {\n",
       "        vertical-align: top;\n",
       "    }\n",
       "\n",
       "    .dataframe thead th {\n",
       "        text-align: right;\n",
       "    }\n",
       "</style>\n",
       "<table border=\"1\" class=\"dataframe\">\n",
       "  <thead>\n",
       "    <tr style=\"text-align: right;\">\n",
       "      <th></th>\n",
       "      <th>timestamp</th>\n",
       "      <th>purchase</th>\n",
       "      <th>item</th>\n",
       "    </tr>\n",
       "  </thead>\n",
       "  <tbody>\n",
       "    <tr>\n",
       "      <th>0</th>\n",
       "      <td>2020-01-17 17:23:06</td>\n",
       "      <td>y</td>\n",
       "      <td>cue cards - love actually</td>\n",
       "    </tr>\n",
       "    <tr>\n",
       "      <th>1</th>\n",
       "      <td>2020-01-25 17:09:39</td>\n",
       "      <td>n</td>\n",
       "      <td>NaN</td>\n",
       "    </tr>\n",
       "    <tr>\n",
       "      <th>2</th>\n",
       "      <td>2020-01-25 05:22:01</td>\n",
       "      <td>n</td>\n",
       "      <td>NaN</td>\n",
       "    </tr>\n",
       "    <tr>\n",
       "      <th>3</th>\n",
       "      <td>2020-01-18 04:33:40</td>\n",
       "      <td>y</td>\n",
       "      <td>t-rex - jurassic park</td>\n",
       "    </tr>\n",
       "    <tr>\n",
       "      <th>4</th>\n",
       "      <td>2020-01-24 17:24:52</td>\n",
       "      <td>n</td>\n",
       "      <td>NaN</td>\n",
       "    </tr>\n",
       "  </tbody>\n",
       "</table>\n",
       "</div>"
      ],
      "text/plain": [
       "             timestamp purchase                       item\n",
       "0  2020-01-17 17:23:06        y  cue cards - love actually\n",
       "1  2020-01-25 17:09:39        n                        NaN\n",
       "2  2020-01-25 05:22:01        n                        NaN\n",
       "3  2020-01-18 04:33:40        y      t-rex - jurassic park\n",
       "4  2020-01-24 17:24:52        n                        NaN"
      ]
     },
     "execution_count": 18,
     "metadata": {},
     "output_type": "execute_result"
    }
   ],
   "source": [
    "monthly_report = pd.read_csv(\"monthly_report.csv\")\n",
    "monthly_report.head()"
   ]
  },
  {
   "cell_type": "markdown",
   "id": "5489c798",
   "metadata": {},
   "source": [
    "The marketing department at Live-it-LIVE reports that, during this time of year, about 10% of visitors to Live-it-LIVE.com make a purchase.\n",
    "\n",
    "The monthly report shows every visitor to the site and whether or not they made a purchase. The checkout page had a small bug this month, so the business department wants to know whether the purchase rate dipped below expectation. They’ve asked us to investigate this question."
   ]
  },
  {
   "cell_type": "markdown",
   "id": "6f2df6b4",
   "metadata": {},
   "source": [
    "### Summarizing the Sample\n",
    "In order to run a hypothesis test to address this, we’ll first need to know two things from the data:\n",
    "\n",
    "- The number of people who visited the website\n",
    "- The number of people who made a purchase on the website"
   ]
  },
  {
   "cell_type": "code",
   "execution_count": 19,
   "id": "f1977bb7",
   "metadata": {},
   "outputs": [
    {
     "data": {
      "text/plain": [
       "500"
      ]
     },
     "execution_count": 19,
     "metadata": {},
     "output_type": "execute_result"
    }
   ],
   "source": [
    "sample_size = len(monthly_report)\n",
    "sample_size"
   ]
  },
  {
   "cell_type": "code",
   "execution_count": 22,
   "id": "206e6a0e",
   "metadata": {},
   "outputs": [
    {
     "data": {
      "text/plain": [
       "41"
      ]
     },
     "execution_count": 22,
     "metadata": {},
     "output_type": "execute_result"
    }
   ],
   "source": [
    "num_purchased = len(monthly_report[monthly_report[\"purchase\"] == \"y\"])\n",
    "num_purchased"
   ]
  },
  {
   "cell_type": "markdown",
   "id": "57a95600",
   "metadata": {},
   "source": [
    "### Simulating Randomness\n",
    "In the last exercise, we calculated that there were 500 site visitors to live-it-LIVE.com this month and 41 of them made a purchase. In comparison, if each of the 500 visitors had a 10% chance of making a purchase, we would expect around 50 of those visitors to buy something. Is 41 different enough from 50 that we should question whether this months’ site visitors really had a 10% chance of making a purchase?"
   ]
  },
  {
   "cell_type": "code",
   "execution_count": 55,
   "id": "46f08ef0",
   "metadata": {},
   "outputs": [
    {
     "data": {
      "text/plain": [
       "array(['n'], dtype='<U1')"
      ]
     },
     "execution_count": 55,
     "metadata": {},
     "output_type": "execute_result"
    }
   ],
   "source": [
    "one_visitor = np.random.choice([\"y\", \"n\"], size = 1, p = [0.1, 0.9])\n",
    "one_visitor"
   ]
  },
  {
   "cell_type": "code",
   "execution_count": 122,
   "id": "65c1bae2",
   "metadata": {},
   "outputs": [
    {
     "data": {
      "text/plain": [
       "array(['n', 'n', 'n', 'n', 'n', 'n', 'n', 'n', 'n', 'n', 'n', 'y', 'n',\n",
       "       'y', 'n', 'n', 'n', 'n', 'n', 'n', 'n', 'n', 'n', 'n', 'n', 'n',\n",
       "       'n', 'n', 'n', 'n', 'n', 'n', 'n', 'n', 'n', 'n', 'n', 'n', 'n',\n",
       "       'n', 'n', 'n', 'n', 'n', 'n', 'n', 'n', 'n', 'y', 'n', 'n', 'n',\n",
       "       'n', 'n', 'n', 'n', 'n', 'n', 'n', 'n', 'n', 'n', 'n', 'n', 'n',\n",
       "       'n', 'y', 'y', 'y', 'n', 'n', 'y', 'n', 'n', 'n', 'n', 'n', 'n',\n",
       "       'n', 'n', 'n', 'n', 'n', 'n', 'n', 'n', 'n', 'n', 'n', 'n', 'n',\n",
       "       'y', 'n', 'n', 'n', 'n', 'n', 'n', 'n', 'n', 'n', 'y', 'y', 'n',\n",
       "       'n', 'n', 'n', 'n', 'n', 'n', 'n', 'n', 'n', 'n', 'n', 'n', 'n',\n",
       "       'n', 'y', 'n', 'y', 'n', 'n', 'n', 'n', 'n', 'n', 'n', 'n', 'n',\n",
       "       'n', 'n', 'n', 'n', 'n', 'n', 'n', 'n', 'n', 'n', 'n', 'n', 'y',\n",
       "       'n', 'n', 'n', 'n', 'n', 'n', 'y', 'n', 'n', 'y', 'y', 'n', 'n',\n",
       "       'n', 'n', 'y', 'n', 'n', 'n', 'n', 'n', 'n', 'y', 'n', 'n', 'n',\n",
       "       'n', 'n', 'n', 'n', 'n', 'n', 'n', 'n', 'n', 'n', 'n', 'n', 'n',\n",
       "       'n', 'n', 'n', 'n', 'n', 'n', 'n', 'n', 'y', 'n', 'n', 'n', 'n',\n",
       "       'n', 'n', 'n', 'n', 'n', 'n', 'y', 'n', 'n', 'n', 'n', 'n', 'n',\n",
       "       'n', 'n', 'n', 'n', 'n', 'n', 'y', 'n', 'n', 'n', 'n', 'n', 'n',\n",
       "       'n', 'n', 'n', 'n', 'n', 'n', 'n', 'n', 'n', 'n', 'n', 'n', 'n',\n",
       "       'n', 'n', 'y', 'n', 'n', 'n', 'n', 'n', 'n', 'n', 'n', 'n', 'n',\n",
       "       'y', 'n', 'n', 'n', 'n', 'n', 'n', 'y', 'n', 'n', 'n', 'n', 'n',\n",
       "       'n', 'n', 'n', 'n', 'n', 'n', 'n', 'n', 'n', 'n', 'y', 'n', 'n',\n",
       "       'y', 'n', 'n', 'n', 'n', 'n', 'n', 'n', 'n', 'n', 'n', 'n', 'n',\n",
       "       'n', 'n', 'n', 'n', 'n', 'n', 'n', 'n', 'n', 'n', 'n', 'y', 'n',\n",
       "       'n', 'y', 'n', 'n', 'n', 'n', 'n', 'n', 'n', 'n', 'n', 'n', 'n',\n",
       "       'n', 'n', 'n', 'n', 'n', 'n', 'n', 'n', 'y', 'n', 'n', 'n', 'n',\n",
       "       'n', 'n', 'n', 'n', 'n', 'n', 'n', 'n', 'n', 'n', 'n', 'n', 'n',\n",
       "       'n', 'n', 'y', 'n', 'n', 'n', 'n', 'n', 'n', 'n', 'n', 'n', 'y',\n",
       "       'n', 'n', 'n', 'n', 'n', 'n', 'n', 'n', 'y', 'n', 'n', 'n', 'n',\n",
       "       'n', 'n', 'n', 'n', 'n', 'n', 'n', 'n', 'n', 'y', 'n', 'n', 'n',\n",
       "       'n', 'n', 'n', 'n', 'n', 'n', 'n', 'n', 'n', 'n', 'y', 'n', 'n',\n",
       "       'n', 'n', 'y', 'n', 'n', 'n', 'n', 'n', 'n', 'n', 'n', 'n', 'y',\n",
       "       'n', 'n', 'n', 'n', 'n', 'n', 'y', 'n', 'n', 'n', 'n', 'n', 'n',\n",
       "       'n', 'n', 'n', 'n', 'n', 'n', 'n', 'n', 'n', 'n', 'n', 'y', 'n',\n",
       "       'n', 'n', 'n', 'n', 'n', 'n', 'n', 'n', 'n', 'n', 'n', 'n', 'n',\n",
       "       'n', 'n', 'n', 'n', 'n', 'n', 'n', 'n', 'n', 'n', 'n', 'n', 'n',\n",
       "       'n', 'y', 'n', 'n', 'y', 'n', 'n', 'y', 'n', 'n', 'n', 'n', 'n',\n",
       "       'n', 'n', 'n', 'n', 'n', 'n', 'n', 'y', 'n', 'n', 'n', 'n', 'n',\n",
       "       'n', 'y', 'n', 'n', 'n', 'n', 'n', 'n', 'n', 'y', 'n', 'n', 'n',\n",
       "       'y', 'n', 'n', 'n', 'n', 'n'], dtype='<U1')"
      ]
     },
     "execution_count": 122,
     "metadata": {},
     "output_type": "execute_result"
    }
   ],
   "source": [
    "simulated_monthly_visitors = np.random.choice([\"y\", \"n\"], size = 500, p = [0.1, 0.9])\n",
    "simulated_monthly_visitors"
   ]
  },
  {
   "cell_type": "markdown",
   "id": "e101caed",
   "metadata": {},
   "source": [
    "### Simulating the Null Distribution I"
   ]
  },
  {
   "cell_type": "code",
   "execution_count": 77,
   "id": "448176ef",
   "metadata": {},
   "outputs": [
    {
     "data": {
      "text/plain": [
       "49"
      ]
     },
     "execution_count": 77,
     "metadata": {},
     "output_type": "execute_result"
    }
   ],
   "source": [
    "num_purchased = len(simulated_monthly_visitors[simulated_monthly_visitors == \"y\"])\n",
    "num_purchased"
   ]
  },
  {
   "cell_type": "code",
   "execution_count": 93,
   "id": "42ed3ddb",
   "metadata": {},
   "outputs": [],
   "source": [
    "null_outcomes = []\n",
    "for i in range(10000):\n",
    "    simulated_monthly_visitors = np.random.choice(['y', 'n'], size=500, p=[0.1, 0.9])\n",
    "    num_purchased = np.sum(simulated_monthly_visitors == \"y\")\n",
    "    null_outcomes.append(num_purchased)"
   ]
  },
  {
   "cell_type": "markdown",
   "id": "786a9043",
   "metadata": {},
   "source": [
    "### Simulating the Null Distribution II"
   ]
  },
  {
   "cell_type": "code",
   "execution_count": 94,
   "id": "7f75043d",
   "metadata": {},
   "outputs": [
    {
     "data": {
      "text/plain": [
       "25"
      ]
     },
     "execution_count": 94,
     "metadata": {},
     "output_type": "execute_result"
    }
   ],
   "source": [
    "null_min = min(null_outcomes)\n",
    "null_min"
   ]
  },
  {
   "cell_type": "code",
   "execution_count": 95,
   "id": "7e42a37b",
   "metadata": {},
   "outputs": [
    {
     "data": {
      "text/plain": [
       "78"
      ]
     },
     "execution_count": 95,
     "metadata": {},
     "output_type": "execute_result"
    }
   ],
   "source": [
    "null_max = max(null_outcomes)\n",
    "null_max"
   ]
  },
  {
   "cell_type": "markdown",
   "id": "7508ad31",
   "metadata": {},
   "source": [
    "### Inspecting the Null Distribution"
   ]
  },
  {
   "cell_type": "code",
   "execution_count": 100,
   "id": "2d9d17ec",
   "metadata": {},
   "outputs": [
    {
     "data": {
      "image/png": "[encoded data removed]",
      "text/plain": [
       "<Figure size 640x480 with 1 Axes>"
      ]
     },
     "metadata": {},
     "output_type": "display_data"
    }
   ],
   "source": [
    "plt.hist(null_outcomes)\n",
    "plt.axvline(41, color = \"red\");"
   ]
  },
  {
   "cell_type": "markdown",
   "id": "3c8957f7",
   "metadata": {},
   "source": [
    "### Confidence Intervals\n",
    "By reporting an interval covering 90% of the values instead of the full range, we can say something like: “we are 90% confident that, if each visitor has a 10% chance of making a purchase, a random sample of 500 visitors will make between 37 and 63 purchases.” We can use the np.percentile() function to calculate this 95% interval as follows:"
   ]
  },
  {
   "cell_type": "code",
   "execution_count": 102,
   "id": "82df19f9",
   "metadata": {},
   "outputs": [
    {
     "data": {
      "text/plain": [
       "array([39., 61.])"
      ]
     },
     "execution_count": 102,
     "metadata": {},
     "output_type": "execute_result"
    }
   ],
   "source": [
    "null_90CI = np.percentile(null_outcomes, [5, 95])\n",
    "null_90CI"
   ]
  },
  {
   "cell_type": "markdown",
   "id": "83abd135",
   "metadata": {},
   "source": [
    "### Calculating a One-Sided P-Value"
   ]
  },
  {
   "cell_type": "code",
   "execution_count": 109,
   "id": "b55c29c1",
   "metadata": {},
   "outputs": [
    {
     "data": {
      "text/plain": [
       "0.1041"
      ]
     },
     "execution_count": 109,
     "metadata": {},
     "output_type": "execute_result"
    }
   ],
   "source": [
    "# Null: the probability of a purchase was 10%\n",
    "# Alternative: the probability of a purchase rate was LESS THAN 10%\n",
    "\n",
    "null_outcomes = np.array(null_outcomes)\n",
    "p_value = np.sum(null_outcomes <= 41) / len(null_outcomes)\n",
    "p_value"
   ]
  },
  {
   "cell_type": "markdown",
   "id": "cc56896d",
   "metadata": {},
   "source": [
    "### Calculating a Two-Sided P-Value"
   ]
  },
  {
   "cell_type": "code",
   "execution_count": 110,
   "id": "aa41b92f",
   "metadata": {},
   "outputs": [
    {
     "data": {
      "text/plain": [
       "0.2061"
      ]
     },
     "execution_count": 110,
     "metadata": {},
     "output_type": "execute_result"
    }
   ],
   "source": [
    "# Null: the probability of a purchase was 10%.\n",
    "# Alternative: the probability of a purchase rate was not 10%.\n",
    "\n",
    "null_outcomes = np.array(null_outcomes)\n",
    "p_value = np.sum((null_outcomes <= 41) | (null_outcomes >= 59)) / len(null_outcomes)\n",
    "p_value"
   ]
  },
  {
   "cell_type": "markdown",
   "id": "df01478d",
   "metadata": {},
   "source": [
    "### Writing a Binomial Test Function"
   ]
  },
  {
   "cell_type": "code",
   "execution_count": 115,
   "id": "7a4cd9fd",
   "metadata": {},
   "outputs": [],
   "source": [
    "def simulation_binomial_test(observed_successes, n, p):\n",
    "  #initialize null_outcomes\n",
    "    null_outcomes = []\n",
    "  \n",
    "  #generate the simulated null distribution\n",
    "    for i in range(10000):\n",
    "        simulated_monthly_visitors = np.random.choice(['y', 'n'], size=n, p=[p, 1-p])\n",
    "        num_purchased = np.sum(simulated_monthly_visitors == 'y')\n",
    "        null_outcomes.append(num_purchased)\n",
    "\n",
    "    #calculate a 1-sided p-value\n",
    "    null_outcomes = np.array(null_outcomes)\n",
    "    p_value = np.sum(null_outcomes <= 41)/len(null_outcomes) \n",
    "  \n",
    "    #return the p-value\n",
    "    return p_value"
   ]
  },
  {
   "cell_type": "code",
   "execution_count": 116,
   "id": "89a09573",
   "metadata": {},
   "outputs": [
    {
     "data": {
      "text/plain": [
       "0.0999"
      ]
     },
     "execution_count": 116,
     "metadata": {},
     "output_type": "execute_result"
    }
   ],
   "source": [
    "p_value1 = simulation_binomial_test(45, 500, .1)\n",
    "p_value1"
   ]
  },
  {
   "cell_type": "markdown",
   "id": "d7c05213",
   "metadata": {},
   "source": [
    "### Binomial Testing with SciPy"
   ]
  },
  {
   "cell_type": "code",
   "execution_count": 118,
   "id": "574c3b34",
   "metadata": {},
   "outputs": [
    {
     "data": {
      "text/plain": [
       "0.254689260562342"
      ]
     },
     "execution_count": 118,
     "metadata": {},
     "output_type": "execute_result"
    }
   ],
   "source": [
    "from scipy.stats import binom_test\n",
    "p_value2 = binom_test(45, 500, .1, alternative = 'less')\n",
    "p_value2"
   ]
  },
  {
   "cell_type": "code",
   "execution_count": 119,
   "id": "cee277e0",
   "metadata": {},
   "outputs": [
    {
     "data": {
      "text/plain": [
       "0.2045639770068255"
      ]
     },
     "execution_count": 119,
     "metadata": {},
     "output_type": "execute_result"
    }
   ],
   "source": [
    "p_value_2sided = binom_test(41, 500, 0.1)\n",
    "p_value_2sided"
   ]
  },
  {
   "cell_type": "code",
   "execution_count": 120,
   "id": "d1e413bf",
   "metadata": {},
   "outputs": [
    {
     "data": {
      "text/plain": [
       "0.10011352697567076"
      ]
     },
     "execution_count": 120,
     "metadata": {},
     "output_type": "execute_result"
    }
   ],
   "source": [
    "p_value_1sided = binom_test(41, 500, 0.1, alternative = \"less\")\n",
    "p_value_1sided"
   ]
  },
  {
   "cell_type": "markdown",
   "id": "50119701",
   "metadata": {},
   "source": [
    "### Review\n",
    "To summarize, here are some of the things you’ve learned about hypothesis tests in general:\n",
    "- All hypothesis tests start with a null and alternative hypothesis.\n",
    "- Outcomes of a hypothesis test that might be reported include:\n",
    "    - Confidence intervals.\n",
    "    - P-values\n",
    "    \n",
    "    \n",
    "- A hypothesis test can be simulated by:\n",
    "    - Taking repeated random samples where the null hypothesis is assumed to be true\n",
    "    - Using those simulated samples to generate a null distribution\n",
    "    - Comparing an observed sample statistic to that null distribution"
   ]
  },
  {
   "cell_type": "markdown",
   "id": "9435f6e9",
   "metadata": {},
   "source": [
    "## 3. Significance Thresholds\n",
    "In order to turn a p-value, which is a probability, into a yes or no answer, data scientists often use a pre-set significance threshold. The significance threshold can be any number between 0 and 1, but a common choice is 0.05. P-values that are less than this threshold are considered “significant”, while larger p-values are considered “not significant”\n",
    "\n",
    "### Error Types: \n",
    "    Null hypothesis:\t                    is true\t       is false\n",
    "    P-value significant\t                 Type I Error\t  Correct!\n",
    "    P-value not significant\t             Correct!\t      Type II error             "
   ]
  },
  {
   "cell_type": "markdown",
   "id": "60ef7b38",
   "metadata": {},
   "source": [
    "### Exercise"
   ]
  },
  {
   "cell_type": "code",
   "execution_count": 125,
   "id": "ddffd213",
   "metadata": {},
   "outputs": [
    {
     "name": "stdout",
     "output_type": "stream",
     "text": [
      "0.046\n"
     ]
    }
   ],
   "source": [
    "# Set the significance threshold equal to 0.05 and a counter for false positives equal to zero.\n",
    "false_positives = 0\n",
    "sig_threshold = 0.05\n",
    "\n",
    "for i in range(1000): # Repeat these steps 1000 times\n",
    "    \n",
    "    # Simulate 100 learners, where each learner has 70% chance of answering a quiz question correctly.\n",
    "    sim_sample = np.random.choice([\"correct\", \"incorrect\"], size = 100, p = [0.7, 0.3])\n",
    "    \n",
    "    # Calculate the number of simulated learners who answered the question correctly.\n",
    "    num_correct = np.sum(sim_sample == \"correct\")\n",
    "    \n",
    "    # Run a binomial test for the simulated sample where the null hypothesis is that the probability of correct answer is 70%.\n",
    "    p_val = binom_test(num_correct, 100, 0.7)\n",
    "    \n",
    "    # Add 1 to our false positives counter every time we make type 1 error.(the p-value is significant.)\n",
    "    if p_val < sig_threshold:\n",
    "        false_positives += 1\n",
    "\n",
    "print(false_positives / 1000)\n",
    "# Note that the proportion of false positive tests is very similar to the value of the significance threshold (0.05)."
   ]
  },
  {
   "cell_type": "markdown",
   "id": "a889a7db",
   "metadata": {},
   "source": [
    "### Problems with Multiple Hypothesis Tests\n",
    "\n",
    "While significance thresholds allow a data scientist to control the false positive rate for a single hypothesis test, this starts to break when performing multiple tests as part of a single study.\n",
    "\n",
    "For example, suppose that we are writing a quiz at codecademy that is going to include 10 questions. For each question, we want to know whether the probability of a learner answering the question correctly is different from 70%. We now have to run 10 hypothesis tests, one for each question.\n",
    "\n",
    "If the null hypothesis is true for every hypothesis test (the probability of a correct answer is 70% for every question) and we use a .05 significance level for each test, then:\n",
    "\n",
    "- When we run a hypothesis test for a single question, we have a 95% chance of getting the right answer (a p-value > 0.05) — and a 5% chance of making a type I error.\n",
    "\n",
    "- When we run hypothesis tests for two questions, we have only a 90% chance of getting the right answer for both hypothesis tests (.95*.95 = 0.90) — and a 10% chance of making at least one type I error.\n",
    "\n",
    "- When we run hypothesis tests for all 10 questions, we have a 60% chance of getting the right answer for all ten hypothesis tests (0.95^10 = 0.60) — and a 40% chance of making at least one type I error.\n",
    "\n",
    "To address this problem, it is important to plan research out ahead of time: decide what questions you want to address and figure out how many hypothesis tests you need to run. When running multiple tests, use a lower significance threshold (eg., 0.01) for each test to reduce the probability of making a type I error.\n",
    "### Exercise"
   ]
  },
  {
   "cell_type": "code",
   "execution_count": 127,
   "id": "819df0e6",
   "metadata": {},
   "outputs": [
    {
     "data": {
      "image/png": "[encoded data removed]",
      "text/plain": [
       "<Figure size 640x480 with 1 Axes>"
      ]
     },
     "metadata": {},
     "output_type": "display_data"
    }
   ],
   "source": [
    "sig_threshold = 0.05\n",
    "num_tests = np.array(range(50))\n",
    "probabilities = 1- ((1-sig_threshold) ** num_tests)\n",
    "\n",
    "plt.plot(num_tests, probabilities)\n",
    "plt.title(\"Type 1 Error Rate for Multiple Test\", fontsize = 15)\n",
    "plt.ylabel(\"Porbability of at Least one Type 1 Error\")\n",
    "plt.xlabel(\"Number of Tests\", fontsize = 12)\n",
    "plt.show()\n",
    "\n",
    "# Inspect your new plot. Now how many tests would lead to a probability of a type I error of 50%?\n",
    "    # Approximately 15."
   ]
  },
  {
   "cell_type": "code",
   "execution_count": null,
   "id": "4e4fa382",
   "metadata": {},
   "outputs": [],
   "source": []
  }
 ],
 "metadata": {
  "kernelspec": {
   "display_name": "Python 3 (ipykernel)",
   "language": "python",
   "name": "python3"
  },
  "language_info": {
   "codemirror_mode": {
    "name": "ipython",
    "version": 3
   },
   "file_extension": ".py",
   "mimetype": "text/x-python",
   "name": "python",
   "nbconvert_exporter": "python",
   "pygments_lexer": "ipython3",
   "version": "3.9.12"
  }
 },
 "nbformat": 4,
 "nbformat_minor": 5
}

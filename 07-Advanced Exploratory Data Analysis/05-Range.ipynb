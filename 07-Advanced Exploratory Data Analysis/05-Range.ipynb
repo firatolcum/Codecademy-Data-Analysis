{
 "cells": [
  {
   "cell_type": "markdown",
   "id": "04e7fb0f",
   "metadata": {},
   "source": [
    "## Range Review\n",
    "One of the most common statistics to describe a dataset is the range. The range of a dataset is the difference between the maximum and minimum values. While this descriptive statistic is a good start, it is important to consider the impact outliers have on the result.\n",
    "\n",
    "The interquartile range (IQR) is a descriptive statistic that tries to solve this problem. The IQR ignores the tails of the dataset, so you know the range around-which your data is centered.\n"
   ]
  },
  {
   "cell_type": "code",
   "execution_count": 1,
   "id": "523ab3d3",
   "metadata": {},
   "outputs": [],
   "source": [
    "from song_data import songs\n",
    "import matplotlib.pyplot as plt\n",
    "import numpy as np"
   ]
  },
  {
   "cell_type": "markdown",
   "id": "2c96f01a",
   "metadata": {},
   "source": [
    "### Exercise 1\n",
    "Import a dataset of song lengths (measured in seconds) and plot a histogram."
   ]
  },
  {
   "cell_type": "code",
   "execution_count": 2,
   "id": "4488353f",
   "metadata": {},
   "outputs": [
    {
     "data": {
      "image/png": "[encoded data removed]",
      "text/plain": [
       "<Figure size 432x288 with 1 Axes>"
      ]
     },
     "metadata": {
      "needs_background": "light"
     },
     "output_type": "display_data"
    }
   ],
   "source": [
    "plt.hist(songs, bins=200)\n",
    "\n",
    "plt.xlabel(\"Song Lengths(seconds)\")\n",
    "plt.ylabel(\"Count\")\n",
    "plt.show()"
   ]
  },
  {
   "cell_type": "markdown",
   "id": "5280284b",
   "metadata": {},
   "source": [
    "### Exercise 2\n",
    "It looks like there are some outliers — this might be a good opportunity to use the IQR.\n",
    "\n",
    "Before we do that, Create a variable named song_range and set it equal to the difference between the maximum and the minimum."
   ]
  },
  {
   "cell_type": "code",
   "execution_count": 3,
   "id": "c6bdc41d",
   "metadata": {},
   "outputs": [
    {
     "data": {
      "text/plain": [
       "984.55465"
      ]
     },
     "execution_count": 3,
     "metadata": {},
     "output_type": "execute_result"
    }
   ],
   "source": [
    "maximum = max(songs)\n",
    "maximum"
   ]
  },
  {
   "cell_type": "code",
   "execution_count": 4,
   "id": "5c929bd1",
   "metadata": {},
   "outputs": [
    {
     "data": {
      "text/plain": [
       "1.04444"
      ]
     },
     "execution_count": 4,
     "metadata": {},
     "output_type": "execute_result"
    }
   ],
   "source": [
    "minimum = min(songs)\n",
    "minimum"
   ]
  },
  {
   "cell_type": "code",
   "execution_count": 5,
   "id": "d3385e29",
   "metadata": {},
   "outputs": [
    {
     "data": {
      "text/plain": [
       "983.51021"
      ]
     },
     "execution_count": 5,
     "metadata": {},
     "output_type": "execute_result"
    }
   ],
   "source": [
    "song_range = maximum - minimum\n",
    "song_range"
   ]
  },
  {
   "cell_type": "markdown",
   "id": "b2901d04",
   "metadata": {},
   "source": [
    "## Interquartile Range\n",
    "The interquartile range is the difference between the third quartile (Q3) and the first quartile (Q1).\n",
    "\n",
    "The first quartile is the value that separates the first 25% of the data from the remaining 75%.\n",
    "\n",
    "The third quartile is the opposite — it separates the first 75% of the data from the remaining 25%."
   ]
  },
  {
   "cell_type": "markdown",
   "id": "498f481e",
   "metadata": {},
   "source": [
    "### Exercise 1\n",
    "Calculate the first quartile and store it in a variable named q1.\n",
    "\n",
    "Calculate the third quartile and store it in a variable named q3."
   ]
  },
  {
   "cell_type": "code",
   "execution_count": 6,
   "id": "b79ebdd8",
   "metadata": {},
   "outputs": [
    {
     "data": {
      "text/plain": [
       "175.93424"
      ]
     },
     "execution_count": 6,
     "metadata": {},
     "output_type": "execute_result"
    }
   ],
   "source": [
    "q1 = np.quantile(songs, 0.25)\n",
    "q1"
   ]
  },
  {
   "cell_type": "code",
   "execution_count": 7,
   "id": "1ada0fcd",
   "metadata": {},
   "outputs": [
    {
     "data": {
      "text/plain": [
       "275.47383"
      ]
     },
     "execution_count": 7,
     "metadata": {},
     "output_type": "execute_result"
    }
   ],
   "source": [
    "q3 = np.quantile(songs, 0.75)\n",
    "q3"
   ]
  },
  {
   "cell_type": "markdown",
   "id": "fcdfea14",
   "metadata": {},
   "source": [
    "### Exercise 2\n",
    "Create a variable named interquartile_range and set it equal to the difference between q3 and q1."
   ]
  },
  {
   "cell_type": "code",
   "execution_count": 8,
   "id": "360097e2",
   "metadata": {},
   "outputs": [
    {
     "data": {
      "text/plain": [
       "99.53959000000003"
      ]
     },
     "execution_count": 8,
     "metadata": {},
     "output_type": "execute_result"
    }
   ],
   "source": [
    "interquartile_range = q3 - q1\n",
    "interquartile_range"
   ]
  },
  {
   "cell_type": "markdown",
   "id": "0345c91a",
   "metadata": {},
   "source": [
    "## IQR in SciPy\n",
    "The SciPy library has a function that can calculate the IQR all in one step.\n",
    "\n",
    "The iqr() function takes a dataset as a parameter and returns the Interquartile Range. \n",
    "\n",
    "Import iqr() from the stats submodule and use."
   ]
  },
  {
   "cell_type": "code",
   "execution_count": 9,
   "id": "18fb59fc",
   "metadata": {},
   "outputs": [],
   "source": [
    "from scipy.stats import iqr"
   ]
  },
  {
   "cell_type": "markdown",
   "id": "e9de0fa5",
   "metadata": {},
   "source": [
    "### Exercise 3\n",
    "Let’s calculate the IQR again, but this time, use SciPy’s function.\n",
    "\n",
    "Create a variable named interquartile_range and set it equal to the result of calling iqr() using songs as a parameter."
   ]
  },
  {
   "cell_type": "code",
   "execution_count": 11,
   "id": "2713e9b6",
   "metadata": {},
   "outputs": [
    {
     "data": {
      "text/plain": [
       "99.53959000000003"
      ]
     },
     "execution_count": 11,
     "metadata": {},
     "output_type": "execute_result"
    }
   ],
   "source": [
    "interquartile_range = iqr(songs)\n",
    "interquartile_range"
   ]
  },
  {
   "cell_type": "markdown",
   "id": "fe686f5b",
   "metadata": {},
   "source": [
    "### Review\n",
    " You can now calculate the Interquartile Range of a dataset by using the SciPy library. The main takeaway of the IQR is that it is a statistic, like the range, that helps describe the spread of the center of the data.\n",
    " \n",
    " However, unlike the range, the IQR is robust. A statistic is robust when outliers have little impact on it.\n",
    " \n",
    " By looking at the IQR instead of the range, you can get a better sense of the spread of the middle of the data."
   ]
  },
  {
   "cell_type": "code",
   "execution_count": null,
   "id": "79169b79",
   "metadata": {},
   "outputs": [],
   "source": []
  }
 ],
 "metadata": {
  "kernelspec": {
   "display_name": "Python 3 (ipykernel)",
   "language": "python",
   "name": "python3"
  },
  "language_info": {
   "codemirror_mode": {
    "name": "ipython",
    "version": 3
   },
   "file_extension": ".py",
   "mimetype": "text/x-python",
   "name": "python",
   "nbconvert_exporter": "python",
   "pygments_lexer": "ipython3",
   "version": "3.9.12"
  }
 },
 "nbformat": 4,
 "nbformat_minor": 5
}

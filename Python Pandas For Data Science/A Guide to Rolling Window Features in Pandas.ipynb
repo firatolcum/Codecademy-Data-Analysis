{
 "cells": [
  {
   "cell_type": "markdown",
   "id": "8f5fcd69",
   "metadata": {},
   "source": [
    "### Import Libraries"
   ]
  },
  {
   "cell_type": "code",
   "execution_count": 1,
   "id": "a9a98933",
   "metadata": {},
   "outputs": [],
   "source": [
    "import pandas as pd\n",
    "import numpy as np\n",
    "import random"
   ]
  },
  {
   "cell_type": "markdown",
   "id": "40922199",
   "metadata": {},
   "source": [
    "### Create Dataset"
   ]
  },
  {
   "cell_type": "code",
   "execution_count": 6,
   "id": "d1f01920",
   "metadata": {},
   "outputs": [],
   "source": [
    "data = []\n",
    "date_range = pd.date_range(\"01/07/2020\", \"01/21/2020\")\n",
    "\n",
    "for i in range(len(date_range)):\n",
    "    sales_cash = random.randint(1, 20)\n",
    "    sales_card = random.randint(1, 20)\n",
    "    \n",
    "    day_type = \"Weekday\"\n",
    "    \n",
    "    if date_range[i].weekday() > 4:\n",
    "        day_type = \"Weekand\"\n",
    "    \n",
    "    data.append([str(date_range[i].date()), day_type, \"Cash\", sales_cash])\n",
    "    data.append([str(date_range[i].date()), day_type, \"Card\", sales_card])\n",
    "    \n",
    "data = pd.DataFrame(data, columns=[\"Date\", \"Day_Type\", \"Payment_Type\", \"Sales\"])"
   ]
  },
  {
   "cell_type": "code",
   "execution_count": 8,
   "id": "accb1d57",
   "metadata": {},
   "outputs": [],
   "source": [
    "df = data.copy()"
   ]
  },
  {
   "cell_type": "code",
   "execution_count": 14,
   "id": "31653d8d",
   "metadata": {},
   "outputs": [
    {
     "data": {
      "text/html": [
       "<div>\n",
       "<style scoped>\n",
       "    .dataframe tbody tr th:only-of-type {\n",
       "        vertical-align: middle;\n",
       "    }\n",
       "\n",
       "    .dataframe tbody tr th {\n",
       "        vertical-align: top;\n",
       "    }\n",
       "\n",
       "    .dataframe thead th {\n",
       "        text-align: right;\n",
       "    }\n",
       "</style>\n",
       "<table border=\"1\" class=\"dataframe\">\n",
       "  <thead>\n",
       "    <tr style=\"text-align: right;\">\n",
       "      <th></th>\n",
       "      <th>Date</th>\n",
       "      <th>Day_Type</th>\n",
       "      <th>Payment_Type</th>\n",
       "      <th>Sales</th>\n",
       "    </tr>\n",
       "  </thead>\n",
       "  <tbody>\n",
       "    <tr>\n",
       "      <th>0</th>\n",
       "      <td>2020-01-07</td>\n",
       "      <td>Weekday</td>\n",
       "      <td>Cash</td>\n",
       "      <td>3</td>\n",
       "    </tr>\n",
       "    <tr>\n",
       "      <th>1</th>\n",
       "      <td>2020-01-07</td>\n",
       "      <td>Weekday</td>\n",
       "      <td>Card</td>\n",
       "      <td>12</td>\n",
       "    </tr>\n",
       "    <tr>\n",
       "      <th>2</th>\n",
       "      <td>2020-01-08</td>\n",
       "      <td>Weekday</td>\n",
       "      <td>Cash</td>\n",
       "      <td>19</td>\n",
       "    </tr>\n",
       "    <tr>\n",
       "      <th>3</th>\n",
       "      <td>2020-01-08</td>\n",
       "      <td>Weekday</td>\n",
       "      <td>Card</td>\n",
       "      <td>10</td>\n",
       "    </tr>\n",
       "    <tr>\n",
       "      <th>4</th>\n",
       "      <td>2020-01-09</td>\n",
       "      <td>Weekday</td>\n",
       "      <td>Cash</td>\n",
       "      <td>11</td>\n",
       "    </tr>\n",
       "  </tbody>\n",
       "</table>\n",
       "</div>"
      ],
      "text/plain": [
       "         Date Day_Type Payment_Type  Sales\n",
       "0  2020-01-07  Weekday         Cash      3\n",
       "1  2020-01-07  Weekday         Card     12\n",
       "2  2020-01-08  Weekday         Cash     19\n",
       "3  2020-01-08  Weekday         Card     10\n",
       "4  2020-01-09  Weekday         Cash     11"
      ]
     },
     "execution_count": 14,
     "metadata": {},
     "output_type": "execute_result"
    }
   ],
   "source": [
    "df.head()"
   ]
  },
  {
   "cell_type": "code",
   "execution_count": 10,
   "id": "8b619940",
   "metadata": {},
   "outputs": [
    {
     "data": {
      "text/plain": [
       "pandas.core.window.rolling.Rolling"
      ]
     },
     "execution_count": 10,
     "metadata": {},
     "output_type": "execute_result"
    }
   ],
   "source": [
    "type(df.rolling(window=4))"
   ]
  },
  {
   "cell_type": "code",
   "execution_count": 11,
   "id": "5746e773",
   "metadata": {},
   "outputs": [],
   "source": [
    "data[\"rolling_sum_2\"] = df.rolling(window=2)[\"Sales\"].sum()"
   ]
  },
  {
   "cell_type": "code",
   "execution_count": 13,
   "id": "a00ad428",
   "metadata": {},
   "outputs": [
    {
     "data": {
      "text/html": [
       "<div>\n",
       "<style scoped>\n",
       "    .dataframe tbody tr th:only-of-type {\n",
       "        vertical-align: middle;\n",
       "    }\n",
       "\n",
       "    .dataframe tbody tr th {\n",
       "        vertical-align: top;\n",
       "    }\n",
       "\n",
       "    .dataframe thead th {\n",
       "        text-align: right;\n",
       "    }\n",
       "</style>\n",
       "<table border=\"1\" class=\"dataframe\">\n",
       "  <thead>\n",
       "    <tr style=\"text-align: right;\">\n",
       "      <th></th>\n",
       "      <th>Date</th>\n",
       "      <th>Day_Type</th>\n",
       "      <th>Payment_Type</th>\n",
       "      <th>Sales</th>\n",
       "      <th>rolling_sum_2</th>\n",
       "    </tr>\n",
       "  </thead>\n",
       "  <tbody>\n",
       "    <tr>\n",
       "      <th>0</th>\n",
       "      <td>2020-01-07</td>\n",
       "      <td>Weekday</td>\n",
       "      <td>Cash</td>\n",
       "      <td>3</td>\n",
       "      <td>NaN</td>\n",
       "    </tr>\n",
       "    <tr>\n",
       "      <th>1</th>\n",
       "      <td>2020-01-07</td>\n",
       "      <td>Weekday</td>\n",
       "      <td>Card</td>\n",
       "      <td>12</td>\n",
       "      <td>15.0</td>\n",
       "    </tr>\n",
       "    <tr>\n",
       "      <th>2</th>\n",
       "      <td>2020-01-08</td>\n",
       "      <td>Weekday</td>\n",
       "      <td>Cash</td>\n",
       "      <td>19</td>\n",
       "      <td>31.0</td>\n",
       "    </tr>\n",
       "    <tr>\n",
       "      <th>3</th>\n",
       "      <td>2020-01-08</td>\n",
       "      <td>Weekday</td>\n",
       "      <td>Card</td>\n",
       "      <td>10</td>\n",
       "      <td>29.0</td>\n",
       "    </tr>\n",
       "    <tr>\n",
       "      <th>4</th>\n",
       "      <td>2020-01-09</td>\n",
       "      <td>Weekday</td>\n",
       "      <td>Cash</td>\n",
       "      <td>11</td>\n",
       "      <td>21.0</td>\n",
       "    </tr>\n",
       "  </tbody>\n",
       "</table>\n",
       "</div>"
      ],
      "text/plain": [
       "         Date Day_Type Payment_Type  Sales  rolling_sum_2\n",
       "0  2020-01-07  Weekday         Cash      3            NaN\n",
       "1  2020-01-07  Weekday         Card     12           15.0\n",
       "2  2020-01-08  Weekday         Cash     19           31.0\n",
       "3  2020-01-08  Weekday         Card     10           29.0\n",
       "4  2020-01-09  Weekday         Cash     11           21.0"
      ]
     },
     "execution_count": 13,
     "metadata": {},
     "output_type": "execute_result"
    }
   ],
   "source": [
    "data.head()"
   ]
  },
  {
   "cell_type": "code",
   "execution_count": 15,
   "id": "4eaea3c3",
   "metadata": {},
   "outputs": [],
   "source": [
    "data[\"rolling_sum_2\"] = df.rolling(window=2, min_periods=1)[\"Sales\"].sum()"
   ]
  },
  {
   "cell_type": "code",
   "execution_count": 16,
   "id": "477f04f1",
   "metadata": {},
   "outputs": [
    {
     "data": {
      "text/html": [
       "<div>\n",
       "<style scoped>\n",
       "    .dataframe tbody tr th:only-of-type {\n",
       "        vertical-align: middle;\n",
       "    }\n",
       "\n",
       "    .dataframe tbody tr th {\n",
       "        vertical-align: top;\n",
       "    }\n",
       "\n",
       "    .dataframe thead th {\n",
       "        text-align: right;\n",
       "    }\n",
       "</style>\n",
       "<table border=\"1\" class=\"dataframe\">\n",
       "  <thead>\n",
       "    <tr style=\"text-align: right;\">\n",
       "      <th></th>\n",
       "      <th>Date</th>\n",
       "      <th>Day_Type</th>\n",
       "      <th>Payment_Type</th>\n",
       "      <th>Sales</th>\n",
       "      <th>rolling_sum_2</th>\n",
       "    </tr>\n",
       "  </thead>\n",
       "  <tbody>\n",
       "    <tr>\n",
       "      <th>0</th>\n",
       "      <td>2020-01-07</td>\n",
       "      <td>Weekday</td>\n",
       "      <td>Cash</td>\n",
       "      <td>3</td>\n",
       "      <td>3.0</td>\n",
       "    </tr>\n",
       "    <tr>\n",
       "      <th>1</th>\n",
       "      <td>2020-01-07</td>\n",
       "      <td>Weekday</td>\n",
       "      <td>Card</td>\n",
       "      <td>12</td>\n",
       "      <td>15.0</td>\n",
       "    </tr>\n",
       "    <tr>\n",
       "      <th>2</th>\n",
       "      <td>2020-01-08</td>\n",
       "      <td>Weekday</td>\n",
       "      <td>Cash</td>\n",
       "      <td>19</td>\n",
       "      <td>31.0</td>\n",
       "    </tr>\n",
       "    <tr>\n",
       "      <th>3</th>\n",
       "      <td>2020-01-08</td>\n",
       "      <td>Weekday</td>\n",
       "      <td>Card</td>\n",
       "      <td>10</td>\n",
       "      <td>29.0</td>\n",
       "    </tr>\n",
       "    <tr>\n",
       "      <th>4</th>\n",
       "      <td>2020-01-09</td>\n",
       "      <td>Weekday</td>\n",
       "      <td>Cash</td>\n",
       "      <td>11</td>\n",
       "      <td>21.0</td>\n",
       "    </tr>\n",
       "  </tbody>\n",
       "</table>\n",
       "</div>"
      ],
      "text/plain": [
       "         Date Day_Type Payment_Type  Sales  rolling_sum_2\n",
       "0  2020-01-07  Weekday         Cash      3            3.0\n",
       "1  2020-01-07  Weekday         Card     12           15.0\n",
       "2  2020-01-08  Weekday         Cash     19           31.0\n",
       "3  2020-01-08  Weekday         Card     10           29.0\n",
       "4  2020-01-09  Weekday         Cash     11           21.0"
      ]
     },
     "execution_count": 16,
     "metadata": {},
     "output_type": "execute_result"
    }
   ],
   "source": [
    "data.head()"
   ]
  },
  {
   "cell_type": "code",
   "execution_count": null,
   "id": "18e275d2",
   "metadata": {},
   "outputs": [],
   "source": []
  },
  {
   "cell_type": "code",
   "execution_count": null,
   "id": "82f4d853",
   "metadata": {},
   "outputs": [],
   "source": []
  },
  {
   "cell_type": "code",
   "execution_count": null,
   "id": "40b1f777",
   "metadata": {},
   "outputs": [],
   "source": []
  }
 ],
 "metadata": {
  "kernelspec": {
   "display_name": "Python 3 (ipykernel)",
   "language": "python",
   "name": "python3"
  },
  "language_info": {
   "codemirror_mode": {
    "name": "ipython",
    "version": 3
   },
   "file_extension": ".py",
   "mimetype": "text/x-python",
   "name": "python",
   "nbconvert_exporter": "python",
   "pygments_lexer": "ipython3",
   "version": "3.9.12"
  }
 },
 "nbformat": 4,
 "nbformat_minor": 5
}

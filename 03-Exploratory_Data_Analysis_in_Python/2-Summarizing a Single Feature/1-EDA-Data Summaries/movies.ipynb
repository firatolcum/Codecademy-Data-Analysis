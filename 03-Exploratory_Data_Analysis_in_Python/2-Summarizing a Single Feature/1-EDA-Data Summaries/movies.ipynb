{
 "cells": [
  {
   "cell_type": "markdown",
   "id": "a543e494",
   "metadata": {},
   "source": [
    "## Introduction\n",
    "This lesson focuses on univariate summaries, where we explore each variable separately. This is useful for answering questions about each individual feature. Variables can typically be classified as quantitative (i.e., numeric) or categorical (i.e., discrete). Depending on its type, we may want to choose different summary metrics and visuals to use."
   ]
  },
  {
   "cell_type": "markdown",
   "id": "027c6696",
   "metadata": {},
   "source": [
    "##### Import  Libraries and Dataset"
   ]
  },
  {
   "cell_type": "code",
   "execution_count": 1,
   "id": "9733235c",
   "metadata": {},
   "outputs": [],
   "source": [
    "import pandas as pd\n",
    "import numpy as np"
   ]
  },
  {
   "cell_type": "code",
   "execution_count": 3,
   "id": "55805a31",
   "metadata": {},
   "outputs": [],
   "source": [
    "movies = pd.read_csv(\"movies.csv\")"
   ]
  },
  {
   "cell_type": "markdown",
   "id": "f47d5a2c",
   "metadata": {},
   "source": [
    "##### Exercise 1\n",
    "Start by inspecting the first 5 rows of movies using the ``.head()`` method and print the result.<br>\n",
    "How many quantitative and categorical variables do you see?"
   ]
  },
  {
   "cell_type": "code",
   "execution_count": 5,
   "id": "0a3c036c",
   "metadata": {},
   "outputs": [
    {
     "data": {
      "text/html": [
       "<div>\n",
       "<style scoped>\n",
       "    .dataframe tbody tr th:only-of-type {\n",
       "        vertical-align: middle;\n",
       "    }\n",
       "\n",
       "    .dataframe tbody tr th {\n",
       "        vertical-align: top;\n",
       "    }\n",
       "\n",
       "    .dataframe thead th {\n",
       "        text-align: right;\n",
       "    }\n",
       "</style>\n",
       "<table border=\"1\" class=\"dataframe\">\n",
       "  <thead>\n",
       "    <tr style=\"text-align: right;\">\n",
       "      <th></th>\n",
       "      <th>movie</th>\n",
       "      <th>production_budget</th>\n",
       "      <th>domestic_gross</th>\n",
       "      <th>worldwide_gross</th>\n",
       "      <th>mpaa_rating</th>\n",
       "      <th>genre</th>\n",
       "    </tr>\n",
       "  </thead>\n",
       "  <tbody>\n",
       "    <tr>\n",
       "      <th>0</th>\n",
       "      <td>Evan Almighty</td>\n",
       "      <td>175000000.0</td>\n",
       "      <td>100289690.0</td>\n",
       "      <td>1.741313e+08</td>\n",
       "      <td>PG</td>\n",
       "      <td>Comedy</td>\n",
       "    </tr>\n",
       "    <tr>\n",
       "      <th>1</th>\n",
       "      <td>Waterworld</td>\n",
       "      <td>175000000.0</td>\n",
       "      <td>88246220.0</td>\n",
       "      <td>2.642462e+08</td>\n",
       "      <td>PG-13</td>\n",
       "      <td>Action</td>\n",
       "    </tr>\n",
       "    <tr>\n",
       "      <th>2</th>\n",
       "      <td>King Arthur: Legend of the Sword</td>\n",
       "      <td>175000000.0</td>\n",
       "      <td>39175066.0</td>\n",
       "      <td>1.399507e+08</td>\n",
       "      <td>PG-13</td>\n",
       "      <td>Adventure</td>\n",
       "    </tr>\n",
       "    <tr>\n",
       "      <th>3</th>\n",
       "      <td>47 Ronin</td>\n",
       "      <td>175000000.0</td>\n",
       "      <td>38362475.0</td>\n",
       "      <td>1.517168e+08</td>\n",
       "      <td>PG-13</td>\n",
       "      <td>Action</td>\n",
       "    </tr>\n",
       "    <tr>\n",
       "      <th>4</th>\n",
       "      <td>Jurassic World: Fallen Kingdom</td>\n",
       "      <td>170000000.0</td>\n",
       "      <td>416769345.0</td>\n",
       "      <td>1.304866e+09</td>\n",
       "      <td>PG-13</td>\n",
       "      <td>Action</td>\n",
       "    </tr>\n",
       "  </tbody>\n",
       "</table>\n",
       "</div>"
      ],
      "text/plain": [
       "                              movie  production_budget  domestic_gross  \\\n",
       "0                     Evan Almighty        175000000.0     100289690.0   \n",
       "1                        Waterworld        175000000.0      88246220.0   \n",
       "2  King Arthur: Legend of the Sword        175000000.0      39175066.0   \n",
       "3                          47 Ronin        175000000.0      38362475.0   \n",
       "4    Jurassic World: Fallen Kingdom        170000000.0     416769345.0   \n",
       "\n",
       "   worldwide_gross mpaa_rating      genre  \n",
       "0     1.741313e+08          PG     Comedy  \n",
       "1     2.642462e+08       PG-13     Action  \n",
       "2     1.399507e+08       PG-13  Adventure  \n",
       "3     1.517168e+08       PG-13     Action  \n",
       "4     1.304866e+09       PG-13     Action  "
      ]
     },
     "execution_count": 5,
     "metadata": {},
     "output_type": "execute_result"
    }
   ],
   "source": [
    "movies.head()\n",
    "# Quantitative Variables: production_budget, domestic_gross, worldwide_gross\n",
    "# Categorical Variables: genre, mpaa_rating"
   ]
  },
  {
   "cell_type": "markdown",
   "id": "440f0a2c",
   "metadata": {},
   "source": [
    "##### Exercise 2\n",
    "Use the ``.describe()`` method to display the summary statistics for movies and print the result. <br>\n",
    "Make sure to show statistics for all columns in the DataFrame.<br>\n",
    "What kinds of metrics are displayed for quantitative columns versus categorical columns?"
   ]
  },
  {
   "cell_type": "code",
   "execution_count": 7,
   "id": "90096d19",
   "metadata": {},
   "outputs": [
    {
     "data": {
      "text/html": [
       "<div>\n",
       "<style scoped>\n",
       "    .dataframe tbody tr th:only-of-type {\n",
       "        vertical-align: middle;\n",
       "    }\n",
       "\n",
       "    .dataframe tbody tr th {\n",
       "        vertical-align: top;\n",
       "    }\n",
       "\n",
       "    .dataframe thead th {\n",
       "        text-align: right;\n",
       "    }\n",
       "</style>\n",
       "<table border=\"1\" class=\"dataframe\">\n",
       "  <thead>\n",
       "    <tr style=\"text-align: right;\">\n",
       "      <th></th>\n",
       "      <th>count</th>\n",
       "      <th>unique</th>\n",
       "      <th>top</th>\n",
       "      <th>freq</th>\n",
       "      <th>mean</th>\n",
       "      <th>std</th>\n",
       "      <th>min</th>\n",
       "      <th>25%</th>\n",
       "      <th>50%</th>\n",
       "      <th>75%</th>\n",
       "      <th>max</th>\n",
       "    </tr>\n",
       "  </thead>\n",
       "  <tbody>\n",
       "    <tr>\n",
       "      <th>movie</th>\n",
       "      <td>3401</td>\n",
       "      <td>3400</td>\n",
       "      <td>Tau ming chong</td>\n",
       "      <td>2</td>\n",
       "      <td>NaN</td>\n",
       "      <td>NaN</td>\n",
       "      <td>NaN</td>\n",
       "      <td>NaN</td>\n",
       "      <td>NaN</td>\n",
       "      <td>NaN</td>\n",
       "      <td>NaN</td>\n",
       "    </tr>\n",
       "    <tr>\n",
       "      <th>production_budget</th>\n",
       "      <td>3401.0</td>\n",
       "      <td>NaN</td>\n",
       "      <td>NaN</td>\n",
       "      <td>NaN</td>\n",
       "      <td>33284743.236401</td>\n",
       "      <td>34892390.590774</td>\n",
       "      <td>250000.0</td>\n",
       "      <td>9000000.0</td>\n",
       "      <td>20000000.0</td>\n",
       "      <td>45000000.0</td>\n",
       "      <td>175000000.0</td>\n",
       "    </tr>\n",
       "    <tr>\n",
       "      <th>domestic_gross</th>\n",
       "      <td>3401.0</td>\n",
       "      <td>NaN</td>\n",
       "      <td>NaN</td>\n",
       "      <td>NaN</td>\n",
       "      <td>45421793.45516</td>\n",
       "      <td>58825660.558476</td>\n",
       "      <td>0.0</td>\n",
       "      <td>6118683.0</td>\n",
       "      <td>25533818.0</td>\n",
       "      <td>60323786.0</td>\n",
       "      <td>474544677.0</td>\n",
       "    </tr>\n",
       "    <tr>\n",
       "      <th>worldwide_gross</th>\n",
       "      <td>3401.0</td>\n",
       "      <td>NaN</td>\n",
       "      <td>NaN</td>\n",
       "      <td>NaN</td>\n",
       "      <td>94115117.215819</td>\n",
       "      <td>140918241.815941</td>\n",
       "      <td>0.0</td>\n",
       "      <td>10618813.0</td>\n",
       "      <td>40159017.0</td>\n",
       "      <td>117615211.0</td>\n",
       "      <td>1304866322.0</td>\n",
       "    </tr>\n",
       "    <tr>\n",
       "      <th>mpaa_rating</th>\n",
       "      <td>3264</td>\n",
       "      <td>4</td>\n",
       "      <td>R</td>\n",
       "      <td>1514</td>\n",
       "      <td>NaN</td>\n",
       "      <td>NaN</td>\n",
       "      <td>NaN</td>\n",
       "      <td>NaN</td>\n",
       "      <td>NaN</td>\n",
       "      <td>NaN</td>\n",
       "      <td>NaN</td>\n",
       "    </tr>\n",
       "    <tr>\n",
       "      <th>genre</th>\n",
       "      <td>3401</td>\n",
       "      <td>5</td>\n",
       "      <td>Drama</td>\n",
       "      <td>1236</td>\n",
       "      <td>NaN</td>\n",
       "      <td>NaN</td>\n",
       "      <td>NaN</td>\n",
       "      <td>NaN</td>\n",
       "      <td>NaN</td>\n",
       "      <td>NaN</td>\n",
       "      <td>NaN</td>\n",
       "    </tr>\n",
       "  </tbody>\n",
       "</table>\n",
       "</div>"
      ],
      "text/plain": [
       "                    count unique             top  freq             mean  \\\n",
       "movie                3401   3400  Tau ming chong     2              NaN   \n",
       "production_budget  3401.0    NaN             NaN   NaN  33284743.236401   \n",
       "domestic_gross     3401.0    NaN             NaN   NaN   45421793.45516   \n",
       "worldwide_gross    3401.0    NaN             NaN   NaN  94115117.215819   \n",
       "mpaa_rating          3264      4               R  1514              NaN   \n",
       "genre                3401      5           Drama  1236              NaN   \n",
       "\n",
       "                                std       min         25%         50%  \\\n",
       "movie                           NaN       NaN         NaN         NaN   \n",
       "production_budget   34892390.590774  250000.0   9000000.0  20000000.0   \n",
       "domestic_gross      58825660.558476       0.0   6118683.0  25533818.0   \n",
       "worldwide_gross    140918241.815941       0.0  10618813.0  40159017.0   \n",
       "mpaa_rating                     NaN       NaN         NaN         NaN   \n",
       "genre                           NaN       NaN         NaN         NaN   \n",
       "\n",
       "                           75%           max  \n",
       "movie                      NaN           NaN  \n",
       "production_budget   45000000.0   175000000.0  \n",
       "domestic_gross      60323786.0   474544677.0  \n",
       "worldwide_gross    117615211.0  1304866322.0  \n",
       "mpaa_rating                NaN           NaN  \n",
       "genre                      NaN           NaN  "
      ]
     },
     "execution_count": 7,
     "metadata": {},
     "output_type": "execute_result"
    }
   ],
   "source": [
    "movies.describe(include=\"all\").T\n",
    "#Summary statistics like mean, standard deviation, and percentiles are well-suited for describing quantitative variables, \n",
    "#while categorical variables can be summarized by the count and frequency of their distinct categorical values."
   ]
  },
  {
   "cell_type": "markdown",
   "id": "ec79961f",
   "metadata": {},
   "source": [
    "## Central Tendency for Quantitative Data\n",
    "For quantitative variables, we often want to describe the central tendency, or the “typical” value of a variable. For example, what is the typical cost of rent in New York City?\n",
    "\n",
    "There are several common measures of central tendency:\n",
    "\n",
    "- **Mean:** The average value of the variable, calculated as the sum of all values divided by the number of values.\n",
    "- **Median:** The middle value of the variable when sorted.\n",
    "- **Mode:** The most frequent value of the variable.\n",
    "- **Trimmed mean:** The mean excluding x percent of the lowest and highest data points."
   ]
  },
  {
   "cell_type": "markdown",
   "id": "efd06b14",
   "metadata": {},
   "source": [
    "##### Exercise 3\n",
    "Find the mean `production_budget` for all movies and save it to a variable called `mean_budget`. Print `mean_budget` to see the result."
   ]
  },
  {
   "cell_type": "code",
   "execution_count": 8,
   "id": "d5f3ea41",
   "metadata": {},
   "outputs": [
    {
     "data": {
      "text/html": [
       "<div>\n",
       "<style scoped>\n",
       "    .dataframe tbody tr th:only-of-type {\n",
       "        vertical-align: middle;\n",
       "    }\n",
       "\n",
       "    .dataframe tbody tr th {\n",
       "        vertical-align: top;\n",
       "    }\n",
       "\n",
       "    .dataframe thead th {\n",
       "        text-align: right;\n",
       "    }\n",
       "</style>\n",
       "<table border=\"1\" class=\"dataframe\">\n",
       "  <thead>\n",
       "    <tr style=\"text-align: right;\">\n",
       "      <th></th>\n",
       "      <th>movie</th>\n",
       "      <th>production_budget</th>\n",
       "      <th>domestic_gross</th>\n",
       "      <th>worldwide_gross</th>\n",
       "      <th>mpaa_rating</th>\n",
       "      <th>genre</th>\n",
       "    </tr>\n",
       "  </thead>\n",
       "  <tbody>\n",
       "    <tr>\n",
       "      <th>0</th>\n",
       "      <td>Evan Almighty</td>\n",
       "      <td>175000000.0</td>\n",
       "      <td>100289690.0</td>\n",
       "      <td>1.741313e+08</td>\n",
       "      <td>PG</td>\n",
       "      <td>Comedy</td>\n",
       "    </tr>\n",
       "    <tr>\n",
       "      <th>1</th>\n",
       "      <td>Waterworld</td>\n",
       "      <td>175000000.0</td>\n",
       "      <td>88246220.0</td>\n",
       "      <td>2.642462e+08</td>\n",
       "      <td>PG-13</td>\n",
       "      <td>Action</td>\n",
       "    </tr>\n",
       "    <tr>\n",
       "      <th>2</th>\n",
       "      <td>King Arthur: Legend of the Sword</td>\n",
       "      <td>175000000.0</td>\n",
       "      <td>39175066.0</td>\n",
       "      <td>1.399507e+08</td>\n",
       "      <td>PG-13</td>\n",
       "      <td>Adventure</td>\n",
       "    </tr>\n",
       "    <tr>\n",
       "      <th>3</th>\n",
       "      <td>47 Ronin</td>\n",
       "      <td>175000000.0</td>\n",
       "      <td>38362475.0</td>\n",
       "      <td>1.517168e+08</td>\n",
       "      <td>PG-13</td>\n",
       "      <td>Action</td>\n",
       "    </tr>\n",
       "    <tr>\n",
       "      <th>4</th>\n",
       "      <td>Jurassic World: Fallen Kingdom</td>\n",
       "      <td>170000000.0</td>\n",
       "      <td>416769345.0</td>\n",
       "      <td>1.304866e+09</td>\n",
       "      <td>PG-13</td>\n",
       "      <td>Action</td>\n",
       "    </tr>\n",
       "  </tbody>\n",
       "</table>\n",
       "</div>"
      ],
      "text/plain": [
       "                              movie  production_budget  domestic_gross  \\\n",
       "0                     Evan Almighty        175000000.0     100289690.0   \n",
       "1                        Waterworld        175000000.0      88246220.0   \n",
       "2  King Arthur: Legend of the Sword        175000000.0      39175066.0   \n",
       "3                          47 Ronin        175000000.0      38362475.0   \n",
       "4    Jurassic World: Fallen Kingdom        170000000.0     416769345.0   \n",
       "\n",
       "   worldwide_gross mpaa_rating      genre  \n",
       "0     1.741313e+08          PG     Comedy  \n",
       "1     2.642462e+08       PG-13     Action  \n",
       "2     1.399507e+08       PG-13  Adventure  \n",
       "3     1.517168e+08       PG-13     Action  \n",
       "4     1.304866e+09       PG-13     Action  "
      ]
     },
     "execution_count": 8,
     "metadata": {},
     "output_type": "execute_result"
    }
   ],
   "source": [
    "movies.head()"
   ]
  },
  {
   "cell_type": "code",
   "execution_count": 9,
   "id": "8b9b89cd",
   "metadata": {},
   "outputs": [
    {
     "data": {
      "text/plain": [
       "33284743.23640106"
      ]
     },
     "execution_count": 9,
     "metadata": {},
     "output_type": "execute_result"
    }
   ],
   "source": [
    "mean_budget = movies[\"production_budget\"].mean()\n",
    "mean_budget"
   ]
  },
  {
   "cell_type": "markdown",
   "id": "b3ed23b6",
   "metadata": {},
   "source": [
    "##### Exercise 4\n",
    "Save the median budget to a variable called `med_budget` and print the result."
   ]
  },
  {
   "cell_type": "code",
   "execution_count": 11,
   "id": "ce81d1e2",
   "metadata": {},
   "outputs": [
    {
     "data": {
      "text/plain": [
       "20000000.0"
      ]
     },
     "execution_count": 11,
     "metadata": {},
     "output_type": "execute_result"
    }
   ],
   "source": [
    "med_budget = movies[\"production_budget\"].median()\n",
    "med_budget"
   ]
  },
  {
   "cell_type": "markdown",
   "id": "b57728eb",
   "metadata": {},
   "source": [
    "##### Exercise 5\n",
    "Save the mode to a variable called `mode_budget` and print the result.<br>\n",
    "How do the mean, median, and mode of movie budgets compare to each other?"
   ]
  },
  {
   "cell_type": "code",
   "execution_count": 12,
   "id": "98ed8198",
   "metadata": {},
   "outputs": [
    {
     "data": {
      "text/plain": [
       "0    20000000.0\n",
       "dtype: float64"
      ]
     },
     "execution_count": 12,
     "metadata": {},
     "output_type": "execute_result"
    }
   ],
   "source": [
    "mode_budget = movies[\"production_budget\"].mode()\n",
    "mode_budget"
   ]
  },
  {
   "cell_type": "markdown",
   "id": "a3efd0a1",
   "metadata": {},
   "source": [
    "##### Exercise 6\n",
    "Find the mean of the budget after removing 20% of the lowest and highest data points. <br>\n",
    "Save the trimmed mean to a variable called `trmean_budget` and print the result.<br>\n",
    "How does trimming the most extreme data points affect the mean budget?"
   ]
  },
  {
   "cell_type": "code",
   "execution_count": 13,
   "id": "ae1567ac",
   "metadata": {},
   "outputs": [],
   "source": [
    "from scipy.stats import trim_mean"
   ]
  },
  {
   "cell_type": "code",
   "execution_count": 15,
   "id": "e748e557",
   "metadata": {},
   "outputs": [
    {
     "data": {
      "text/plain": [
       "23949546.79078883"
      ]
     },
     "execution_count": 15,
     "metadata": {},
     "output_type": "execute_result"
    }
   ],
   "source": [
    "trmean_budget = trim_mean(movies[\"production_budget\"], proportiontocut=0.2)\n",
    "trmean_budget\n",
    "#The trimmed mean is just under $24M, \n",
    "#   which is much lower compared to the original mean of $33M and also much closer to the median and mode values. \n",
    "#This makes sense because the mean is affected by outliers,\n",
    "#   so removing the extreme values can bring the mean closer to what would be considered a representative, “typical” budget value."
   ]
  },
  {
   "cell_type": "markdown",
   "id": "d2e4c865",
   "metadata": {},
   "source": [
    "## Spread for Quantitative Data\n",
    "The spread of a quantitative variable describes the amount of variability. This is important because it provides context for measures of central tendency. For example, if there is a lot of variability in New York City rent prices, we can be less certain that the mean or median price is representative of what the typical rent is.\n",
    "\n",
    "There are several common measures of spread:\n",
    "\n",
    "- **Range:** The difference between the maximum and minimum values of a variable.\n",
    "- **Interquartile range (IQR):** The difference between the 75th and 25th percentile values.\n",
    "- **Variance:** The average of the squared distance from each data point to the mean.\n",
    "- **Standard deviation (SD):** The square root of the variance.\n",
    "- **Mean absolute deviation (MAD):** The mean absolute value of the distance between each data point and the mean."
   ]
  },
  {
   "cell_type": "markdown",
   "id": "3098cd58",
   "metadata": {},
   "source": [
    "##### Exercise 7\n",
    "Find the range for `production_budget` and save it to a variable called `range_budget`. Print `range_budget` to see the result."
   ]
  },
  {
   "cell_type": "code",
   "execution_count": 17,
   "id": "c1717488",
   "metadata": {},
   "outputs": [
    {
     "data": {
      "text/plain": [
       "174750000.0"
      ]
     },
     "execution_count": 17,
     "metadata": {},
     "output_type": "execute_result"
    }
   ],
   "source": [
    "range_budget = movies[\"production_budget\"].max() - movies[\"production_budget\"].min()\n",
    "range_budget"
   ]
  },
  {
   "cell_type": "markdown",
   "id": "d2906be3",
   "metadata": {},
   "source": [
    "##### Exercise 8\n",
    "Save the interquartile range for budget to a variable called `iqr_budget` and print the result."
   ]
  },
  {
   "cell_type": "code",
   "execution_count": 20,
   "id": "089d9190",
   "metadata": {},
   "outputs": [
    {
     "data": {
      "text/plain": [
       "36000000.0"
      ]
     },
     "execution_count": 20,
     "metadata": {},
     "output_type": "execute_result"
    }
   ],
   "source": [
    "from scipy.stats import iqr\n",
    "iqr_budget = iqr(movies[\"production_budget\"])\n",
    "iqr_budget"
   ]
  },
  {
   "cell_type": "markdown",
   "id": "f42b692c",
   "metadata": {},
   "source": [
    "##### Exercise 9\n",
    "Save the variance to a variable called `var_budget` and print the result."
   ]
  },
  {
   "cell_type": "code",
   "execution_count": 22,
   "id": "25b6b111",
   "metadata": {},
   "outputs": [
    {
     "data": {
      "text/plain": [
       "1217478921139135.5"
      ]
     },
     "execution_count": 22,
     "metadata": {},
     "output_type": "execute_result"
    }
   ],
   "source": [
    "var_budget = movies[\"production_budget\"].var()\n",
    "var_budget"
   ]
  },
  {
   "cell_type": "markdown",
   "id": "1b1cc161",
   "metadata": {},
   "source": [
    "##### Exercise 10\n",
    "Save the standard deviation to a variable called `std_budget` and print the result."
   ]
  },
  {
   "cell_type": "code",
   "execution_count": 24,
   "id": "64313c6a",
   "metadata": {},
   "outputs": [
    {
     "data": {
      "text/plain": [
       "34892390.59077402"
      ]
     },
     "execution_count": 24,
     "metadata": {},
     "output_type": "execute_result"
    }
   ],
   "source": [
    "std_budget = movies[\"production_budget\"].std()\n",
    "std_budget"
   ]
  },
  {
   "cell_type": "markdown",
   "id": "33b035f2",
   "metadata": {},
   "source": [
    "##### Exercise 11\n",
    "Save the mean absolute deviation to a variable called `mad_budget` and print the result."
   ]
  },
  {
   "cell_type": "code",
   "execution_count": 26,
   "id": "ade5d947",
   "metadata": {},
   "outputs": [
    {
     "data": {
      "text/plain": [
       "26090426.818846796"
      ]
     },
     "execution_count": 26,
     "metadata": {},
     "output_type": "execute_result"
    }
   ],
   "source": [
    "mad_budget = movies[\"production_budget\"].mad()\n",
    "mad_budget"
   ]
  },
  {
   "cell_type": "markdown",
   "id": "bd283fe9",
   "metadata": {},
   "source": [
    "## Visualizing Quantitative Variables\n",
    "While summary statistics are certainly helpful for exploring and quantifying a feature, we might find it hard to wrap our minds around a bunch of numbers. This is why data visualization is such a powerful element of EDA.\n",
    "\n",
    "For quantitative variables, boxplots and histograms are two common visualizations. These plots are useful because they simultaneously communicate information about minimum and maximum values, central location, and spread. Histograms can additionally illuminate patterns that can impact an analysis (e.g., skew or multimodality)."
   ]
  },
  {
   "cell_type": "code",
   "execution_count": 27,
   "id": "25ee39a3",
   "metadata": {},
   "outputs": [],
   "source": [
    "import matplotlib.pyplot as plt\n",
    "import seaborn as sns"
   ]
  },
  {
   "cell_type": "markdown",
   "id": "a42ce79e",
   "metadata": {},
   "source": [
    "##### Exercise 12\n",
    "Create a boxplot for `production_budget` using the `boxplot()` function from `seaborn`.<br>\n",
    "Don’t forget to display the plot using `plt.show()` and close the plot using `plt.close()` ."
   ]
  },
  {
   "cell_type": "code",
   "execution_count": 30,
   "id": "7efe0ca1",
   "metadata": {},
   "outputs": [
    {
     "data": {
      "image/png": "[encoded data removed]",
      "text/plain": [
       "<Figure size 432x288 with 1 Axes>"
      ]
     },
     "metadata": {
      "needs_background": "light"
     },
     "output_type": "display_data"
    }
   ],
   "source": [
    "sns.boxplot(data=movies, x=\"production_budget\")\n",
    "plt.show()\n",
    "plt.close()"
   ]
  },
  {
   "cell_type": "markdown",
   "id": "069efd7e",
   "metadata": {},
   "source": [
    "##### Exercise 13\n",
    "Create a histogram for `production_budget` using the `histplot()` function from `seaborn`.<br>\n",
    "From the plots, what do you notice about the distribution of movie budgets?"
   ]
  },
  {
   "cell_type": "code",
   "execution_count": 36,
   "id": "0b4f18f3",
   "metadata": {},
   "outputs": [
    {
     "data": {
      "image/png": "[encoded data removed]",
      "text/plain": [
       "<Figure size 432x288 with 1 Axes>"
      ]
     },
     "metadata": {
      "needs_background": "light"
     },
     "output_type": "display_data"
    }
   ],
   "source": [
    "sns.histplot(data=movies, x=\"production_budget\")\n",
    "plt.show()\n",
    "plt.close()\n",
    "\n",
    "#Both plots show that the distribution of movie budgets is skewed to the right, \n",
    "#   with some outlier movies having extremely high budgets. \n",
    "#This is consistent with the high mean budget value we saw earlier, since the mean is affected by skewness and outliers."
   ]
  },
  {
   "cell_type": "markdown",
   "id": "6b34f025",
   "metadata": {},
   "source": [
    "## Value Counts for Categorical Data\n",
    "When it comes to categorical variables, the measures of central tendency and spread that worked for describing numeric variables, like mean and standard deviation, generally becomes unsuitable when we’re dealing with discrete values. Unlike numbers, categorical values are not continuous and oftentimes do not have an intrinsic ordering.\n",
    "\n",
    "Instead, a good way to summarize categorical variables is to generate a frequency table containing the count of each distinct value. For example, we may be interested to know how many of the New York City rental listings are from each borough. Related, we can also find which borough has the most listings."
   ]
  },
  {
   "cell_type": "markdown",
   "id": "113a345f",
   "metadata": {},
   "source": [
    "##### Exercise 14\n",
    "Find the number of movies in each genre and save the counts to a variable called `genre_counts`. Print `genre_counts` to see the result."
   ]
  },
  {
   "cell_type": "code",
   "execution_count": 40,
   "id": "01723713",
   "metadata": {},
   "outputs": [
    {
     "data": {
      "text/plain": [
       "Drama        1236\n",
       "Comedy        813\n",
       "Action        573\n",
       "Adventure     481\n",
       "Horror        298\n",
       "Name: genre, dtype: int64"
      ]
     },
     "execution_count": 40,
     "metadata": {},
     "output_type": "execute_result"
    }
   ],
   "source": [
    "genre_counts = movies[\"genre\"].value_counts()\n",
    "genre_counts"
   ]
  },
  {
   "cell_type": "markdown",
   "id": "c4eaaf0b",
   "metadata": {},
   "source": [
    "##### Exercise 15\n",
    "Find the proportion of movies in each genre and save them to a variable called `genre_props`. Print `genre_props` to see the result."
   ]
  },
  {
   "cell_type": "code",
   "execution_count": 42,
   "id": "97ce58c5",
   "metadata": {},
   "outputs": [
    {
     "data": {
      "text/plain": [
       "Drama        0.363423\n",
       "Comedy       0.239047\n",
       "Action       0.168480\n",
       "Adventure    0.141429\n",
       "Horror       0.087621\n",
       "Name: genre, dtype: float64"
      ]
     },
     "execution_count": 42,
     "metadata": {},
     "output_type": "execute_result"
    }
   ],
   "source": [
    "genre_props = movies[\"genre\"].value_counts(normalize=True)\n",
    "genre_props"
   ]
  },
  {
   "cell_type": "markdown",
   "id": "60829f69",
   "metadata": {},
   "source": [
    "## Visualizing Categorical Variables\n",
    "For categorical variables, bar charts and pie charts are common options for visualizing the count (or proportion) of values in each category. They can also convey the relative frequencies of each category."
   ]
  },
  {
   "cell_type": "markdown",
   "id": "5eff1f1f",
   "metadata": {},
   "source": [
    "##### Exercise 16\n",
    "Create a bar chart for `genre` using the ``countplot()`` function from ``seaborn``. <br>\n",
    "Don’t forget to display the plot using ``plt.show()`` and close the plot using ``plt.close()``."
   ]
  },
  {
   "cell_type": "code",
   "execution_count": 45,
   "id": "905eb88c",
   "metadata": {},
   "outputs": [
    {
     "data": {
      "image/png": "[encoded data removed]",
      "text/plain": [
       "<Figure size 432x288 with 1 Axes>"
      ]
     },
     "metadata": {
      "needs_background": "light"
     },
     "output_type": "display_data"
    }
   ],
   "source": [
    "ax = sns.countplot(data=movies, x=\"genre\")\n",
    "for container in ax.containers:\n",
    "    ax.bar_label(container)\n",
    "plt.show()\n",
    "plt.close()"
   ]
  },
  {
   "cell_type": "markdown",
   "id": "729a7a29",
   "metadata": {},
   "source": [
    "##### Exercise 17\n",
    "Create a pie chart for ``genre`` using the ``.pie()`` method from pandas.<br>\n",
    "From the plots, what do you notice about the relative frequencies of movie genres?"
   ]
  },
  {
   "cell_type": "code",
   "execution_count": 79,
   "id": "b4da2042",
   "metadata": {},
   "outputs": [
    {
     "data": {
      "text/plain": [
       "Index(['Drama', 'Comedy', 'Action', 'Adventure', 'Horror'], dtype='object')"
      ]
     },
     "execution_count": 79,
     "metadata": {},
     "output_type": "execute_result"
    }
   ],
   "source": [
    "movies[\"genre\"].value_counts().index"
   ]
  },
  {
   "cell_type": "code",
   "execution_count": 85,
   "id": "6a0b1174",
   "metadata": {},
   "outputs": [
    {
     "data": {
      "image/png": "[encoded data removed]",
      "text/plain": [
       "<Figure size 432x432 with 1 Axes>"
      ]
     },
     "metadata": {},
     "output_type": "display_data"
    }
   ],
   "source": [
    "plt.figure(figsize=(6,6))\n",
    "plt.pie(movies[\"genre\"].value_counts(), autopct=\"%.2f%%\", labels=movies[\"genre\"].value_counts().index)\n",
    "plt.title(\"Percentage Representation of The Total Number of Movie Genres\")\n",
    "\n",
    "plt.show()\n",
    "plt.close()"
   ]
  }
 ],
 "metadata": {
  "kernelspec": {
   "display_name": "Python 3 (ipykernel)",
   "language": "python",
   "name": "python3"
  },
  "language_info": {
   "codemirror_mode": {
    "name": "ipython",
    "version": 3
   },
   "file_extension": ".py",
   "mimetype": "text/x-python",
   "name": "python",
   "nbconvert_exporter": "python",
   "pygments_lexer": "ipython3",
   "version": "3.9.12"
  }
 },
 "nbformat": 4,
 "nbformat_minor": 5
}

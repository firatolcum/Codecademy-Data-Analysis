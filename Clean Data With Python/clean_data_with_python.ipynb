{
 "cells": [
  {
   "cell_type": "markdown",
   "id": "494e713f",
   "metadata": {},
   "source": [
    "## Data Cleaning with Python\n",
    "We have provided an example of data representing exam scores from 1000 students in an online math class.\n",
    "\n",
    "These DataFrames are hard to work with. They’re separated into multiple tables, and the values don’t lend themselves well to analysis. Try to think about how you would plot the exam score average against the age of the students in the class. This would not be easy!"
   ]
  },
  {
   "cell_type": "code",
   "execution_count": 152,
   "id": "69e1caa6",
   "metadata": {},
   "outputs": [],
   "source": [
    "import pandas as pd\n",
    "import glob"
   ]
  },
  {
   "cell_type": "markdown",
   "id": "df96b1f6",
   "metadata": {},
   "source": [
    "### 1. Dealing With Multiple Files"
   ]
  },
  {
   "cell_type": "markdown",
   "id": "d54fb3ca",
   "metadata": {},
   "source": [
    "##### Exercise 1\n",
    "We have 10 different files containing 100 students each. These files follow the naming structure:\n",
    "\n",
    "- exams0.csv\n",
    "- exams1.csv\n",
    "- … up to exams9.csv <br>\n",
    "\n",
    "We are going to import each file using pandas, and combine all of the entries into one DataFrame.\n",
    "\n",
    "First, create a variable called `student_files` and set it equal to the `glob()` of all of the csv files we want to import."
   ]
  },
  {
   "cell_type": "code",
   "execution_count": 153,
   "id": "3f84e341",
   "metadata": {},
   "outputs": [],
   "source": [
    "student_files = glob.glob(\"exams*.csv\")"
   ]
  },
  {
   "cell_type": "code",
   "execution_count": 154,
   "id": "0bf451d4",
   "metadata": {},
   "outputs": [
    {
     "data": {
      "text/plain": [
       "['exams0.csv',\n",
       " 'exams1.csv',\n",
       " 'exams2.csv',\n",
       " 'exams3.csv',\n",
       " 'exams4.csv',\n",
       " 'exams5.csv',\n",
       " 'exams6.csv',\n",
       " 'exams7.csv',\n",
       " 'exams8.csv',\n",
       " 'exams9.csv']"
      ]
     },
     "execution_count": 154,
     "metadata": {},
     "output_type": "execute_result"
    }
   ],
   "source": [
    "student_files"
   ]
  },
  {
   "cell_type": "markdown",
   "id": "1d39287e",
   "metadata": {},
   "source": [
    "##### Exercise 2\n",
    "Create an empty list called `df_list` that will store all of the DataFrames we make from the files `exams0.csv` through `exams9.csv`. Loop through the filenames in `student_files`, and create a DataFrame from each file. Append this DataFrame to `df_list`."
   ]
  },
  {
   "cell_type": "code",
   "execution_count": 155,
   "id": "a3c43ad5",
   "metadata": {},
   "outputs": [
    {
     "data": {
      "text/plain": [
       "[    id         full_name gender_age fractions probability       grade\n",
       " 0    0    Barrett Feragh        M14       76%         72%   9th grade\n",
       " 1    1   Llewellyn Keech        M14       83%         NaN  12th grade\n",
       " 2    2   Llewellyn Keech        M14       83%         NaN  12th grade\n",
       " 3    3      Terrell Geri        M15       80%         86%  11th grade\n",
       " 4    4    Gram Hallewell        M14       67%         78%  10th grade\n",
       " ..  ..               ...        ...       ...         ...         ...\n",
       " 95  95     Halley Clunie        F14       73%         82%  12th grade\n",
       " 96  96    Gale Mullender        F17       72%         81%  12th grade\n",
       " 97  97        Ryun Denne        M17       74%         78%  11th grade\n",
       " 98  98  Cazzie Potapczuk        M14       71%         78%  10th grade\n",
       " 99  99     Verina Pasque        F18       48%         77%  10th grade\n",
       " \n",
       " [100 rows x 6 columns],\n",
       "     id          full_name gender_age fractions probability       grade\n",
       " 0    0  Roseanna Gwinnell        F15       89%         65%   9th grade\n",
       " 1    1  Ellissa Childrens        F14       73%         84%  12th grade\n",
       " 2    2      Reeta Bramich        F18       74%         92%  12th grade\n",
       " 3    3       Izabel Rymer        F15       66%         81%  11th grade\n",
       " 4    4      Rosalie Donne        F18       72%         86%  11th grade\n",
       " ..  ..                ...        ...       ...         ...         ...\n",
       " 95  95   Brig Meadowcroft        M16       84%         NaN  12th grade\n",
       " 96  96   Isidor Abrashkov        M14       83%         78%  11th grade\n",
       " 97  97       Siana McKune        F17       72%         76%  12th grade\n",
       " 98  98        Tuck Lyford        M17       73%         84%  11th grade\n",
       " 99  99        Janie Paris        F17       68%         82%  11th grade\n",
       " \n",
       " [100 rows x 6 columns],\n",
       "     id          full_name gender_age fractions probability       grade\n",
       " 0    0  Kizzee Kensington        F17       68%         76%  12th grade\n",
       " 1    1   Garret Hartfleet        M17       68%         90%  12th grade\n",
       " 2    2    Ingrid Meatyard        F18       65%         NaN  12th grade\n",
       " 3    3  Verney Sainsberry        M18       85%         76%   9th grade\n",
       " 4    4    Lonni Bruhnicke        F16       71%         81%   9th grade\n",
       " ..  ..                ...        ...       ...         ...         ...\n",
       " 95  95      Massimo Babbs        M16       84%         83%  11th grade\n",
       " 96  96     Garrek Manuely        M14       70%         85%   9th grade\n",
       " 97  97   Winslow Lilliman        M15       81%         83%  11th grade\n",
       " 98  98      Grantham Yate        M15       77%         87%  10th grade\n",
       " 99  99    Dennie Chopping        M16       81%         83%   9th grade\n",
       " \n",
       " [100 rows x 6 columns],\n",
       "     id         full_name gender_age fractions probability       grade\n",
       " 0    0  Nikolia Rainsdon        F15       66%         74%  11th grade\n",
       " 1    1    Libbie MacIver        F15       71%         83%  10th grade\n",
       " 2    2    Caesar Arnison        M16       70%         78%  12th grade\n",
       " 3    3     Leanora Cowup        F15       72%         74%   9th grade\n",
       " 4    4     Leanora Cowup        F15       72%         74%   9th grade\n",
       " ..  ..               ...        ...       ...         ...         ...\n",
       " 95  95     Donia Stockoe        F18       88%         84%  10th grade\n",
       " 96  96   Korella Spurden        F16       79%         81%   9th grade\n",
       " 97  97     Basilius Sine        M17       66%         85%  10th grade\n",
       " 98  98  Kingston Akaster        M14       71%         75%   9th grade\n",
       " 99  99     Carita Utting        F16       68%         83%  11th grade\n",
       " \n",
       " [100 rows x 6 columns],\n",
       "     id             full_name gender_age fractions probability       grade\n",
       " 0    0        Luci Carwithim        F15       79%         79%  12th grade\n",
       " 1    1          Terrel Vosse        M18       74%         83%  10th grade\n",
       " 2    2           Cecil Celli        M18       70%         81%  10th grade\n",
       " 3    3  Tiffany Brocklehurst        F15       66%         84%  10th grade\n",
       " 4    4  Lionello Claricoates        M18       NaN         NaN   9th grade\n",
       " ..  ..                   ...        ...       ...         ...         ...\n",
       " 95  95       Denyse Dodgshun        F15       66%         81%  10th grade\n",
       " 96  96       Alphard Ackland        M17       58%         NaN  10th grade\n",
       " 97  97      Bernie Bettridge        M14       74%         83%  12th grade\n",
       " 98  98          Rodd Ahearne        M16       79%         81%   9th grade\n",
       " 99  99        Adolphe Neljes        M17       64%         87%  10th grade\n",
       " \n",
       " [100 rows x 6 columns],\n",
       "     id          full_name gender_age fractions probability       grade\n",
       " 0    0         Gigi Erley        F14       63%         83%  10th grade\n",
       " 1    1    Madelaine Drees        F14       73%         83%  10th grade\n",
       " 2    2   Nevins O'Sesnane        M16       NaN         88%   9th grade\n",
       " 3    3     Sonnie Yukhnev        F14       83%         74%  11th grade\n",
       " 4    4      Boigie Kaindl        M15       81%         81%  11th grade\n",
       " ..  ..                ...        ...       ...         ...         ...\n",
       " 95  95        Arel Sissot        M15       70%         NaN   9th grade\n",
       " 96  96   Ardath Castleton        F16       75%         81%  10th grade\n",
       " 97  97  Gregor Shingfield        M18       80%         78%  11th grade\n",
       " 98  98     Anette Snawden        F17       79%         83%  11th grade\n",
       " 99  99   Thurston Braiden        M14       NaN         86%   9th grade\n",
       " \n",
       " [100 rows x 6 columns],\n",
       "     id           full_name gender_age fractions probability       grade\n",
       " 0    0      Moses Kirckman        M14       69%         89%  11th grade\n",
       " 1    1     Timofei Strowan        M18       63%         76%  11th grade\n",
       " 2    2        Silvain Poll        M18       69%         77%   9th grade\n",
       " 3    3      Lezley Pinxton        M18       NaN         72%  11th grade\n",
       " 4    4   Bernadene Saunper        F17       72%         84%  11th grade\n",
       " ..  ..                 ...        ...       ...         ...         ...\n",
       " 95  95        Bria Seiller        F15       72%         81%  12th grade\n",
       " 96  96      Lilyan Cicutto        F14       88%         81%  12th grade\n",
       " 97  97     Grantham Maykin        M16       75%         76%  11th grade\n",
       " 98  98     Doralyn Bartels        F14       85%         84%  12th grade\n",
       " 99  99  Mariam Hallyburton        F18       80%         87%   9th grade\n",
       " \n",
       " [100 rows x 6 columns],\n",
       "     id       full_name gender_age fractions probability       grade\n",
       " 0    0   Morissa Skade        F16       72%         70%  10th grade\n",
       " 1    1  Jasper Comfort        M14       76%         73%   9th grade\n",
       " 2    2    Siana Pallas        F18       58%         77%  10th grade\n",
       " 3    3    Aldous Peele        M16       86%         83%   9th grade\n",
       " 4    4  Ethelred Easun        M14       85%         NaN  12th grade\n",
       " ..  ..             ...        ...       ...         ...         ...\n",
       " 95  95      Eva Briant        F16       71%         NaN  11th grade\n",
       " 96  96   Velvet Reedie        F15       76%         80%  12th grade\n",
       " 97  97   Garv Leathlay        M16       69%         81%  10th grade\n",
       " 98  98     Margit Read        F14       84%         NaN   9th grade\n",
       " 99  99   Yurik Farrell        M18       68%         85%   9th grade\n",
       " \n",
       " [100 rows x 6 columns],\n",
       "     id        full_name gender_age fractions probability       grade\n",
       " 0    0    Andros Magnus        M14       73%         85%  11th grade\n",
       " 1    1  Micheline Trent        F14       64%         81%   9th grade\n",
       " 2    2   Denna Mackrill        F16       78%         70%  10th grade\n",
       " 3    3   Maegan Ebbrell        F18       75%         77%  11th grade\n",
       " 4    4    Nikki Dashper        M17       67%         81%  11th grade\n",
       " ..  ..              ...        ...       ...         ...         ...\n",
       " 95  95   Wilie Stillert        F14       72%         69%   9th grade\n",
       " 96  96   Gertie Flicker        F15       NaN         86%  11th grade\n",
       " 97  97     Yettie Labes        F14       81%         82%  12th grade\n",
       " 98  98   Lock McGuinley        M18       NaN         84%  10th grade\n",
       " 99  99     Bebe Lebbern        F15       66%         91%  12th grade\n",
       " \n",
       " [100 rows x 6 columns],\n",
       "     id         full_name gender_age fractions probability       grade\n",
       " 0    0      Garwin Crust        M16       76%         78%   9th grade\n",
       " 1    1      Orren Heater        M15       67%         94%  11th grade\n",
       " 2    2    Chiquita Bains        F17       72%         77%  10th grade\n",
       " 3    3     Shalom Vittet        M18       61%         85%  10th grade\n",
       " 4    4   Lelia MacKenzie        F14       73%         79%  12th grade\n",
       " ..  ..               ...        ...       ...         ...         ...\n",
       " 95  95          Maxi Dew        F16       77%         71%  10th grade\n",
       " 96  96       Jewell Boas        F15       57%         90%  12th grade\n",
       " 97  97      Lebbie Twine        F17       72%         91%  12th grade\n",
       " 98  98     Garek Culbert        M14       64%         NaN  11th grade\n",
       " 99  99  Cristine Warboys        F16       74%         74%  12th grade\n",
       " \n",
       " [100 rows x 6 columns]]"
      ]
     },
     "execution_count": 155,
     "metadata": {},
     "output_type": "execute_result"
    }
   ],
   "source": [
    "df_list = []\n",
    "for filename in student_files:\n",
    "    data = pd.read_csv(filename)\n",
    "    df_list.append(data)\n",
    "df_list"
   ]
  },
  {
   "cell_type": "markdown",
   "id": "b9cb4b8a",
   "metadata": {},
   "source": [
    "##### Exercise 3\n",
    "\n",
    "Concatenate all of the DataFrames in `df_list` into one DataFrame called `students`."
   ]
  },
  {
   "cell_type": "code",
   "execution_count": 156,
   "id": "cb1eb55f",
   "metadata": {},
   "outputs": [
    {
     "data": {
      "text/html": [
       "<div>\n",
       "<style scoped>\n",
       "    .dataframe tbody tr th:only-of-type {\n",
       "        vertical-align: middle;\n",
       "    }\n",
       "\n",
       "    .dataframe tbody tr th {\n",
       "        vertical-align: top;\n",
       "    }\n",
       "\n",
       "    .dataframe thead th {\n",
       "        text-align: right;\n",
       "    }\n",
       "</style>\n",
       "<table border=\"1\" class=\"dataframe\">\n",
       "  <thead>\n",
       "    <tr style=\"text-align: right;\">\n",
       "      <th></th>\n",
       "      <th>id</th>\n",
       "      <th>full_name</th>\n",
       "      <th>gender_age</th>\n",
       "      <th>fractions</th>\n",
       "      <th>probability</th>\n",
       "      <th>grade</th>\n",
       "    </tr>\n",
       "  </thead>\n",
       "  <tbody>\n",
       "    <tr>\n",
       "      <th>0</th>\n",
       "      <td>0</td>\n",
       "      <td>Barrett Feragh</td>\n",
       "      <td>M14</td>\n",
       "      <td>76%</td>\n",
       "      <td>72%</td>\n",
       "      <td>9th grade</td>\n",
       "    </tr>\n",
       "    <tr>\n",
       "      <th>1</th>\n",
       "      <td>1</td>\n",
       "      <td>Llewellyn Keech</td>\n",
       "      <td>M14</td>\n",
       "      <td>83%</td>\n",
       "      <td>NaN</td>\n",
       "      <td>12th grade</td>\n",
       "    </tr>\n",
       "    <tr>\n",
       "      <th>2</th>\n",
       "      <td>2</td>\n",
       "      <td>Llewellyn Keech</td>\n",
       "      <td>M14</td>\n",
       "      <td>83%</td>\n",
       "      <td>NaN</td>\n",
       "      <td>12th grade</td>\n",
       "    </tr>\n",
       "    <tr>\n",
       "      <th>3</th>\n",
       "      <td>3</td>\n",
       "      <td>Terrell Geri</td>\n",
       "      <td>M15</td>\n",
       "      <td>80%</td>\n",
       "      <td>86%</td>\n",
       "      <td>11th grade</td>\n",
       "    </tr>\n",
       "    <tr>\n",
       "      <th>4</th>\n",
       "      <td>4</td>\n",
       "      <td>Gram Hallewell</td>\n",
       "      <td>M14</td>\n",
       "      <td>67%</td>\n",
       "      <td>78%</td>\n",
       "      <td>10th grade</td>\n",
       "    </tr>\n",
       "    <tr>\n",
       "      <th>...</th>\n",
       "      <td>...</td>\n",
       "      <td>...</td>\n",
       "      <td>...</td>\n",
       "      <td>...</td>\n",
       "      <td>...</td>\n",
       "      <td>...</td>\n",
       "    </tr>\n",
       "    <tr>\n",
       "      <th>95</th>\n",
       "      <td>95</td>\n",
       "      <td>Maxi Dew</td>\n",
       "      <td>F16</td>\n",
       "      <td>77%</td>\n",
       "      <td>71%</td>\n",
       "      <td>10th grade</td>\n",
       "    </tr>\n",
       "    <tr>\n",
       "      <th>96</th>\n",
       "      <td>96</td>\n",
       "      <td>Jewell Boas</td>\n",
       "      <td>F15</td>\n",
       "      <td>57%</td>\n",
       "      <td>90%</td>\n",
       "      <td>12th grade</td>\n",
       "    </tr>\n",
       "    <tr>\n",
       "      <th>97</th>\n",
       "      <td>97</td>\n",
       "      <td>Lebbie Twine</td>\n",
       "      <td>F17</td>\n",
       "      <td>72%</td>\n",
       "      <td>91%</td>\n",
       "      <td>12th grade</td>\n",
       "    </tr>\n",
       "    <tr>\n",
       "      <th>98</th>\n",
       "      <td>98</td>\n",
       "      <td>Garek Culbert</td>\n",
       "      <td>M14</td>\n",
       "      <td>64%</td>\n",
       "      <td>NaN</td>\n",
       "      <td>11th grade</td>\n",
       "    </tr>\n",
       "    <tr>\n",
       "      <th>99</th>\n",
       "      <td>99</td>\n",
       "      <td>Cristine Warboys</td>\n",
       "      <td>F16</td>\n",
       "      <td>74%</td>\n",
       "      <td>74%</td>\n",
       "      <td>12th grade</td>\n",
       "    </tr>\n",
       "  </tbody>\n",
       "</table>\n",
       "<p>1000 rows × 6 columns</p>\n",
       "</div>"
      ],
      "text/plain": [
       "    id         full_name gender_age fractions probability       grade\n",
       "0    0    Barrett Feragh        M14       76%         72%   9th grade\n",
       "1    1   Llewellyn Keech        M14       83%         NaN  12th grade\n",
       "2    2   Llewellyn Keech        M14       83%         NaN  12th grade\n",
       "3    3      Terrell Geri        M15       80%         86%  11th grade\n",
       "4    4    Gram Hallewell        M14       67%         78%  10th grade\n",
       "..  ..               ...        ...       ...         ...         ...\n",
       "95  95          Maxi Dew        F16       77%         71%  10th grade\n",
       "96  96       Jewell Boas        F15       57%         90%  12th grade\n",
       "97  97      Lebbie Twine        F17       72%         91%  12th grade\n",
       "98  98     Garek Culbert        M14       64%         NaN  11th grade\n",
       "99  99  Cristine Warboys        F16       74%         74%  12th grade\n",
       "\n",
       "[1000 rows x 6 columns]"
      ]
     },
     "execution_count": 156,
     "metadata": {},
     "output_type": "execute_result"
    }
   ],
   "source": [
    "students = pd.concat(df_list)\n",
    "students"
   ]
  },
  {
   "cell_type": "markdown",
   "id": "d7185ec7",
   "metadata": {},
   "source": [
    "### 2. Reshaping Your Data"
   ]
  },
  {
   "cell_type": "markdown",
   "id": "4ef71282",
   "metadata": {},
   "source": [
    "##### Exercise 1\n",
    "Print out the columns of students."
   ]
  },
  {
   "cell_type": "code",
   "execution_count": 157,
   "id": "737858ee",
   "metadata": {},
   "outputs": [
    {
     "data": {
      "text/plain": [
       "Index(['id', 'full_name', 'gender_age', 'fractions', 'probability', 'grade'], dtype='object')"
      ]
     },
     "execution_count": 157,
     "metadata": {},
     "output_type": "execute_result"
    }
   ],
   "source": [
    "students.columns"
   ]
  },
  {
   "cell_type": "markdown",
   "id": "6245148d",
   "metadata": {},
   "source": [
    "##### Exercise 2\n",
    "There is a column for the scores on the fractions exam, and a column for the scores on the probabilities exam.\n",
    "\n",
    "We want to make each row an observation, so we want to transform this table to look like:\n",
    "\n",
    "- **full_name--------- exam------------score----gender_age----\tgrade**\n",
    "- “First Student”----“Fractions”-------score%\t…\t…\n",
    "- “First Student”----“Probabilities”---score%\t…\t…\n",
    "- “Second Student”----“Fractions”------score%\t…\t…\n",
    "- “Second Student”----“Probabilities”--score%\t…\t…\n",
    "…\t…\t…\t\t<br>\n",
    "\n",
    "Use pd.melt() to create a new table (still called students) that follows this structure."
   ]
  },
  {
   "cell_type": "code",
   "execution_count": 158,
   "id": "f8104e61",
   "metadata": {},
   "outputs": [],
   "source": [
    "students = pd.melt(frame=students, id_vars=[\"full_name\", \"gender_age\", \"grade\"],\\\n",
    "                   value_vars=[\"fractions\", \"probability\"], value_name=\"score\", var_name=\"exam\")"
   ]
  },
  {
   "cell_type": "markdown",
   "id": "cd0d25bb",
   "metadata": {},
   "source": [
    "##### Exercise 3\n",
    "Print the `.head()` and the .columns of students.\n",
    "\n",
    "Also, print out the `.value_counts()` of the column exam."
   ]
  },
  {
   "cell_type": "code",
   "execution_count": 159,
   "id": "fd813f62",
   "metadata": {},
   "outputs": [
    {
     "data": {
      "text/html": [
       "<div>\n",
       "<style scoped>\n",
       "    .dataframe tbody tr th:only-of-type {\n",
       "        vertical-align: middle;\n",
       "    }\n",
       "\n",
       "    .dataframe tbody tr th {\n",
       "        vertical-align: top;\n",
       "    }\n",
       "\n",
       "    .dataframe thead th {\n",
       "        text-align: right;\n",
       "    }\n",
       "</style>\n",
       "<table border=\"1\" class=\"dataframe\">\n",
       "  <thead>\n",
       "    <tr style=\"text-align: right;\">\n",
       "      <th></th>\n",
       "      <th>full_name</th>\n",
       "      <th>gender_age</th>\n",
       "      <th>grade</th>\n",
       "      <th>exam</th>\n",
       "      <th>score</th>\n",
       "    </tr>\n",
       "  </thead>\n",
       "  <tbody>\n",
       "    <tr>\n",
       "      <th>0</th>\n",
       "      <td>Barrett Feragh</td>\n",
       "      <td>M14</td>\n",
       "      <td>9th grade</td>\n",
       "      <td>fractions</td>\n",
       "      <td>76%</td>\n",
       "    </tr>\n",
       "    <tr>\n",
       "      <th>1</th>\n",
       "      <td>Llewellyn Keech</td>\n",
       "      <td>M14</td>\n",
       "      <td>12th grade</td>\n",
       "      <td>fractions</td>\n",
       "      <td>83%</td>\n",
       "    </tr>\n",
       "    <tr>\n",
       "      <th>2</th>\n",
       "      <td>Llewellyn Keech</td>\n",
       "      <td>M14</td>\n",
       "      <td>12th grade</td>\n",
       "      <td>fractions</td>\n",
       "      <td>83%</td>\n",
       "    </tr>\n",
       "    <tr>\n",
       "      <th>3</th>\n",
       "      <td>Terrell Geri</td>\n",
       "      <td>M15</td>\n",
       "      <td>11th grade</td>\n",
       "      <td>fractions</td>\n",
       "      <td>80%</td>\n",
       "    </tr>\n",
       "    <tr>\n",
       "      <th>4</th>\n",
       "      <td>Gram Hallewell</td>\n",
       "      <td>M14</td>\n",
       "      <td>10th grade</td>\n",
       "      <td>fractions</td>\n",
       "      <td>67%</td>\n",
       "    </tr>\n",
       "  </tbody>\n",
       "</table>\n",
       "</div>"
      ],
      "text/plain": [
       "         full_name gender_age       grade       exam score\n",
       "0   Barrett Feragh        M14   9th grade  fractions   76%\n",
       "1  Llewellyn Keech        M14  12th grade  fractions   83%\n",
       "2  Llewellyn Keech        M14  12th grade  fractions   83%\n",
       "3     Terrell Geri        M15  11th grade  fractions   80%\n",
       "4   Gram Hallewell        M14  10th grade  fractions   67%"
      ]
     },
     "execution_count": 159,
     "metadata": {},
     "output_type": "execute_result"
    }
   ],
   "source": [
    "students.head()"
   ]
  },
  {
   "cell_type": "code",
   "execution_count": 160,
   "id": "6ff020e8",
   "metadata": {},
   "outputs": [
    {
     "data": {
      "text/plain": [
       "Index(['full_name', 'gender_age', 'grade', 'exam', 'score'], dtype='object')"
      ]
     },
     "execution_count": 160,
     "metadata": {},
     "output_type": "execute_result"
    }
   ],
   "source": [
    "students.columns"
   ]
  },
  {
   "cell_type": "code",
   "execution_count": 161,
   "id": "631f9e61",
   "metadata": {},
   "outputs": [
    {
     "data": {
      "text/plain": [
       "fractions      1000\n",
       "probability    1000\n",
       "Name: exam, dtype: int64"
      ]
     },
     "execution_count": 161,
     "metadata": {},
     "output_type": "execute_result"
    }
   ],
   "source": [
    "students[\"exam\"].value_counts()"
   ]
  },
  {
   "cell_type": "markdown",
   "id": "91e63f30",
   "metadata": {},
   "source": [
    "### 3. Dealing with Duplicates"
   ]
  },
  {
   "cell_type": "markdown",
   "id": "72700e67",
   "metadata": {},
   "source": [
    "##### Exercise 1\n",
    "It seems like in the data collection process, some rows may have been recorded twice. Use the `.duplicated()` function on the students DataFrame to make a Series object called duplicates."
   ]
  },
  {
   "cell_type": "code",
   "execution_count": 162,
   "id": "e38be6ea",
   "metadata": {},
   "outputs": [
    {
     "data": {
      "text/plain": [
       "0       False\n",
       "1       False\n",
       "2        True\n",
       "3       False\n",
       "4       False\n",
       "        ...  \n",
       "1995    False\n",
       "1996    False\n",
       "1997    False\n",
       "1998    False\n",
       "1999    False\n",
       "Length: 2000, dtype: bool"
      ]
     },
     "execution_count": 162,
     "metadata": {},
     "output_type": "execute_result"
    }
   ],
   "source": [
    "duplicates = students.duplicated()\n",
    "duplicates"
   ]
  },
  {
   "cell_type": "markdown",
   "id": "619deace",
   "metadata": {},
   "source": [
    "##### Exercise 2\n",
    "Print out the `.value_counts()` of the duplicates Series to see how many rows are exact duplicates."
   ]
  },
  {
   "cell_type": "code",
   "execution_count": 163,
   "id": "393059c8",
   "metadata": {},
   "outputs": [
    {
     "data": {
      "text/plain": [
       "False    1976\n",
       "True       24\n",
       "dtype: int64"
      ]
     },
     "execution_count": 163,
     "metadata": {},
     "output_type": "execute_result"
    }
   ],
   "source": [
    "duplicates.value_counts()"
   ]
  },
  {
   "cell_type": "markdown",
   "id": "8bfc63ff",
   "metadata": {},
   "source": [
    "##### Exercise 3\n",
    "Update the value of students to be the students table with the duplicates dropped."
   ]
  },
  {
   "cell_type": "code",
   "execution_count": 164,
   "id": "08dbc9f7",
   "metadata": {},
   "outputs": [],
   "source": [
    "students.drop_duplicates(inplace=True)"
   ]
  },
  {
   "cell_type": "markdown",
   "id": "1a7d2682",
   "metadata": {},
   "source": [
    "#####  Exercise 4\n",
    "Use the `.duplicated()` function again to make a Series object called duplicates after dropping the duplicates. Print out the value counts again. Are there any Trues left?"
   ]
  },
  {
   "cell_type": "code",
   "execution_count": 165,
   "id": "79785595",
   "metadata": {},
   "outputs": [
    {
     "data": {
      "text/plain": [
       "False    1976\n",
       "dtype: int64"
      ]
     },
     "execution_count": 165,
     "metadata": {},
     "output_type": "execute_result"
    }
   ],
   "source": [
    "duplicates = students.duplicated()\n",
    "duplicates.value_counts()"
   ]
  },
  {
   "cell_type": "markdown",
   "id": "ec9fcf8b",
   "metadata": {},
   "source": [
    "### 4. Splitting by Index"
   ]
  },
  {
   "cell_type": "markdown",
   "id": "de8d6d45",
   "metadata": {},
   "source": [
    "##### Exercise 1\n",
    "Print out the columns of the students DataFrame."
   ]
  },
  {
   "cell_type": "code",
   "execution_count": 166,
   "id": "75e31ed6",
   "metadata": {},
   "outputs": [
    {
     "data": {
      "text/plain": [
       "Index(['full_name', 'gender_age', 'grade', 'exam', 'score'], dtype='object')"
      ]
     },
     "execution_count": 166,
     "metadata": {},
     "output_type": "execute_result"
    }
   ],
   "source": [
    "students.columns"
   ]
  },
  {
   "cell_type": "markdown",
   "id": "20e0b89d",
   "metadata": {},
   "source": [
    "##### Exercise 2\n",
    "The column `gender_age` sounds like it contains both gender and age!\n",
    "\n",
    "Print out the `.head()` of the column to see what kind of data it contains."
   ]
  },
  {
   "cell_type": "code",
   "execution_count": 167,
   "id": "a4f8462b",
   "metadata": {},
   "outputs": [
    {
     "data": {
      "text/html": [
       "<div>\n",
       "<style scoped>\n",
       "    .dataframe tbody tr th:only-of-type {\n",
       "        vertical-align: middle;\n",
       "    }\n",
       "\n",
       "    .dataframe tbody tr th {\n",
       "        vertical-align: top;\n",
       "    }\n",
       "\n",
       "    .dataframe thead th {\n",
       "        text-align: right;\n",
       "    }\n",
       "</style>\n",
       "<table border=\"1\" class=\"dataframe\">\n",
       "  <thead>\n",
       "    <tr style=\"text-align: right;\">\n",
       "      <th></th>\n",
       "      <th>full_name</th>\n",
       "      <th>gender_age</th>\n",
       "      <th>grade</th>\n",
       "      <th>exam</th>\n",
       "      <th>score</th>\n",
       "    </tr>\n",
       "  </thead>\n",
       "  <tbody>\n",
       "    <tr>\n",
       "      <th>0</th>\n",
       "      <td>Barrett Feragh</td>\n",
       "      <td>M14</td>\n",
       "      <td>9th grade</td>\n",
       "      <td>fractions</td>\n",
       "      <td>76%</td>\n",
       "    </tr>\n",
       "    <tr>\n",
       "      <th>1</th>\n",
       "      <td>Llewellyn Keech</td>\n",
       "      <td>M14</td>\n",
       "      <td>12th grade</td>\n",
       "      <td>fractions</td>\n",
       "      <td>83%</td>\n",
       "    </tr>\n",
       "    <tr>\n",
       "      <th>3</th>\n",
       "      <td>Terrell Geri</td>\n",
       "      <td>M15</td>\n",
       "      <td>11th grade</td>\n",
       "      <td>fractions</td>\n",
       "      <td>80%</td>\n",
       "    </tr>\n",
       "    <tr>\n",
       "      <th>4</th>\n",
       "      <td>Gram Hallewell</td>\n",
       "      <td>M14</td>\n",
       "      <td>10th grade</td>\n",
       "      <td>fractions</td>\n",
       "      <td>67%</td>\n",
       "    </tr>\n",
       "    <tr>\n",
       "      <th>5</th>\n",
       "      <td>Stephana Boots</td>\n",
       "      <td>F18</td>\n",
       "      <td>9th grade</td>\n",
       "      <td>fractions</td>\n",
       "      <td>NaN</td>\n",
       "    </tr>\n",
       "  </tbody>\n",
       "</table>\n",
       "</div>"
      ],
      "text/plain": [
       "         full_name gender_age       grade       exam score\n",
       "0   Barrett Feragh        M14   9th grade  fractions   76%\n",
       "1  Llewellyn Keech        M14  12th grade  fractions   83%\n",
       "3     Terrell Geri        M15  11th grade  fractions   80%\n",
       "4   Gram Hallewell        M14  10th grade  fractions   67%\n",
       "5   Stephana Boots        F18   9th grade  fractions   NaN"
      ]
     },
     "execution_count": 167,
     "metadata": {},
     "output_type": "execute_result"
    }
   ],
   "source": [
    "students.head()"
   ]
  },
  {
   "cell_type": "markdown",
   "id": "7de4fa2a",
   "metadata": {},
   "source": [
    "##### Exercise 3\n",
    "It looks like the first character of the values in `gender_age` contains the gender, while the rest of the string contains the age. Let’s separate out the gender data into a new column called `gender`."
   ]
  },
  {
   "cell_type": "code",
   "execution_count": 168,
   "id": "1431908c",
   "metadata": {},
   "outputs": [],
   "source": [
    "students[\"gender\"] = students[\"gender_age\"].str[:1]"
   ]
  },
  {
   "cell_type": "code",
   "execution_count": 169,
   "id": "f517c950",
   "metadata": {},
   "outputs": [
    {
     "data": {
      "text/html": [
       "<div>\n",
       "<style scoped>\n",
       "    .dataframe tbody tr th:only-of-type {\n",
       "        vertical-align: middle;\n",
       "    }\n",
       "\n",
       "    .dataframe tbody tr th {\n",
       "        vertical-align: top;\n",
       "    }\n",
       "\n",
       "    .dataframe thead th {\n",
       "        text-align: right;\n",
       "    }\n",
       "</style>\n",
       "<table border=\"1\" class=\"dataframe\">\n",
       "  <thead>\n",
       "    <tr style=\"text-align: right;\">\n",
       "      <th></th>\n",
       "      <th>full_name</th>\n",
       "      <th>gender_age</th>\n",
       "      <th>grade</th>\n",
       "      <th>exam</th>\n",
       "      <th>score</th>\n",
       "      <th>gender</th>\n",
       "    </tr>\n",
       "  </thead>\n",
       "  <tbody>\n",
       "    <tr>\n",
       "      <th>0</th>\n",
       "      <td>Barrett Feragh</td>\n",
       "      <td>M14</td>\n",
       "      <td>9th grade</td>\n",
       "      <td>fractions</td>\n",
       "      <td>76%</td>\n",
       "      <td>M</td>\n",
       "    </tr>\n",
       "    <tr>\n",
       "      <th>1</th>\n",
       "      <td>Llewellyn Keech</td>\n",
       "      <td>M14</td>\n",
       "      <td>12th grade</td>\n",
       "      <td>fractions</td>\n",
       "      <td>83%</td>\n",
       "      <td>M</td>\n",
       "    </tr>\n",
       "    <tr>\n",
       "      <th>3</th>\n",
       "      <td>Terrell Geri</td>\n",
       "      <td>M15</td>\n",
       "      <td>11th grade</td>\n",
       "      <td>fractions</td>\n",
       "      <td>80%</td>\n",
       "      <td>M</td>\n",
       "    </tr>\n",
       "    <tr>\n",
       "      <th>4</th>\n",
       "      <td>Gram Hallewell</td>\n",
       "      <td>M14</td>\n",
       "      <td>10th grade</td>\n",
       "      <td>fractions</td>\n",
       "      <td>67%</td>\n",
       "      <td>M</td>\n",
       "    </tr>\n",
       "    <tr>\n",
       "      <th>5</th>\n",
       "      <td>Stephana Boots</td>\n",
       "      <td>F18</td>\n",
       "      <td>9th grade</td>\n",
       "      <td>fractions</td>\n",
       "      <td>NaN</td>\n",
       "      <td>F</td>\n",
       "    </tr>\n",
       "  </tbody>\n",
       "</table>\n",
       "</div>"
      ],
      "text/plain": [
       "         full_name gender_age       grade       exam score gender\n",
       "0   Barrett Feragh        M14   9th grade  fractions   76%      M\n",
       "1  Llewellyn Keech        M14  12th grade  fractions   83%      M\n",
       "3     Terrell Geri        M15  11th grade  fractions   80%      M\n",
       "4   Gram Hallewell        M14  10th grade  fractions   67%      M\n",
       "5   Stephana Boots        F18   9th grade  fractions   NaN      F"
      ]
     },
     "execution_count": 169,
     "metadata": {},
     "output_type": "execute_result"
    }
   ],
   "source": [
    "students.head()"
   ]
  },
  {
   "cell_type": "markdown",
   "id": "0b98cab0",
   "metadata": {},
   "source": [
    "##### Exercise 4\n",
    "Now, separate out the age data into a new column called `age`."
   ]
  },
  {
   "cell_type": "code",
   "execution_count": 170,
   "id": "9587c6ce",
   "metadata": {},
   "outputs": [
    {
     "data": {
      "text/html": [
       "<div>\n",
       "<style scoped>\n",
       "    .dataframe tbody tr th:only-of-type {\n",
       "        vertical-align: middle;\n",
       "    }\n",
       "\n",
       "    .dataframe tbody tr th {\n",
       "        vertical-align: top;\n",
       "    }\n",
       "\n",
       "    .dataframe thead th {\n",
       "        text-align: right;\n",
       "    }\n",
       "</style>\n",
       "<table border=\"1\" class=\"dataframe\">\n",
       "  <thead>\n",
       "    <tr style=\"text-align: right;\">\n",
       "      <th></th>\n",
       "      <th>full_name</th>\n",
       "      <th>gender_age</th>\n",
       "      <th>grade</th>\n",
       "      <th>exam</th>\n",
       "      <th>score</th>\n",
       "      <th>gender</th>\n",
       "      <th>age</th>\n",
       "    </tr>\n",
       "  </thead>\n",
       "  <tbody>\n",
       "    <tr>\n",
       "      <th>0</th>\n",
       "      <td>Barrett Feragh</td>\n",
       "      <td>M14</td>\n",
       "      <td>9th grade</td>\n",
       "      <td>fractions</td>\n",
       "      <td>76%</td>\n",
       "      <td>M</td>\n",
       "      <td>14</td>\n",
       "    </tr>\n",
       "    <tr>\n",
       "      <th>1</th>\n",
       "      <td>Llewellyn Keech</td>\n",
       "      <td>M14</td>\n",
       "      <td>12th grade</td>\n",
       "      <td>fractions</td>\n",
       "      <td>83%</td>\n",
       "      <td>M</td>\n",
       "      <td>14</td>\n",
       "    </tr>\n",
       "    <tr>\n",
       "      <th>3</th>\n",
       "      <td>Terrell Geri</td>\n",
       "      <td>M15</td>\n",
       "      <td>11th grade</td>\n",
       "      <td>fractions</td>\n",
       "      <td>80%</td>\n",
       "      <td>M</td>\n",
       "      <td>15</td>\n",
       "    </tr>\n",
       "    <tr>\n",
       "      <th>4</th>\n",
       "      <td>Gram Hallewell</td>\n",
       "      <td>M14</td>\n",
       "      <td>10th grade</td>\n",
       "      <td>fractions</td>\n",
       "      <td>67%</td>\n",
       "      <td>M</td>\n",
       "      <td>14</td>\n",
       "    </tr>\n",
       "    <tr>\n",
       "      <th>5</th>\n",
       "      <td>Stephana Boots</td>\n",
       "      <td>F18</td>\n",
       "      <td>9th grade</td>\n",
       "      <td>fractions</td>\n",
       "      <td>NaN</td>\n",
       "      <td>F</td>\n",
       "      <td>18</td>\n",
       "    </tr>\n",
       "  </tbody>\n",
       "</table>\n",
       "</div>"
      ],
      "text/plain": [
       "         full_name gender_age       grade       exam score gender age\n",
       "0   Barrett Feragh        M14   9th grade  fractions   76%      M  14\n",
       "1  Llewellyn Keech        M14  12th grade  fractions   83%      M  14\n",
       "3     Terrell Geri        M15  11th grade  fractions   80%      M  15\n",
       "4   Gram Hallewell        M14  10th grade  fractions   67%      M  14\n",
       "5   Stephana Boots        F18   9th grade  fractions   NaN      F  18"
      ]
     },
     "execution_count": 170,
     "metadata": {},
     "output_type": "execute_result"
    }
   ],
   "source": [
    "students[\"age\"] = students[\"gender_age\"].str[1:]\n",
    "students.head()"
   ]
  },
  {
   "cell_type": "markdown",
   "id": "7a3d74d5",
   "metadata": {},
   "source": [
    "##### Exercise 5\n",
    "Now, we don’t need that `gender_age` column anymore.\n",
    "\n",
    "Let’s set the `students` DataFrame to be the `students` DataFrame with all columns except `gender_age`."
   ]
  },
  {
   "cell_type": "code",
   "execution_count": 171,
   "id": "eec963e9",
   "metadata": {},
   "outputs": [],
   "source": [
    "students.drop(columns=\"gender_age\", inplace=True)"
   ]
  },
  {
   "cell_type": "code",
   "execution_count": 172,
   "id": "770bd459",
   "metadata": {},
   "outputs": [
    {
     "data": {
      "text/html": [
       "<div>\n",
       "<style scoped>\n",
       "    .dataframe tbody tr th:only-of-type {\n",
       "        vertical-align: middle;\n",
       "    }\n",
       "\n",
       "    .dataframe tbody tr th {\n",
       "        vertical-align: top;\n",
       "    }\n",
       "\n",
       "    .dataframe thead th {\n",
       "        text-align: right;\n",
       "    }\n",
       "</style>\n",
       "<table border=\"1\" class=\"dataframe\">\n",
       "  <thead>\n",
       "    <tr style=\"text-align: right;\">\n",
       "      <th></th>\n",
       "      <th>full_name</th>\n",
       "      <th>grade</th>\n",
       "      <th>exam</th>\n",
       "      <th>score</th>\n",
       "      <th>gender</th>\n",
       "      <th>age</th>\n",
       "    </tr>\n",
       "  </thead>\n",
       "  <tbody>\n",
       "    <tr>\n",
       "      <th>0</th>\n",
       "      <td>Barrett Feragh</td>\n",
       "      <td>9th grade</td>\n",
       "      <td>fractions</td>\n",
       "      <td>76%</td>\n",
       "      <td>M</td>\n",
       "      <td>14</td>\n",
       "    </tr>\n",
       "    <tr>\n",
       "      <th>1</th>\n",
       "      <td>Llewellyn Keech</td>\n",
       "      <td>12th grade</td>\n",
       "      <td>fractions</td>\n",
       "      <td>83%</td>\n",
       "      <td>M</td>\n",
       "      <td>14</td>\n",
       "    </tr>\n",
       "    <tr>\n",
       "      <th>3</th>\n",
       "      <td>Terrell Geri</td>\n",
       "      <td>11th grade</td>\n",
       "      <td>fractions</td>\n",
       "      <td>80%</td>\n",
       "      <td>M</td>\n",
       "      <td>15</td>\n",
       "    </tr>\n",
       "    <tr>\n",
       "      <th>4</th>\n",
       "      <td>Gram Hallewell</td>\n",
       "      <td>10th grade</td>\n",
       "      <td>fractions</td>\n",
       "      <td>67%</td>\n",
       "      <td>M</td>\n",
       "      <td>14</td>\n",
       "    </tr>\n",
       "    <tr>\n",
       "      <th>5</th>\n",
       "      <td>Stephana Boots</td>\n",
       "      <td>9th grade</td>\n",
       "      <td>fractions</td>\n",
       "      <td>NaN</td>\n",
       "      <td>F</td>\n",
       "      <td>18</td>\n",
       "    </tr>\n",
       "  </tbody>\n",
       "</table>\n",
       "</div>"
      ],
      "text/plain": [
       "         full_name       grade       exam score gender age\n",
       "0   Barrett Feragh   9th grade  fractions   76%      M  14\n",
       "1  Llewellyn Keech  12th grade  fractions   83%      M  14\n",
       "3     Terrell Geri  11th grade  fractions   80%      M  15\n",
       "4   Gram Hallewell  10th grade  fractions   67%      M  14\n",
       "5   Stephana Boots   9th grade  fractions   NaN      F  18"
      ]
     },
     "execution_count": 172,
     "metadata": {},
     "output_type": "execute_result"
    }
   ],
   "source": [
    "students.head()"
   ]
  },
  {
   "cell_type": "markdown",
   "id": "ea4855d9",
   "metadata": {},
   "source": [
    "### 5. Splitting by Character"
   ]
  },
  {
   "cell_type": "markdown",
   "id": "6151442b",
   "metadata": {},
   "source": [
    "##### Exercise 1\n",
    "The students’ names are stored in a column called `full_name`.\n",
    "\n",
    "We want to separate this data out into two new columns, `first_name` and `last_name`."
   ]
  },
  {
   "cell_type": "code",
   "execution_count": 173,
   "id": "720c0751",
   "metadata": {},
   "outputs": [],
   "source": [
    "students[\"first_name\"]  = students[\"full_name\"].str.split(\" \",expand=True)[0]\n",
    "students[\"last_name\"] = students[\"full_name\"].str.split(\" \",expand=True)[1]"
   ]
  },
  {
   "cell_type": "markdown",
   "id": "1c002cd5",
   "metadata": {},
   "source": [
    "##### Exercise 2\n",
    "Print out the `.head()` of students to see how the DataFrame has changed."
   ]
  },
  {
   "cell_type": "code",
   "execution_count": 174,
   "id": "09c8d231",
   "metadata": {},
   "outputs": [
    {
     "data": {
      "text/html": [
       "<div>\n",
       "<style scoped>\n",
       "    .dataframe tbody tr th:only-of-type {\n",
       "        vertical-align: middle;\n",
       "    }\n",
       "\n",
       "    .dataframe tbody tr th {\n",
       "        vertical-align: top;\n",
       "    }\n",
       "\n",
       "    .dataframe thead th {\n",
       "        text-align: right;\n",
       "    }\n",
       "</style>\n",
       "<table border=\"1\" class=\"dataframe\">\n",
       "  <thead>\n",
       "    <tr style=\"text-align: right;\">\n",
       "      <th></th>\n",
       "      <th>full_name</th>\n",
       "      <th>grade</th>\n",
       "      <th>exam</th>\n",
       "      <th>score</th>\n",
       "      <th>gender</th>\n",
       "      <th>age</th>\n",
       "      <th>first_name</th>\n",
       "      <th>last_name</th>\n",
       "    </tr>\n",
       "  </thead>\n",
       "  <tbody>\n",
       "    <tr>\n",
       "      <th>0</th>\n",
       "      <td>Barrett Feragh</td>\n",
       "      <td>9th grade</td>\n",
       "      <td>fractions</td>\n",
       "      <td>76%</td>\n",
       "      <td>M</td>\n",
       "      <td>14</td>\n",
       "      <td>Barrett</td>\n",
       "      <td>Feragh</td>\n",
       "    </tr>\n",
       "    <tr>\n",
       "      <th>1</th>\n",
       "      <td>Llewellyn Keech</td>\n",
       "      <td>12th grade</td>\n",
       "      <td>fractions</td>\n",
       "      <td>83%</td>\n",
       "      <td>M</td>\n",
       "      <td>14</td>\n",
       "      <td>Llewellyn</td>\n",
       "      <td>Keech</td>\n",
       "    </tr>\n",
       "    <tr>\n",
       "      <th>3</th>\n",
       "      <td>Terrell Geri</td>\n",
       "      <td>11th grade</td>\n",
       "      <td>fractions</td>\n",
       "      <td>80%</td>\n",
       "      <td>M</td>\n",
       "      <td>15</td>\n",
       "      <td>Terrell</td>\n",
       "      <td>Geri</td>\n",
       "    </tr>\n",
       "    <tr>\n",
       "      <th>4</th>\n",
       "      <td>Gram Hallewell</td>\n",
       "      <td>10th grade</td>\n",
       "      <td>fractions</td>\n",
       "      <td>67%</td>\n",
       "      <td>M</td>\n",
       "      <td>14</td>\n",
       "      <td>Gram</td>\n",
       "      <td>Hallewell</td>\n",
       "    </tr>\n",
       "    <tr>\n",
       "      <th>5</th>\n",
       "      <td>Stephana Boots</td>\n",
       "      <td>9th grade</td>\n",
       "      <td>fractions</td>\n",
       "      <td>NaN</td>\n",
       "      <td>F</td>\n",
       "      <td>18</td>\n",
       "      <td>Stephana</td>\n",
       "      <td>Boots</td>\n",
       "    </tr>\n",
       "  </tbody>\n",
       "</table>\n",
       "</div>"
      ],
      "text/plain": [
       "         full_name       grade       exam score gender age first_name  \\\n",
       "0   Barrett Feragh   9th grade  fractions   76%      M  14    Barrett   \n",
       "1  Llewellyn Keech  12th grade  fractions   83%      M  14  Llewellyn   \n",
       "3     Terrell Geri  11th grade  fractions   80%      M  15    Terrell   \n",
       "4   Gram Hallewell  10th grade  fractions   67%      M  14       Gram   \n",
       "5   Stephana Boots   9th grade  fractions   NaN      F  18   Stephana   \n",
       "\n",
       "   last_name  \n",
       "0     Feragh  \n",
       "1      Keech  \n",
       "3       Geri  \n",
       "4  Hallewell  \n",
       "5      Boots  "
      ]
     },
     "execution_count": 174,
     "metadata": {},
     "output_type": "execute_result"
    }
   ],
   "source": [
    "students.head()"
   ]
  },
  {
   "cell_type": "markdown",
   "id": "2352d518",
   "metadata": {},
   "source": [
    "##### Exercise 3\n",
    "Now, we don’t need that `full_name` column anymore.\n",
    "\n",
    "Let’s set the students DataFrame to be the students DataFrame with all columns except `full_name`."
   ]
  },
  {
   "cell_type": "code",
   "execution_count": 175,
   "id": "0f8a5181",
   "metadata": {},
   "outputs": [],
   "source": [
    "students.drop(columns=\"full_name\", inplace=True)"
   ]
  },
  {
   "cell_type": "code",
   "execution_count": 176,
   "id": "172bdfa6",
   "metadata": {},
   "outputs": [
    {
     "data": {
      "text/html": [
       "<div>\n",
       "<style scoped>\n",
       "    .dataframe tbody tr th:only-of-type {\n",
       "        vertical-align: middle;\n",
       "    }\n",
       "\n",
       "    .dataframe tbody tr th {\n",
       "        vertical-align: top;\n",
       "    }\n",
       "\n",
       "    .dataframe thead th {\n",
       "        text-align: right;\n",
       "    }\n",
       "</style>\n",
       "<table border=\"1\" class=\"dataframe\">\n",
       "  <thead>\n",
       "    <tr style=\"text-align: right;\">\n",
       "      <th></th>\n",
       "      <th>grade</th>\n",
       "      <th>exam</th>\n",
       "      <th>score</th>\n",
       "      <th>gender</th>\n",
       "      <th>age</th>\n",
       "      <th>first_name</th>\n",
       "      <th>last_name</th>\n",
       "    </tr>\n",
       "  </thead>\n",
       "  <tbody>\n",
       "    <tr>\n",
       "      <th>0</th>\n",
       "      <td>9th grade</td>\n",
       "      <td>fractions</td>\n",
       "      <td>76%</td>\n",
       "      <td>M</td>\n",
       "      <td>14</td>\n",
       "      <td>Barrett</td>\n",
       "      <td>Feragh</td>\n",
       "    </tr>\n",
       "    <tr>\n",
       "      <th>1</th>\n",
       "      <td>12th grade</td>\n",
       "      <td>fractions</td>\n",
       "      <td>83%</td>\n",
       "      <td>M</td>\n",
       "      <td>14</td>\n",
       "      <td>Llewellyn</td>\n",
       "      <td>Keech</td>\n",
       "    </tr>\n",
       "    <tr>\n",
       "      <th>3</th>\n",
       "      <td>11th grade</td>\n",
       "      <td>fractions</td>\n",
       "      <td>80%</td>\n",
       "      <td>M</td>\n",
       "      <td>15</td>\n",
       "      <td>Terrell</td>\n",
       "      <td>Geri</td>\n",
       "    </tr>\n",
       "    <tr>\n",
       "      <th>4</th>\n",
       "      <td>10th grade</td>\n",
       "      <td>fractions</td>\n",
       "      <td>67%</td>\n",
       "      <td>M</td>\n",
       "      <td>14</td>\n",
       "      <td>Gram</td>\n",
       "      <td>Hallewell</td>\n",
       "    </tr>\n",
       "    <tr>\n",
       "      <th>5</th>\n",
       "      <td>9th grade</td>\n",
       "      <td>fractions</td>\n",
       "      <td>NaN</td>\n",
       "      <td>F</td>\n",
       "      <td>18</td>\n",
       "      <td>Stephana</td>\n",
       "      <td>Boots</td>\n",
       "    </tr>\n",
       "  </tbody>\n",
       "</table>\n",
       "</div>"
      ],
      "text/plain": [
       "        grade       exam score gender age first_name  last_name\n",
       "0   9th grade  fractions   76%      M  14    Barrett     Feragh\n",
       "1  12th grade  fractions   83%      M  14  Llewellyn      Keech\n",
       "3  11th grade  fractions   80%      M  15    Terrell       Geri\n",
       "4  10th grade  fractions   67%      M  14       Gram  Hallewell\n",
       "5   9th grade  fractions   NaN      F  18   Stephana      Boots"
      ]
     },
     "execution_count": 176,
     "metadata": {},
     "output_type": "execute_result"
    }
   ],
   "source": [
    "students.head()"
   ]
  },
  {
   "cell_type": "markdown",
   "id": "8d53064e",
   "metadata": {},
   "source": [
    "### 6. Looking at Types"
   ]
  },
  {
   "cell_type": "markdown",
   "id": "0149482b",
   "metadata": {},
   "source": [
    "##### Exercise 1\n",
    "Let’s inspect the dtypes in the students table.\n",
    "\n",
    "Print out the `.dtypes` attribute."
   ]
  },
  {
   "cell_type": "code",
   "execution_count": 177,
   "id": "b9a4ea74",
   "metadata": {},
   "outputs": [
    {
     "data": {
      "text/plain": [
       "grade         object\n",
       "exam          object\n",
       "score         object\n",
       "gender        object\n",
       "age           object\n",
       "first_name    object\n",
       "last_name     object\n",
       "dtype: object"
      ]
     },
     "execution_count": 177,
     "metadata": {},
     "output_type": "execute_result"
    }
   ],
   "source": [
    "students.dtypes"
   ]
  },
  {
   "cell_type": "markdown",
   "id": "6abbdb75",
   "metadata": {},
   "source": [
    "### 7. String Parsing"
   ]
  },
  {
   "cell_type": "markdown",
   "id": "e7e63c1e",
   "metadata": {},
   "source": [
    "##### Exercise 1\n",
    "We saw in the last exercise that finding the mean of the `score` column is hard to do when the data is stored as Objects and not numbers.\n",
    "\n",
    "Use regex to take out the `%` signs in the `score` column."
   ]
  },
  {
   "cell_type": "code",
   "execution_count": 178,
   "id": "09944edd",
   "metadata": {},
   "outputs": [],
   "source": [
    "students[\"score\"].replace(\"%\", \"\", regex=True, inplace=True)"
   ]
  },
  {
   "cell_type": "markdown",
   "id": "455f97b7",
   "metadata": {},
   "source": [
    "##### Exercise 2\n",
    "Convert the score column to a numerical type using the `pd.to_numeric()` function."
   ]
  },
  {
   "cell_type": "code",
   "execution_count": 179,
   "id": "2c1297ed",
   "metadata": {},
   "outputs": [],
   "source": [
    "students[\"score\"] =  pd.to_numeric(students[\"score\"])"
   ]
  },
  {
   "cell_type": "code",
   "execution_count": 180,
   "id": "4905d20e",
   "metadata": {},
   "outputs": [
    {
     "data": {
      "text/plain": [
       "grade          object\n",
       "exam           object\n",
       "score         float64\n",
       "gender         object\n",
       "age            object\n",
       "first_name     object\n",
       "last_name      object\n",
       "dtype: object"
      ]
     },
     "execution_count": 180,
     "metadata": {},
     "output_type": "execute_result"
    }
   ],
   "source": [
    "students.dtypes"
   ]
  },
  {
   "cell_type": "markdown",
   "id": "e490cf52",
   "metadata": {},
   "source": [
    "### 8. More String Parsing"
   ]
  },
  {
   "cell_type": "markdown",
   "id": "eaa95206",
   "metadata": {},
   "source": [
    "##### Exercise 1\n",
    "Print out the first five rows of the `grade` column."
   ]
  },
  {
   "cell_type": "code",
   "execution_count": 181,
   "id": "7b97ef99",
   "metadata": {},
   "outputs": [
    {
     "data": {
      "text/plain": [
       "0     9th grade\n",
       "1    12th grade\n",
       "3    11th grade\n",
       "4    10th grade\n",
       "5     9th grade\n",
       "Name: grade, dtype: object"
      ]
     },
     "execution_count": 181,
     "metadata": {},
     "output_type": "execute_result"
    }
   ],
   "source": [
    "students[\"grade\"].head()"
   ]
  },
  {
   "cell_type": "markdown",
   "id": "a01b98b2",
   "metadata": {},
   "source": [
    "##### Exercise 2\n",
    "Use regex to extract the number from each string in `grade` and store those values back into the `grade` column."
   ]
  },
  {
   "cell_type": "code",
   "execution_count": 182,
   "id": "84942360",
   "metadata": {},
   "outputs": [],
   "source": [
    "students[\"grade\"] = students[\"grade\"].str.split(\"(\\d+)\", expand=True)[1]"
   ]
  },
  {
   "cell_type": "code",
   "execution_count": 183,
   "id": "ca61c8b5",
   "metadata": {},
   "outputs": [
    {
     "data": {
      "text/html": [
       "<div>\n",
       "<style scoped>\n",
       "    .dataframe tbody tr th:only-of-type {\n",
       "        vertical-align: middle;\n",
       "    }\n",
       "\n",
       "    .dataframe tbody tr th {\n",
       "        vertical-align: top;\n",
       "    }\n",
       "\n",
       "    .dataframe thead th {\n",
       "        text-align: right;\n",
       "    }\n",
       "</style>\n",
       "<table border=\"1\" class=\"dataframe\">\n",
       "  <thead>\n",
       "    <tr style=\"text-align: right;\">\n",
       "      <th></th>\n",
       "      <th>grade</th>\n",
       "      <th>exam</th>\n",
       "      <th>score</th>\n",
       "      <th>gender</th>\n",
       "      <th>age</th>\n",
       "      <th>first_name</th>\n",
       "      <th>last_name</th>\n",
       "    </tr>\n",
       "  </thead>\n",
       "  <tbody>\n",
       "    <tr>\n",
       "      <th>0</th>\n",
       "      <td>9</td>\n",
       "      <td>fractions</td>\n",
       "      <td>76.0</td>\n",
       "      <td>M</td>\n",
       "      <td>14</td>\n",
       "      <td>Barrett</td>\n",
       "      <td>Feragh</td>\n",
       "    </tr>\n",
       "    <tr>\n",
       "      <th>1</th>\n",
       "      <td>12</td>\n",
       "      <td>fractions</td>\n",
       "      <td>83.0</td>\n",
       "      <td>M</td>\n",
       "      <td>14</td>\n",
       "      <td>Llewellyn</td>\n",
       "      <td>Keech</td>\n",
       "    </tr>\n",
       "    <tr>\n",
       "      <th>3</th>\n",
       "      <td>11</td>\n",
       "      <td>fractions</td>\n",
       "      <td>80.0</td>\n",
       "      <td>M</td>\n",
       "      <td>15</td>\n",
       "      <td>Terrell</td>\n",
       "      <td>Geri</td>\n",
       "    </tr>\n",
       "    <tr>\n",
       "      <th>4</th>\n",
       "      <td>10</td>\n",
       "      <td>fractions</td>\n",
       "      <td>67.0</td>\n",
       "      <td>M</td>\n",
       "      <td>14</td>\n",
       "      <td>Gram</td>\n",
       "      <td>Hallewell</td>\n",
       "    </tr>\n",
       "    <tr>\n",
       "      <th>5</th>\n",
       "      <td>9</td>\n",
       "      <td>fractions</td>\n",
       "      <td>NaN</td>\n",
       "      <td>F</td>\n",
       "      <td>18</td>\n",
       "      <td>Stephana</td>\n",
       "      <td>Boots</td>\n",
       "    </tr>\n",
       "  </tbody>\n",
       "</table>\n",
       "</div>"
      ],
      "text/plain": [
       "  grade       exam  score gender age first_name  last_name\n",
       "0     9  fractions   76.0      M  14    Barrett     Feragh\n",
       "1    12  fractions   83.0      M  14  Llewellyn      Keech\n",
       "3    11  fractions   80.0      M  15    Terrell       Geri\n",
       "4    10  fractions   67.0      M  14       Gram  Hallewell\n",
       "5     9  fractions    NaN      F  18   Stephana      Boots"
      ]
     },
     "execution_count": 183,
     "metadata": {},
     "output_type": "execute_result"
    }
   ],
   "source": [
    "students.head()"
   ]
  },
  {
   "cell_type": "markdown",
   "id": "24e0cba7",
   "metadata": {},
   "source": [
    "##### Exercise 3\n",
    "Print the dtypes of the `students` table."
   ]
  },
  {
   "cell_type": "code",
   "execution_count": 184,
   "id": "ee0fc014",
   "metadata": {},
   "outputs": [
    {
     "data": {
      "text/plain": [
       "grade          object\n",
       "exam           object\n",
       "score         float64\n",
       "gender         object\n",
       "age            object\n",
       "first_name     object\n",
       "last_name      object\n",
       "dtype: object"
      ]
     },
     "execution_count": 184,
     "metadata": {},
     "output_type": "execute_result"
    }
   ],
   "source": [
    "students.dtypes"
   ]
  },
  {
   "cell_type": "markdown",
   "id": "2604d1bd",
   "metadata": {},
   "source": [
    "##### Exercise 4\n",
    "Convert the `grade` column to be numerical values instead of objects."
   ]
  },
  {
   "cell_type": "code",
   "execution_count": 185,
   "id": "a698facc",
   "metadata": {},
   "outputs": [],
   "source": [
    "students[\"grade\"] = pd.to_numeric(students[\"grade\"])"
   ]
  },
  {
   "cell_type": "code",
   "execution_count": 186,
   "id": "681a4f31",
   "metadata": {
    "scrolled": true
   },
   "outputs": [
    {
     "data": {
      "text/plain": [
       "grade           int64\n",
       "exam           object\n",
       "score         float64\n",
       "gender         object\n",
       "age            object\n",
       "first_name     object\n",
       "last_name      object\n",
       "dtype: object"
      ]
     },
     "execution_count": 186,
     "metadata": {},
     "output_type": "execute_result"
    }
   ],
   "source": [
    "students.dtypes"
   ]
  },
  {
   "cell_type": "markdown",
   "id": "177e6bbb",
   "metadata": {},
   "source": [
    "##### Exercise 5\n",
    "Calculate the mean of `grade`, store it in a variable called `avg_grade`, and then print it out!"
   ]
  },
  {
   "cell_type": "code",
   "execution_count": 187,
   "id": "b8d43a13",
   "metadata": {},
   "outputs": [],
   "source": [
    "avg_grade = students[\"grade\"].mean()"
   ]
  },
  {
   "cell_type": "code",
   "execution_count": 188,
   "id": "509e3dc8",
   "metadata": {},
   "outputs": [
    {
     "data": {
      "text/plain": [
       "10.620445344129555"
      ]
     },
     "execution_count": 188,
     "metadata": {},
     "output_type": "execute_result"
    }
   ],
   "source": [
    "avg_grade"
   ]
  },
  {
   "cell_type": "markdown",
   "id": "05148246",
   "metadata": {},
   "source": [
    "### 9. Missing Values\n",
    "**Method 1:** drop all of the rows with a missing value. <br>\n",
    "**Method 2:** fill the missing values with the mean of the column, or with some other aggregate value."
   ]
  },
  {
   "cell_type": "markdown",
   "id": "895ddbb3",
   "metadata": {},
   "source": [
    "##### Exercise 1\n",
    "Get the mean of the `score` column. Store it in `score_mean` and print it out."
   ]
  },
  {
   "cell_type": "code",
   "execution_count": 189,
   "id": "44cbd1d0",
   "metadata": {},
   "outputs": [
    {
     "data": {
      "text/plain": [
       "77.69657422512235"
      ]
     },
     "execution_count": 189,
     "metadata": {},
     "output_type": "execute_result"
    }
   ],
   "source": [
    "score_mean = students[\"score\"].mean()\n",
    "score_mean"
   ]
  },
  {
   "cell_type": "markdown",
   "id": "85908aa5",
   "metadata": {},
   "source": [
    "##### Exercise 2\n",
    "We will assume that everyone who doesn’t have a score for an exam missed the test. <br>\n",
    "We want to replace all `nan`s with a score of 0. Let’s do this with the `score` column. <br>\n",
    "Fill all of the `nan`s in `students['score']` with 0"
   ]
  },
  {
   "cell_type": "code",
   "execution_count": 190,
   "id": "4fe218f3",
   "metadata": {},
   "outputs": [
    {
     "data": {
      "text/plain": [
       "False    1839\n",
       "True      137\n",
       "Name: score, dtype: int64"
      ]
     },
     "execution_count": 190,
     "metadata": {},
     "output_type": "execute_result"
    }
   ],
   "source": [
    "students[\"score\"].isnull().value_counts()"
   ]
  },
  {
   "cell_type": "code",
   "execution_count": 191,
   "id": "88590701",
   "metadata": {},
   "outputs": [],
   "source": [
    "students[\"score\"].fillna(0, inplace=True)"
   ]
  },
  {
   "cell_type": "markdown",
   "id": "53236a76",
   "metadata": {},
   "source": [
    "##### Exercise 3\n",
    "Get the mean of the `score` column again. Store it in `score_mean_2` and print it out."
   ]
  },
  {
   "cell_type": "code",
   "execution_count": 192,
   "id": "8699741c",
   "metadata": {},
   "outputs": [
    {
     "data": {
      "text/plain": [
       "72.30971659919028"
      ]
     },
     "execution_count": 192,
     "metadata": {},
     "output_type": "execute_result"
    }
   ],
   "source": [
    "score_mean_2 = students[\"score\"].mean()\n",
    "score_mean_2"
   ]
  },
  {
   "cell_type": "code",
   "execution_count": null,
   "id": "2749cf4d",
   "metadata": {},
   "outputs": [],
   "source": []
  }
 ],
 "metadata": {
  "kernelspec": {
   "display_name": "Python 3 (ipykernel)",
   "language": "python",
   "name": "python3"
  },
  "language_info": {
   "codemirror_mode": {
    "name": "ipython",
    "version": 3
   },
   "file_extension": ".py",
   "mimetype": "text/x-python",
   "name": "python",
   "nbconvert_exporter": "python",
   "pygments_lexer": "ipython3",
   "version": "3.9.12"
  }
 },
 "nbformat": 4,
 "nbformat_minor": 5
}

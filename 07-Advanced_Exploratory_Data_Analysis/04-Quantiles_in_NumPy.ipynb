{
 "cells": [
  {
   "cell_type": "markdown",
   "id": "b32512f2",
   "metadata": {},
   "source": [
    "## Quantiles in NumPy\n",
    "The NumPy library has a function named quantile() that will quickly calculate the quantiles of a dataset for you.\n",
    "\n",
    "quantile() takes two parameters. The first is the dataset that you are using. The second parameter is a single number or a list of numbers between 0 and 1. These numbers represent the places in the data where you want to split."
   ]
  },
  {
   "cell_type": "code",
   "execution_count": 21,
   "id": "8e958d90",
   "metadata": {},
   "outputs": [],
   "source": [
    "import numpy as np\n",
    "from song_data import songs\n",
    "import matplotlib.pyplot as plt"
   ]
  },
  {
   "cell_type": "markdown",
   "id": "9401abaa",
   "metadata": {},
   "source": [
    "### Exercise 1\n",
    "The dataset containing information about the lengths of songs is stored in a variable named songs.\n",
    "\n",
    "Create a variable named twenty_third_percentile that contains the value that splits the first 23% of the data from the rest of the data."
   ]
  },
  {
   "cell_type": "code",
   "execution_count": 2,
   "id": "15df94ee",
   "metadata": {},
   "outputs": [
    {
     "data": {
      "text/plain": [
       "171.78129239999998"
      ]
     },
     "execution_count": 2,
     "metadata": {},
     "output_type": "execute_result"
    }
   ],
   "source": [
    "twenty_third_percentile = np.quantile(songs, 0.23)\n",
    "twenty_third_percentile"
   ]
  },
  {
   "cell_type": "markdown",
   "id": "6d7046d5",
   "metadata": {},
   "source": [
    "### Exercise 2\n",
    "Create a variable named quartiles that contains the quartiles of the songs dataset.\n",
    "\n",
    "The quartiles of a dataset split the data into four groups of equal size. Each group should have 25% of the data, so you’ll want to use [0.25, 0.5, 0.75] as the second parameter to the quantile() function."
   ]
  },
  {
   "cell_type": "code",
   "execution_count": 4,
   "id": "2b544931",
   "metadata": {},
   "outputs": [],
   "source": [
    "quartiles = np.quantile(songs, [0.25, 0.50, 0.75])"
   ]
  },
  {
   "cell_type": "code",
   "execution_count": 6,
   "id": "fe45a2e8",
   "metadata": {},
   "outputs": [
    {
     "data": {
      "text/plain": [
       "(175.93424, 222.82404, 275.47383)"
      ]
     },
     "execution_count": 6,
     "metadata": {},
     "output_type": "execute_result"
    }
   ],
   "source": [
    "Q1, Q2, Q3 = np.quantile(songs, [0.25, 0.50, 0.75])\n",
    "Q1, Q2, Q3"
   ]
  },
  {
   "cell_type": "markdown",
   "id": "07cb82e7",
   "metadata": {},
   "source": [
    "### Exercise 3\n",
    "Create a variable named deciles. deciles should store the values that split the dataset into ten groups of equal size. Each group should have 10% of the data.\n",
    "\n",
    "The first value should be at 10% of the data. The next value should be at 20% of the data. The final value should be at 90% of the data."
   ]
  },
  {
   "cell_type": "code",
   "execution_count": 10,
   "id": "3c81725f",
   "metadata": {},
   "outputs": [
    {
     "data": {
      "text/plain": [
       "array([135.151876, 165.375546, 185.99138 , 204.815222, 222.82404 ,\n",
       "       240.22159 , 262.47791 , 290.95138 , 348.493912])"
      ]
     },
     "execution_count": 10,
     "metadata": {},
     "output_type": "execute_result"
    }
   ],
   "source": [
    "deciles = np.quantile(songs, [0.1, 0.2, 0.3, 0.4, 0.5, 0.6, 0.7, 0.8, 0.9])\n",
    "deciles"
   ]
  },
  {
   "cell_type": "markdown",
   "id": "f65e7a89",
   "metadata": {},
   "source": [
    "### Exercise 4\n",
    "Look at the printout of the deciles. If you had a song that was 170 seconds long, what tenth of the dataset would it fall in?\n",
    "\n",
    "Create a variable named tenth and set it equal to the 1 if you think the 170 second song would fall in the first tenth of the data. Set it equal to 2 if you think the song would fall in the second tenth of the data. If you think the song would fall in the final tenth of the data, set tenth equal to 10."
   ]
  },
  {
   "cell_type": "code",
   "execution_count": 11,
   "id": "a6c02aec",
   "metadata": {},
   "outputs": [],
   "source": [
    "my_song = 170\n",
    "quartile = None\n",
    "\n",
    "if my_song < deciles[0] :\n",
    "    quartile = 1\n",
    "elif my_song > deciles[0] and my_song < deciles[1]:\n",
    "    quartile = 2\n",
    "elif my_song > deciles[1] and my_song < deciles[2]:\n",
    "    quartile = 3\n",
    "elif my_song > deciles[2] and my_song < deciles[3]:\n",
    "    quartile = 4    \n",
    "elif my_song > deciles[3] and my_song < deciles[4]:\n",
    "    quartile = 5\n",
    "elif my_song > deciles[4] and my_song < deciles[5]:\n",
    "    quartile = 6    \n",
    "elif my_song > deciles[5] and my_song < deciles[6]:\n",
    "    quartile = 7\n",
    "elif my_song > deciles[6] and my_song < deciles[7]:\n",
    "    quartile = 8    \n",
    "elif my_song > deciles[7] and my_song < deciles[8]:\n",
    "    quartile = 9 \n",
    "elif my_song > deciles[8] and my_song < deciles[9]:\n",
    "    quartile = 10"
   ]
  },
  {
   "cell_type": "code",
   "execution_count": 12,
   "id": "f770e424",
   "metadata": {},
   "outputs": [
    {
     "data": {
      "text/plain": [
       "3"
      ]
     },
     "execution_count": 12,
     "metadata": {},
     "output_type": "execute_result"
    }
   ],
   "source": [
    "quartile"
   ]
  },
  {
   "cell_type": "markdown",
   "id": "acce7e6d",
   "metadata": {},
   "source": [
    "### Exercise 5\n",
    "We won’t make you calculate all 99 percentiles, but let’s take a look at one. Find the value that separates the first 32% of the data from the rest.\n",
    "\n",
    "Store that value in a variable named percentile.\n",
    "\n",
    "Look at the printout. If you had a song that was exactly three minutes long, is that song above or below the 32nd percentile?\n",
    "\n",
    "Create a variable named answer and set it equal to either \"above\" or \"below\". Don’t forget to include the quotes!"
   ]
  },
  {
   "cell_type": "code",
   "execution_count": 14,
   "id": "582e4020",
   "metadata": {},
   "outputs": [
    {
     "data": {
      "text/plain": [
       "189.93587"
      ]
     },
     "execution_count": 14,
     "metadata": {},
     "output_type": "execute_result"
    }
   ],
   "source": [
    "percentile = np.quantile(songs, 0.32)\n",
    "percentile"
   ]
  },
  {
   "cell_type": "code",
   "execution_count": 16,
   "id": "34d10226",
   "metadata": {},
   "outputs": [
    {
     "data": {
      "text/plain": [
       "'below'"
      ]
     },
     "execution_count": 16,
     "metadata": {},
     "output_type": "execute_result"
    }
   ],
   "source": [
    "song = 180\n",
    "answer = None\n",
    "if song > percentile:\n",
    "    answer = \"above\"\n",
    "else:\n",
    "    answer = \"below\"\n",
    "answer"
   ]
  },
  {
   "cell_type": "markdown",
   "id": "b8530704",
   "metadata": {},
   "source": [
    "### Quantiles Review\n",
    "- Quantiles are values that split a dataset into groups of equal size.\n",
    "- If you have n quantiles, the dataset will be split into n+1 groups of equal size.\n",
    "- The median is a quantile. It is the only 2-quantile. Half the data falls below the median and half falls above the median.\n",
    "- Quartiles and percentiles are other common quantiles. Quartiles split the data into 4 groups while percentiles split the data into 100 groups."
   ]
  },
  {
   "cell_type": "code",
   "execution_count": 18,
   "id": "98f51373",
   "metadata": {},
   "outputs": [],
   "source": [
    "a = np.random.normal(1400, 200, 1000)\n",
    "school_one = [x for x in a if x <= 1600]\n",
    "\n",
    "b = np.random.normal(1000, 300, 1000)\n",
    "school_two = [x for x in b if x <= 1600]\n",
    "\n",
    "c = np.random.normal(800, 500, 1000)\n",
    "school_three = [x for x in c if x <= 1600 and x >=200]"
   ]
  },
  {
   "cell_type": "code",
   "execution_count": 19,
   "id": "6c96ee25",
   "metadata": {},
   "outputs": [],
   "source": [
    "deciles_one = np.quantile(school_one, [0.1, 0.2, 0.3, 0.4, 0.5, 0.6, 0.7, 0.8, 0.9])\n",
    "deciles_two = np.quantile(school_two, [0.1, 0.2, 0.3, 0.4, 0.5, 0.6, 0.7, 0.8, 0.9])\n",
    "deciles_three = np.quantile(school_three, [0.1, 0.2, 0.3, 0.4, 0.5, 0.6, 0.7, 0.8, 0.9])"
   ]
  },
  {
   "cell_type": "code",
   "execution_count": 22,
   "id": "925843f1",
   "metadata": {},
   "outputs": [
    {
     "data": {
      "image/png": "[encoded data removed]",
      "text/plain": [
       "<Figure size 432x288 with 3 Axes>"
      ]
     },
     "metadata": {
      "needs_background": "light"
     },
     "output_type": "display_data"
    }
   ],
   "source": [
    "plt.subplot(311)\n",
    "plt.hist(school_one)\n",
    "\n",
    "for decile in deciles_one:\n",
    "    plt.axvline(x=decile, c = 'r')\n",
    "    \n",
    "plt.title(\"School One\")\n",
    "plt.xlabel(\"SAT Score\")\n",
    "  \n",
    "plt.subplot(312)\n",
    "plt.hist(school_two)\n",
    "\n",
    "for decile in deciles_two:\n",
    "    plt.axvline(x=decile, c = 'r')\n",
    "    \n",
    "plt.title(\"School Two\")\n",
    "plt.xlabel(\"SAT Score\")\n",
    "  \n",
    "plt.subplot(313)\n",
    "plt.hist(school_three)\n",
    "\n",
    "for decile in deciles_three:\n",
    "    plt.axvline(x=decile, c = 'r')\n",
    "    \n",
    "plt.title(\"School Three\")\n",
    "plt.xlabel(\"SAT Score\")\n",
    "plt.tight_layout()\n",
    "plt.show()"
   ]
  },
  {
   "cell_type": "code",
   "execution_count": null,
   "id": "873b90d0",
   "metadata": {},
   "outputs": [],
   "source": []
  }
 ],
 "metadata": {
  "kernelspec": {
   "display_name": "Python 3 (ipykernel)",
   "language": "python",
   "name": "python3"
  },
  "language_info": {
   "codemirror_mode": {
    "name": "ipython",
    "version": 3
   },
   "file_extension": ".py",
   "mimetype": "text/x-python",
   "name": "python",
   "nbconvert_exporter": "python",
   "pygments_lexer": "ipython3",
   "version": "3.9.12"
  }
 },
 "nbformat": 4,
 "nbformat_minor": 5
}

{
 "cells": [
  {
   "cell_type": "markdown",
   "id": "ff31efae",
   "metadata": {},
   "source": [
    "### Lambda Functions\n",
    "- Lambda functions only work if we’re just doing a one line command. \n",
    "- If we wanted to write something longer, we’d need a more complex function. \n",
    "- Lambda functions are great when you need to use a function once. Because you aren’t defining a function, the reusability aspect functions is not present with lambda functions.\n",
    "- By saving the work of defining a function, a lambda function allows us to efficiently run an expression and produce an output for a specific task, such as defining a column in a table, or populating information in a dictionary."
   ]
  },
  {
   "cell_type": "markdown",
   "id": "2ab2234e",
   "metadata": {},
   "source": [
    "##### Example 1"
   ]
  },
  {
   "cell_type": "code",
   "execution_count": 1,
   "id": "f72462bc",
   "metadata": {},
   "outputs": [],
   "source": [
    "add_two = lambda my_input: my_input + 2"
   ]
  },
  {
   "cell_type": "code",
   "execution_count": 4,
   "id": "8fd33b9d",
   "metadata": {},
   "outputs": [
    {
     "data": {
      "text/plain": [
       "4"
      ]
     },
     "execution_count": 4,
     "metadata": {},
     "output_type": "execute_result"
    }
   ],
   "source": [
    "add_two(2)"
   ]
  },
  {
   "cell_type": "code",
   "execution_count": 3,
   "id": "c1c80ad7",
   "metadata": {},
   "outputs": [
    {
     "data": {
      "text/plain": [
       "5"
      ]
     },
     "execution_count": 3,
     "metadata": {},
     "output_type": "execute_result"
    }
   ],
   "source": [
    "add_two(3)"
   ]
  },
  {
   "cell_type": "markdown",
   "id": "0d410ebf",
   "metadata": {},
   "source": [
    "##### Example 2"
   ]
  },
  {
   "cell_type": "code",
   "execution_count": 5,
   "id": "aa080c52",
   "metadata": {},
   "outputs": [],
   "source": [
    "is_substring = lambda my_string: my_string in \"This is the master string\""
   ]
  },
  {
   "cell_type": "code",
   "execution_count": 6,
   "id": "045547f4",
   "metadata": {},
   "outputs": [
    {
     "data": {
      "text/plain": [
       "False"
      ]
     },
     "execution_count": 6,
     "metadata": {},
     "output_type": "execute_result"
    }
   ],
   "source": [
    "is_substring(\"I\")"
   ]
  },
  {
   "cell_type": "code",
   "execution_count": 7,
   "id": "de9a2b56",
   "metadata": {},
   "outputs": [
    {
     "data": {
      "text/plain": [
       "False"
      ]
     },
     "execution_count": 7,
     "metadata": {},
     "output_type": "execute_result"
    }
   ],
   "source": [
    "is_substring(\"am\")"
   ]
  },
  {
   "cell_type": "code",
   "execution_count": 8,
   "id": "f24492b7",
   "metadata": {},
   "outputs": [
    {
     "data": {
      "text/plain": [
       "True"
      ]
     },
     "execution_count": 8,
     "metadata": {},
     "output_type": "execute_result"
    }
   ],
   "source": [
    "is_substring(\"master\")"
   ]
  },
  {
   "cell_type": "markdown",
   "id": "ab3e2576",
   "metadata": {},
   "source": [
    "##### Example 3"
   ]
  },
  {
   "cell_type": "code",
   "execution_count": 16,
   "id": "a635d97d",
   "metadata": {},
   "outputs": [],
   "source": [
    "check_if_A_grade = lambda x: \"Got an A!\" if x >= 90 else \"Did not get an A...\""
   ]
  },
  {
   "cell_type": "code",
   "execution_count": 17,
   "id": "ca40cea7",
   "metadata": {},
   "outputs": [
    {
     "data": {
      "text/plain": [
       "'Got an A!'"
      ]
     },
     "execution_count": 17,
     "metadata": {},
     "output_type": "execute_result"
    }
   ],
   "source": [
    "check_if_A_grade(90)"
   ]
  },
  {
   "cell_type": "code",
   "execution_count": 18,
   "id": "27d4d73b",
   "metadata": {},
   "outputs": [
    {
     "data": {
      "text/plain": [
       "'Did not get an A...'"
      ]
     },
     "execution_count": 18,
     "metadata": {},
     "output_type": "execute_result"
    }
   ],
   "source": [
    "check_if_A_grade(75)"
   ]
  },
  {
   "cell_type": "markdown",
   "id": "33793586",
   "metadata": {},
   "source": [
    "##### Exercise 1 - Contains A\n",
    "Create a lambda function named contains_a that takes an input word and returns True if the input contains the letter 'a'. Otherwise, return False."
   ]
  },
  {
   "cell_type": "code",
   "execution_count": 20,
   "id": "f0a6b6ca",
   "metadata": {},
   "outputs": [],
   "source": [
    "contains_a = lambda x : True if \"a\" in x else False"
   ]
  },
  {
   "cell_type": "code",
   "execution_count": 21,
   "id": "e55c58da",
   "metadata": {},
   "outputs": [
    {
     "data": {
      "text/plain": [
       "True"
      ]
     },
     "execution_count": 21,
     "metadata": {},
     "output_type": "execute_result"
    }
   ],
   "source": [
    "contains_a(\"Fırat\")"
   ]
  },
  {
   "cell_type": "code",
   "execution_count": 22,
   "id": "7fc34d91",
   "metadata": {},
   "outputs": [
    {
     "data": {
      "text/plain": [
       "False"
      ]
     },
     "execution_count": 22,
     "metadata": {},
     "output_type": "execute_result"
    }
   ],
   "source": [
    "contains_a(\"John\")"
   ]
  },
  {
   "cell_type": "markdown",
   "id": "d03850de",
   "metadata": {},
   "source": [
    "##### Exercise 2  - Long String\n",
    "Create a lambda function named long_string that takes an input str and returns True if the string has over 12 characters in it. Otherwise, return False."
   ]
  },
  {
   "cell_type": "code",
   "execution_count": 27,
   "id": "30f55202",
   "metadata": {},
   "outputs": [],
   "source": [
    "long_string = lambda x : True if len(x) > 12 else False"
   ]
  },
  {
   "cell_type": "code",
   "execution_count": 28,
   "id": "e8d12b3f",
   "metadata": {},
   "outputs": [
    {
     "data": {
      "text/plain": [
       "False"
      ]
     },
     "execution_count": 28,
     "metadata": {},
     "output_type": "execute_result"
    }
   ],
   "source": [
    "long_string(\"short\")"
   ]
  },
  {
   "cell_type": "code",
   "execution_count": 29,
   "id": "b4f0dc11",
   "metadata": {},
   "outputs": [
    {
     "data": {
      "text/plain": [
       "True"
      ]
     },
     "execution_count": 29,
     "metadata": {},
     "output_type": "execute_result"
    }
   ],
   "source": [
    "long_string(\"photosynthesis\")"
   ]
  },
  {
   "cell_type": "markdown",
   "id": "c749c1a4",
   "metadata": {},
   "source": [
    "##### Exercise 3 - Ends With A\n",
    "Create a lambda function named ends_in_a that takes an input str and returns True if the last character in the string is an a. Otherwise, return False."
   ]
  },
  {
   "cell_type": "code",
   "execution_count": 30,
   "id": "11f0f601",
   "metadata": {},
   "outputs": [],
   "source": [
    "ends_in_a = lambda x : True if x.endswith(\"a\") else False"
   ]
  },
  {
   "cell_type": "code",
   "execution_count": 31,
   "id": "75cb1d44",
   "metadata": {},
   "outputs": [
    {
     "data": {
      "text/plain": [
       "True"
      ]
     },
     "execution_count": 31,
     "metadata": {},
     "output_type": "execute_result"
    }
   ],
   "source": [
    "ends_in_a(\"data\")"
   ]
  },
  {
   "cell_type": "code",
   "execution_count": 32,
   "id": "6fa88399",
   "metadata": {},
   "outputs": [
    {
     "data": {
      "text/plain": [
       "False"
      ]
     },
     "execution_count": 32,
     "metadata": {},
     "output_type": "execute_result"
    }
   ],
   "source": [
    "ends_in_a(\"dark\")"
   ]
  },
  {
   "cell_type": "markdown",
   "id": "235b00e1",
   "metadata": {},
   "source": [
    "##### Exercise 4 - Double or Zero\n",
    "Create a lambda function named double_or_zero that takes an integer named num. If num is greater than 10, return double num. Otherwise, return 0."
   ]
  },
  {
   "cell_type": "code",
   "execution_count": 33,
   "id": "8999e5cd",
   "metadata": {},
   "outputs": [],
   "source": [
    "double_or_zero = lambda num : num * 2 if num > 10 else 0"
   ]
  },
  {
   "cell_type": "code",
   "execution_count": 34,
   "id": "be6eedf8",
   "metadata": {},
   "outputs": [
    {
     "data": {
      "text/plain": [
       "24"
      ]
     },
     "execution_count": 34,
     "metadata": {},
     "output_type": "execute_result"
    }
   ],
   "source": [
    "double_or_zero(12)"
   ]
  },
  {
   "cell_type": "code",
   "execution_count": 35,
   "id": "952db9c2",
   "metadata": {},
   "outputs": [
    {
     "data": {
      "text/plain": [
       "0"
      ]
     },
     "execution_count": 35,
     "metadata": {},
     "output_type": "execute_result"
    }
   ],
   "source": [
    "double_or_zero(4)"
   ]
  },
  {
   "cell_type": "markdown",
   "id": "8af2e221",
   "metadata": {},
   "source": [
    "##### Exercise 5 - Even / Odd\n",
    "Create a lambda function named even_or_odd that takes an integer named num. If num is even, return \"even\". If num is odd, return \"odd\"."
   ]
  },
  {
   "cell_type": "code",
   "execution_count": 41,
   "id": "7ff0d3c2",
   "metadata": {},
   "outputs": [],
   "source": [
    "even_or_odd = lambda num : \"even\" if num % 2 == 0 else \"odd\""
   ]
  },
  {
   "cell_type": "code",
   "execution_count": 42,
   "id": "f8adf2b0",
   "metadata": {},
   "outputs": [
    {
     "data": {
      "text/plain": [
       "'odd'"
      ]
     },
     "execution_count": 42,
     "metadata": {},
     "output_type": "execute_result"
    }
   ],
   "source": [
    "even_or_odd(5)"
   ]
  },
  {
   "cell_type": "code",
   "execution_count": 43,
   "id": "233edb7f",
   "metadata": {},
   "outputs": [
    {
     "data": {
      "text/plain": [
       "'even'"
      ]
     },
     "execution_count": 43,
     "metadata": {},
     "output_type": "execute_result"
    }
   ],
   "source": [
    "even_or_odd(144)"
   ]
  },
  {
   "cell_type": "markdown",
   "id": "cd40a5af",
   "metadata": {},
   "source": [
    "##### Exercise 6 - Multiple of Three\n",
    "Create a lambda function named multiple_of_three that takes an integer named num. If num is a multiple of three, return \"multiple of three\". Otherwise, return \"not a multiple\"."
   ]
  },
  {
   "cell_type": "code",
   "execution_count": 49,
   "id": "ae8df172",
   "metadata": {},
   "outputs": [],
   "source": [
    "multiple_of_three = lambda num : \"multiple of three\" if num % 3 == 0 else \"not a multiple\""
   ]
  },
  {
   "cell_type": "code",
   "execution_count": 50,
   "id": "5553f1a6",
   "metadata": {},
   "outputs": [
    {
     "data": {
      "text/plain": [
       "'multiple of three'"
      ]
     },
     "execution_count": 50,
     "metadata": {},
     "output_type": "execute_result"
    }
   ],
   "source": [
    "multiple_of_three(9)"
   ]
  },
  {
   "cell_type": "code",
   "execution_count": 48,
   "id": "a5b815e6",
   "metadata": {},
   "outputs": [
    {
     "data": {
      "text/plain": [
       "'not a multiple'"
      ]
     },
     "execution_count": 48,
     "metadata": {},
     "output_type": "execute_result"
    }
   ],
   "source": [
    "multiple_of_three(13)"
   ]
  },
  {
   "cell_type": "markdown",
   "id": "b9ff694b",
   "metadata": {},
   "source": [
    "##### Exercise 7 - Movie Rating\n",
    "Create a lambda function named rate_movie that takes a number named rating. If rating is greater than 8.5, return \"I liked this movie\". Otherwise return \"This movie was not very good\"."
   ]
  },
  {
   "cell_type": "code",
   "execution_count": 54,
   "id": "cc00d423",
   "metadata": {},
   "outputs": [],
   "source": [
    "rate_movie = lambda rating : \"I liked this movie.\" if  rating > 8.5 else \"This movie was not very good.\""
   ]
  },
  {
   "cell_type": "code",
   "execution_count": 55,
   "id": "40c5b73f",
   "metadata": {},
   "outputs": [
    {
     "data": {
      "text/plain": [
       "'I liked this movie.'"
      ]
     },
     "execution_count": 55,
     "metadata": {},
     "output_type": "execute_result"
    }
   ],
   "source": [
    "rate_movie(9.2)"
   ]
  },
  {
   "cell_type": "code",
   "execution_count": 53,
   "id": "2e1cddb2",
   "metadata": {},
   "outputs": [
    {
     "data": {
      "text/plain": [
       "'This movie was not very good.'"
      ]
     },
     "execution_count": 53,
     "metadata": {},
     "output_type": "execute_result"
    }
   ],
   "source": [
    "rate_movie(7.2)"
   ]
  },
  {
   "cell_type": "markdown",
   "id": "828d228a",
   "metadata": {},
   "source": [
    "##### Exercise 8 - Ones' Place\n",
    "Create a lambda function named ones_place that returns the ones’ place of the input num."
   ]
  },
  {
   "cell_type": "code",
   "execution_count": 56,
   "id": "cc8e9543",
   "metadata": {},
   "outputs": [],
   "source": [
    "ones_place = lambda num : num % 10 "
   ]
  },
  {
   "cell_type": "code",
   "execution_count": 58,
   "id": "ca727348",
   "metadata": {},
   "outputs": [
    {
     "data": {
      "text/plain": [
       "1"
      ]
     },
     "execution_count": 58,
     "metadata": {},
     "output_type": "execute_result"
    }
   ],
   "source": [
    "ones_place(41)"
   ]
  },
  {
   "cell_type": "code",
   "execution_count": 59,
   "id": "ac2eeb98",
   "metadata": {},
   "outputs": [
    {
     "data": {
      "text/plain": [
       "2"
      ]
     },
     "execution_count": 59,
     "metadata": {},
     "output_type": "execute_result"
    }
   ],
   "source": [
    "ones_place(2)"
   ]
  },
  {
   "cell_type": "markdown",
   "id": "85ff795a",
   "metadata": {},
   "source": [
    "##### Exercise 9 - Double Square\n",
    "Create a lambda function named double_square that takes an input named num. The function should return twice the square of num."
   ]
  },
  {
   "cell_type": "code",
   "execution_count": 63,
   "id": "926acb44",
   "metadata": {},
   "outputs": [],
   "source": [
    "double_square = lambda num : num**2 * 2"
   ]
  },
  {
   "cell_type": "code",
   "execution_count": 64,
   "id": "f7c0a924",
   "metadata": {},
   "outputs": [
    {
     "data": {
      "text/plain": [
       "162"
      ]
     },
     "execution_count": 64,
     "metadata": {},
     "output_type": "execute_result"
    }
   ],
   "source": [
    "double_square(9)"
   ]
  },
  {
   "cell_type": "code",
   "execution_count": 65,
   "id": "aac78938",
   "metadata": {},
   "outputs": [
    {
     "data": {
      "text/plain": [
       "50"
      ]
     },
     "execution_count": 65,
     "metadata": {},
     "output_type": "execute_result"
    }
   ],
   "source": [
    "double_square(5)"
   ]
  },
  {
   "cell_type": "markdown",
   "id": "a226911c",
   "metadata": {},
   "source": [
    "##### Exercise 9 - Add Random\n",
    "Create a lambda function named add_random that takes an input named num. The function should return num plus a random integer number between 1 and 10 (inclusive)."
   ]
  },
  {
   "cell_type": "code",
   "execution_count": 84,
   "id": "e813cceb",
   "metadata": {},
   "outputs": [],
   "source": [
    "import random\n",
    "add_random = lambda num : num + random.randint(1,10)"
   ]
  },
  {
   "cell_type": "code",
   "execution_count": 88,
   "id": "57a2eb8d",
   "metadata": {},
   "outputs": [
    {
     "data": {
      "text/plain": [
       "5"
      ]
     },
     "execution_count": 88,
     "metadata": {},
     "output_type": "execute_result"
    }
   ],
   "source": [
    "add_random(3)"
   ]
  },
  {
   "cell_type": "code",
   "execution_count": 89,
   "id": "cfcecb68",
   "metadata": {},
   "outputs": [
    {
     "data": {
      "text/plain": [
       "108"
      ]
     },
     "execution_count": 89,
     "metadata": {},
     "output_type": "execute_result"
    }
   ],
   "source": [
    "add_random(100)"
   ]
  }
 ],
 "metadata": {
  "kernelspec": {
   "display_name": "Python 3 (ipykernel)",
   "language": "python",
   "name": "python3"
  },
  "language_info": {
   "codemirror_mode": {
    "name": "ipython",
    "version": 3
   },
   "file_extension": ".py",
   "mimetype": "text/x-python",
   "name": "python",
   "nbconvert_exporter": "python",
   "pygments_lexer": "ipython3",
   "version": "3.9.12"
  }
 },
 "nbformat": 4,
 "nbformat_minor": 5
}

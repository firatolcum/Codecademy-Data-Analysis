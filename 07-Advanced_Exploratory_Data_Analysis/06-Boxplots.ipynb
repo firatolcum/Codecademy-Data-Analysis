{
 "cells": [
  {
   "cell_type": "markdown",
   "id": "4e3b9c0f",
   "metadata": {},
   "source": [
    "## Boxplots\n",
    "Boxplots are one of the most common ways to visualize a dataset. Like histograms, boxplots give you a sense of the central tendency and spread of the data.\n",
    "- The line in the center of the box is the median.\n",
    "- The edges of the box are the first and third quartiles. This makes the length of the box the interquartile range — the middle 50% of your data.\n",
    "- The whiskers of the boxplot extend to include most of the data. There are many different ways to calculate the length of the whiskers.\n",
    "- Outliers are points that fall beyond the whiskers. Those points are represented with dots. In the boxplot we’re showing, there are many outliers. \n",
    "( Actually we can't say directly that they are outlier we can say that they are extreme values)"
   ]
  },
  {
   "cell_type": "code",
   "execution_count": 1,
   "id": "0dbf2343",
   "metadata": {},
   "outputs": [],
   "source": [
    "import numpy as np\n",
    "from data import dataset"
   ]
  },
  {
   "cell_type": "markdown",
   "id": "260571e0",
   "metadata": {},
   "source": [
    "### Median\n",
    "When making a box plot, the easiest place to start is the line that is inside the box. This line is the median of the dataset. Half of the data falls above that line and half falls below it."
   ]
  },
  {
   "cell_type": "markdown",
   "id": "d8c6b7dc",
   "metadata": {},
   "source": [
    "### Exercise 1\n",
    "Create a variable named dataset_median. Use NumPy’s median() function to set dataset_median equal to the median of the dataset."
   ]
  },
  {
   "cell_type": "code",
   "execution_count": 2,
   "id": "e1c5ff97",
   "metadata": {},
   "outputs": [
    {
     "data": {
      "text/plain": [
       "1.0973617999999998"
      ]
     },
     "execution_count": 2,
     "metadata": {},
     "output_type": "execute_result"
    }
   ],
   "source": [
    "dataset_median = np.median(dataset)\n",
    "dataset_median"
   ]
  },
  {
   "cell_type": "markdown",
   "id": "380e1232",
   "metadata": {},
   "source": [
    "### Interquartile Range\n",
    "This visually splits the data into fourths. One-quarter of the data will fall outside of the box to the left. Another quarter of the data will fall between the left side of the box and the median line. A third quarter of the data falls between the median line and the right side of the box. And the last quarter of the data falls outside the box to the right."
   ]
  },
  {
   "cell_type": "markdown",
   "id": "72ad610a",
   "metadata": {},
   "source": [
    "### Exercise 2\n",
    "Create a variable named quartile_one. Use NumPy’s np.quantile() function to find dataset‘s first quartile.\n",
    "\n",
    "Create a variable named quartile_three. Use NumPy’s np.quantile() function to find dataset‘s third quartile.\n"
   ]
  },
  {
   "cell_type": "code",
   "execution_count": 3,
   "id": "f470a6fe",
   "metadata": {},
   "outputs": [
    {
     "data": {
      "text/plain": [
       "(-0.406171598, 2.55087446)"
      ]
     },
     "execution_count": 3,
     "metadata": {},
     "output_type": "execute_result"
    }
   ],
   "source": [
    "quartile_one = np.quantile(dataset, 0.25)\n",
    "quartile_three = np.quantile(dataset, 0.75)\n",
    "quartile_one, quartile_three"
   ]
  },
  {
   "cell_type": "markdown",
   "id": "8c503069",
   "metadata": {},
   "source": [
    "### Whiskers\n",
    "The whiskers of a boxplot display information related to the spread of the dataset.\n",
    "\n",
    "There are many different ways to plot the whiskers of a boxplot. You might see some boxplots where the whiskers extend to the minimum and maximum values. Some boxplots have whiskers that extend one standard deviation away from the mean of the data.\n",
    "\n",
    "However, one of the most commonly used methods of drawing the whiskers is to extend them 1.5 times the interquartile range from the first and third quartile."
   ]
  },
  {
   "cell_type": "markdown",
   "id": "72308a18",
   "metadata": {},
   "source": [
    "### Exercise 3\n",
    "Create a variable named iqr and set it equal to the interquartile range of the dataset.\n",
    "\n",
    "We now want to find 1.5 times the interquartile range. Create a variable named distance and set it equal to 1.5 times iqr.\n",
    "\n",
    "Create a variable named left_whisker and set it equal to quartile_one minus distance.\n",
    "\n",
    "right_whisker. Set it equal to quartile_three plus distance."
   ]
  },
  {
   "cell_type": "code",
   "execution_count": 5,
   "id": "92428a30",
   "metadata": {},
   "outputs": [
    {
     "data": {
      "text/plain": [
       "2.9570460580000004"
      ]
     },
     "execution_count": 5,
     "metadata": {},
     "output_type": "execute_result"
    }
   ],
   "source": [
    "iqr = quartile_three - quartile_one\n",
    "iqr"
   ]
  },
  {
   "cell_type": "code",
   "execution_count": 6,
   "id": "5b2c587f",
   "metadata": {},
   "outputs": [
    {
     "data": {
      "text/plain": [
       "4.435569087000001"
      ]
     },
     "execution_count": 6,
     "metadata": {},
     "output_type": "execute_result"
    }
   ],
   "source": [
    "distance = iqr * 1.5\n",
    "distance"
   ]
  },
  {
   "cell_type": "code",
   "execution_count": 7,
   "id": "64c336ea",
   "metadata": {},
   "outputs": [
    {
     "data": {
      "text/plain": [
       "(-4.841740685000001, 6.986443547000001)"
      ]
     },
     "execution_count": 7,
     "metadata": {},
     "output_type": "execute_result"
    }
   ],
   "source": [
    "left_whisker = quartile_one - distance\n",
    "right_whisker = quartile_three + distance\n",
    "left_whisker, right_whisker"
   ]
  },
  {
   "cell_type": "code",
   "execution_count": 9,
   "id": "6f4a7323",
   "metadata": {},
   "outputs": [
    {
     "name": "stdout",
     "output_type": "stream",
     "text": [
      "The interquartile range of the dataset is 2.9570460580000004.\n"
     ]
    }
   ],
   "source": [
    "print(\"The interquartile range of the dataset is \" + str(iqr) + \".\")"
   ]
  },
  {
   "cell_type": "code",
   "execution_count": 10,
   "id": "d8e7982e",
   "metadata": {},
   "outputs": [
    {
     "name": "stdout",
     "output_type": "stream",
     "text": [
      "Each whisker should be 4.435569087000001 units away from the edges of the box.\n"
     ]
    }
   ],
   "source": [
    "print(\"Each whisker should be \" + str(distance) + \" units away from the edges of the box.\")"
   ]
  },
  {
   "cell_type": "code",
   "execution_count": 11,
   "id": "5ee0f2b7",
   "metadata": {},
   "outputs": [
    {
     "name": "stdout",
     "output_type": "stream",
     "text": [
      "The left whisker should extend to -4.841740685000001 .\n"
     ]
    }
   ],
   "source": [
    "print(\"The left whisker should extend to \" + str(left_whisker) + \" .\")"
   ]
  },
  {
   "cell_type": "code",
   "execution_count": 13,
   "id": "6cb6e8d2",
   "metadata": {},
   "outputs": [
    {
     "name": "stdout",
     "output_type": "stream",
     "text": [
      "The right whisker should extend to 6.986443547000001 .\n"
     ]
    }
   ],
   "source": [
    "print(\"The right whisker should extend to \" + str(right_whisker) + \" .\")"
   ]
  },
  {
   "cell_type": "markdown",
   "id": "a1bf3da4",
   "metadata": {},
   "source": [
    "### Outliers\n",
    "The final piece of a boxplot is the representation of outliers. An outlier is a point in the dataset that falls outside of the whiskers. Outliers are usually represented with a dot or an asterisk."
   ]
  },
  {
   "cell_type": "markdown",
   "id": "f3fd1510",
   "metadata": {},
   "source": [
    "### Boxplots in Matplotlib\n",
    "The matplotlib.pyplot module has a function named boxplot(). boxplot() takes a dataset as a parameter. This dataset could be something like a list of numbers, or a Pandas DataFrame."
   ]
  },
  {
   "cell_type": "code",
   "execution_count": 4,
   "id": "6f95bff8",
   "metadata": {},
   "outputs": [],
   "source": [
    "import matplotlib.pyplot as plt"
   ]
  },
  {
   "cell_type": "markdown",
   "id": "8242971b",
   "metadata": {},
   "source": [
    "### Exercise 4\n",
    "We’ve imported the dataset of song lengths, but this time, we’ve split the data into three groups — songs that were released in the year 2000 (two_thousand), songs that were released in the year 2001 (two_thousand_one), and songs that were released in the year 2002 (two_thousand_two).\n",
    "\n",
    "Plot all three datasets as three separate boxplots in the order described above.\n",
    "\n",
    "Add the parameter labels = [\"2000 Songs\", \"2001 Songs\", \"2002 Songs\"] to your call to the plt.boxplot() function."
   ]
  },
  {
   "cell_type": "code",
   "execution_count": 3,
   "id": "a8d6892e",
   "metadata": {},
   "outputs": [],
   "source": [
    "from music_data import two_thousand, two_thousand_one, two_thousand_two"
   ]
  },
  {
   "cell_type": "code",
   "execution_count": 6,
   "id": "2d3aaee1",
   "metadata": {},
   "outputs": [
    {
     "data": {
      "image/png": "[encoded data removed]",
      "text/plain": [
       "<Figure size 432x288 with 1 Axes>"
      ]
     },
     "metadata": {
      "needs_background": "light"
     },
     "output_type": "display_data"
    }
   ],
   "source": [
    "plt.boxplot(x = [two_thousand, two_thousand_one, two_thousand_two], labels = [\"2000 Songs\", \"2001 Songs\", \"2002 Songs\"])\n",
    "plt.show()"
   ]
  },
  {
   "cell_type": "markdown",
   "id": "e39a97c3",
   "metadata": {},
   "source": [
    "### Review\n",
    "- The box of a boxplot visualizes the median, first quartile, and third quartile of a dataset.\n",
    "- The length of the box in a boxplot visualizes the interquartile range.\n",
    "- The whiskers extend from the box 1.5 times the size of the interquartile range.\n",
    "- Outliers are points that fall outside of the whiskers. They’re represented by dots.\n",
    "- Boxplots are especially useful for comparing the spread of multiple datasets."
   ]
  },
  {
   "cell_type": "code",
   "execution_count": null,
   "id": "a15e230c",
   "metadata": {},
   "outputs": [],
   "source": []
  }
 ],
 "metadata": {
  "kernelspec": {
   "display_name": "Python 3 (ipykernel)",
   "language": "python",
   "name": "python3"
  },
  "language_info": {
   "codemirror_mode": {
    "name": "ipython",
    "version": 3
   },
   "file_extension": ".py",
   "mimetype": "text/x-python",
   "name": "python",
   "nbconvert_exporter": "python",
   "pygments_lexer": "ipython3",
   "version": "3.9.12"
  }
 },
 "nbformat": 4,
 "nbformat_minor": 5
}

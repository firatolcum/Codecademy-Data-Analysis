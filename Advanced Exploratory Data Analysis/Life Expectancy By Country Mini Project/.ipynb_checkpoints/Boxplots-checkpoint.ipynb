{
 "cells": [
  {
   "cell_type": "markdown",
   "id": "4e3b9c0f",
   "metadata": {},
   "source": [
    "## Boxplots\n",
    "Boxplots are one of the most common ways to visualize a dataset. Like histograms, boxplots give you a sense of the central tendency and spread of the data.\n",
    "- The line in the center of the box is the median.\n",
    "- The edges of the box are the first and third quartiles. This makes the length of the box the interquartile range — the middle 50% of your data.\n",
    "- The whiskers of the boxplot extend to include most of the data. There are many different ways to calculate the length of the whiskers.\n",
    "- Outliers are points that fall beyond the whiskers. Those points are represented with dots. In the boxplot we’re showing, there are many outliers. \n",
    "( Actually we can't say directly that they are outlier we can say that they are extreme values)"
   ]
  },
  {
   "cell_type": "code",
   "execution_count": null,
   "id": "15a31ea8",
   "metadata": {},
   "outputs": [],
   "source": []
  },
  {
   "cell_type": "code",
   "execution_count": null,
   "id": "e1c5ff97",
   "metadata": {},
   "outputs": [],
   "source": []
  },
  {
   "cell_type": "code",
   "execution_count": null,
   "id": "9aab5b69",
   "metadata": {},
   "outputs": [],
   "source": []
  },
  {
   "cell_type": "code",
   "execution_count": null,
   "id": "5b2c587f",
   "metadata": {},
   "outputs": [],
   "source": []
  }
 ],
 "metadata": {
  "kernelspec": {
   "display_name": "Python 3 (ipykernel)",
   "language": "python",
   "name": "python3"
  },
  "language_info": {
   "codemirror_mode": {
    "name": "ipython",
    "version": 3
   },
   "file_extension": ".py",
   "mimetype": "text/x-python",
   "name": "python",
   "nbconvert_exporter": "python",
   "pygments_lexer": "ipython3",
   "version": "3.9.12"
  }
 },
 "nbformat": 4,
 "nbformat_minor": 5
}

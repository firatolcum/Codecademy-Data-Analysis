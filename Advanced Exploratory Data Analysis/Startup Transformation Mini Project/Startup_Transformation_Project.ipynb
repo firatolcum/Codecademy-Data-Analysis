{
 "cells": [
  {
   "cell_type": "markdown",
   "id": "d79cba0a",
   "metadata": {},
   "source": [
    "# Startup Transformation Project\n",
    "In this project, you’ll work as a data analyst for a tech startup that is looking to improve its operations after a global pandemic has taken the world by storm.\n",
    "\n",
    "You will apply data transformation techniques to make better sense of the company’s data and help answer important questions such as:\n",
    "\n",
    "Is the company in good financial health?\n",
    "Does the company need to let go of any employees?\n",
    "Should the company allow employees to work from home permanently?"
   ]
  },
  {
   "cell_type": "code",
   "execution_count": 1,
   "id": "c69d20a1",
   "metadata": {},
   "outputs": [],
   "source": [
    "import pandas as pd\n",
    "import numpy as np\n",
    "import matplotlib.pyplot as plt\n",
    "import seaborn as sns\n",
    "from sklearn import preprocessing"
   ]
  },
  {
   "cell_type": "code",
   "execution_count": 2,
   "id": "8776ac78",
   "metadata": {},
   "outputs": [],
   "source": [
    "financial_data = pd.read_csv(\"financial_data.csv\")"
   ]
  },
  {
   "cell_type": "markdown",
   "id": "781ba57c",
   "metadata": {},
   "source": [
    "## 1. Analyzing Revenue and Expenses"
   ]
  },
  {
   "cell_type": "markdown",
   "id": "11fc56d9",
   "metadata": {},
   "source": [
    "### Step 1\n",
    "The management team of the company you work for is concerned about the status of the company after a global pandemic.\n",
    "\n",
    "The CFO (Chief Financial Officer) asks you to perform some data analysis on the past six months of the company’s financial data, which has been loaded in the variable financial_data.\n",
    "\n",
    "First, examine the first few rows of the data using print() and .head()"
   ]
  },
  {
   "cell_type": "code",
   "execution_count": 3,
   "id": "3cfda30b",
   "metadata": {},
   "outputs": [
    {
     "data": {
      "text/html": [
       "<div>\n",
       "<style scoped>\n",
       "    .dataframe tbody tr th:only-of-type {\n",
       "        vertical-align: middle;\n",
       "    }\n",
       "\n",
       "    .dataframe tbody tr th {\n",
       "        vertical-align: top;\n",
       "    }\n",
       "\n",
       "    .dataframe thead th {\n",
       "        text-align: right;\n",
       "    }\n",
       "</style>\n",
       "<table border=\"1\" class=\"dataframe\">\n",
       "  <thead>\n",
       "    <tr style=\"text-align: right;\">\n",
       "      <th></th>\n",
       "      <th>Month</th>\n",
       "      <th>Revenue</th>\n",
       "      <th>Expenses</th>\n",
       "    </tr>\n",
       "  </thead>\n",
       "  <tbody>\n",
       "    <tr>\n",
       "      <th>0</th>\n",
       "      <td>1</td>\n",
       "      <td>1420000</td>\n",
       "      <td>510000</td>\n",
       "    </tr>\n",
       "    <tr>\n",
       "      <th>1</th>\n",
       "      <td>2</td>\n",
       "      <td>1200000</td>\n",
       "      <td>532000</td>\n",
       "    </tr>\n",
       "    <tr>\n",
       "      <th>2</th>\n",
       "      <td>3</td>\n",
       "      <td>1050000</td>\n",
       "      <td>551000</td>\n",
       "    </tr>\n",
       "    <tr>\n",
       "      <th>3</th>\n",
       "      <td>4</td>\n",
       "      <td>920000</td>\n",
       "      <td>612000</td>\n",
       "    </tr>\n",
       "    <tr>\n",
       "      <th>4</th>\n",
       "      <td>5</td>\n",
       "      <td>807000</td>\n",
       "      <td>628000</td>\n",
       "    </tr>\n",
       "  </tbody>\n",
       "</table>\n",
       "</div>"
      ],
      "text/plain": [
       "   Month  Revenue  Expenses\n",
       "0      1  1420000    510000\n",
       "1      2  1200000    532000\n",
       "2      3  1050000    551000\n",
       "3      4   920000    612000\n",
       "4      5   807000    628000"
      ]
     },
     "execution_count": 3,
     "metadata": {},
     "output_type": "execute_result"
    }
   ],
   "source": [
    "financial_data.head()"
   ]
  },
  {
   "cell_type": "markdown",
   "id": "18afa624",
   "metadata": {},
   "source": [
    "### Step 2\n",
    "Notice that financial_data has three columns – Month, Revenue, and Expenses.\n",
    "\n",
    "Store each column in three separate variables called month, revenue, and expenses."
   ]
  },
  {
   "cell_type": "code",
   "execution_count": 4,
   "id": "536b666b",
   "metadata": {},
   "outputs": [],
   "source": [
    "Month = financial_data[\"Month\"]\n",
    "Revenue = financial_data[\"Revenue\"]\n",
    "Expenses = financial_data[\"Expenses\"]"
   ]
  },
  {
   "cell_type": "markdown",
   "id": "cddaf72d",
   "metadata": {},
   "source": [
    "###  Step 3\n",
    "\n",
    "Next, Create a plot of revenue over the past six months.\n",
    "\n",
    "You can label and format the figure. \n",
    "\n",
    "\n",
    "Repeat these steps for monthly expenses. In other words, create a second plot of monthly expenses over the past 6 months. Note that you’ll need to use the function plot.clf() prior to creating this new plot. Otherwise, it will be plotted on-top of the revenue plot.\n",
    "\n",
    "How are monthly expenses changing over time?"
   ]
  },
  {
   "cell_type": "code",
   "execution_count": 19,
   "id": "c873b9df",
   "metadata": {},
   "outputs": [
    {
     "data": {
      "image/png": "[encoded data removed]",
      "text/plain": [
       "<Figure size 432x288 with 1 Axes>"
      ]
     },
     "metadata": {
      "needs_background": "light"
     },
     "output_type": "display_data"
    }
   ],
   "source": [
    "plt.plot(Month, Revenue)\n",
    "plt.xlabel(\"Month\")\n",
    "plt.ylabel(\"Amount ($)\")\n",
    "plt.title(\"Revenue\")\n",
    "\n",
    "plt.plot(Month, Expenses)\n",
    "plt.xlabel(\"Month\")\n",
    "plt.ylabel(\"Amount ($)\")\n",
    "plt.title(\"Revenue and Expenses\")\n",
    "\n",
    "plt.legend([\"Revenue\", \"Expenses\"])\n",
    "plt.show()"
   ]
  },
  {
   "cell_type": "code",
   "execution_count": 20,
   "id": "bc103e13",
   "metadata": {},
   "outputs": [],
   "source": [
    "# Spending has risen while income has fallen."
   ]
  },
  {
   "cell_type": "markdown",
   "id": "6bc462e9",
   "metadata": {},
   "source": [
    "### Step 4\n",
    "\n",
    "As shown, revenue seems to be quickly decreasing while expenses are increasing. If the current trend continues, expenses will soon surpass revenues, putting the company at risk.\n",
    "\n",
    "After you show this chart to the management team, they are alarmed. They conclude that expenses must be cut immediately and give you a new file to analyze called expenses.csv.\n",
    "\n",
    "Use pandas to read in expenses.csv and store it in a variable called expense_overview.\n",
    "\n",
    "Print the first seven rows of the data."
   ]
  },
  {
   "cell_type": "code",
   "execution_count": 21,
   "id": "0537ca98",
   "metadata": {},
   "outputs": [
    {
     "data": {
      "text/html": [
       "<div>\n",
       "<style scoped>\n",
       "    .dataframe tbody tr th:only-of-type {\n",
       "        vertical-align: middle;\n",
       "    }\n",
       "\n",
       "    .dataframe tbody tr th {\n",
       "        vertical-align: top;\n",
       "    }\n",
       "\n",
       "    .dataframe thead th {\n",
       "        text-align: right;\n",
       "    }\n",
       "</style>\n",
       "<table border=\"1\" class=\"dataframe\">\n",
       "  <thead>\n",
       "    <tr style=\"text-align: right;\">\n",
       "      <th></th>\n",
       "      <th>Expense</th>\n",
       "      <th>Proportion</th>\n",
       "    </tr>\n",
       "  </thead>\n",
       "  <tbody>\n",
       "    <tr>\n",
       "      <th>0</th>\n",
       "      <td>Salaries</td>\n",
       "      <td>0.62</td>\n",
       "    </tr>\n",
       "    <tr>\n",
       "      <th>1</th>\n",
       "      <td>Advertising</td>\n",
       "      <td>0.15</td>\n",
       "    </tr>\n",
       "    <tr>\n",
       "      <th>2</th>\n",
       "      <td>Office Rent</td>\n",
       "      <td>0.15</td>\n",
       "    </tr>\n",
       "    <tr>\n",
       "      <th>3</th>\n",
       "      <td>Equipment</td>\n",
       "      <td>0.03</td>\n",
       "    </tr>\n",
       "    <tr>\n",
       "      <th>4</th>\n",
       "      <td>Utilities</td>\n",
       "      <td>0.03</td>\n",
       "    </tr>\n",
       "    <tr>\n",
       "      <th>5</th>\n",
       "      <td>Supples</td>\n",
       "      <td>0.01</td>\n",
       "    </tr>\n",
       "    <tr>\n",
       "      <th>6</th>\n",
       "      <td>Food</td>\n",
       "      <td>0.01</td>\n",
       "    </tr>\n",
       "  </tbody>\n",
       "</table>\n",
       "</div>"
      ],
      "text/plain": [
       "       Expense  Proportion\n",
       "0     Salaries        0.62\n",
       "1  Advertising        0.15\n",
       "2  Office Rent        0.15\n",
       "3    Equipment        0.03\n",
       "4    Utilities        0.03\n",
       "5      Supples        0.01\n",
       "6         Food        0.01"
      ]
     },
     "execution_count": 21,
     "metadata": {},
     "output_type": "execute_result"
    }
   ],
   "source": [
    "expense_overview = pd.read_csv(\"expenses.csv\")\n",
    "expense_overview"
   ]
  },
  {
   "cell_type": "code",
   "execution_count": null,
   "id": "e63008b1",
   "metadata": {},
   "outputs": [],
   "source": []
  },
  {
   "cell_type": "markdown",
   "id": "ad5980e2",
   "metadata": {},
   "source": [
    "## 2. Pie Chart and Collapsing Categories"
   ]
  },
  {
   "cell_type": "markdown",
   "id": "7d9247e5",
   "metadata": {},
   "source": [
    "### Step 5\n",
    "\n",
    "Notice that there are two columns:\n",
    "\n",
    "- Expense: indicates the expense category\n",
    "- Proportion: indicates how much of the overall expenses a specific category takes up\n",
    "\n",
    "Store the Expense column in a variable called expense_categories and the Proportion column in a variable called proportions."
   ]
  },
  {
   "cell_type": "code",
   "execution_count": 22,
   "id": "24ad74be",
   "metadata": {},
   "outputs": [
    {
     "data": {
      "text/plain": [
       "0       Salaries\n",
       "1    Advertising\n",
       "2    Office Rent\n",
       "3      Equipment\n",
       "4      Utilities\n",
       "5        Supples\n",
       "6           Food\n",
       "Name: Expense, dtype: object"
      ]
     },
     "execution_count": 22,
     "metadata": {},
     "output_type": "execute_result"
    }
   ],
   "source": [
    "expense_categories = expense_overview[\"Expense\"]\n",
    "expense_categories"
   ]
  },
  {
   "cell_type": "code",
   "execution_count": 23,
   "id": "5ed4844a",
   "metadata": {},
   "outputs": [
    {
     "data": {
      "text/plain": [
       "0    0.62\n",
       "1    0.15\n",
       "2    0.15\n",
       "3    0.03\n",
       "4    0.03\n",
       "5    0.01\n",
       "6    0.01\n",
       "Name: Proportion, dtype: float64"
      ]
     },
     "execution_count": 23,
     "metadata": {},
     "output_type": "execute_result"
    }
   ],
   "source": [
    "proportions = expense_overview[\"Proportion\"]\n",
    "proportions"
   ]
  },
  {
   "cell_type": "markdown",
   "id": "b422dbbf",
   "metadata": {},
   "source": [
    "### Step 6\n",
    "Next, we want to create a pie chart of the different expense categories. Use plt.clf() again to clear the previous plot, then create a pie chart using the plt.pie() method, passing in two arguments:\n",
    "\n",
    "- proportions\n",
    "- labels = expense_categories\n",
    "\n",
    "Give your pie chart a title using plt.title(), then use plt.show() at the end to show the plot."
   ]
  },
  {
   "cell_type": "code",
   "execution_count": 40,
   "id": "1b7457a4",
   "metadata": {},
   "outputs": [
    {
     "data": {
      "image/png": "[encoded data removed]",
      "text/plain": [
       "<Figure size 432x288 with 1 Axes>"
      ]
     },
     "metadata": {},
     "output_type": "display_data"
    }
   ],
   "source": [
    "plt.pie(x = proportions, labels=expense_categories, autopct=\"%.f%%\")\n",
    "        \n",
    "plt.title(\"Expense Categories and Proportions\")\n",
    "plt.show()"
   ]
  },
  {
   "cell_type": "code",
   "execution_count": null,
   "id": "549d164e",
   "metadata": {},
   "outputs": [],
   "source": []
  },
  {
   "cell_type": "markdown",
   "id": "da88bd40",
   "metadata": {},
   "source": [
    "### Step 7\n",
    "Notice that the pie chart currently looks deformed.\n",
    "\n",
    "Above plt.show(), add in the following two lines of code to set the axis and adjust the spacing:\n",
    "\n",
    "Take a moment to look at the pie chart. Which expense categories make up most of the data, and which ones aren’t so significant?"
   ]
  },
  {
   "cell_type": "code",
   "execution_count": 42,
   "id": "6d7683f0",
   "metadata": {},
   "outputs": [
    {
     "data": {
      "image/png": "[encoded data removed]",
      "text/plain": [
       "<Figure size 432x288 with 1 Axes>"
      ]
     },
     "metadata": {},
     "output_type": "display_data"
    }
   ],
   "source": [
    "plt.pie(x = proportions, labels=expense_categories, autopct=\"%.f%%\")\n",
    "        \n",
    "plt.title(\"Expense Categories and Proportions\"),\n",
    "plt.axis(\"Equal\")\n",
    "plt.tight_layout()\n",
    "plt.show()"
   ]
  },
  {
   "cell_type": "code",
   "execution_count": 44,
   "id": "92ebad26",
   "metadata": {},
   "outputs": [],
   "source": [
    "#  Salaries, Advertising, and Office rent categories make up most of the data\n",
    "   #  and Food, Supples, Utilities, and Equipment aren’t so significant."
   ]
  },
  {
   "cell_type": "markdown",
   "id": "54d96709",
   "metadata": {},
   "source": [
    "### Step 8\n",
    "\n",
    "It seems that Salaries, Advertising, and Office Rent make up most of the expenses, while the rest of the categories make up a small percentage.\n",
    "\n",
    "Before you hand this pie chart back to management, you would like to update the pie chart so that all categories making up less than 5% of the overall expenses (Equipment, Utilities, Supplies, and Food) are collapsed into an “Other” category.\n",
    "\n",
    "Update the pie chart accordingly."
   ]
  },
  {
   "cell_type": "code",
   "execution_count": 56,
   "id": "47d2059d",
   "metadata": {},
   "outputs": [
    {
     "data": {
      "text/plain": [
       "['Salaries', 'Advertising', 'Office Rent', 'Other']"
      ]
     },
     "execution_count": 56,
     "metadata": {},
     "output_type": "execute_result"
    }
   ],
   "source": [
    "expense_categories = [\"Salaries\", \"Advertising\", \"Office Rent\", \"Other\"]\n",
    "expense_categories"
   ]
  },
  {
   "cell_type": "code",
   "execution_count": 60,
   "id": "d48cb72f",
   "metadata": {},
   "outputs": [],
   "source": [
    "proportions = [0.62, 0.15, 0.15, 0.08]"
   ]
  },
  {
   "cell_type": "code",
   "execution_count": 61,
   "id": "41e73e3a",
   "metadata": {},
   "outputs": [
    {
     "data": {
      "image/png": "[encoded data removed]",
      "text/plain": [
       "<Figure size 432x288 with 1 Axes>"
      ]
     },
     "metadata": {},
     "output_type": "display_data"
    }
   ],
   "source": [
    "plt.pie(x = proportions, labels=expense_categories, autopct=\"%.f%%\")\n",
    "        \n",
    "plt.title(\"Expense Categories and Proportions\"),\n",
    "plt.axis(\"Equal\")\n",
    "plt.tight_layout()\n",
    "plt.show()"
   ]
  },
  {
   "cell_type": "code",
   "execution_count": null,
   "id": "ee277601",
   "metadata": {},
   "outputs": [],
   "source": []
  },
  {
   "cell_type": "markdown",
   "id": "f1696a0a",
   "metadata": {},
   "source": [
    "### Step 9\n",
    "\n",
    "You should now see four categories in your updated pie chart:\n",
    "\n",
    "- Salaries\n",
    "- Advertising\n",
    "- Office Rent\n",
    "- Other\n",
    "\n",
    "This simplified pie chart helps the management team see a big picture view of the company’s expenses without getting distracted by noisy data.\n",
    "\n",
    "If the company wants to cut costs in a big way, which category do you think they should focus on? Put your answer in a string variable called expense_cut."
   ]
  },
  {
   "cell_type": "code",
   "execution_count": 62,
   "id": "944847f1",
   "metadata": {},
   "outputs": [],
   "source": [
    "expense_cut = \"Salaries\""
   ]
  },
  {
   "cell_type": "markdown",
   "id": "b00e79eb",
   "metadata": {},
   "source": [
    "##  3. Employee Productivity\n",
    "### Step 10\n",
    "\n",
    "Salaries make up 62% of expenses. The management team determines that to cut costs in a meaningful way, they must let go of some employees.\n",
    "\n",
    "Each employee at the company is assigned a productivity score based on their work. The management would like to keep the most highly productive employees and let go of the least productive employees.\n",
    "\n",
    "First, use pandas to load in employees.csv and store it in a variable called employees.\n",
    "\n",
    "Print the first few rows of the data."
   ]
  },
  {
   "cell_type": "code",
   "execution_count": 64,
   "id": "12760ccb",
   "metadata": {},
   "outputs": [
    {
     "data": {
      "text/html": [
       "<div>\n",
       "<style scoped>\n",
       "    .dataframe tbody tr th:only-of-type {\n",
       "        vertical-align: middle;\n",
       "    }\n",
       "\n",
       "    .dataframe tbody tr th {\n",
       "        vertical-align: top;\n",
       "    }\n",
       "\n",
       "    .dataframe thead th {\n",
       "        text-align: right;\n",
       "    }\n",
       "</style>\n",
       "<table border=\"1\" class=\"dataframe\">\n",
       "  <thead>\n",
       "    <tr style=\"text-align: right;\">\n",
       "      <th></th>\n",
       "      <th>Name</th>\n",
       "      <th>Salary</th>\n",
       "      <th>Productivity</th>\n",
       "      <th>Commute Time</th>\n",
       "    </tr>\n",
       "  </thead>\n",
       "  <tbody>\n",
       "    <tr>\n",
       "      <th>0</th>\n",
       "      <td>Mason Pender</td>\n",
       "      <td>87902</td>\n",
       "      <td>29.91</td>\n",
       "      <td>16.79</td>\n",
       "    </tr>\n",
       "    <tr>\n",
       "      <th>1</th>\n",
       "      <td>Mia Rew</td>\n",
       "      <td>95672</td>\n",
       "      <td>49.91</td>\n",
       "      <td>44.48</td>\n",
       "    </tr>\n",
       "    <tr>\n",
       "      <th>2</th>\n",
       "      <td>Jalisa Kroenke</td>\n",
       "      <td>177864</td>\n",
       "      <td>78.00</td>\n",
       "      <td>19.40</td>\n",
       "    </tr>\n",
       "    <tr>\n",
       "      <th>3</th>\n",
       "      <td>Krystal Homeyer</td>\n",
       "      <td>186643</td>\n",
       "      <td>24.36</td>\n",
       "      <td>42.06</td>\n",
       "    </tr>\n",
       "    <tr>\n",
       "      <th>4</th>\n",
       "      <td>Kiana Wishart</td>\n",
       "      <td>167148</td>\n",
       "      <td>4.08</td>\n",
       "      <td>25.58</td>\n",
       "    </tr>\n",
       "  </tbody>\n",
       "</table>\n",
       "</div>"
      ],
      "text/plain": [
       "                Name  Salary  Productivity  Commute Time\n",
       "0     Mason Pender     87902         29.91         16.79\n",
       "1          Mia Rew     95672         49.91         44.48\n",
       "2   Jalisa Kroenke    177864         78.00         19.40\n",
       "3  Krystal Homeyer    186643         24.36         42.06\n",
       "4    Kiana Wishart    167148          4.08         25.58"
      ]
     },
     "execution_count": 64,
     "metadata": {},
     "output_type": "execute_result"
    }
   ],
   "source": [
    "employees = pd.read_csv(\"employees.csv\")\n",
    "employees.head()"
   ]
  },
  {
   "cell_type": "code",
   "execution_count": null,
   "id": "14665c1d",
   "metadata": {},
   "outputs": [],
   "source": []
  },
  {
   "cell_type": "markdown",
   "id": "f957f68e",
   "metadata": {},
   "source": [
    "### Step 11\n",
    "Notice that there is a Productivity column, which indicates the productivity score assigned to that employee.\n",
    "\n",
    "Sort the employees data frame (in ascending order) by the Productivity column and store the result in a variable called sorted_productivity.\n",
    "\n",
    "Print sorted_productivity."
   ]
  },
  {
   "cell_type": "code",
   "execution_count": 67,
   "id": "8930e0be",
   "metadata": {},
   "outputs": [
    {
     "data": {
      "text/html": [
       "<div>\n",
       "<style scoped>\n",
       "    .dataframe tbody tr th:only-of-type {\n",
       "        vertical-align: middle;\n",
       "    }\n",
       "\n",
       "    .dataframe tbody tr th {\n",
       "        vertical-align: top;\n",
       "    }\n",
       "\n",
       "    .dataframe thead th {\n",
       "        text-align: right;\n",
       "    }\n",
       "</style>\n",
       "<table border=\"1\" class=\"dataframe\">\n",
       "  <thead>\n",
       "    <tr style=\"text-align: right;\">\n",
       "      <th></th>\n",
       "      <th>Name</th>\n",
       "      <th>Salary</th>\n",
       "      <th>Productivity</th>\n",
       "      <th>Commute Time</th>\n",
       "    </tr>\n",
       "  </thead>\n",
       "  <tbody>\n",
       "    <tr>\n",
       "      <th>259</th>\n",
       "      <td>Wilber Rye</td>\n",
       "      <td>111647</td>\n",
       "      <td>0.06</td>\n",
       "      <td>49.42</td>\n",
       "    </tr>\n",
       "    <tr>\n",
       "      <th>92</th>\n",
       "      <td>Fredric Gandee</td>\n",
       "      <td>154469</td>\n",
       "      <td>0.24</td>\n",
       "      <td>22.48</td>\n",
       "    </tr>\n",
       "    <tr>\n",
       "      <th>252</th>\n",
       "      <td>Johnson Fordham</td>\n",
       "      <td>168684</td>\n",
       "      <td>1.46</td>\n",
       "      <td>22.39</td>\n",
       "    </tr>\n",
       "    <tr>\n",
       "      <th>178</th>\n",
       "      <td>Lilia Lemoine</td>\n",
       "      <td>167579</td>\n",
       "      <td>1.67</td>\n",
       "      <td>27.36</td>\n",
       "    </tr>\n",
       "    <tr>\n",
       "      <th>162</th>\n",
       "      <td>Hilma Laughton</td>\n",
       "      <td>85506</td>\n",
       "      <td>1.79</td>\n",
       "      <td>36.41</td>\n",
       "    </tr>\n",
       "    <tr>\n",
       "      <th>...</th>\n",
       "      <td>...</td>\n",
       "      <td>...</td>\n",
       "      <td>...</td>\n",
       "      <td>...</td>\n",
       "    </tr>\n",
       "    <tr>\n",
       "      <th>164</th>\n",
       "      <td>Miki Hartle</td>\n",
       "      <td>50856</td>\n",
       "      <td>99.54</td>\n",
       "      <td>31.39</td>\n",
       "    </tr>\n",
       "    <tr>\n",
       "      <th>88</th>\n",
       "      <td>Darell Nau</td>\n",
       "      <td>30530</td>\n",
       "      <td>99.63</td>\n",
       "      <td>44.25</td>\n",
       "    </tr>\n",
       "    <tr>\n",
       "      <th>23</th>\n",
       "      <td>Joaquina Neece</td>\n",
       "      <td>95562</td>\n",
       "      <td>99.66</td>\n",
       "      <td>48.65</td>\n",
       "    </tr>\n",
       "    <tr>\n",
       "      <th>202</th>\n",
       "      <td>Janae Officer</td>\n",
       "      <td>110139</td>\n",
       "      <td>99.69</td>\n",
       "      <td>15.45</td>\n",
       "    </tr>\n",
       "    <tr>\n",
       "      <th>6</th>\n",
       "      <td>Jacinta Dunford</td>\n",
       "      <td>130968</td>\n",
       "      <td>99.98</td>\n",
       "      <td>44.53</td>\n",
       "    </tr>\n",
       "  </tbody>\n",
       "</table>\n",
       "<p>300 rows × 4 columns</p>\n",
       "</div>"
      ],
      "text/plain": [
       "                  Name  Salary  Productivity  Commute Time\n",
       "259       Wilber Rye    111647          0.06         49.42\n",
       "92    Fredric Gandee    154469          0.24         22.48\n",
       "252  Johnson Fordham    168684          1.46         22.39\n",
       "178    Lilia Lemoine    167579          1.67         27.36\n",
       "162   Hilma Laughton     85506          1.79         36.41\n",
       "..                 ...     ...           ...           ...\n",
       "164      Miki Hartle     50856         99.54         31.39\n",
       "88        Darell Nau     30530         99.63         44.25\n",
       "23    Joaquina Neece     95562         99.66         48.65\n",
       "202    Janae Officer    110139         99.69         15.45\n",
       "6    Jacinta Dunford    130968         99.98         44.53\n",
       "\n",
       "[300 rows x 4 columns]"
      ]
     },
     "execution_count": 67,
     "metadata": {},
     "output_type": "execute_result"
    }
   ],
   "source": [
    "sorted_productivity = employees.sort_values(by=\"Productivity\", ascending=True)\n",
    "sorted_productivity"
   ]
  },
  {
   "cell_type": "code",
   "execution_count": null,
   "id": "973ecd42",
   "metadata": {},
   "outputs": [],
   "source": []
  },
  {
   "cell_type": "markdown",
   "id": "f97aeec9",
   "metadata": {},
   "source": [
    "### Step 12\n",
    "You should now see the employees with the lowest productivity scores at the top of the data frame.\n",
    "\n",
    "The company decides to let go of the 100 least productive employees.\n",
    "\n",
    "Store the first 100 rows of sorted_productivity in a new variable called employees_cut and print out the result.\n",
    "\n",
    "Unfortunately, this batch of employees won’t be so lucky."
   ]
  },
  {
   "cell_type": "code",
   "execution_count": 68,
   "id": "e8e14964",
   "metadata": {},
   "outputs": [],
   "source": [
    "employees_cut = sorted_productivity[:100]"
   ]
  },
  {
   "cell_type": "code",
   "execution_count": 71,
   "id": "5920d5d9",
   "metadata": {},
   "outputs": [
    {
     "data": {
      "text/html": [
       "<div>\n",
       "<style scoped>\n",
       "    .dataframe tbody tr th:only-of-type {\n",
       "        vertical-align: middle;\n",
       "    }\n",
       "\n",
       "    .dataframe tbody tr th {\n",
       "        vertical-align: top;\n",
       "    }\n",
       "\n",
       "    .dataframe thead th {\n",
       "        text-align: right;\n",
       "    }\n",
       "</style>\n",
       "<table border=\"1\" class=\"dataframe\">\n",
       "  <thead>\n",
       "    <tr style=\"text-align: right;\">\n",
       "      <th></th>\n",
       "      <th>Name</th>\n",
       "      <th>Salary</th>\n",
       "      <th>Productivity</th>\n",
       "      <th>Commute Time</th>\n",
       "    </tr>\n",
       "  </thead>\n",
       "  <tbody>\n",
       "    <tr>\n",
       "      <th>259</th>\n",
       "      <td>Wilber Rye</td>\n",
       "      <td>111647</td>\n",
       "      <td>0.06</td>\n",
       "      <td>49.42</td>\n",
       "    </tr>\n",
       "    <tr>\n",
       "      <th>92</th>\n",
       "      <td>Fredric Gandee</td>\n",
       "      <td>154469</td>\n",
       "      <td>0.24</td>\n",
       "      <td>22.48</td>\n",
       "    </tr>\n",
       "    <tr>\n",
       "      <th>252</th>\n",
       "      <td>Johnson Fordham</td>\n",
       "      <td>168684</td>\n",
       "      <td>1.46</td>\n",
       "      <td>22.39</td>\n",
       "    </tr>\n",
       "    <tr>\n",
       "      <th>178</th>\n",
       "      <td>Lilia Lemoine</td>\n",
       "      <td>167579</td>\n",
       "      <td>1.67</td>\n",
       "      <td>27.36</td>\n",
       "    </tr>\n",
       "    <tr>\n",
       "      <th>162</th>\n",
       "      <td>Hilma Laughton</td>\n",
       "      <td>85506</td>\n",
       "      <td>1.79</td>\n",
       "      <td>36.41</td>\n",
       "    </tr>\n",
       "    <tr>\n",
       "      <th>...</th>\n",
       "      <td>...</td>\n",
       "      <td>...</td>\n",
       "      <td>...</td>\n",
       "      <td>...</td>\n",
       "    </tr>\n",
       "    <tr>\n",
       "      <th>43</th>\n",
       "      <td>Bernardo Klingenberg</td>\n",
       "      <td>55464</td>\n",
       "      <td>34.52</td>\n",
       "      <td>32.27</td>\n",
       "    </tr>\n",
       "    <tr>\n",
       "      <th>186</th>\n",
       "      <td>Ashleigh Istre</td>\n",
       "      <td>178627</td>\n",
       "      <td>34.70</td>\n",
       "      <td>38.67</td>\n",
       "    </tr>\n",
       "    <tr>\n",
       "      <th>288</th>\n",
       "      <td>Penni Kimbrough</td>\n",
       "      <td>142680</td>\n",
       "      <td>35.21</td>\n",
       "      <td>49.64</td>\n",
       "    </tr>\n",
       "    <tr>\n",
       "      <th>269</th>\n",
       "      <td>Margot Mackenzie</td>\n",
       "      <td>114302</td>\n",
       "      <td>35.79</td>\n",
       "      <td>19.87</td>\n",
       "    </tr>\n",
       "    <tr>\n",
       "      <th>218</th>\n",
       "      <td>Quinn Frampton</td>\n",
       "      <td>44000</td>\n",
       "      <td>36.36</td>\n",
       "      <td>34.12</td>\n",
       "    </tr>\n",
       "  </tbody>\n",
       "</table>\n",
       "<p>100 rows × 4 columns</p>\n",
       "</div>"
      ],
      "text/plain": [
       "                       Name  Salary  Productivity  Commute Time\n",
       "259            Wilber Rye    111647          0.06         49.42\n",
       "92         Fredric Gandee    154469          0.24         22.48\n",
       "252       Johnson Fordham    168684          1.46         22.39\n",
       "178         Lilia Lemoine    167579          1.67         27.36\n",
       "162        Hilma Laughton     85506          1.79         36.41\n",
       "..                      ...     ...           ...           ...\n",
       "43   Bernardo Klingenberg     55464         34.52         32.27\n",
       "186        Ashleigh Istre    178627         34.70         38.67\n",
       "288       Penni Kimbrough    142680         35.21         49.64\n",
       "269      Margot Mackenzie    114302         35.79         19.87\n",
       "218        Quinn Frampton     44000         36.36         34.12\n",
       "\n",
       "[100 rows x 4 columns]"
      ]
     },
     "execution_count": 71,
     "metadata": {},
     "output_type": "execute_result"
    }
   ],
   "source": [
    "employees_cut"
   ]
  },
  {
   "cell_type": "markdown",
   "id": "5d97b830",
   "metadata": {},
   "source": [
    "### Step 13\n",
    "Your colleague Sarah, a data scientist at the company, would like to explore the relationship between Income and Productivity more in depth, but she points out that these two features are on vastly different scales.\n",
    "\n",
    "For example, productivity is a feature that ranges from 0-100, but income is measured in the thousands of dollars.\n",
    "\n",
    "Moreover, there are outliers in the data that add an additional layer of complexity.\n",
    "\n",
    "She asks you for advice on how she should transform the data. Should she perform normalization, standardization, log transformation, or something else?\n",
    "\n",
    "Put your answer in a string in a variable called transformation."
   ]
  },
  {
   "cell_type": "code",
   "execution_count": 72,
   "id": "7bfbd5de",
   "metadata": {},
   "outputs": [],
   "source": [
    "transformation = \"standardization\""
   ]
  },
  {
   "cell_type": "code",
   "execution_count": null,
   "id": "74429196",
   "metadata": {},
   "outputs": [],
   "source": []
  },
  {
   "cell_type": "markdown",
   "id": "39429a5c",
   "metadata": {},
   "source": [
    "## 4. Commute Times and Log Transformation\n",
    "### Step 14\n",
    "\n",
    "The COO (Chief Operating Officer) is debating whether to allow employees to continue to work from home post-pandemic.\n",
    "\n",
    "He first wants to take a look at roughly how long the average commute time is for employees at the company. He asks for your help to analyze this data.\n",
    "\n",
    "The employees data frame has a column called Commute Time that stores the commute time (in minutes) for each employee.\n",
    "\n",
    "Create a variable called commute_times that stores the Commute Time column."
   ]
  },
  {
   "cell_type": "code",
   "execution_count": 75,
   "id": "d6526325",
   "metadata": {},
   "outputs": [
    {
     "data": {
      "text/plain": [
       "0      16.79\n",
       "1      44.48\n",
       "2      19.40\n",
       "3      42.06\n",
       "4      25.58\n",
       "       ...  \n",
       "295    54.34\n",
       "296    58.05\n",
       "297    38.18\n",
       "298    12.16\n",
       "299    34.53\n",
       "Name: Commute Time, Length: 300, dtype: float64"
      ]
     },
     "execution_count": 75,
     "metadata": {},
     "output_type": "execute_result"
    }
   ],
   "source": [
    "commute_times = employees[\"Commute Time\"]\n",
    "commute_times"
   ]
  },
  {
   "cell_type": "code",
   "execution_count": null,
   "id": "a60be50f",
   "metadata": {},
   "outputs": [],
   "source": []
  },
  {
   "cell_type": "markdown",
   "id": "902ce7c5",
   "metadata": {},
   "source": [
    "### Step 15\n",
    "\n",
    "Let’s explore the shape of the commute time data using a histogram.\n",
    "\n",
    "First, use plt.clf() to clear the previous plots. Then use plt.hist() to plot the histogram of commute_times. Finally, use plt.show() to show the plot. Feel free to add labels above plt.show() if you would like to practice!\n",
    "\n",
    "What do you notice about the shape of the data? Is it symmetric, left skewed, or right skewed?"
   ]
  },
  {
   "cell_type": "code",
   "execution_count": 89,
   "id": "5dabaeba",
   "metadata": {},
   "outputs": [
    {
     "data": {
      "image/png": "[encoded data removed]",
      "text/plain": [
       "<Figure size 432x288 with 1 Axes>"
      ]
     },
     "metadata": {
      "needs_background": "light"
     },
     "output_type": "display_data"
    }
   ],
   "source": [
    "plt.hist(commute_times, bins=30)\n",
    "\n",
    "plt.title(\"Commute Times\")\n",
    "plt.show()"
   ]
  },
  {
   "cell_type": "code",
   "execution_count": null,
   "id": "b3ac4d67",
   "metadata": {},
   "outputs": [],
   "source": [
    " # Right skewed."
   ]
  },
  {
   "cell_type": "code",
   "execution_count": null,
   "id": "931a605b",
   "metadata": {},
   "outputs": [],
   "source": []
  },
  {
   "cell_type": "markdown",
   "id": "5f99bf36",
   "metadata": {},
   "source": [
    "### Step 16\n",
    "The data seems to be skewed to the right. To make it more symmetrical, we might try applying a log transformation.\n",
    "\n",
    "Right under the commute_times variable, create a variable called commute_times_log that stores a log-transformed version of commute_times.\n",
    "\n",
    "To apply log-transform, you can use numpy’s log() function."
   ]
  },
  {
   "cell_type": "code",
   "execution_count": 90,
   "id": "211d9062",
   "metadata": {},
   "outputs": [
    {
     "data": {
      "text/plain": [
       "0      2.820783\n",
       "1      3.795040\n",
       "2      2.965273\n",
       "3      3.739097\n",
       "4      3.241811\n",
       "         ...   \n",
       "295    3.995261\n",
       "296    4.061305\n",
       "297    3.642312\n",
       "298    2.498152\n",
       "299    3.541829\n",
       "Name: Commute Time, Length: 300, dtype: float64"
      ]
     },
     "execution_count": 90,
     "metadata": {},
     "output_type": "execute_result"
    }
   ],
   "source": [
    "commute_times_log = np.log(commute_times)\n",
    "commute_times_log"
   ]
  },
  {
   "cell_type": "code",
   "execution_count": null,
   "id": "d0071718",
   "metadata": {},
   "outputs": [],
   "source": []
  },
  {
   "cell_type": "markdown",
   "id": "6be74f91",
   "metadata": {},
   "source": [
    "### Step 17\n",
    "Replace the histogram for commute_times with one for commute_times_log.\n",
    "\n",
    "Notice how the shape of the data changes from being right skewed to a more symmetrical (and even slightly left-skewed) in shape. After applying log transformation, the transformed data is more “normal” than before."
   ]
  },
  {
   "cell_type": "code",
   "execution_count": 94,
   "id": "e7b04bca",
   "metadata": {},
   "outputs": [
    {
     "data": {
      "image/png": "[encoded data removed]",
      "text/plain": [
       "<Figure size 432x288 with 1 Axes>"
      ]
     },
     "metadata": {
      "needs_background": "light"
     },
     "output_type": "display_data"
    }
   ],
   "source": [
    "plt.hist(commute_times_log, bins=30)\n",
    "\n",
    "plt.title(\"Commute Times (log)\")\n",
    "plt.show()"
   ]
  },
  {
   "cell_type": "code",
   "execution_count": null,
   "id": "6099701e",
   "metadata": {},
   "outputs": [],
   "source": []
  },
  {
   "cell_type": "markdown",
   "id": "8094e4dd",
   "metadata": {},
   "source": [
    "###  Extra\n",
    "Congratulations! In this project, you performed data analysis to help a management team answer important questions about the status of the company during a difficult time.\n",
    "\n",
    "You did this by analyzing data sets and applying common data transformation techniques. These are important skills to have as a data analyst.\n",
    "\n",
    "If you’d like extra practice with data transformations, here are some suggestions to extend this project:\n",
    "\n",
    "Apply standardization to the employees data using StandardScaler() from sklearn. Refer to this article if you need help.\n",
    "Explore the income and productivity features in more detail. Can you find a relationship between productivity and income?\n",
    "Happy coding!"
   ]
  },
  {
   "cell_type": "code",
   "execution_count": 96,
   "id": "3f24cde7",
   "metadata": {},
   "outputs": [],
   "source": [
    "from sklearn.preprocessing import StandardScaler"
   ]
  },
  {
   "cell_type": "code",
   "execution_count": 97,
   "id": "e2c2ffe9",
   "metadata": {},
   "outputs": [],
   "source": [
    "scaler = StandardScaler()"
   ]
  },
  {
   "cell_type": "code",
   "execution_count": 104,
   "id": "5b1f5443",
   "metadata": {},
   "outputs": [
    {
     "data": {
      "text/plain": [
       "array([[-4.91647524e-01, -7.42476735e-01, -1.03417293e+00],\n",
       "       [-3.31570692e-01, -3.80095281e-02,  6.85546286e-01],\n",
       "       [ 1.36174140e+00,  9.51414664e-01, -8.72075889e-01],\n",
       "       [ 1.54260556e+00, -9.37966385e-01,  5.35249409e-01],\n",
       "       [ 1.14097135e+00, -1.65229613e+00, -4.88259898e-01],\n",
       "       [-1.17159292e+00, -9.48885627e-01,  6.99209638e-01],\n",
       "       [ 3.95594283e-01,  1.72562412e+00,  6.88651593e-01],\n",
       "       [-6.14064067e-01,  4.68502394e-01, -9.27350360e-01],\n",
       "       [-9.39368208e-01,  6.16725816e-02, -2.66540952e-01],\n",
       "       [-1.59393206e+00,  1.52379427e+00,  6.08534663e-01],\n",
       "       [ 2.44644097e-01, -1.89469978e-01, -1.28570283e+00],\n",
       "       [-4.44633968e-01,  7.49232575e-01, -7.00662922e-01],\n",
       "       [-1.59700504e-02,  1.76852970e-01, -1.00870941e+00],\n",
       "       [-1.42326584e+00,  1.08843354e+00,  7.74358076e-01],\n",
       "       [ 7.04458101e-01,  3.42754997e-01,  5.38975778e-01],\n",
       "       [-1.41069868e+00, -7.72416591e-01, -1.23167048e+00],\n",
       "       [ 4.73448897e-01, -1.35007970e+00, -1.50402457e-01],\n",
       "       [-1.24481211e+00,  1.30643444e-02, -5.28007832e-01],\n",
       "       [-8.86689127e-01, -7.25217288e-01,  1.16500574e+00],\n",
       "       [ 1.32634732e+00,  1.16768610e+00,  2.36738075e+00],\n",
       "       [ 3.08922053e-01,  8.70048701e-01,  3.65370465e-02],\n",
       "       [ 8.68325684e-01,  1.50195579e+00, -3.92616431e-01],\n",
       "       [-1.41111072e+00, -4.24762025e-01, -9.63701088e-02],\n",
       "       [-3.33836902e-01,  1.71435265e+00,  9.44528920e-01],\n",
       "       [ 2.24124596e-01,  2.39550551e-01, -3.37963022e-01],\n",
       "       [-3.60495772e-01, -1.37262265e+00,  9.50118473e-01],\n",
       "       [-1.98020054e-02,  3.06827170e-01, -3.60942296e-01],\n",
       "       [-1.56292618e+00,  1.68828736e+00, -1.49996904e+00],\n",
       "       [ 1.08769481e+00, -4.25114258e-01,  2.13261952e+00],\n",
       "       [ 1.20648542e+00,  1.52555544e+00, -3.14362686e-01],\n",
       "       [-7.18433337e-01, -1.50893706e+00,  7.24673159e-01],\n",
       "       [-1.22175857e+00,  1.17050397e+00, -1.26086037e+00],\n",
       "       [-9.42870532e-01, -1.69667757e+00, -3.79574140e-01],\n",
       "       [-1.17449779e+00,  7.82275610e-02, -1.01367790e+00],\n",
       "       [-1.49695887e+00,  1.46426679e+00,  1.66338894e-01],\n",
       "       [-1.61968444e+00, -8.12923456e-01,  4.35879574e-01],\n",
       "       [-6.61530865e-01, -8.70689767e-01, -6.90725938e-01],\n",
       "       [ 5.83195265e-01, -1.24335292e+00, -2.73993690e-01],\n",
       "       [-5.49209258e-01, -4.24762025e-01,  1.47491542e+00],\n",
       "       [ 8.36607809e-02,  1.00107960e+00, -8.27067564e-02],\n",
       "       [ 6.73823062e-01,  1.07187856e+00,  2.26614773e+00],\n",
       "       [ 1.37997409e+00, -7.45294604e-01,  7.02936007e-01],\n",
       "       [ 1.32356606e+00, -3.07820468e-01, -7.97548512e-01],\n",
       "       [-1.15993224e+00, -5.80097044e-01, -7.27697728e-02],\n",
       "       [ 1.64124750e+00, -1.18734778e+00, -6.19303869e-01],\n",
       "       [ 2.10218307e-01, -1.49555218e+00,  2.35897779e-01],\n",
       "       [-8.86091672e-01,  1.23672388e+00, -3.61271459e-02],\n",
       "       [ 2.96911140e-01,  1.01974798e+00,  3.06698787e-01],\n",
       "       [ 6.49966052e-01, -1.71858297e-01,  1.18612183e+00],\n",
       "       [-8.82209448e-02,  1.60058119e+00,  2.40245210e-01],\n",
       "       [-1.94526795e-01, -6.68926836e-02, -1.41798892e+00],\n",
       "       [-8.58917754e-01,  2.32858113e-01,  4.03584377e-01],\n",
       "       [-1.03770112e+00,  4.98090016e-01,  1.14885814e+00],\n",
       "       [ 7.89017400e-02, -7.33318661e-01, -4.30501181e-01],\n",
       "       [ 4.91805198e-01, -2.20818768e-01, -1.87695335e+00],\n",
       "       [ 8.70962728e-01,  5.45641553e-01, -4.60312132e-01],\n",
       "       [ 1.40294522e+00,  9.84524623e-01, -1.10062651e+00],\n",
       "       [-1.34578206e+00,  7.47471407e-01, -7.90716836e-01],\n",
       "       [ 9.92575797e-01,  7.04498908e-01,  1.23394357e+00],\n",
       "       [ 6.72854773e-01,  6.77376920e-01, -1.02361489e+00],\n",
       "       [ 1.54524260e+00,  1.37444722e+00, -6.75199402e-01],\n",
       "       [-1.54364280e+00,  8.54902656e-01,  4.95793374e-02],\n",
       "       [ 1.13563545e+00, -1.36698691e+00, -5.76450627e-01],\n",
       "       [-1.21543379e+00,  1.00248854e+00, -1.11553199e+00],\n",
       "       [-1.03358074e+00, -7.56566079e-01, -3.51005313e-01],\n",
       "       [ 1.32323643e+00,  8.84842513e-01, -5.49123923e-01],\n",
       "       [-1.15057898e+00,  6.06577966e-01,  5.19722872e-01],\n",
       "       [-1.05517483e-02, -1.38459859e+00, -9.18034438e-01],\n",
       "       [ 8.86464429e-02,  8.71457636e-01,  4.19110914e-01],\n",
       "       [-1.52489836e-02,  2.05031658e-01, -1.01119366e+00],\n",
       "       [ 1.75764828e+00,  2.17712068e-01, -4.64038501e-01],\n",
       "       [-1.05531575e+00, -1.23842165e+00,  2.14069332e+00],\n",
       "       [-4.53080751e-01, -1.40714154e+00, -1.47297150e-01],\n",
       "       [ 1.26340849e+00,  1.07469643e+00, -6.57809680e-01],\n",
       "       [-5.30708744e-01,  1.23214485e+00, -8.26117340e-01],\n",
       "       [-6.29618508e-01, -4.26170959e-01, -8.16801417e-01],\n",
       "       [-3.44179061e-01, -1.20918626e+00, -8.18043540e-01],\n",
       "       [ 2.67738837e-01, -8.27012800e-01, -8.18043540e-01],\n",
       "       [ 1.35185249e+00,  3.08588338e-01, -8.18043540e-01],\n",
       "       [-1.51201887e+00, -8.90414848e-01,  1.63949671e+00],\n",
       "       [-1.63828797e+00,  1.43256577e+00, -1.21428076e+00],\n",
       "       [-6.60480168e-01,  1.31104517e+00, -7.56558455e-01],\n",
       "       [-6.86376767e-01,  1.22827028e+00,  9.21034164e-03],\n",
       "       [-9.91429232e-01, -1.02496808e+00,  7.50136679e-01],\n",
       "       [ 1.10298143e+00, -1.58473421e-01, -3.34857714e-01],\n",
       "       [ 1.48996768e+00,  1.13140604e+00, -4.42009450e-02],\n",
       "       [ 1.56407275e+00, -1.05209007e+00,  1.25257541e+00],\n",
       "       [ 6.88120787e-01, -1.15920079e-02, -3.74605649e-01],\n",
       "       [-1.67362024e+00,  1.71329595e+00,  6.71261872e-01],\n",
       "       [ 7.38863289e-01,  6.91818498e-01, -1.12846870e-02],\n",
       "       [-4.56809696e-01, -1.61355044e+00, -3.35478776e-01],\n",
       "       [ 1.55618222e+00,  1.42686310e-01,  6.81198855e-01],\n",
       "       [ 8.79759744e-01, -1.78755384e+00, -6.80788955e-01],\n",
       "       [-1.13895950e+00,  1.31632868e+00, -1.58567552e+00],\n",
       "       [-1.47705743e+00,  1.04686997e+00, -3.96963862e-01],\n",
       "       [ 1.53071826e+00, -1.47089583e+00, -5.98808840e-01],\n",
       "       [-1.63350832e+00, -4.78720690e-02, -8.20527786e-01],\n",
       "       [-9.43097153e-01,  4.82943971e-01, -5.67755767e-01],\n",
       "       [-2.97639348e-01,  6.41096859e-01,  1.10443362e-01],\n",
       "       [ 1.39677371e-01, -6.96334133e-01, -3.16846932e-01],\n",
       "       [ 7.26193115e-01,  1.54070148e+00, -3.06909948e-01],\n",
       "       [-3.57776320e-01,  9.82763455e-01, -1.11118456e+00],\n",
       "       [ 7.68900872e-01, -2.45122887e-01, -7.27368565e-01],\n",
       "       [-1.54467289e+00,  2.55753297e-01,  6.46419413e-01],\n",
       "       [-9.12173688e-01,  1.56465337e+00,  2.52045378e-01],\n",
       "       [-1.57959313e+00,  7.83399235e-01,  6.47040474e-01],\n",
       "       [-4.89731547e-01,  9.75718782e-01,  3.31541246e-01],\n",
       "       [ 4.28207105e-01, -2.85277518e-01, -8.63381028e-01],\n",
       "       [ 3.72684960e-01, -3.52201902e-01,  4.24422853e+00],\n",
       "       [-9.55684920e-01, -1.27258831e+00,  4.29668959e-01],\n",
       "       [ 6.00748092e-01, -1.78550736e-01, -8.03759126e-01],\n",
       "       [ 4.18956848e-01, -1.29125669e+00, -2.76477936e-01],\n",
       "       [ 6.83947665e-02, -1.45187521e+00, -4.56585763e-01],\n",
       "       [ 1.59891058e+00,  7.62265219e-01, -1.06584707e+00],\n",
       "       [ 1.11206687e+00, -3.58189874e-01, -4.85483753e-02],\n",
       "       [-6.46429666e-01, -7.77347862e-01, -8.16180356e-01],\n",
       "       [ 1.27109300e+00, -9.28456078e-01,  1.67581017e-01],\n",
       "       [ 8.58333758e-01,  1.47553827e+00, -1.09068953e+00],\n",
       "       [ 1.72625098e+00,  6.01294462e-01, -3.80816263e-01],\n",
       "       [ 1.28203262e+00, -2.32442477e-01, -1.08882634e+00],\n",
       "       [-2.20608811e-01, -3.64177845e-01,  3.60577733e+00],\n",
       "       [-5.48343978e-01, -1.42975142e-01, -2.16856035e-01],\n",
       "       [ 1.02040898e+00,  4.16019587e-01, -1.47885295e+00],\n",
       "       [-1.15863432e+00, -3.74040386e-01,  1.10443362e-01],\n",
       "       [-2.76422679e-03, -3.90662290e-02, -1.29191344e+00],\n",
       "       [ 1.22791140e+00,  1.56641454e+00,  2.22526326e-02],\n",
       "       [-1.44572192e+00, -1.53253671e+00, -1.20993333e+00],\n",
       "       [ 4.82667015e-02, -1.02116044e-01,  3.25330631e-01],\n",
       "       [-1.53299161e+00, -3.83617617e-02, -1.05466796e+00],\n",
       "       [-5.88014189e-02, -4.37090201e-01, -8.50338737e-01],\n",
       "       [-1.62984118e+00,  8.12282390e-01,  5.91766003e-01],\n",
       "       [ 8.77761358e-01, -6.22012843e-01, -7.19915828e-01],\n",
       "       [ 1.26796151e+00,  9.86571100e-02, -1.34770340e-03],\n",
       "       [ 8.23598940e-01, -1.19333575e+00,  2.28736940e-02],\n",
       "       [ 1.01764832e+00,  8.46449050e-01, -7.00041860e-01],\n",
       "       [-1.46199743e+00, -3.79676123e-01,  9.86431938e-02],\n",
       "       [ 9.28565666e-01,  1.36035788e+00, -6.59051803e-01],\n",
       "       [-1.28988909e+00, -6.51315156e-02, -8.83254995e-01],\n",
       "       [ 6.50748925e-01, -1.01263991e+00, -3.55352743e-01],\n",
       "       [-5.16555232e-01, -1.02109352e+00,  1.89939230e-01],\n",
       "       [-5.61014151e-01,  1.50653482e+00, -3.04425702e-01],\n",
       "       [-5.66308842e-01, -1.50928929e+00, -6.73957279e-01],\n",
       "       [ 1.58696147e+00,  6.34756654e-01,  2.73782529e-01],\n",
       "       [ 1.19194047e+00, -1.48322400e+00,  1.54447430e+00],\n",
       "       [-7.85183522e-01, -1.38565529e+00, -1.38010417e+00],\n",
       "       [ 8.81243081e-01,  6.54129503e-01,  3.84331471e-01],\n",
       "       [-1.27227445e+00, -1.37931509e+00,  5.37733655e-01],\n",
       "       [-1.33187578e+00, -1.38037179e+00,  7.79947630e-01],\n",
       "       [-7.82084171e-02,  2.30392478e-01, -4.46648780e-01],\n",
       "       [-1.36382934e+00,  1.96225818e-01, -5.66221745e-02],\n",
       "       [ 1.63471669e+00, -8.39340976e-01,  2.26614773e+00],\n",
       "       [ 1.38574263e+00,  8.02419850e-01, -3.73692688e-02],\n",
       "       [-2.27634062e-01,  7.80933600e-01,  1.71278196e+00],\n",
       "       [ 8.37340413e-01,  5.28382106e-01, -6.50978004e-01],\n",
       "       [-1.59069756e+00, -8.34476630e-02, -6.23030238e-01],\n",
       "       [ 1.45416156e+00, -1.23172921e+00,  4.69416893e-01],\n",
       "       [ 2.47445956e-01, -1.10915192e+00,  4.04052036e+00],\n",
       "       [-1.35185963e+00, -7.48464706e-01,  1.38424044e+00],\n",
       "       [-3.15377592e-01, -2.97253460e-01, -9.77035277e-01],\n",
       "       [ 3.99014200e-01, -1.60298343e+00,  8.37377184e-02],\n",
       "       [ 2.73878206e-01,  3.91296310e-02, -1.16865137e-01],\n",
       "       [-2.60679524e-01, -1.71506064e-01, -1.72760670e-01],\n",
       "       [-5.41009698e-01, -1.73295763e+00,  1.84349677e-01],\n",
       "       [-2.75945538e-01, -4.48713910e-01,  3.23467447e-01],\n",
       "       [-1.25486584e+00,  1.71012585e+00, -1.27423182e-01],\n",
       "       [-1.34116724e+00, -1.59805216e+00,  3.11046218e-01],\n",
       "       [-5.34037188e-02,  1.14549538e+00,  3.42099291e-01],\n",
       "       [ 1.35823908e+00,  1.54422382e+00,  1.71526621e+00],\n",
       "       [-9.46496468e-01, -1.68857619e+00,  1.00104551e+00],\n",
       "       [-1.22046065e+00, -4.06445877e-01,  1.60749341e-01],\n",
       "       [-9.76101411e-01, -1.19122235e+00, -8.39159630e-01],\n",
       "       [ 1.77049234e-01,  7.08725711e-01,  6.50145782e-01],\n",
       "       [-1.02209641e-01,  7.33029830e-01, -4.16216767e-01],\n",
       "       [-1.20692520e+00,  1.61995404e+00, -1.05591008e+00],\n",
       "       [-4.48816156e-01, -1.21341306e+00,  5.24691364e-01],\n",
       "       [ 7.97166691e-01, -1.04328423e+00, -1.48539272e-01],\n",
       "       [ 1.35885713e+00, -1.65617070e+00,  1.79910951e+00],\n",
       "       [-3.65513573e-02, -3.64177845e-01, -2.46666985e-01],\n",
       "       [ 1.14985077e+00, -1.73718443e+00, -3.77710956e-01],\n",
       "       [-5.37157141e-01,  1.55299796e-02,  4.72522200e-01],\n",
       "       [ 2.84179160e-01,  1.03031499e+00, -1.71518547e-01],\n",
       "       [ 9.66761605e-01,  1.12436136e+00,  1.60782257e+00],\n",
       "       [-9.69220374e-01, -3.05002600e-01, -4.35469673e-01],\n",
       "       [ 1.74110495e+00,  8.03828784e-01,  5.56365499e-01],\n",
       "       [-1.36832385e-02,  4.82591738e-01, -1.27949221e+00],\n",
       "       [-8.75358077e-01, -3.01832497e-01,  7.51378802e-01],\n",
       "       [ 1.37746066e+00, -5.73756839e-01,  3.24709570e-01],\n",
       "       [-1.58402254e+00, -2.11023152e-02,  1.11842613e+00],\n",
       "       [-5.42678453e-01,  1.07821876e+00,  1.24512267e+00],\n",
       "       [-7.55702190e-01, -1.72978753e+00,  2.92414373e-01],\n",
       "       [ 4.99530913e-01, -8.92176016e-01,  7.96095228e-01],\n",
       "       [ 1.41575961e+00,  1.63897466e+00,  6.96104331e-01],\n",
       "       [ 6.68178139e-01, -3.23318747e-01,  1.30598670e+00],\n",
       "       [ 1.64306047e+00,  1.47518603e+00, -4.00690231e-01],\n",
       "       [-6.77991790e-01,  5.35426778e-01,  4.11658176e-01],\n",
       "       [ 1.09785155e+00,  1.67525472e+00,  1.39169318e+00],\n",
       "       [-1.51589203e+00,  1.55866540e+00, -5.66221745e-02],\n",
       "       [ 9.53143743e-01, -1.06758835e+00,  6.52008966e-01],\n",
       "       [ 6.38305372e-01,  3.45925100e-01,  3.97373762e-01],\n",
       "       [-7.77849242e-01,  1.39593347e+00, -7.11842028e-01],\n",
       "       [ 1.59299783e+00, -1.89117744e-01, -4.58448948e-01],\n",
       "       [-1.26949320e+00, -8.02775606e-02, -3.55973804e-01],\n",
       "       [-3.35228767e-02,  1.71540935e+00, -1.11739517e+00],\n",
       "       [ 3.72066903e-01,  3.13519608e-01,  8.48885453e-01],\n",
       "       [ 3.38856626e-01,  1.23214485e+00, -1.31478714e-02],\n",
       "       [-1.27991776e+00, -1.30710720e+00, -7.19294766e-01],\n",
       "       [-1.64409770e+00, -6.83016180e-02,  4.82459184e-01],\n",
       "       [ 1.47655584e+00,  1.06765175e+00, -8.29843708e-01],\n",
       "       [-6.67546622e-01,  9.39086488e-01,  2.94898619e-01],\n",
       "       [ 1.15242601e+00, -2.29976842e-01,  1.15196345e+00],\n",
       "       [ 1.47062249e+00,  1.21312423e+00,  1.42738558e-01],\n",
       "       [ 1.17856983e+00,  1.14056411e+00, -1.34905110e+00],\n",
       "       [-1.36675481e+00,  3.45505942e-02,  7.48273494e-01],\n",
       "       [ 3.17842679e-01,  1.33394036e+00,  2.30837991e+00],\n",
       "       [ 4.55092596e-01,  1.03418956e+00,  3.67285197e+00],\n",
       "       [ 1.12273866e+00, -4.09968213e-01, -2.68404137e-01],\n",
       "       [ 3.71078012e-01, -1.09294917e+00, -1.29377663e+00],\n",
       "       [ 8.59755290e-01,  1.27969638e+00,  1.99847024e+00],\n",
       "       [-1.39611253e+00, -5.15286061e-01,  4.21265997e-02],\n",
       "       [-1.53319763e+00,  1.35824448e+00,  3.17877894e-01],\n",
       "       [-4.12144758e-01, -2.31738010e-01, -5.62787275e-01],\n",
       "       [-4.87939181e-01, -8.40045443e-01,  2.14876712e+00],\n",
       "       [ 5.42238671e-01,  3.25495551e-01, -7.42895102e-01],\n",
       "       [ 1.27146384e+00, -4.15251717e-01, -4.80186099e-01],\n",
       "       [ 1.39346834e+00, -1.14965878e+00,  9.44528920e-01],\n",
       "       [-5.90021639e-01, -1.32154878e+00,  2.11676382e-01],\n",
       "       [ 1.61568053e+00,  1.57733378e+00,  1.46464927e-01],\n",
       "       [-9.90337330e-01, -1.61601607e+00, -1.24533383e+00],\n",
       "       [-1.14209099e+00,  4.37086678e-02,  3.43341414e-01],\n",
       "       [ 6.81342759e-01,  5.20280733e-01, -7.16189459e-01],\n",
       "       [-9.89369041e-01, -1.36240788e+00, -5.71482136e-01],\n",
       "       [-1.36687842e+00,  1.09125140e+00, -6.80167893e-01],\n",
       "       [ 1.09638882e+00, -5.03377043e-02, -1.12050048e+00],\n",
       "       [ 6.61667936e-01,  1.59212759e+00, -3.98535147e-02],\n",
       "       [ 6.89748338e-01, -1.14331858e+00, -9.08718515e-01],\n",
       "       [-3.82539815e-01,  1.76852970e-01,  8.35843162e-01],\n",
       "       [ 1.06628943e+00,  1.24412079e+00, -1.37981227e-01],\n",
       "       [ 7.30189885e-01,  1.59459322e+00, -6.14956439e-01],\n",
       "       [-7.23769232e-01, -9.43602123e-01, -3.41068329e-01],\n",
       "       [-1.41906305e+00, -1.40861740e-01, -7.86369405e-01],\n",
       "       [ 6.48306362e-02,  8.45677658e-02,  1.80532012e+00],\n",
       "       [-1.07093200e+00, -1.31309517e+00,  2.39624148e-01],\n",
       "       [ 1.44404603e+00, -6.41033457e-01, -8.42264938e-01],\n",
       "       [ 3.82615081e-01, -7.70655423e-01, -8.64623151e-01],\n",
       "       [ 9.31449933e-01,  7.66492022e-01, -9.13687007e-01],\n",
       "       [ 8.13533671e-02, -8.24194931e-01, -1.40246239e+00],\n",
       "       [-3.12431519e-01,  6.43914728e-01, -1.72760670e-01],\n",
       "       [-5.15257312e-01,  1.26384587e+00, -8.27980524e-01],\n",
       "       [-8.76697201e-01, -1.90174445e-01, -1.15465886e+00],\n",
       "       [-2.40047948e-02,  2.75126145e-01, -8.55928290e-01],\n",
       "       [-3.63895087e-01,  2.99078030e-01, -1.72139608e-01],\n",
       "       [ 3.95717895e-01, -1.72802636e+00,  1.34014508e+00],\n",
       "       [ 1.17261588e+00, -1.74458134e+00, -6.86378508e-01],\n",
       "       [-1.63944167e+00, -9.66145073e-01,  1.48298922e+00],\n",
       "       [-1.50603525e-01, -1.68963289e+00, -4.91365206e-01],\n",
       "       [ 7.48298963e-01,  1.30710368e-01, -6.59380966e-02],\n",
       "       [-5.44924061e-01,  3.43459464e-01,  6.32756061e-01],\n",
       "       [-3.52708251e-01,  1.68969630e+00,  1.68421313e+00],\n",
       "       [ 1.44250088e+00, -1.50372048e-01, -8.42885999e-01],\n",
       "       [-2.45519815e-03, -1.79389404e+00,  9.92350653e-01],\n",
       "       [-1.48917135e+00, -1.32190101e+00, -1.35526171e+00],\n",
       "       [-1.36465341e+00,  1.15212089e-01,  2.94277558e-01],\n",
       "       [ 3.15205635e-01,  9.92625995e-01, -9.08097454e-01],\n",
       "       [ 1.29177732e+00, -7.35432063e-01,  8.40190592e-01],\n",
       "       [ 9.81553775e-01,  1.12471360e+00, -1.58132809e+00],\n",
       "       [-8.12851886e-01, -2.54280961e-01, -7.94443204e-01],\n",
       "       [-9.08547752e-01,  6.02351163e-01, -1.14844824e+00],\n",
       "       [ 2.30037343e-01, -7.18524850e-01, -6.96315492e-01],\n",
       "       [ 1.60189785e+00, -1.46878243e+00, -5.77692750e-01],\n",
       "       [ 5.22428699e-02, -5.35363376e-01, -8.42885999e-01],\n",
       "       [ 4.95534143e-01, -5.04366819e-01,  5.08214603e-02],\n",
       "       [-1.51056767e-01, -1.60586822e-01,  7.11630868e-01],\n",
       "       [ 6.65850124e-01, -6.73086715e-01,  3.16730793e+00],\n",
       "       [ 1.21794914e-01,  7.75230938e-02, -5.34839509e-01],\n",
       "       [-1.58624754e+00,  8.73571037e-01, -2.42319555e-01],\n",
       "       [-2.20485200e-01,  7.88330505e-01, -1.19192255e+00],\n",
       "       [-1.61465758e+00, -1.38396105e-01,  8.85528080e-01],\n",
       "       [-2.14139812e-01, -1.50647142e+00, -6.65883479e-01],\n",
       "       [ 9.48796740e-01, -1.60791470e+00,  1.93450091e+00],\n",
       "       [-8.06794924e-01,  1.35577884e+00, -6.75820463e-01],\n",
       "       [ 1.44641525e+00, -8.24194931e-01, -1.22732305e+00],\n",
       "       [-1.23290421e+00, -7.12536879e-01,  5.17859688e-01],\n",
       "       [ 1.27346222e+00, -1.26061237e+00,  2.55771746e-01],\n",
       "       [ 8.01245869e-01, -5.95243089e-01,  6.37724552e-01],\n",
       "       [-1.18780663e+00,  9.03863127e-01, -6.88862754e-01],\n",
       "       [-6.94947161e-01,  8.76388906e-01,  1.05694105e+00],\n",
       "       [-2.68261026e-01, -7.24865055e-01, -1.20807015e+00],\n",
       "       [-4.81708339e-02, -6.72449172e-02, -1.20620696e+00],\n",
       "       [ 6.36883840e-01, -5.55792925e-01,  1.00601401e+00],\n",
       "       [-6.43545398e-01,  1.11308989e+00,  2.89309066e-01],\n",
       "       [ 1.63391322e+00,  7.62969686e-01, -1.20434378e+00],\n",
       "       [ 8.32272344e-01, -4.32511164e-01,  8.05411150e-01],\n",
       "       [-3.23659559e-01, -7.69598722e-01, -1.07888936e+00],\n",
       "       [ 1.31333598e-01, -1.10668628e+00,  6.72609575e-03],\n",
       "       [ 3.06243804e-01,  8.17498970e-02,  8.32116793e-01],\n",
       "       [-1.15991164e+00,  5.70935448e-02,  1.29791290e+00],\n",
       "       [ 1.00304157e+00, -1.36804361e+00,  1.52832670e+00],\n",
       "       [ 1.08223530e+00,  1.22756581e+00,  2.94277558e-01],\n",
       "       [ 7.54685555e-01,  8.90478250e-01, -1.32172439e+00],\n",
       "       [ 7.87133561e-01,  1.06624282e+00,  6.75901201e-02]])"
      ]
     },
     "execution_count": 104,
     "metadata": {},
     "output_type": "execute_result"
    }
   ],
   "source": [
    "scaler.fit_transform(employees.iloc[:,1:])"
   ]
  },
  {
   "cell_type": "code",
   "execution_count": 105,
   "id": "9282fa14",
   "metadata": {},
   "outputs": [
    {
     "data": {
      "text/html": [
       "<div>\n",
       "<style scoped>\n",
       "    .dataframe tbody tr th:only-of-type {\n",
       "        vertical-align: middle;\n",
       "    }\n",
       "\n",
       "    .dataframe tbody tr th {\n",
       "        vertical-align: top;\n",
       "    }\n",
       "\n",
       "    .dataframe thead th {\n",
       "        text-align: right;\n",
       "    }\n",
       "</style>\n",
       "<table border=\"1\" class=\"dataframe\">\n",
       "  <thead>\n",
       "    <tr style=\"text-align: right;\">\n",
       "      <th></th>\n",
       "      <th>Name</th>\n",
       "      <th>Salary</th>\n",
       "      <th>Productivity</th>\n",
       "      <th>Commute Time</th>\n",
       "    </tr>\n",
       "  </thead>\n",
       "  <tbody>\n",
       "    <tr>\n",
       "      <th>0</th>\n",
       "      <td>Mason Pender</td>\n",
       "      <td>87902</td>\n",
       "      <td>29.91</td>\n",
       "      <td>16.79</td>\n",
       "    </tr>\n",
       "    <tr>\n",
       "      <th>1</th>\n",
       "      <td>Mia Rew</td>\n",
       "      <td>95672</td>\n",
       "      <td>49.91</td>\n",
       "      <td>44.48</td>\n",
       "    </tr>\n",
       "    <tr>\n",
       "      <th>2</th>\n",
       "      <td>Jalisa Kroenke</td>\n",
       "      <td>177864</td>\n",
       "      <td>78.00</td>\n",
       "      <td>19.40</td>\n",
       "    </tr>\n",
       "    <tr>\n",
       "      <th>3</th>\n",
       "      <td>Krystal Homeyer</td>\n",
       "      <td>186643</td>\n",
       "      <td>24.36</td>\n",
       "      <td>42.06</td>\n",
       "    </tr>\n",
       "    <tr>\n",
       "      <th>4</th>\n",
       "      <td>Kiana Wishart</td>\n",
       "      <td>167148</td>\n",
       "      <td>4.08</td>\n",
       "      <td>25.58</td>\n",
       "    </tr>\n",
       "  </tbody>\n",
       "</table>\n",
       "</div>"
      ],
      "text/plain": [
       "                Name  Salary  Productivity  Commute Time\n",
       "0     Mason Pender     87902         29.91         16.79\n",
       "1          Mia Rew     95672         49.91         44.48\n",
       "2   Jalisa Kroenke    177864         78.00         19.40\n",
       "3  Krystal Homeyer    186643         24.36         42.06\n",
       "4    Kiana Wishart    167148          4.08         25.58"
      ]
     },
     "execution_count": 105,
     "metadata": {},
     "output_type": "execute_result"
    }
   ],
   "source": [
    "employees.head()"
   ]
  },
  {
   "cell_type": "code",
   "execution_count": 107,
   "id": "d47cb3b4",
   "metadata": {},
   "outputs": [
    {
     "data": {
      "image/png": "[encoded data removed]",
      "text/plain": [
       "<Figure size 432x288 with 1 Axes>"
      ]
     },
     "metadata": {
      "needs_background": "light"
     },
     "output_type": "display_data"
    }
   ],
   "source": [
    "plt.scatter(x = employees[\"Productivity\"], y = employees[\"Salary\"]);"
   ]
  },
  {
   "cell_type": "code",
   "execution_count": 108,
   "id": "c17dd2da",
   "metadata": {},
   "outputs": [
    {
     "data": {
      "text/plain": [
       "0.017954037153537453"
      ]
     },
     "execution_count": 108,
     "metadata": {},
     "output_type": "execute_result"
    }
   ],
   "source": [
    "employees[\"Salary\"].corr(employees[\"Productivity\"])"
   ]
  },
  {
   "cell_type": "code",
   "execution_count": 109,
   "id": "1df93ff0",
   "metadata": {},
   "outputs": [],
   "source": [
    "# No, There is no correlation between them."
   ]
  }
 ],
 "metadata": {
  "kernelspec": {
   "display_name": "Python 3 (ipykernel)",
   "language": "python",
   "name": "python3"
  },
  "language_info": {
   "codemirror_mode": {
    "name": "ipython",
    "version": 3
   },
   "file_extension": ".py",
   "mimetype": "text/x-python",
   "name": "python",
   "nbconvert_exporter": "python",
   "pygments_lexer": "ipython3",
   "version": "3.9.12"
  }
 },
 "nbformat": 4,
 "nbformat_minor": 5
}

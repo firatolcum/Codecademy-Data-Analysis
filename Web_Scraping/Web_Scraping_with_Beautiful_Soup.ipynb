{
 "cells": [
  {
   "cell_type": "markdown",
   "id": "e18e00c3",
   "metadata": {},
   "source": [
    "##### About BeautifulSoup\n",
    "Often times you’ll find the perfect website that has all the data you need, but there’s no way to download it.<br>\n",
    "This is where BeautifulSoup comes in handy to scrape the HTML. <br>\n",
    "If we find the data we want to analyze online, we can use BeautifulSoup to grab it and turn it into a structure we can understand. <br>\n",
    "This Python library, which takes its name from a song in Alice in Wonderland, allows us to easily and quickly take information from a website and put it into a DataFrame.<br>"
   ]
  },
  {
   "cell_type": "markdown",
   "id": "5d07e0fc",
   "metadata": {},
   "source": [
    "##### 1. Rules of Scraping\n",
    "    A. Always check a website’s Terms and Conditions before scraping. Read the statement on the legal use of data. Usually, the data you scrape should not be used for commercial purposes.\n",
    "    B. Do not spam the website with a ton of requests. A large number of requests can break a website that is unprepared for that level of traffic. As a general rule of good practice, make one request to one webpage per second.\n",
    "    C. If the layout of the website changes, you will have to change your scraping code to follow the new structure of the  site."
   ]
  },
  {
   "cell_type": "markdown",
   "id": "1ac4c612",
   "metadata": {},
   "source": [
    "##### 2. Requests\n",
    "In order to get the HTML of the website, we need to make a request to get the content of the webpage."
   ]
  },
  {
   "cell_type": "code",
   "execution_count": 1,
   "id": "4dc967e2",
   "metadata": {},
   "outputs": [],
   "source": [
    "import requests"
   ]
  },
  {
   "cell_type": "code",
   "execution_count": 2,
   "id": "cbe5aa73",
   "metadata": {},
   "outputs": [
    {
     "data": {
      "text/plain": [
       "<Response [200]>"
      ]
     },
     "execution_count": 2,
     "metadata": {},
     "output_type": "execute_result"
    }
   ],
   "source": [
    "webpage_response = requests.get(\"https://content.codecademy.com/courses/beautifulsoup/shellter.html\")\n",
    "webpage_response"
   ]
  },
  {
   "cell_type": "code",
   "execution_count": 3,
   "id": "a6f2482f",
   "metadata": {},
   "outputs": [],
   "source": [
    "webpage = webpage_response.content"
   ]
  },
  {
   "cell_type": "code",
   "execution_count": 4,
   "id": "7e1d04cd",
   "metadata": {},
   "outputs": [
    {
     "data": {
      "text/plain": [
       "b'<!DOCTYPE html>\\n<html>\\n  <head>\\n    <meta charset=\"utf-8\">\\n    <title>Turtle Shellter</title>\\n      <link href=\"https://fonts.googleapis.com/css?family=Poppins\" rel=\"stylesheet\">\\n      <link rel=\\'stylesheet\\' type=\\'text/css\\' href=\\'style.css\\'>\\n  <script async src=\\'/cdn-cgi/bm/cv/669835187/api.js\\'></script></head>\\n\\n  <body>\\n      <div class=\"banner\">\\n        <h1>The Shellter</h1>\\n        <span class=\"brag\">The #1 Turtle Adoption website!</span>\\n      </div>\\n\\n      <div class=\"about\">\\n        <p class=\"text\">Click to learn more about each turtle</p>\\n      </div>\\n\\n    <div class=\"grid\">\\n      <div class=\"box adopt\">\\n          <a href=\"aesop.html\" class=\"more-info\"><img src=\"aesop.png\" class=\"headshot\"></a>\\n          <p>Aesop</p>\\n      </div>\\n\\n      <div class=\"box adopt\">\\n          <a href=\"caesar.html\" class=\"more-info\"><img src=\"caesar.png\" class=\"headshot\"></a>\\n          <p>Caesar</p>\\n      </div>\\n\\n      <div class=\"box adopt\">\\n          <a href=\"sulla.html\" class=\"more-info\"><img src=\"sulla.png\" class=\"headshot\"></a>\\n          <p>Sulla</p>\\n      </div>\\n      <div class=\"box adopt\">\\n          <a href=\"spyro.html\" class=\"more-info\"><img src=\"spyro.png\" class=\"headshot\"></a>\\n          <p>Spyro</p>\\n      </div>\\n\\n      <div class=\"box adopt\">\\n          <a href=\"zelda.html\" class=\"more-info\"><img src=\"zelda.png\" class=\"headshot\"></a>\\n          <p>Zelda</p>\\n      </div>\\n\\n      <div class=\"box adopt\">\\n          <a href=\"bandicoot.html\" class=\"more-info\"><img src=\"bandicoot.png\" class=\"headshot\"></a>\\n          <p>Bandicoot</p>\\n      </div>\\n      \\n      <div class=\"box adopt\">\\n          <a href=\"hal.html\" class=\"more-info\"><img src=\"hal.png\" class=\"headshot\"></a>\\n          <p>Hal</p>\\n      </div>\\n\\n      <div class=\"box adopt\">\\n          <a href=\"mock.html\" class=\"more-info\"><img src=\"mock.png\" class=\"headshot\"></a>\\n          <p>Mock</p>\\n      </div>\\n\\n      <div class=\"box adopt\">\\n          <a href=\"sparrow.html\" class=\"more-info\"><img src=\"sparrow.png\" class=\"headshot\"></a>\\n          <p>Captain Sparrow</p>\\n      </div>\\n    </div>\\n  <script>(function(){window[\\'__CF$cv$params\\']={r:\\'726656c91c9b98a8\\',m:\\'g6PUkV_txur_WdMZozu_9sjaEOwhfgJJoaD5qpCcjks-1657089522-0-AZURBSxG0LfrnRVsDKkV7FzAj6Vh6HMTois6qWB3KNG/2mT1iPMbk5N/4Hw3OzRMMBVqKgHFe4UXOuXtrMPtKgsfHmHK1fHb25wH9jraSkFpNyuPNjs3NbfemXPYKo/l5xY0vdnplIq12RMusWLzrX/Tj2skDX+1j64tZJ5L7eGq\\',s:[0xca9215ee0b,0xfdb0e7ead3],}})();</script></body>\\n\\n</html>\\n'"
      ]
     },
     "execution_count": 4,
     "metadata": {},
     "output_type": "execute_result"
    }
   ],
   "source": [
    "webpage"
   ]
  },
  {
   "cell_type": "markdown",
   "id": "f8d329bb",
   "metadata": {},
   "source": [
    "##### 3. The BeautifulSoup Object\n",
    "When we printed out all of that HTML from our request, it seemed pretty long and messy.<br>\n",
    "BeautifulSoup is a Python library that makes it easy for us to traverse an HTML page and pull out the parts we’re interested in.<br>\n",
    "Then, all we have to do is convert the HTML document to a BeautifulSoup object!<br>\n",
    "\"html.parser\" is one option for parsers we could use. There are other options, like \"lxml\" and \"html5lib\" that have different advantages and disadvantages, but for our purposes we will be using \"html.parser\" throughout."
   ]
  },
  {
   "cell_type": "code",
   "execution_count": 5,
   "id": "add81cfb",
   "metadata": {},
   "outputs": [],
   "source": [
    "from bs4 import BeautifulSoup"
   ]
  },
  {
   "cell_type": "code",
   "execution_count": 6,
   "id": "fbea8280",
   "metadata": {},
   "outputs": [],
   "source": [
    "soup = BeautifulSoup(webpage, \"html.parser\")"
   ]
  },
  {
   "cell_type": "code",
   "execution_count": 7,
   "id": "49865255",
   "metadata": {},
   "outputs": [
    {
     "data": {
      "text/plain": [
       "<!DOCTYPE html>\n",
       "\n",
       "<html>\n",
       "<head>\n",
       "<meta charset=\"utf-8\"/>\n",
       "<title>Turtle Shellter</title>\n",
       "<link href=\"https://fonts.googleapis.com/css?family=Poppins\" rel=\"stylesheet\"/>\n",
       "<link href=\"style.css\" rel=\"stylesheet\" type=\"text/css\"/>\n",
       "<script async=\"\" src=\"/cdn-cgi/bm/cv/669835187/api.js\"></script></head>\n",
       "<body>\n",
       "<div class=\"banner\">\n",
       "<h1>The Shellter</h1>\n",
       "<span class=\"brag\">The #1 Turtle Adoption website!</span>\n",
       "</div>\n",
       "<div class=\"about\">\n",
       "<p class=\"text\">Click to learn more about each turtle</p>\n",
       "</div>\n",
       "<div class=\"grid\">\n",
       "<div class=\"box adopt\">\n",
       "<a class=\"more-info\" href=\"aesop.html\"><img class=\"headshot\" src=\"aesop.png\"/></a>\n",
       "<p>Aesop</p>\n",
       "</div>\n",
       "<div class=\"box adopt\">\n",
       "<a class=\"more-info\" href=\"caesar.html\"><img class=\"headshot\" src=\"caesar.png\"/></a>\n",
       "<p>Caesar</p>\n",
       "</div>\n",
       "<div class=\"box adopt\">\n",
       "<a class=\"more-info\" href=\"sulla.html\"><img class=\"headshot\" src=\"sulla.png\"/></a>\n",
       "<p>Sulla</p>\n",
       "</div>\n",
       "<div class=\"box adopt\">\n",
       "<a class=\"more-info\" href=\"spyro.html\"><img class=\"headshot\" src=\"spyro.png\"/></a>\n",
       "<p>Spyro</p>\n",
       "</div>\n",
       "<div class=\"box adopt\">\n",
       "<a class=\"more-info\" href=\"zelda.html\"><img class=\"headshot\" src=\"zelda.png\"/></a>\n",
       "<p>Zelda</p>\n",
       "</div>\n",
       "<div class=\"box adopt\">\n",
       "<a class=\"more-info\" href=\"bandicoot.html\"><img class=\"headshot\" src=\"bandicoot.png\"/></a>\n",
       "<p>Bandicoot</p>\n",
       "</div>\n",
       "<div class=\"box adopt\">\n",
       "<a class=\"more-info\" href=\"hal.html\"><img class=\"headshot\" src=\"hal.png\"/></a>\n",
       "<p>Hal</p>\n",
       "</div>\n",
       "<div class=\"box adopt\">\n",
       "<a class=\"more-info\" href=\"mock.html\"><img class=\"headshot\" src=\"mock.png\"/></a>\n",
       "<p>Mock</p>\n",
       "</div>\n",
       "<div class=\"box adopt\">\n",
       "<a class=\"more-info\" href=\"sparrow.html\"><img class=\"headshot\" src=\"sparrow.png\"/></a>\n",
       "<p>Captain Sparrow</p>\n",
       "</div>\n",
       "</div>\n",
       "<script>(function(){window['__CF$cv$params']={r:'726656c91c9b98a8',m:'g6PUkV_txur_WdMZozu_9sjaEOwhfgJJoaD5qpCcjks-1657089522-0-AZURBSxG0LfrnRVsDKkV7FzAj6Vh6HMTois6qWB3KNG/2mT1iPMbk5N/4Hw3OzRMMBVqKgHFe4UXOuXtrMPtKgsfHmHK1fHb25wH9jraSkFpNyuPNjs3NbfemXPYKo/l5xY0vdnplIq12RMusWLzrX/Tj2skDX+1j64tZJ5L7eGq',s:[0xca9215ee0b,0xfdb0e7ead3],}})();</script></body>\n",
       "</html>"
      ]
     },
     "execution_count": 7,
     "metadata": {},
     "output_type": "execute_result"
    }
   ],
   "source": [
    "soup"
   ]
  },
  {
   "cell_type": "markdown",
   "id": "0739ff87",
   "metadata": {},
   "source": [
    "##### 4. Object Types\n",
    "BeautifulSoup breaks the HTML page into several types of objects.\n",
    "1. Tags<br>\n",
    "- A Tag corresponds to an HTML Tag in the original document.<br>\n",
    "- You can get the name of the tag using `.name` and a dictionary representing the attributes of the tag using `.attrs`\n",
    "- We can get the children of a tag by accessing the `.children` attribute\n",
    "- We can also navigate up the tree of a tag by accessing the `.parents` attribute\n",
    "2. NavigableStrings<br>\n",
    "- NavigableStrings are the pieces of text that are in the HTML tags on the page.\n",
    "- You can get the string inside of the tag by calling `.string`\n"
   ]
  },
  {
   "cell_type": "code",
   "execution_count": 8,
   "id": "ac5c37fd",
   "metadata": {},
   "outputs": [
    {
     "data": {
      "text/plain": [
       "<p class=\"text\">Click to learn more about each turtle</p>"
      ]
     },
     "execution_count": 8,
     "metadata": {},
     "output_type": "execute_result"
    }
   ],
   "source": [
    "# Lets print out the first p tag on the shellter.html page.\n",
    "soup.p"
   ]
  },
  {
   "cell_type": "code",
   "execution_count": 9,
   "id": "aad4afbe",
   "metadata": {},
   "outputs": [
    {
     "data": {
      "text/plain": [
       "'Click to learn more about each turtle'"
      ]
     },
     "execution_count": 9,
     "metadata": {},
     "output_type": "execute_result"
    }
   ],
   "source": [
    "soup.p.string"
   ]
  },
  {
   "cell_type": "code",
   "execution_count": 10,
   "id": "67fc4e9b",
   "metadata": {},
   "outputs": [
    {
     "data": {
      "text/plain": [
       "<h1>The Shellter</h1>"
      ]
     },
     "execution_count": 10,
     "metadata": {},
     "output_type": "execute_result"
    }
   ],
   "source": [
    "soup.h1"
   ]
  },
  {
   "cell_type": "code",
   "execution_count": 11,
   "id": "9450590e",
   "metadata": {},
   "outputs": [
    {
     "data": {
      "text/plain": [
       "<span class=\"brag\">The #1 Turtle Adoption website!</span>"
      ]
     },
     "execution_count": 11,
     "metadata": {},
     "output_type": "execute_result"
    }
   ],
   "source": [
    "soup.span"
   ]
  },
  {
   "cell_type": "code",
   "execution_count": 12,
   "id": "3d8d67a2",
   "metadata": {},
   "outputs": [
    {
     "data": {
      "text/plain": [
       "'The #1 Turtle Adoption website!'"
      ]
     },
     "execution_count": 12,
     "metadata": {},
     "output_type": "execute_result"
    }
   ],
   "source": [
    "soup.span.string"
   ]
  },
  {
   "cell_type": "code",
   "execution_count": 13,
   "id": "2e19056f",
   "metadata": {},
   "outputs": [
    {
     "data": {
      "text/plain": [
       "<div class=\"banner\">\n",
       "<h1>The Shellter</h1>\n",
       "<span class=\"brag\">The #1 Turtle Adoption website!</span>\n",
       "</div>"
      ]
     },
     "execution_count": 13,
     "metadata": {},
     "output_type": "execute_result"
    }
   ],
   "source": [
    "# Lets loop through all of the children of the first div and print out each one.\n",
    "soup.div"
   ]
  },
  {
   "cell_type": "code",
   "execution_count": 14,
   "id": "5920e330",
   "metadata": {},
   "outputs": [
    {
     "name": "stdout",
     "output_type": "stream",
     "text": [
      "\n",
      "\n",
      "<h1>The Shellter</h1>\n",
      "\n",
      "\n",
      "<span class=\"brag\">The #1 Turtle Adoption website!</span>\n",
      "\n",
      "\n"
     ]
    }
   ],
   "source": [
    "for children in soup.div.children:\n",
    "    print(children)"
   ]
  },
  {
   "cell_type": "markdown",
   "id": "aa99f4e2",
   "metadata": {},
   "source": [
    "##### 5.  Website Structure\n",
    "- When we’re telling our Python script what HTML tags to grab, we need to know the structure of the website and what we’re looking for.\n",
    "- Many browsers, including Chrome, Firefox, and Safari, have Dev Tools that help you inspect a webpage and see what HTML elements it is composed of.\n",
    "- Then, when you’re preparing to scrape a website, first inspect the HTML to see where the info you are looking for is located on the page."
   ]
  },
  {
   "cell_type": "markdown",
   "id": "1db584d8",
   "metadata": {},
   "source": [
    "##### 6. Find\n",
    "- Beautiful Soup offers two methods for traversing the HTML tags on a webpage, .find() and .find_all(). Both methods can take just a tag name as a parameter but will return slightly different information.\n",
    "- .find() returns the first tag that matches the parameter or None if there are no tags that match.\n",
    "- .find_all() returns a list of all the tags that match — if no tags match, it returns an empty list.\n",
    "- .find() and .find_all() are far more flexible than just accessing elements directly through the soup object. With these methods, we can use regexes, attributes, or even functions to select HTML elements more intelligently."
   ]
  },
  {
   "cell_type": "code",
   "execution_count": 15,
   "id": "be56dfb9",
   "metadata": {},
   "outputs": [
    {
     "data": {
      "text/plain": [
       "<p class=\"text\">Click to learn more about each turtle</p>"
      ]
     },
     "execution_count": 15,
     "metadata": {},
     "output_type": "execute_result"
    }
   ],
   "source": [
    "soup.find(\"p\")"
   ]
  },
  {
   "cell_type": "code",
   "execution_count": 16,
   "id": "0daef050",
   "metadata": {},
   "outputs": [
    {
     "data": {
      "text/plain": [
       "[<p class=\"text\">Click to learn more about each turtle</p>,\n",
       " <p>Aesop</p>,\n",
       " <p>Caesar</p>,\n",
       " <p>Sulla</p>,\n",
       " <p>Spyro</p>,\n",
       " <p>Zelda</p>,\n",
       " <p>Bandicoot</p>,\n",
       " <p>Hal</p>,\n",
       " <p>Mock</p>,\n",
       " <p>Captain Sparrow</p>]"
      ]
     },
     "execution_count": 16,
     "metadata": {},
     "output_type": "execute_result"
    }
   ],
   "source": [
    "soup.find_all(\"p\")"
   ]
  },
  {
   "cell_type": "code",
   "execution_count": 17,
   "id": "3dc6343f",
   "metadata": {},
   "outputs": [
    {
     "data": {
      "text/plain": [
       "[<a class=\"more-info\" href=\"aesop.html\"><img class=\"headshot\" src=\"aesop.png\"/></a>,\n",
       " <a class=\"more-info\" href=\"caesar.html\"><img class=\"headshot\" src=\"caesar.png\"/></a>,\n",
       " <a class=\"more-info\" href=\"sulla.html\"><img class=\"headshot\" src=\"sulla.png\"/></a>,\n",
       " <a class=\"more-info\" href=\"spyro.html\"><img class=\"headshot\" src=\"spyro.png\"/></a>,\n",
       " <a class=\"more-info\" href=\"zelda.html\"><img class=\"headshot\" src=\"zelda.png\"/></a>,\n",
       " <a class=\"more-info\" href=\"bandicoot.html\"><img class=\"headshot\" src=\"bandicoot.png\"/></a>,\n",
       " <a class=\"more-info\" href=\"hal.html\"><img class=\"headshot\" src=\"hal.png\"/></a>,\n",
       " <a class=\"more-info\" href=\"mock.html\"><img class=\"headshot\" src=\"mock.png\"/></a>,\n",
       " <a class=\"more-info\" href=\"sparrow.html\"><img class=\"headshot\" src=\"sparrow.png\"/></a>]"
      ]
     },
     "execution_count": 17,
     "metadata": {},
     "output_type": "execute_result"
    }
   ],
   "source": [
    "# Find all of the a elements on the page\n",
    "soup.find_all(\"a\")"
   ]
  },
  {
   "cell_type": "markdown",
   "id": "1021624a",
   "metadata": {},
   "source": [
    "##### 7. Using Regex\n",
    "- We can use the .compile() function from the re module."
   ]
  },
  {
   "cell_type": "code",
   "execution_count": 18,
   "id": "a2a0dea2",
   "metadata": {},
   "outputs": [],
   "source": [
    "import re"
   ]
  },
  {
   "cell_type": "code",
   "execution_count": 19,
   "id": "e7f76146",
   "metadata": {},
   "outputs": [
    {
     "data": {
      "text/plain": [
       "[<h1>The Shellter</h1>]"
      ]
     },
     "execution_count": 19,
     "metadata": {},
     "output_type": "execute_result"
    }
   ],
   "source": [
    "soup.find_all(re.compile(\"h[1-9]\"))\n",
    "# The expression \"h[1-9]\" means h and any number between 1 and 9."
   ]
  },
  {
   "cell_type": "code",
   "execution_count": 20,
   "id": "68af0df2",
   "metadata": {},
   "outputs": [
    {
     "data": {
      "text/plain": [
       "[]"
      ]
     },
     "execution_count": 20,
     "metadata": {},
     "output_type": "execute_result"
    }
   ],
   "source": [
    "soup.find_all(re.compile(\"[ou]l\"))\n",
    "# we want every <ol> and every <ul> that the page contains. But there isn't any list."
   ]
  },
  {
   "cell_type": "markdown",
   "id": "691fda90",
   "metadata": {},
   "source": [
    "##### 8. Using Lists\n",
    "- We can also just specify all of the elements we want to find by supplying the function with a list of the tag names we are looking for"
   ]
  },
  {
   "cell_type": "code",
   "execution_count": 21,
   "id": "51880d3b",
   "metadata": {},
   "outputs": [
    {
     "data": {
      "text/plain": [
       "[<p class=\"text\">Click to learn more about each turtle</p>,\n",
       " <a class=\"more-info\" href=\"aesop.html\"><img class=\"headshot\" src=\"aesop.png\"/></a>,\n",
       " <p>Aesop</p>,\n",
       " <a class=\"more-info\" href=\"caesar.html\"><img class=\"headshot\" src=\"caesar.png\"/></a>,\n",
       " <p>Caesar</p>,\n",
       " <a class=\"more-info\" href=\"sulla.html\"><img class=\"headshot\" src=\"sulla.png\"/></a>,\n",
       " <p>Sulla</p>,\n",
       " <a class=\"more-info\" href=\"spyro.html\"><img class=\"headshot\" src=\"spyro.png\"/></a>,\n",
       " <p>Spyro</p>,\n",
       " <a class=\"more-info\" href=\"zelda.html\"><img class=\"headshot\" src=\"zelda.png\"/></a>,\n",
       " <p>Zelda</p>,\n",
       " <a class=\"more-info\" href=\"bandicoot.html\"><img class=\"headshot\" src=\"bandicoot.png\"/></a>,\n",
       " <p>Bandicoot</p>,\n",
       " <a class=\"more-info\" href=\"hal.html\"><img class=\"headshot\" src=\"hal.png\"/></a>,\n",
       " <p>Hal</p>,\n",
       " <a class=\"more-info\" href=\"mock.html\"><img class=\"headshot\" src=\"mock.png\"/></a>,\n",
       " <p>Mock</p>,\n",
       " <a class=\"more-info\" href=\"sparrow.html\"><img class=\"headshot\" src=\"sparrow.png\"/></a>,\n",
       " <p>Captain Sparrow</p>]"
      ]
     },
     "execution_count": 21,
     "metadata": {},
     "output_type": "execute_result"
    }
   ],
   "source": [
    "soup.find_all([\"a\", \"p\"])"
   ]
  },
  {
   "cell_type": "markdown",
   "id": "73ce3342",
   "metadata": {},
   "source": [
    "##### 9. Using Attributes\n",
    "- We can also try to match the elements with relevant attributes. \n",
    "- We can pass a dictionary to the attrs parameter of find_all with the desired attributes of the elements we’re looking for"
   ]
  },
  {
   "cell_type": "code",
   "execution_count": 22,
   "id": "e15337b1",
   "metadata": {},
   "outputs": [
    {
     "data": {
      "text/plain": [
       "[<div class=\"banner\">\n",
       " <h1>The Shellter</h1>\n",
       " <span class=\"brag\">The #1 Turtle Adoption website!</span>\n",
       " </div>]"
      ]
     },
     "execution_count": 22,
     "metadata": {},
     "output_type": "execute_result"
    }
   ],
   "source": [
    "soup.find_all(attrs={'class':'banner'})"
   ]
  },
  {
   "cell_type": "code",
   "execution_count": 23,
   "id": "6e94e6e8",
   "metadata": {},
   "outputs": [
    {
     "data": {
      "text/plain": [
       "[]"
      ]
     },
     "execution_count": 23,
     "metadata": {},
     "output_type": "execute_result"
    }
   ],
   "source": [
    "soup.find_all(attrs={'class':'banner', 'id':'jumbotron'})"
   ]
  },
  {
   "cell_type": "code",
   "execution_count": 24,
   "id": "d0e324e7",
   "metadata": {},
   "outputs": [
    {
     "data": {
      "text/plain": [
       "[<a class=\"more-info\" href=\"aesop.html\"><img class=\"headshot\" src=\"aesop.png\"/></a>,\n",
       " <a class=\"more-info\" href=\"caesar.html\"><img class=\"headshot\" src=\"caesar.png\"/></a>,\n",
       " <a class=\"more-info\" href=\"sulla.html\"><img class=\"headshot\" src=\"sulla.png\"/></a>,\n",
       " <a class=\"more-info\" href=\"spyro.html\"><img class=\"headshot\" src=\"spyro.png\"/></a>,\n",
       " <a class=\"more-info\" href=\"zelda.html\"><img class=\"headshot\" src=\"zelda.png\"/></a>,\n",
       " <a class=\"more-info\" href=\"bandicoot.html\"><img class=\"headshot\" src=\"bandicoot.png\"/></a>,\n",
       " <a class=\"more-info\" href=\"hal.html\"><img class=\"headshot\" src=\"hal.png\"/></a>,\n",
       " <a class=\"more-info\" href=\"mock.html\"><img class=\"headshot\" src=\"mock.png\"/></a>,\n",
       " <a class=\"more-info\" href=\"sparrow.html\"><img class=\"headshot\" src=\"sparrow.png\"/></a>]"
      ]
     },
     "execution_count": 24,
     "metadata": {},
     "output_type": "execute_result"
    }
   ],
   "source": [
    "soup.find_all(attrs={'class':'more-info'})"
   ]
  },
  {
   "cell_type": "code",
   "execution_count": 25,
   "id": "4027cdc2",
   "metadata": {},
   "outputs": [
    {
     "data": {
      "text/plain": [
       "[<a class=\"more-info\" href=\"aesop.html\"><img class=\"headshot\" src=\"aesop.png\"/></a>]"
      ]
     },
     "execution_count": 25,
     "metadata": {},
     "output_type": "execute_result"
    }
   ],
   "source": [
    "soup.find_all(attrs={'class':'more-info', 'href':'aesop.html'})"
   ]
  },
  {
   "cell_type": "markdown",
   "id": "086e4ebd",
   "metadata": {},
   "source": [
    "##### 10. Select for CSS Selectors\n",
    "- Another way to capture your desired elements with the soup object is to use CSS selectors. \n",
    "- The .select() method will take in all of the CSS selectors you normally use in a .css file!"
   ]
  },
  {
   "cell_type": "code",
   "execution_count": 26,
   "id": "d03de48e",
   "metadata": {},
   "outputs": [
    {
     "data": {
      "text/plain": [
       "[<a class=\"more-info\" href=\"aesop.html\"><img class=\"headshot\" src=\"aesop.png\"/></a>,\n",
       " <a class=\"more-info\" href=\"caesar.html\"><img class=\"headshot\" src=\"caesar.png\"/></a>,\n",
       " <a class=\"more-info\" href=\"sulla.html\"><img class=\"headshot\" src=\"sulla.png\"/></a>,\n",
       " <a class=\"more-info\" href=\"spyro.html\"><img class=\"headshot\" src=\"spyro.png\"/></a>,\n",
       " <a class=\"more-info\" href=\"zelda.html\"><img class=\"headshot\" src=\"zelda.png\"/></a>,\n",
       " <a class=\"more-info\" href=\"bandicoot.html\"><img class=\"headshot\" src=\"bandicoot.png\"/></a>,\n",
       " <a class=\"more-info\" href=\"hal.html\"><img class=\"headshot\" src=\"hal.png\"/></a>,\n",
       " <a class=\"more-info\" href=\"mock.html\"><img class=\"headshot\" src=\"mock.png\"/></a>,\n",
       " <a class=\"more-info\" href=\"sparrow.html\"><img class=\"headshot\" src=\"sparrow.png\"/></a>]"
      ]
     },
     "execution_count": 26,
     "metadata": {},
     "output_type": "execute_result"
    }
   ],
   "source": [
    "soup.select(\".more-info\")"
   ]
  },
  {
   "cell_type": "code",
   "execution_count": 27,
   "id": "2de0e20b",
   "metadata": {},
   "outputs": [
    {
     "data": {
      "text/plain": [
       "[<img class=\"headshot\" src=\"aesop.png\"/>,\n",
       " <img class=\"headshot\" src=\"caesar.png\"/>,\n",
       " <img class=\"headshot\" src=\"sulla.png\"/>,\n",
       " <img class=\"headshot\" src=\"spyro.png\"/>,\n",
       " <img class=\"headshot\" src=\"zelda.png\"/>,\n",
       " <img class=\"headshot\" src=\"bandicoot.png\"/>,\n",
       " <img class=\"headshot\" src=\"hal.png\"/>,\n",
       " <img class=\"headshot\" src=\"mock.png\"/>,\n",
       " <img class=\"headshot\" src=\"sparrow.png\"/>]"
      ]
     },
     "execution_count": 27,
     "metadata": {},
     "output_type": "execute_result"
    }
   ],
   "source": [
    "soup.select(\".headshot\")\n",
    "# for class, use ."
   ]
  },
  {
   "cell_type": "code",
   "execution_count": 28,
   "id": "c91d269b",
   "metadata": {},
   "outputs": [
    {
     "data": {
      "text/plain": [
       "[]"
      ]
     },
     "execution_count": 28,
     "metadata": {},
     "output_type": "execute_result"
    }
   ],
   "source": [
    "soup.select(\"#id\")\n",
    "# for id, use #"
   ]
  },
  {
   "cell_type": "markdown",
   "id": "2bd60951",
   "metadata": {},
   "source": [
    "##### Let’s say we wanted to loop through all of the links to these tutle types that we found from our search."
   ]
  },
  {
   "cell_type": "code",
   "execution_count": 29,
   "id": "9fca99da",
   "metadata": {},
   "outputs": [],
   "source": [
    "prefix = \"https://content.codecademy.com/courses/beautifulsoup/\""
   ]
  },
  {
   "cell_type": "code",
   "execution_count": 30,
   "id": "65a6c9a7",
   "metadata": {},
   "outputs": [],
   "source": [
    "turtle_links = soup.find_all(\"a\")"
   ]
  },
  {
   "cell_type": "code",
   "execution_count": 31,
   "id": "3ae3d733",
   "metadata": {},
   "outputs": [],
   "source": [
    "links = []\n",
    "for a in turtle_links:\n",
    "    links.append(prefix+a[\"href\"])"
   ]
  },
  {
   "cell_type": "code",
   "execution_count": 32,
   "id": "9e961e90",
   "metadata": {},
   "outputs": [
    {
     "data": {
      "text/plain": [
       "['https://content.codecademy.com/courses/beautifulsoup/aesop.html',\n",
       " 'https://content.codecademy.com/courses/beautifulsoup/caesar.html',\n",
       " 'https://content.codecademy.com/courses/beautifulsoup/sulla.html',\n",
       " 'https://content.codecademy.com/courses/beautifulsoup/spyro.html',\n",
       " 'https://content.codecademy.com/courses/beautifulsoup/zelda.html',\n",
       " 'https://content.codecademy.com/courses/beautifulsoup/bandicoot.html',\n",
       " 'https://content.codecademy.com/courses/beautifulsoup/hal.html',\n",
       " 'https://content.codecademy.com/courses/beautifulsoup/mock.html',\n",
       " 'https://content.codecademy.com/courses/beautifulsoup/sparrow.html']"
      ]
     },
     "execution_count": 32,
     "metadata": {},
     "output_type": "execute_result"
    }
   ],
   "source": [
    "links"
   ]
  },
  {
   "cell_type": "code",
   "execution_count": 33,
   "id": "06b15086",
   "metadata": {},
   "outputs": [],
   "source": [
    "turtle_data = {}"
   ]
  },
  {
   "cell_type": "code",
   "execution_count": 34,
   "id": "60ffd84b",
   "metadata": {},
   "outputs": [],
   "source": [
    "for link in links:\n",
    "  webpage = requests.get(link)\n",
    "  turtle = BeautifulSoup(webpage.content, \"html.parser\")\n",
    "  #Add your code here:\n",
    "  turtle_name = turtle.select(\".name\")[0]\n",
    "  turtle_data[turtle_name] = []"
   ]
  },
  {
   "cell_type": "code",
   "execution_count": 35,
   "id": "de663b6e",
   "metadata": {},
   "outputs": [
    {
     "data": {
      "text/plain": [
       "{<p class=\"name\">Aesop</p>: [],\n",
       " <p class=\"name\">Caesar</p>: [],\n",
       " <p class=\"name\">Sulla</p>: [],\n",
       " <p class=\"name\">Spyro</p>: [],\n",
       " <p class=\"name\">Zelda</p>: [],\n",
       " <p class=\"name\">Bandicoot</p>: [],\n",
       " <p class=\"name\">Hal</p>: [],\n",
       " <p class=\"name\">Mock</p>: [],\n",
       " <p class=\"name\">Sparrow</p>: []}"
      ]
     },
     "execution_count": 35,
     "metadata": {},
     "output_type": "execute_result"
    }
   ],
   "source": [
    "turtle_data"
   ]
  },
  {
   "cell_type": "markdown",
   "id": "2fbdc7fd",
   "metadata": {},
   "source": [
    "##### 11. Reading Text\n",
    "- When we use BeautifulSoup to select HTML elements, we often want to grab the text inside of the element, so that we can analyze it. We can use .get_text() to retrieve the text inside of whatever tag we want to call it on.\n",
    "- If we want to separate out the texts from different tags, we can specify a separator character. This command would use a | character to separate:"
   ]
  },
  {
   "cell_type": "code",
   "execution_count": 50,
   "id": "5d285b5b",
   "metadata": {},
   "outputs": [
    {
     "data": {
      "text/plain": [
       "<p class=\"text\">Click to learn more about each turtle</p>"
      ]
     },
     "execution_count": 50,
     "metadata": {},
     "output_type": "execute_result"
    }
   ],
   "source": [
    "soup.find(\"p\")"
   ]
  },
  {
   "cell_type": "code",
   "execution_count": 51,
   "id": "5f19f6ee",
   "metadata": {},
   "outputs": [
    {
     "data": {
      "text/plain": [
       "'Click to learn more about each turtle'"
      ]
     },
     "execution_count": 51,
     "metadata": {},
     "output_type": "execute_result"
    }
   ],
   "source": [
    "soup.find(\"p\").get_text()"
   ]
  },
  {
   "cell_type": "code",
   "execution_count": 37,
   "id": "f64b35b5",
   "metadata": {
    "scrolled": true
   },
   "outputs": [
    {
     "data": {
      "text/plain": [
       "'\\n|\\n|\\n|\\n|Turtle Shellter|\\n|\\n|\\n|\\n|\\n|\\n|The Shellter|\\n|The #1 Turtle Adoption website!|\\n|\\n|\\n|Click to learn more about each turtle|\\n|\\n|\\n|\\n|\\n|Aesop|\\n|\\n|\\n|\\n|Caesar|\\n|\\n|\\n|\\n|Sulla|\\n|\\n|\\n|\\n|Spyro|\\n|\\n|\\n|\\n|Zelda|\\n|\\n|\\n|\\n|Bandicoot|\\n|\\n|\\n|\\n|Hal|\\n|\\n|\\n|\\n|Mock|\\n|\\n|\\n|\\n|Captain Sparrow|\\n|\\n|\\n|\\n|\\n'"
      ]
     },
     "execution_count": 37,
     "metadata": {},
     "output_type": "execute_result"
    }
   ],
   "source": [
    "soup.get_text(\"|\")"
   ]
  },
  {
   "cell_type": "code",
   "execution_count": 44,
   "id": "d1a353b6",
   "metadata": {},
   "outputs": [
    {
     "data": {
      "text/plain": [
       "['\\n',\n",
       " '\\n',\n",
       " '\\n',\n",
       " '\\n',\n",
       " 'Turtle Shellter',\n",
       " '\\n',\n",
       " '\\n',\n",
       " '\\n',\n",
       " '\\n',\n",
       " '\\n',\n",
       " '\\n',\n",
       " 'The Shellter',\n",
       " '\\n',\n",
       " 'The #1 Turtle Adoption website!',\n",
       " '\\n',\n",
       " '\\n',\n",
       " '\\n',\n",
       " 'Click to learn more about each turtle',\n",
       " '\\n',\n",
       " '\\n',\n",
       " '\\n',\n",
       " '\\n',\n",
       " '\\n',\n",
       " 'Aesop',\n",
       " '\\n',\n",
       " '\\n',\n",
       " '\\n',\n",
       " '\\n',\n",
       " 'Caesar',\n",
       " '\\n',\n",
       " '\\n',\n",
       " '\\n',\n",
       " '\\n',\n",
       " 'Sulla',\n",
       " '\\n',\n",
       " '\\n',\n",
       " '\\n',\n",
       " '\\n',\n",
       " 'Spyro',\n",
       " '\\n',\n",
       " '\\n',\n",
       " '\\n',\n",
       " '\\n',\n",
       " 'Zelda',\n",
       " '\\n',\n",
       " '\\n',\n",
       " '\\n',\n",
       " '\\n',\n",
       " 'Bandicoot',\n",
       " '\\n',\n",
       " '\\n',\n",
       " '\\n',\n",
       " '\\n',\n",
       " 'Hal',\n",
       " '\\n',\n",
       " '\\n',\n",
       " '\\n',\n",
       " '\\n',\n",
       " 'Mock',\n",
       " '\\n',\n",
       " '\\n',\n",
       " '\\n',\n",
       " '\\n',\n",
       " 'Captain Sparrow',\n",
       " '\\n',\n",
       " '\\n',\n",
       " '\\n',\n",
       " '\\n',\n",
       " '\\n']"
      ]
     },
     "execution_count": 44,
     "metadata": {},
     "output_type": "execute_result"
    }
   ],
   "source": [
    "soup.get_text(\"|\").split(\"|\")"
   ]
  },
  {
   "cell_type": "code",
   "execution_count": 41,
   "id": "96acf23c",
   "metadata": {},
   "outputs": [
    {
     "data": {
      "text/plain": [
       "<p class=\"name\">Sparrow</p>"
      ]
     },
     "execution_count": 41,
     "metadata": {},
     "output_type": "execute_result"
    }
   ],
   "source": [
    "turtle.select(\".name\")[0]"
   ]
  },
  {
   "cell_type": "code",
   "execution_count": 42,
   "id": "2d8fd8ae",
   "metadata": {},
   "outputs": [
    {
     "data": {
      "text/plain": [
       "'Sparrow'"
      ]
     },
     "execution_count": 42,
     "metadata": {},
     "output_type": "execute_result"
    }
   ],
   "source": [
    "turtle.select(\".name\")[0].get_text()"
   ]
  },
  {
   "cell_type": "code",
   "execution_count": 61,
   "id": "b364718d",
   "metadata": {},
   "outputs": [
    {
     "data": {
      "text/plain": [
       "{<p class=\"name\">Aesop</p>: [],\n",
       " <p class=\"name\">Caesar</p>: [],\n",
       " <p class=\"name\">Sulla</p>: [],\n",
       " <p class=\"name\">Spyro</p>: [],\n",
       " <p class=\"name\">Zelda</p>: [],\n",
       " <p class=\"name\">Bandicoot</p>: [],\n",
       " <p class=\"name\">Hal</p>: [],\n",
       " <p class=\"name\">Mock</p>: [],\n",
       " <p class=\"name\">Sparrow</p>: []}"
      ]
     },
     "execution_count": 61,
     "metadata": {},
     "output_type": "execute_result"
    }
   ],
   "source": [
    "turtle_data"
   ]
  },
  {
   "cell_type": "markdown",
   "id": "5d8d6af8",
   "metadata": {},
   "source": [
    "##### 11. Create Dataframe\n",
    "- You can use Pandas’ .from_dict() method to transform a dictionary into a Pandas DataFrame."
   ]
  },
  {
   "cell_type": "code",
   "execution_count": 62,
   "id": "f8f4719f",
   "metadata": {},
   "outputs": [],
   "source": [
    "import pandas as pd"
   ]
  },
  {
   "cell_type": "code",
   "execution_count": 70,
   "id": "29bf5b12",
   "metadata": {},
   "outputs": [],
   "source": [
    "turtle_df = pd.DataFrame.from_dict(turtle_data, orient=\"index\")"
   ]
  },
  {
   "cell_type": "code",
   "execution_count": 71,
   "id": "cefced8c",
   "metadata": {},
   "outputs": [
    {
     "data": {
      "text/html": [
       "<div>\n",
       "<style scoped>\n",
       "    .dataframe tbody tr th:only-of-type {\n",
       "        vertical-align: middle;\n",
       "    }\n",
       "\n",
       "    .dataframe tbody tr th {\n",
       "        vertical-align: top;\n",
       "    }\n",
       "\n",
       "    .dataframe thead th {\n",
       "        text-align: right;\n",
       "    }\n",
       "</style>\n",
       "<table border=\"1\" class=\"dataframe\">\n",
       "  <thead>\n",
       "    <tr style=\"text-align: right;\">\n",
       "      <th></th>\n",
       "      <th></th>\n",
       "      <th></th>\n",
       "      <th></th>\n",
       "      <th></th>\n",
       "      <th></th>\n",
       "      <th></th>\n",
       "      <th></th>\n",
       "      <th></th>\n",
       "    </tr>\n",
       "    <tr>\n",
       "      <th>p</th>\n",
       "      <th>p</th>\n",
       "      <th>p</th>\n",
       "      <th>p</th>\n",
       "      <th>p</th>\n",
       "      <th>p</th>\n",
       "      <th>p</th>\n",
       "      <th>p</th>\n",
       "      <th>p</th>\n",
       "    </tr>\n",
       "  </thead>\n",
       "  <tbody>\n",
       "    <tr>\n",
       "      <th>Aesop</th>\n",
       "      <th>Caesar</th>\n",
       "      <th>Sulla</th>\n",
       "      <th>Spyro</th>\n",
       "      <th>Zelda</th>\n",
       "      <th>Bandicoot</th>\n",
       "      <th>Hal</th>\n",
       "      <th>Mock</th>\n",
       "      <th>Sparrow</th>\n",
       "    </tr>\n",
       "  </tbody>\n",
       "</table>\n",
       "</div>"
      ],
      "text/plain": [
       "Empty DataFrame\n",
       "Columns: []\n",
       "Index: [(Aesop, Caesar, Sulla, Spyro, Zelda, Bandicoot, Hal, Mock, Sparrow)]"
      ]
     },
     "execution_count": 71,
     "metadata": {},
     "output_type": "execute_result"
    }
   ],
   "source": [
    "turtle_df"
   ]
  },
  {
   "cell_type": "markdown",
   "id": "6bddbf2f",
   "metadata": {},
   "source": [
    "##### Extra Examples"
   ]
  },
  {
   "cell_type": "code",
   "execution_count": 72,
   "id": "b4a0567b",
   "metadata": {},
   "outputs": [
    {
     "name": "stdout",
     "output_type": "stream",
     "text": [
      "<class 'bs4.element.Tag'>\n",
      "<class 'bs4.element.Tag'>\n"
     ]
    }
   ],
   "source": [
    "soup = BeautifulSoup(\"\"\"\n",
    "<h1>Syllabus</h1>\n",
    "<div><h3>Unit 1: Variables</h3><p>Learn the basics!</p></div>\n",
    "<div><h3>Unit 2: Loops</h3> <p>Repeat stuff!</p></div>\n",
    "<div><h3>Unit 3: Review</h3></div>\n",
    "\"\"\")\n",
    " \n",
    "for child in soup.div.children:\n",
    "  print(type(child))\n",
    " "
   ]
  },
  {
   "cell_type": "code",
   "execution_count": 73,
   "id": "4a59c8c3",
   "metadata": {},
   "outputs": [
    {
     "name": "stdout",
     "output_type": "stream",
     "text": [
      "New year, new me. \n"
     ]
    }
   ],
   "source": [
    "soup = BeautifulSoup(\"<div class='tweet'><span>New year, new me. </span></div><div id='user'><p>MirandaRights</p></div>\")\n",
    " \n",
    "print(soup.div.get_text())"
   ]
  },
  {
   "cell_type": "code",
   "execution_count": 74,
   "id": "42f30fff",
   "metadata": {},
   "outputs": [
    {
     "name": "stdout",
     "output_type": "stream",
     "text": [
      "MirandaRights\n"
     ]
    }
   ],
   "source": [
    "soup = BeautifulSoup(\"<div class='tweet'><span>New year, new me. </span></div><div id='user'><p>MirandaRights</p></div>\")\n",
    " \n",
    "print(soup.find(id=\"user\").get_text())\n",
    " "
   ]
  }
 ],
 "metadata": {
  "kernelspec": {
   "display_name": "Python 3 (ipykernel)",
   "language": "python",
   "name": "python3"
  },
  "language_info": {
   "codemirror_mode": {
    "name": "ipython",
    "version": 3
   },
   "file_extension": ".py",
   "mimetype": "text/x-python",
   "name": "python",
   "nbconvert_exporter": "python",
   "pygments_lexer": "ipython3",
   "version": "3.9.12"
  }
 },
 "nbformat": 4,
 "nbformat_minor": 5
}

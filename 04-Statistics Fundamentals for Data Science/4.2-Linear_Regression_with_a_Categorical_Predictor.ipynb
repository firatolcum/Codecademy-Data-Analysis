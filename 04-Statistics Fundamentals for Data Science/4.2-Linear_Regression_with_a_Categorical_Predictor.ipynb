{
 "cells": [
  {
   "cell_type": "markdown",
   "id": "938c34ab",
   "metadata": {},
   "source": [
    "# Linear Regression with a Categorical Predictor"
   ]
  },
  {
   "cell_type": "markdown",
   "id": "6be2c599",
   "metadata": {},
   "source": [
    "## Introduction\n",
    "Linear regression is a machine learning technique that can be used to model the relationship between a quantitative variable and some other variable(s). Those other variables can be either quantitative (e.g., height or salary) or categorical (e.g., job industry or hair color). However, if we want to include categorical predictors in a linear regression model, we need to treat them a little differently than quantitative variables. This notebook will explore the implementation and interpretation of a single categorical predictor with more than two categories."
   ]
  },
  {
   "cell_type": "code",
   "execution_count": 1,
   "id": "7b87e30a",
   "metadata": {},
   "outputs": [],
   "source": [
    "import pandas as pd\n",
    "import numpy as np\n",
    "import matplotlib.pyplot as plt\n",
    "import seaborn as sns\n",
    "import scipy.stats as stats"
   ]
  },
  {
   "cell_type": "markdown",
   "id": "30caf639",
   "metadata": {},
   "source": [
    "## The Data\n",
    "- As an example, we’ll use a dataset from StreetEasy that contains information about housing rentals in New York City. For now, we’ll only focus on two columns of this dataset:\n",
    "\n",
    "    - **rent:** the rental price of each apartment\n",
    "    - **borough:** the borough that the apartment is located in, with three possible values ('Manhattan', 'Brooklyn', and 'Queens')"
   ]
  },
  {
   "cell_type": "code",
   "execution_count": 9,
   "id": "4d8983f1",
   "metadata": {},
   "outputs": [
    {
     "data": {
      "text/html": [
       "<div>\n",
       "<style scoped>\n",
       "    .dataframe tbody tr th:only-of-type {\n",
       "        vertical-align: middle;\n",
       "    }\n",
       "\n",
       "    .dataframe tbody tr th {\n",
       "        vertical-align: top;\n",
       "    }\n",
       "\n",
       "    .dataframe thead th {\n",
       "        text-align: right;\n",
       "    }\n",
       "</style>\n",
       "<table border=\"1\" class=\"dataframe\">\n",
       "  <thead>\n",
       "    <tr style=\"text-align: right;\">\n",
       "      <th></th>\n",
       "      <th>rent</th>\n",
       "      <th>borough</th>\n",
       "    </tr>\n",
       "  </thead>\n",
       "  <tbody>\n",
       "    <tr>\n",
       "      <th>0</th>\n",
       "      <td>2550</td>\n",
       "      <td>Manhattan</td>\n",
       "    </tr>\n",
       "    <tr>\n",
       "      <th>1</th>\n",
       "      <td>11500</td>\n",
       "      <td>Manhattan</td>\n",
       "    </tr>\n",
       "    <tr>\n",
       "      <th>2</th>\n",
       "      <td>3000</td>\n",
       "      <td>Queens</td>\n",
       "    </tr>\n",
       "    <tr>\n",
       "      <th>3</th>\n",
       "      <td>4500</td>\n",
       "      <td>Manhattan</td>\n",
       "    </tr>\n",
       "    <tr>\n",
       "      <th>4</th>\n",
       "      <td>4795</td>\n",
       "      <td>Manhattan</td>\n",
       "    </tr>\n",
       "  </tbody>\n",
       "</table>\n",
       "</div>"
      ],
      "text/plain": [
       "    rent    borough\n",
       "0   2550  Manhattan\n",
       "1  11500  Manhattan\n",
       "2   3000     Queens\n",
       "3   4500  Manhattan\n",
       "4   4795  Manhattan"
      ]
     },
     "execution_count": 9,
     "metadata": {},
     "output_type": "execute_result"
    }
   ],
   "source": [
    "df = pd.read_csv(\"rentals.csv\")\n",
    "rentals = df[[\"rent\", \"borough\"]]\n",
    "rentals.head()"
   ]
  },
  {
   "cell_type": "markdown",
   "id": "527d7931",
   "metadata": {},
   "source": [
    "## The X Matrix\n",
    "- To understand how we can fit a regression model with a categorical predictor, it’s useful to walk through what happens when we use ``statsmodels.api.OLS.from_formula()`` to create a model. When we pass a formula to this function (like ``'weight ~ height'`` or ``'rent ~ borough'``), it actually creates a new data set, which we don’t see. This new data set is often referred to as the X matrix, and it is used to fit the model.\n",
    "\n",
    "\n",
    "- When we use a quantitative predictor, the X matrix looks similar to the original data, but with an additional column of `1`s in front (the reasoning behind this column of `1`s is the subject of a future article — for now, no need to worry about it!). However, when we fit the model with a categorical predictor, something else happens: we end up with additional column(s) of `1`s and `0`s.\n",
    "\n",
    "\n",
    "- For example, let’s say we want to fit a regression predicting `rent` based on `borough`. We can see the X matrix for this model using ``patsy.dmatrices()``, which is implemented behind the scenes in `statsmodels`:"
   ]
  },
  {
   "cell_type": "code",
   "execution_count": 10,
   "id": "28c8045f",
   "metadata": {},
   "outputs": [],
   "source": [
    "import patsy"
   ]
  },
  {
   "cell_type": "code",
   "execution_count": 13,
   "id": "66b18973",
   "metadata": {},
   "outputs": [
    {
     "data": {
      "text/plain": [
       "array([[1., 1., 0.],\n",
       "       [1., 1., 0.],\n",
       "       [1., 0., 1.],\n",
       "       [1., 1., 0.],\n",
       "       [1., 1., 0.]])"
      ]
     },
     "execution_count": 13,
     "metadata": {},
     "output_type": "execute_result"
    }
   ],
   "source": [
    "y, X = patsy.dmatrices(\"rent ~ borough\", rentals)\n",
    "X[0:5]"
   ]
  },
  {
   "cell_type": "markdown",
   "id": "c120f7ec",
   "metadata": {},
   "source": [
    "- The first column is all `1`s, just like we would get for a quantitative predictor; but the second two columns were formed based on the `borough` variable. Remember that the first five values of the `borough` column looked like this:"
   ]
  },
  {
   "cell_type": "code",
   "execution_count": 17,
   "id": "be243b17",
   "metadata": {},
   "outputs": [
    {
     "data": {
      "text/html": [
       "<div>\n",
       "<style scoped>\n",
       "    .dataframe tbody tr th:only-of-type {\n",
       "        vertical-align: middle;\n",
       "    }\n",
       "\n",
       "    .dataframe tbody tr th {\n",
       "        vertical-align: top;\n",
       "    }\n",
       "\n",
       "    .dataframe thead th {\n",
       "        text-align: right;\n",
       "    }\n",
       "</style>\n",
       "<table border=\"1\" class=\"dataframe\">\n",
       "  <thead>\n",
       "    <tr style=\"text-align: right;\">\n",
       "      <th></th>\n",
       "      <th>rent</th>\n",
       "      <th>borough</th>\n",
       "    </tr>\n",
       "  </thead>\n",
       "  <tbody>\n",
       "    <tr>\n",
       "      <th>0</th>\n",
       "      <td>2550</td>\n",
       "      <td>Manhattan</td>\n",
       "    </tr>\n",
       "    <tr>\n",
       "      <th>1</th>\n",
       "      <td>11500</td>\n",
       "      <td>Manhattan</td>\n",
       "    </tr>\n",
       "    <tr>\n",
       "      <th>2</th>\n",
       "      <td>3000</td>\n",
       "      <td>Queens</td>\n",
       "    </tr>\n",
       "    <tr>\n",
       "      <th>3</th>\n",
       "      <td>4500</td>\n",
       "      <td>Manhattan</td>\n",
       "    </tr>\n",
       "    <tr>\n",
       "      <th>4</th>\n",
       "      <td>4795</td>\n",
       "      <td>Manhattan</td>\n",
       "    </tr>\n",
       "  </tbody>\n",
       "</table>\n",
       "</div>"
      ],
      "text/plain": [
       "    rent    borough\n",
       "0   2550  Manhattan\n",
       "1  11500  Manhattan\n",
       "2   3000     Queens\n",
       "3   4500  Manhattan\n",
       "4   4795  Manhattan"
      ]
     },
     "execution_count": 17,
     "metadata": {},
     "output_type": "execute_result"
    }
   ],
   "source": [
    "rentals.head()"
   ]
  },
  {
   "cell_type": "markdown",
   "id": "d217ce53",
   "metadata": {},
   "source": [
    "- Note that the second column of the X matrix ``[1, 1, 0, 1, 1]`` is an indicator variable for `Manhattan`: it is equal to `1` where the value of borough is ``'Manhattan'`` and `0` otherwise. Meanwhile, the third column of the X matrix (``[0, 0, 0, 1, 1]``) is an indicator variable for Queens: it is equal to `1` where the value of borough is ``'Queens'`` and `0` otherwise.\n",
    "\n",
    "\n",
    "- The X matrix does not contain an indicator variable for Brooklyn. That’s because this data set only contains three possible values of borough: 'Brooklyn', 'Manhattan', and 'Queens'. In order to recreate the borough column, we only need two indicator columns — because any apartment that is not in 'Manhattan' or 'Queens' must be 'Brooklyn'. For example, the first row of the X matrix has 0s in both indicator columns, indicating that the apartment must be in Brooklyn. Mathematically, we say that a 'Brooklyn' indicator creates collinearity in the X matrix. In regular English: a 'Brooklyn' indicator does not add any new information.\n",
    "\n",
    "\n",
    "- Because 'Brooklyn' is missing from the X matrix, it is the reference category for this model."
   ]
  },
  {
   "cell_type": "markdown",
   "id": "697e802a",
   "metadata": {},
   "source": [
    "## Implementation and Interpretation"
   ]
  },
  {
   "cell_type": "code",
   "execution_count": 18,
   "id": "2eb8de7d",
   "metadata": {},
   "outputs": [],
   "source": [
    "import statsmodels.api as sm"
   ]
  },
  {
   "cell_type": "code",
   "execution_count": 21,
   "id": "063ffe6a",
   "metadata": {},
   "outputs": [],
   "source": [
    "model = sm.OLS.from_formula(\"rent ~ borough\", data = rentals)\n",
    "model = model.fit()"
   ]
  },
  {
   "cell_type": "code",
   "execution_count": 22,
   "id": "b40e1771",
   "metadata": {},
   "outputs": [
    {
     "data": {
      "text/plain": [
       "Intercept               3327.403751\n",
       "borough[T.Manhattan]    1811.536627\n",
       "borough[T.Queens]       -811.256430\n",
       "dtype: float64"
      ]
     },
     "execution_count": 22,
     "metadata": {},
     "output_type": "execute_result"
    }
   ],
   "source": [
    "model.params"
   ]
  },
  {
   "cell_type": "markdown",
   "id": "7ebc5244",
   "metadata": {},
   "source": [
    "- In the output, we see two different slopes: one for `borough[T.Manhattan]` and one for `borough[T.Queens]`, which are the two indicator variables we saw in the X matrix. We can use the intercept and two slopes to construct the following equation to predict rent:\n",
    "\n",
    "\n",
    "    - General Equation = rent = 3327.4 + 1811.5 * borough[T.Manhattan] - 811.3 * borough[T.Queens]\n",
    "    \n",
    "    - Equaiton 1 : Brooklyn\n",
    "        - rent = 3327.4 + 1811.5 * 0 - 811.3 * 0\n",
    "        - rent = 3327.4\n",
    "        \n",
    "    - Equation 2 : Manhattan\n",
    "        - rent = 3327.4 + 1811.5 * 1 - 811.3 * 0\n",
    "        - rent = 5138.9\n",
    "       \n",
    "    - Equation 3 : Queens\n",
    "        - rent = 3327.4 + 1811.5 * 0 - 811.3 * 1\n",
    "        - rent = 2516.1\n",
    " \n",
    "- We can verify our understanding of all these coefficients by printing out the average rental prices by borough:"
   ]
  },
  {
   "cell_type": "code",
   "execution_count": 23,
   "id": "27967773",
   "metadata": {},
   "outputs": [
    {
     "data": {
      "text/html": [
       "<div>\n",
       "<style scoped>\n",
       "    .dataframe tbody tr th:only-of-type {\n",
       "        vertical-align: middle;\n",
       "    }\n",
       "\n",
       "    .dataframe tbody tr th {\n",
       "        vertical-align: top;\n",
       "    }\n",
       "\n",
       "    .dataframe thead th {\n",
       "        text-align: right;\n",
       "    }\n",
       "</style>\n",
       "<table border=\"1\" class=\"dataframe\">\n",
       "  <thead>\n",
       "    <tr style=\"text-align: right;\">\n",
       "      <th></th>\n",
       "      <th>rent</th>\n",
       "    </tr>\n",
       "    <tr>\n",
       "      <th>borough</th>\n",
       "      <th></th>\n",
       "    </tr>\n",
       "  </thead>\n",
       "  <tbody>\n",
       "    <tr>\n",
       "      <th>Brooklyn</th>\n",
       "      <td>3327.403751</td>\n",
       "    </tr>\n",
       "    <tr>\n",
       "      <th>Manhattan</th>\n",
       "      <td>5138.940379</td>\n",
       "    </tr>\n",
       "    <tr>\n",
       "      <th>Queens</th>\n",
       "      <td>2516.147321</td>\n",
       "    </tr>\n",
       "  </tbody>\n",
       "</table>\n",
       "</div>"
      ],
      "text/plain": [
       "                  rent\n",
       "borough               \n",
       "Brooklyn   3327.403751\n",
       "Manhattan  5138.940379\n",
       "Queens     2516.147321"
      ]
     },
     "execution_count": 23,
     "metadata": {},
     "output_type": "execute_result"
    }
   ],
   "source": [
    "rentals.groupby(\"borough\").mean()"
   ]
  },
  {
   "cell_type": "markdown",
   "id": "053be74e",
   "metadata": {},
   "source": [
    "## Changing the Reference Category\n",
    "- In the example above, we saw that `'Brooklyn'` was the default reference category (because it comes first alphabetically), but we can easily change the reference category in the model as follows:"
   ]
  },
  {
   "cell_type": "code",
   "execution_count": 24,
   "id": "ed8b9d2f",
   "metadata": {},
   "outputs": [],
   "source": [
    "model = sm.OLS.from_formula(\"rent ~ C(borough, Treatment('Manhattan'))\", rentals)\n",
    "model = model.fit()"
   ]
  },
  {
   "cell_type": "code",
   "execution_count": 25,
   "id": "bcc7e7dc",
   "metadata": {},
   "outputs": [
    {
     "data": {
      "text/plain": [
       "Intercept                                         5138.940379\n",
       "C(borough, Treatment('Manhattan'))[T.Brooklyn]   -1811.536627\n",
       "C(borough, Treatment('Manhattan'))[T.Queens]     -2622.793057\n",
       "dtype: float64"
      ]
     },
     "execution_count": 25,
     "metadata": {},
     "output_type": "execute_result"
    }
   ],
   "source": [
    "model.params"
   ]
  },
  {
   "cell_type": "markdown",
   "id": "af969d25",
   "metadata": {},
   "source": [
    "- In this example, the reference category is 'Manhattan'. Therefore, the intercept is the mean rental price in Manhattan, and the other slopes are the mean differences for Brooklyn and Queens in comparison to Manhattan."
   ]
  },
  {
   "cell_type": "markdown",
   "id": "cbc3d831",
   "metadata": {},
   "source": [
    "## Other Python Libraries for fitting Linear Models\n",
    "- There are a few different Python libraries that can be used to fit linear regression models. It is therefore important to understand how this implementation differs for each library. In `statsmodels`, the creation of the X matrix happens completely “behind the scenes” once we pass in a model formula.\n",
    "\n",
    "\n",
    "- In `scikit-learn` (another popular library for linear regression), we actually need to construct the indicator variables ourselves. Note that we do not have to construct the extra column of `1`s that we saw in the X matrix — this also happens behind the scenes in `scikit-learn`. In order to construct those indicator variables, the `pandas get_dummies()` function is extremely useful:"
   ]
  },
  {
   "cell_type": "code",
   "execution_count": 26,
   "id": "22e5fa4c",
   "metadata": {},
   "outputs": [
    {
     "data": {
      "text/html": [
       "<div>\n",
       "<style scoped>\n",
       "    .dataframe tbody tr th:only-of-type {\n",
       "        vertical-align: middle;\n",
       "    }\n",
       "\n",
       "    .dataframe tbody tr th {\n",
       "        vertical-align: top;\n",
       "    }\n",
       "\n",
       "    .dataframe thead th {\n",
       "        text-align: right;\n",
       "    }\n",
       "</style>\n",
       "<table border=\"1\" class=\"dataframe\">\n",
       "  <thead>\n",
       "    <tr style=\"text-align: right;\">\n",
       "      <th></th>\n",
       "      <th>rent</th>\n",
       "      <th>borough_Manhattan</th>\n",
       "      <th>borough_Queens</th>\n",
       "    </tr>\n",
       "  </thead>\n",
       "  <tbody>\n",
       "    <tr>\n",
       "      <th>0</th>\n",
       "      <td>2550</td>\n",
       "      <td>1</td>\n",
       "      <td>0</td>\n",
       "    </tr>\n",
       "    <tr>\n",
       "      <th>1</th>\n",
       "      <td>11500</td>\n",
       "      <td>1</td>\n",
       "      <td>0</td>\n",
       "    </tr>\n",
       "    <tr>\n",
       "      <th>2</th>\n",
       "      <td>3000</td>\n",
       "      <td>0</td>\n",
       "      <td>1</td>\n",
       "    </tr>\n",
       "    <tr>\n",
       "      <th>3</th>\n",
       "      <td>4500</td>\n",
       "      <td>1</td>\n",
       "      <td>0</td>\n",
       "    </tr>\n",
       "    <tr>\n",
       "      <th>4</th>\n",
       "      <td>4795</td>\n",
       "      <td>1</td>\n",
       "      <td>0</td>\n",
       "    </tr>\n",
       "  </tbody>\n",
       "</table>\n",
       "</div>"
      ],
      "text/plain": [
       "    rent  borough_Manhattan  borough_Queens\n",
       "0   2550                  1               0\n",
       "1  11500                  1               0\n",
       "2   3000                  0               1\n",
       "3   4500                  1               0\n",
       "4   4795                  1               0"
      ]
     },
     "execution_count": 26,
     "metadata": {},
     "output_type": "execute_result"
    }
   ],
   "source": [
    "rentals = pd.get_dummies(data = rentals, columns = [\"borough\"], drop_first = True)\n",
    "rentals.head()"
   ]
  },
  {
   "cell_type": "markdown",
   "id": "cce3d9f8",
   "metadata": {},
   "source": [
    "- Setting `drop_first = True` tells Python to drop the first indicator variable (for `'Brooklyn'` in thie case), which is what we need for linear regression. We can then fit the exact same model using `scikit-learn` as follows:"
   ]
  },
  {
   "cell_type": "code",
   "execution_count": 27,
   "id": "746187db",
   "metadata": {},
   "outputs": [],
   "source": [
    "from sklearn.linear_model import LinearRegression"
   ]
  },
  {
   "cell_type": "code",
   "execution_count": 28,
   "id": "b1507bbb",
   "metadata": {},
   "outputs": [],
   "source": [
    "X = rentals.drop(columns = \"rent\")\n",
    "y = rentals[\"rent\"]"
   ]
  },
  {
   "cell_type": "code",
   "execution_count": 30,
   "id": "1e5bd5dc",
   "metadata": {},
   "outputs": [
    {
     "data": {
      "text/plain": [
       "LinearRegression()"
      ]
     },
     "execution_count": 30,
     "metadata": {},
     "output_type": "execute_result"
    }
   ],
   "source": [
    "linear_model = LinearRegression()\n",
    "linear_model.fit(X, y)"
   ]
  },
  {
   "cell_type": "code",
   "execution_count": 31,
   "id": "4ae40484",
   "metadata": {},
   "outputs": [
    {
     "data": {
      "text/plain": [
       "3327.4037512339555"
      ]
     },
     "execution_count": 31,
     "metadata": {},
     "output_type": "execute_result"
    }
   ],
   "source": [
    "linear_model.intercept_"
   ]
  },
  {
   "cell_type": "code",
   "execution_count": 32,
   "id": "4f798286",
   "metadata": {},
   "outputs": [
    {
     "data": {
      "text/plain": [
       "array([1811.5366274 , -811.25642981])"
      ]
     },
     "execution_count": 32,
     "metadata": {},
     "output_type": "execute_result"
    }
   ],
   "source": [
    "linear_model.coef_"
   ]
  },
  {
   "cell_type": "markdown",
   "id": "2ccbd871",
   "metadata": {},
   "source": [
    "## Conclusion\n",
    "In this article, we’ve walked through an example of how to implement and interpret categorical predictors in a linear regression model. In the process, we’ve learned a little bit about what happens behind the scenes when we fit a linear model using `statsmodels` or `scikit-learn`. This knowledge will help prepare us to fit and interpret more complex models that build upon these foundations.\n",
    "\n",
    "---"
   ]
  }
 ],
 "metadata": {
  "kernelspec": {
   "display_name": "Python 3 (ipykernel)",
   "language": "python",
   "name": "python3"
  },
  "language_info": {
   "codemirror_mode": {
    "name": "ipython",
    "version": 3
   },
   "file_extension": ".py",
   "mimetype": "text/x-python",
   "name": "python",
   "nbconvert_exporter": "python",
   "pygments_lexer": "ipython3",
   "version": "3.9.12"
  }
 },
 "nbformat": 4,
 "nbformat_minor": 5
}
